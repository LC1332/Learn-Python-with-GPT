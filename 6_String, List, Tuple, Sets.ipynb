{
 "cells": [
  {
   "cell_type": "markdown",
   "metadata": {},
   "source": [
    "# 4 李鲁鲁老师的Python课程 基础数据结构"
   ]
  },
  {
   "cell_type": "code",
   "execution_count": 9,
   "metadata": {},
   "outputs": [
    {
     "name": "stdout",
     "output_type": "stream",
     "text": [
      "['宿𫚥湖::鸡鸣发黄山，暝投𫚥湖宿。白雨暎寒山，森森似银竹。提携采铅客，结荷水边沐。半夜四天开，星河烂人目。明晨大楼去，冈陇多屈伏。当与持斧翁，前溪伐云木。', '送别得书字::水色南天远，舟行若在虚。迁人发佳兴，吾子访闲居。日落看归鸟，潭澄羡跃鱼。圣朝思贾谊，应降紫泥书。', '荅湖州迦叶司马问白是何人::青莲居士谪仙人，酒肆藏名三十春。湖州司马何须问，金粟如来是后身。', '长门怨二首 一::天回北斗挂西楼，金屋无人萤火流。月光欲到长门殿，别作深宫一段愁。', '送纪秀才游越::海水不满眼，观涛难称心。即知蓬莱石，却是巨鳌簪。送尔游华顶，令余发舃吟。仙人居射的，道士住山阴。禹穴寻溪入，云门隔岭深。绿萝秋月夜，相忆在鸣琴。']\n",
      "送别得书字::水色南天远，舟行若在虚。迁人发佳兴，吾子访闲居。日落看归鸟，潭澄羡跃鱼。圣朝思贾谊，应降紫泥书。\n",
      "<class 'list'>\n"
     ]
    }
   ],
   "source": [
    "# 首先，我将读取上传的CSV文件，并将标题和内容合并为指定的格式，然后将它们存储在一个列表中。\n",
    "\n",
    "import csv\n",
    "\n",
    "# 初始化一个空列表来存储合并后的数据\n",
    "merged_poems = []\n",
    "\n",
    "# 读取CSV文件\n",
    "with open('data/李白.csv', 'r', encoding='utf-8') as csvfile:\n",
    "    reader = csv.DictReader(csvfile)\n",
    "    for row in reader:\n",
    "        # 合并标题和内容\n",
    "        merged_str = f\"{row['Title']}::{row['Content']}\"\n",
    "        # 将合并后的字符串添加到列表中\n",
    "        merged_poems.append(merged_str)\n",
    "\n",
    "# 显示列表的前几个元素以验证\n",
    "print(merged_poems[:5])\n",
    "print(merged_poems[1])\n",
    "# print the type of merged_poems\n",
    "print(type(merged_poems))\n"
   ]
  },
  {
   "cell_type": "code",
   "execution_count": 12,
   "metadata": {},
   "outputs": [
    {
     "name": "stdout",
     "output_type": "stream",
     "text": [
      "1168\n"
     ]
    },
    {
     "data": {
      "image/png": "[encoded data removed]",
      "text/plain": [
       "<Figure size 1080x720 with 1 Axes>"
      ]
     },
     "metadata": {
      "needs_background": "light"
     },
     "output_type": "display_data"
    }
   ],
   "source": [
    "import re\n",
    "from collections import Counter\n",
    "import matplotlib.pyplot as plt\n",
    "\n",
    "print(len(merged_poems))\n",
    "\n",
    "# 示例数据，假设merged_poems是以下内容\n",
    "# merged_poems = [\n",
    "#     \"床前明月光，疑是地上霜。\",\n",
    "#     \"举头望明月，低头思故乡。\",\n",
    "#     \"白发三千丈，缘愁似个长。\",\n",
    "#     \"不知明镜里，何日enna再染霜。\"\n",
    "# ]\n",
    "\n",
    "# 将所有诗歌合并成一个字符串，并去除标点符号\n",
    "all_poems = \"\".join(merged_poems)\n",
    "cleaned_poems = re.sub(r'[，。：:]', '', all_poems)\n",
    "\n",
    "# 统计每个字的出现频率\n",
    "word_counts = Counter(cleaned_poems)\n",
    "\n",
    "# 获取出现频率最高的30个字\n",
    "top_30_words = word_counts.most_common(30)\n",
    "\n",
    "# 准备数据用于绘图\n",
    "words, counts = zip(*top_30_words)\n",
    "\n",
    "# 设置中文字体\n",
    "plt.rcParams['font.sans-serif'] = ['SimHei']  # 选用黑体\n",
    "plt.rcParams['axes.unicode_minus'] = False  # 解决负号'-'显示为方块的问题\n",
    "\n",
    "# 绘制条形图\n",
    "plt.figure(figsize=(15, 10))\n",
    "plt.barh(words, counts, color='skyblue')\n",
    "plt.xlabel('出现次数')\n",
    "plt.title('李白诗歌中出现频率最高的30个字')\n",
    "plt.gca().invert_yaxis()  # 反转y轴，使得条形图从上到下排序\n",
    "plt.show()\n"
   ]
  },
  {
   "cell_type": "code",
   "execution_count": 32,
   "metadata": {},
   "outputs": [
    {
     "data": {
      "application/vnd.plotly.v1+json": {
       "config": {
        "plotlyServerURL": "https://plot.ly"
       },
       "data": [
        {
         "customdata": [
          [
           "李白"
          ],
          [
           "云中君"
          ],
          [
           "裴擒虎"
          ],
          [
           "孙悟空"
          ],
          [
           "娜可露露"
          ],
          [
           "兰陵王"
          ],
          [
           "百里玄策"
          ],
          [
           "阿轲"
          ],
          [
           "澜"
          ],
          [
           "元歌"
          ],
          [
           "镜"
          ],
          [
           "韩信"
          ],
          [
           "米莱狄"
          ],
          [
           "芈月"
          ],
          [
           "沈梦溪"
          ],
          [
           "诸葛亮"
          ],
          [
           "妲己"
          ],
          [
           "嬴政"
          ],
          [
           "王昭君"
          ],
          [
           "扁鹊"
          ],
          [
           "貂蝉"
          ],
          [
           "小乔"
          ],
          [
           "上官婉儿"
          ],
          [
           "司马懿"
          ],
          [
           "姜子牙"
          ],
          [
           "安琪拉"
          ],
          [
           "女娲"
          ],
          [
           "干将莫邪"
          ],
          [
           "西施"
          ],
          [
           "张良"
          ],
          [
           "高渐离"
          ],
          [
           "不知火舞"
          ],
          [
           "周瑜"
          ],
          [
           "武则天"
          ],
          [
           "墨子"
          ],
          [
           "甄姬"
          ],
          [
           "嫦娥"
          ],
          [
           "弈星"
          ],
          [
           "孙膑"
          ],
          [
           "张飞"
          ],
          [
           "庄周"
          ],
          [
           "大乔"
          ],
          [
           "鬼谷子"
          ],
          [
           "杨玉环"
          ],
          [
           "瑶"
          ],
          [
           "太乙真人"
          ],
          [
           "蔡文姬"
          ],
          [
           "明世隐"
          ],
          [
           "钟馗"
          ],
          [
           "盾山"
          ],
          [
           "狄仁杰"
          ],
          [
           "后羿"
          ],
          [
           "马可波罗"
          ],
          [
           "孙尚香"
          ],
          [
           "伽罗"
          ],
          [
           "李元芳"
          ],
          [
           "黄忠"
          ],
          [
           "蒙犽"
          ],
          [
           "艾琳"
          ],
          [
           "鲁班七号"
          ],
          [
           "成吉思汗"
          ],
          [
           "虞姬"
          ],
          [
           "百里守约"
          ],
          [
           "公孙离"
          ],
          [
           "东皇太一"
          ],
          [
           "刘邦"
          ],
          [
           "刘禅"
          ],
          [
           "项羽"
          ],
          [
           "猪八戒"
          ],
          [
           "牛魔"
          ],
          [
           "程咬金"
          ],
          [
           "夏侯惇"
          ],
          [
           "白起"
          ],
          [
           "苏烈"
          ],
          [
           "孙策"
          ],
          [
           "鲁班大师"
          ],
          [
           "阿古朵"
          ],
          [
           "廉颇"
          ],
          [
           "杨戬"
          ],
          [
           "李信"
          ],
          [
           "司空震"
          ],
          [
           "关羽"
          ],
          [
           "亚瑟"
          ],
          [
           "钟无艳"
          ],
          [
           "吕布"
          ],
          [
           "达摩"
          ],
          [
           "花木兰"
          ],
          [
           "铠"
          ],
          [
           "蒙恬"
          ],
          [
           "狂铁"
          ],
          [
           "橘右京"
          ],
          [
           "露娜"
          ],
          [
           "赵云"
          ],
          [
           "哪吒"
          ],
          [
           "雅典娜"
          ],
          [
           "曜"
          ],
          [
           "刘备"
          ],
          [
           "典韦"
          ],
          [
           "夏洛特"
          ],
          [
           "宫本武藏"
          ],
          [
           "梦奇"
          ],
          [
           "曹操"
          ],
          [
           "盘古"
          ],
          [
           "老夫子"
          ],
          [
           "马超"
          ]
         ],
         "hovertemplate": "x=%{x}<br>y=%{y}<br>hover_data_0=%{customdata[0]}<extra></extra>",
         "legendgroup": "",
         "marker": {
          "color": "#636efa",
          "symbol": "circle"
         },
         "mode": "markers",
         "name": "",
         "orientation": "v",
         "showlegend": false,
         "type": "scatter",
         "x": [
          169,
          159,
          159,
          167,
          173,
          171,
          178,
          177,
          167,
          177,
          173,
          172,
          165,
          152,
          171,
          156,
          170,
          157,
          165,
          168,
          167,
          153,
          152,
          165,
          168,
          170,
          159,
          159,
          164,
          170,
          163,
          170,
          160,
          173,
          181,
          165,
          167,
          160,
          176,
          153,
          170,
          159,
          168,
          159,
          162,
          154,
          159,
          161,
          162,
          171,
          169,
          161,
          175,
          172,
          205,
          161,
          172,
          160,
          161,
          174,
          184,
          165,
          188,
          173,
          163,
          158,
          178,
          157,
          154,
          156,
          161,
          159,
          158,
          171,
          151,
          166,
          166,
          163,
          166,
          176,
          171,
          170,
          164,
          164,
          170,
          171,
          170,
          173,
          168,
          1066,
          165,
          163,
          173,
          159,
          162,
          149,
          169,
          168,
          150,
          157,
          171,
          174,
          154,
          168,
          168
         ],
         "xaxis": "x",
         "y": [
          66.21621621621621,
          66.44295302013423,
          66.44295302013423,
          66.21621621621621,
          63.235294117647065,
          62.962962962962955,
          63.768115942028984,
          64.02877697841727,
          64.28571428571429,
          64.02877697841727,
          63.50364963503649,
          64.78873239436619,
          64.53900709219859,
          63.768115942028984,
          63.50364963503649,
          63.50364963503649,
          63.235294117647065,
          64.53900709219859,
          64.53900709219859,
          63.50364963503649,
          63.50364963503649,
          65.51724137931033,
          61.240310077519375,
          64.53900709219859,
          67.94871794871794,
          62.40601503759398,
          65.03496503496503,
          64.78873239436619,
          64.53900709219859,
          63.50364963503649,
          66.21621621621621,
          64.02877697841727,
          63.50364963503649,
          65.51724137931033,
          67.10526315789474,
          63.50364963503649,
          58.33333333333333,
          63.50364963503649,
          66.21621621621621,
          71.42857142857143,
          75,
          65.03496503496503,
          63.50364963503649,
          65.75342465753424,
          63.50364963503649,
          65.27777777777779,
          65.75342465753424,
          63.235294117647065,
          66.44295302013423,
          61.240310077519375,
          65.51724137931033,
          63.235294117647065,
          64.53900709219859,
          64.02877697841727,
          62.686567164179095,
          63.50364963503649,
          64.53900709219859,
          64.28571428571429,
          63.235294117647065,
          63.768115942028984,
          65.27777777777779,
          62.686567164179095,
          65.27777777777779,
          65.51724137931033,
          64.28571428571429,
          71.42857142857143,
          73.54497354497354,
          71.09826589595376,
          66.44295302013423,
          68.55345911949685,
          71.42857142857143,
          66.88741721854305,
          70.58823529411764,
          65.03496503496503,
          65.98639455782312,
          71.75141242937853,
          68.15286624203821,
          72.52747252747253,
          66.21621621621621,
          67.94871794871794,
          62.962962962962955,
          66.88741721854305,
          66.21621621621621,
          66.66666666666667,
          66.44295302013423,
          65.51724137931033,
          63.235294117647065,
          62.686567164179095,
          69.69696969696969,
          65.51724137931033,
          65.75342465753424,
          67.10526315789474,
          62.686567164179095,
          66.44295302013423,
          67.94871794871794,
          65.27777777777779,
          63.768115942028984,
          64.02877697841727,
          66.88741721854305,
          67.94871794871794,
          61.240310077519375,
          67.53246753246754,
          66.44295302013423,
          66.66666666666667,
          65.75342465753424
         ],
         "yaxis": "y"
        }
       ],
       "layout": {
        "legend": {
         "tracegroupgap": 0
        },
        "template": {
         "data": {
          "bar": [
           {
            "error_x": {
             "color": "#2a3f5f"
            },
            "error_y": {
             "color": "#2a3f5f"
            },
            "marker": {
             "line": {
              "color": "#E5ECF6",
              "width": 0.5
             },
             "pattern": {
              "fillmode": "overlay",
              "size": 10,
              "solidity": 0.2
             }
            },
            "type": "bar"
           }
          ],
          "barpolar": [
           {
            "marker": {
             "line": {
              "color": "#E5ECF6",
              "width": 0.5
             },
             "pattern": {
              "fillmode": "overlay",
              "size": 10,
              "solidity": 0.2
             }
            },
            "type": "barpolar"
           }
          ],
          "carpet": [
           {
            "aaxis": {
             "endlinecolor": "#2a3f5f",
             "gridcolor": "white",
             "linecolor": "white",
             "minorgridcolor": "white",
             "startlinecolor": "#2a3f5f"
            },
            "baxis": {
             "endlinecolor": "#2a3f5f",
             "gridcolor": "white",
             "linecolor": "white",
             "minorgridcolor": "white",
             "startlinecolor": "#2a3f5f"
            },
            "type": "carpet"
           }
          ],
          "choropleth": [
           {
            "colorbar": {
             "outlinewidth": 0,
             "ticks": ""
            },
            "type": "choropleth"
           }
          ],
          "contour": [
           {
            "colorbar": {
             "outlinewidth": 0,
             "ticks": ""
            },
            "colorscale": [
             [
              0,
              "#0d0887"
             ],
             [
              0.1111111111111111,
              "#46039f"
             ],
             [
              0.2222222222222222,
              "#7201a8"
             ],
             [
              0.3333333333333333,
              "#9c179e"
             ],
             [
              0.4444444444444444,
              "#bd3786"
             ],
             [
              0.5555555555555556,
              "#d8576b"
             ],
             [
              0.6666666666666666,
              "#ed7953"
             ],
             [
              0.7777777777777778,
              "#fb9f3a"
             ],
             [
              0.8888888888888888,
              "#fdca26"
             ],
             [
              1,
              "#f0f921"
             ]
            ],
            "type": "contour"
           }
          ],
          "contourcarpet": [
           {
            "colorbar": {
             "outlinewidth": 0,
             "ticks": ""
            },
            "type": "contourcarpet"
           }
          ],
          "heatmap": [
           {
            "colorbar": {
             "outlinewidth": 0,
             "ticks": ""
            },
            "colorscale": [
             [
              0,
              "#0d0887"
             ],
             [
              0.1111111111111111,
              "#46039f"
             ],
             [
              0.2222222222222222,
              "#7201a8"
             ],
             [
              0.3333333333333333,
              "#9c179e"
             ],
             [
              0.4444444444444444,
              "#bd3786"
             ],
             [
              0.5555555555555556,
              "#d8576b"
             ],
             [
              0.6666666666666666,
              "#ed7953"
             ],
             [
              0.7777777777777778,
              "#fb9f3a"
             ],
             [
              0.8888888888888888,
              "#fdca26"
             ],
             [
              1,
              "#f0f921"
             ]
            ],
            "type": "heatmap"
           }
          ],
          "heatmapgl": [
           {
            "colorbar": {
             "outlinewidth": 0,
             "ticks": ""
            },
            "colorscale": [
             [
              0,
              "#0d0887"
             ],
             [
              0.1111111111111111,
              "#46039f"
             ],
             [
              0.2222222222222222,
              "#7201a8"
             ],
             [
              0.3333333333333333,
              "#9c179e"
             ],
             [
              0.4444444444444444,
              "#bd3786"
             ],
             [
              0.5555555555555556,
              "#d8576b"
             ],
             [
              0.6666666666666666,
              "#ed7953"
             ],
             [
              0.7777777777777778,
              "#fb9f3a"
             ],
             [
              0.8888888888888888,
              "#fdca26"
             ],
             [
              1,
              "#f0f921"
             ]
            ],
            "type": "heatmapgl"
           }
          ],
          "histogram": [
           {
            "marker": {
             "pattern": {
              "fillmode": "overlay",
              "size": 10,
              "solidity": 0.2
             }
            },
            "type": "histogram"
           }
          ],
          "histogram2d": [
           {
            "colorbar": {
             "outlinewidth": 0,
             "ticks": ""
            },
            "colorscale": [
             [
              0,
              "#0d0887"
             ],
             [
              0.1111111111111111,
              "#46039f"
             ],
             [
              0.2222222222222222,
              "#7201a8"
             ],
             [
              0.3333333333333333,
              "#9c179e"
             ],
             [
              0.4444444444444444,
              "#bd3786"
             ],
             [
              0.5555555555555556,
              "#d8576b"
             ],
             [
              0.6666666666666666,
              "#ed7953"
             ],
             [
              0.7777777777777778,
              "#fb9f3a"
             ],
             [
              0.8888888888888888,
              "#fdca26"
             ],
             [
              1,
              "#f0f921"
             ]
            ],
            "type": "histogram2d"
           }
          ],
          "histogram2dcontour": [
           {
            "colorbar": {
             "outlinewidth": 0,
             "ticks": ""
            },
            "colorscale": [
             [
              0,
              "#0d0887"
             ],
             [
              0.1111111111111111,
              "#46039f"
             ],
             [
              0.2222222222222222,
              "#7201a8"
             ],
             [
              0.3333333333333333,
              "#9c179e"
             ],
             [
              0.4444444444444444,
              "#bd3786"
             ],
             [
              0.5555555555555556,
              "#d8576b"
             ],
             [
              0.6666666666666666,
              "#ed7953"
             ],
             [
              0.7777777777777778,
              "#fb9f3a"
             ],
             [
              0.8888888888888888,
              "#fdca26"
             ],
             [
              1,
              "#f0f921"
             ]
            ],
            "type": "histogram2dcontour"
           }
          ],
          "mesh3d": [
           {
            "colorbar": {
             "outlinewidth": 0,
             "ticks": ""
            },
            "type": "mesh3d"
           }
          ],
          "parcoords": [
           {
            "line": {
             "colorbar": {
              "outlinewidth": 0,
              "ticks": ""
             }
            },
            "type": "parcoords"
           }
          ],
          "pie": [
           {
            "automargin": true,
            "type": "pie"
           }
          ],
          "scatter": [
           {
            "fillpattern": {
             "fillmode": "overlay",
             "size": 10,
             "solidity": 0.2
            },
            "type": "scatter"
           }
          ],
          "scatter3d": [
           {
            "line": {
             "colorbar": {
              "outlinewidth": 0,
              "ticks": ""
             }
            },
            "marker": {
             "colorbar": {
              "outlinewidth": 0,
              "ticks": ""
             }
            },
            "type": "scatter3d"
           }
          ],
          "scattercarpet": [
           {
            "marker": {
             "colorbar": {
              "outlinewidth": 0,
              "ticks": ""
             }
            },
            "type": "scattercarpet"
           }
          ],
          "scattergeo": [
           {
            "marker": {
             "colorbar": {
              "outlinewidth": 0,
              "ticks": ""
             }
            },
            "type": "scattergeo"
           }
          ],
          "scattergl": [
           {
            "marker": {
             "colorbar": {
              "outlinewidth": 0,
              "ticks": ""
             }
            },
            "type": "scattergl"
           }
          ],
          "scattermapbox": [
           {
            "marker": {
             "colorbar": {
              "outlinewidth": 0,
              "ticks": ""
             }
            },
            "type": "scattermapbox"
           }
          ],
          "scatterpolar": [
           {
            "marker": {
             "colorbar": {
              "outlinewidth": 0,
              "ticks": ""
             }
            },
            "type": "scatterpolar"
           }
          ],
          "scatterpolargl": [
           {
            "marker": {
             "colorbar": {
              "outlinewidth": 0,
              "ticks": ""
             }
            },
            "type": "scatterpolargl"
           }
          ],
          "scatterternary": [
           {
            "marker": {
             "colorbar": {
              "outlinewidth": 0,
              "ticks": ""
             }
            },
            "type": "scatterternary"
           }
          ],
          "surface": [
           {
            "colorbar": {
             "outlinewidth": 0,
             "ticks": ""
            },
            "colorscale": [
             [
              0,
              "#0d0887"
             ],
             [
              0.1111111111111111,
              "#46039f"
             ],
             [
              0.2222222222222222,
              "#7201a8"
             ],
             [
              0.3333333333333333,
              "#9c179e"
             ],
             [
              0.4444444444444444,
              "#bd3786"
             ],
             [
              0.5555555555555556,
              "#d8576b"
             ],
             [
              0.6666666666666666,
              "#ed7953"
             ],
             [
              0.7777777777777778,
              "#fb9f3a"
             ],
             [
              0.8888888888888888,
              "#fdca26"
             ],
             [
              1,
              "#f0f921"
             ]
            ],
            "type": "surface"
           }
          ],
          "table": [
           {
            "cells": {
             "fill": {
              "color": "#EBF0F8"
             },
             "line": {
              "color": "white"
             }
            },
            "header": {
             "fill": {
              "color": "#C8D4E3"
             },
             "line": {
              "color": "white"
             }
            },
            "type": "table"
           }
          ]
         },
         "layout": {
          "annotationdefaults": {
           "arrowcolor": "#2a3f5f",
           "arrowhead": 0,
           "arrowwidth": 1
          },
          "autotypenumbers": "strict",
          "coloraxis": {
           "colorbar": {
            "outlinewidth": 0,
            "ticks": ""
           }
          },
          "colorscale": {
           "diverging": [
            [
             0,
             "#8e0152"
            ],
            [
             0.1,
             "#c51b7d"
            ],
            [
             0.2,
             "#de77ae"
            ],
            [
             0.3,
             "#f1b6da"
            ],
            [
             0.4,
             "#fde0ef"
            ],
            [
             0.5,
             "#f7f7f7"
            ],
            [
             0.6,
             "#e6f5d0"
            ],
            [
             0.7,
             "#b8e186"
            ],
            [
             0.8,
             "#7fbc41"
            ],
            [
             0.9,
             "#4d9221"
            ],
            [
             1,
             "#276419"
            ]
           ],
           "sequential": [
            [
             0,
             "#0d0887"
            ],
            [
             0.1111111111111111,
             "#46039f"
            ],
            [
             0.2222222222222222,
             "#7201a8"
            ],
            [
             0.3333333333333333,
             "#9c179e"
            ],
            [
             0.4444444444444444,
             "#bd3786"
            ],
            [
             0.5555555555555556,
             "#d8576b"
            ],
            [
             0.6666666666666666,
             "#ed7953"
            ],
            [
             0.7777777777777778,
             "#fb9f3a"
            ],
            [
             0.8888888888888888,
             "#fdca26"
            ],
            [
             1,
             "#f0f921"
            ]
           ],
           "sequentialminus": [
            [
             0,
             "#0d0887"
            ],
            [
             0.1111111111111111,
             "#46039f"
            ],
            [
             0.2222222222222222,
             "#7201a8"
            ],
            [
             0.3333333333333333,
             "#9c179e"
            ],
            [
             0.4444444444444444,
             "#bd3786"
            ],
            [
             0.5555555555555556,
             "#d8576b"
            ],
            [
             0.6666666666666666,
             "#ed7953"
            ],
            [
             0.7777777777777778,
             "#fb9f3a"
            ],
            [
             0.8888888888888888,
             "#fdca26"
            ],
            [
             1,
             "#f0f921"
            ]
           ]
          },
          "colorway": [
           "#636efa",
           "#EF553B",
           "#00cc96",
           "#ab63fa",
           "#FFA15A",
           "#19d3f3",
           "#FF6692",
           "#B6E880",
           "#FF97FF",
           "#FECB52"
          ],
          "font": {
           "color": "#2a3f5f"
          },
          "geo": {
           "bgcolor": "white",
           "lakecolor": "white",
           "landcolor": "#E5ECF6",
           "showlakes": true,
           "showland": true,
           "subunitcolor": "white"
          },
          "hoverlabel": {
           "align": "left"
          },
          "hovermode": "closest",
          "mapbox": {
           "style": "light"
          },
          "paper_bgcolor": "white",
          "plot_bgcolor": "#E5ECF6",
          "polar": {
           "angularaxis": {
            "gridcolor": "white",
            "linecolor": "white",
            "ticks": ""
           },
           "bgcolor": "#E5ECF6",
           "radialaxis": {
            "gridcolor": "white",
            "linecolor": "white",
            "ticks": ""
           }
          },
          "scene": {
           "xaxis": {
            "backgroundcolor": "#E5ECF6",
            "gridcolor": "white",
            "gridwidth": 2,
            "linecolor": "white",
            "showbackground": true,
            "ticks": "",
            "zerolinecolor": "white"
           },
           "yaxis": {
            "backgroundcolor": "#E5ECF6",
            "gridcolor": "white",
            "gridwidth": 2,
            "linecolor": "white",
            "showbackground": true,
            "ticks": "",
            "zerolinecolor": "white"
           },
           "zaxis": {
            "backgroundcolor": "#E5ECF6",
            "gridcolor": "white",
            "gridwidth": 2,
            "linecolor": "white",
            "showbackground": true,
            "ticks": "",
            "zerolinecolor": "white"
           }
          },
          "shapedefaults": {
           "line": {
            "color": "#2a3f5f"
           }
          },
          "ternary": {
           "aaxis": {
            "gridcolor": "white",
            "linecolor": "white",
            "ticks": ""
           },
           "baxis": {
            "gridcolor": "white",
            "linecolor": "white",
            "ticks": ""
           },
           "bgcolor": "#E5ECF6",
           "caxis": {
            "gridcolor": "white",
            "linecolor": "white",
            "ticks": ""
           }
          },
          "title": {
           "x": 0.05
          },
          "xaxis": {
           "automargin": true,
           "gridcolor": "white",
           "linecolor": "white",
           "ticks": "",
           "title": {
            "standoff": 15
           },
           "zerolinecolor": "white",
           "zerolinewidth": 2
          },
          "yaxis": {
           "automargin": true,
           "gridcolor": "white",
           "linecolor": "white",
           "ticks": "",
           "title": {
            "standoff": 15
           },
           "zerolinecolor": "white",
           "zerolinewidth": 2
          }
         }
        },
        "title": {
         "text": "物理攻击与物理/法术防御调和平均数的关系"
        },
        "xaxis": {
         "anchor": "y",
         "domain": [
          0,
          1
         ],
         "title": {
          "text": "x"
         }
        },
        "yaxis": {
         "anchor": "x",
         "domain": [
          0,
          1
         ],
         "title": {
          "text": "y"
         }
        }
       }
      }
     },
     "metadata": {},
     "output_type": "display_data"
    }
   ],
   "source": [
    "import pandas as pd\n",
    "\n",
    "# Load the Excel file\n",
    "file_path = 'data/英雄分类.xlsx'\n",
    "df = pd.read_excel(file_path, sheet_name=0)\n",
    "\n",
    "# Extract the required columns\n",
    "physical_attack = df['物理攻击'].astype(float).tolist()\n",
    "physical_defense = df['物理防御'].astype(float).tolist()\n",
    "magic_defense = df['法术防御'].astype(float).tolist()\n",
    "\n",
    "# Calculate the harmonic mean of physical and magic defense\n",
    "harmonic_mean_defense = [2 / (1/phy + 1/mag) for phy, mag in zip(physical_defense, magic_defense)]\n",
    "\n",
    "# Extract hero names for hover text\n",
    "hero_names = df['名字'].tolist()\n",
    "\n",
    "# Importing plotly for visualization\n",
    "import plotly.express as px\n",
    "\n",
    "# Creating a scatter plot\n",
    "fig = px.scatter(x=physical_attack, y=harmonic_mean_defense,\n",
    "                 hover_data=[hero_names], labels={\"hover_data\": \"英雄名\"},\n",
    "                 title=\"物理攻击与物理/法术防御调和平均数的关系\")\n",
    "\n",
    "# Show plot\n",
    "fig.show()\n"
   ]
  },
  {
   "cell_type": "code",
   "execution_count": 14,
   "metadata": {},
   "outputs": [
    {
     "name": "stdout",
     "output_type": "stream",
     "text": [
      "[('不', 950), ('人', 840), ('山', 731), ('天', 704), ('风', 625), ('一', 615), ('云', 593), ('白', 566), ('月', 547), ('君', 534), ('水', 500), ('何', 495), ('相', 483), ('日', 474), (' ', 473), ('长', 453), ('来', 446), ('歌', 429), ('上', 400), ('金', 398), ('中', 398), ('去', 391), ('无', 389), ('三', 384), ('我', 381), ('行', 380), ('有', 377), ('为', 368), ('如', 366), ('清', 366)]\n",
      "<class 'list'>\n"
     ]
    }
   ],
   "source": [
    "print(top_30_words)\n",
    "print(type(top_30_words))"
   ]
  },
  {
   "cell_type": "code",
   "execution_count": 4,
   "metadata": {},
   "outputs": [],
   "source": [
    "poem_1 = \"静夜思::\"\n",
    "poem_2 = \"....\"\n",
    "\n",
    "poems = merged_poems"
   ]
  },
  {
   "cell_type": "code",
   "execution_count": 6,
   "metadata": {},
   "outputs": [
    {
     "name": "stdout",
     "output_type": "stream",
     "text": [
      "1168\n",
      "宿𫚥湖::鸡鸣发黄山，暝投𫚥湖宿。白雨暎寒山，森森似银竹。提携采铅客，结荷水边沐。半夜四天开，星河烂人目。明晨大楼去，冈陇多屈伏。当与持斧翁，前溪伐云木。\n"
     ]
    }
   ],
   "source": [
    "print(len(poems))\n",
    "print(poems[0])"
   ]
  },
  {
   "cell_type": "code",
   "execution_count": 18,
   "metadata": {},
   "outputs": [
    {
     "name": "stdout",
     "output_type": "stream",
     "text": [
      "288\n"
     ]
    }
   ],
   "source": [
    "def search_character(character, merged_poems):\n",
    "    # 存储包含特定字符的诗歌\n",
    "    poems_with_character = []\n",
    "\n",
    "    # 遍历所有诗歌\n",
    "    for poem in merged_poems:\n",
    "        # 如果字符在诗歌中，则添加到列表中\n",
    "        if character in poem:\n",
    "            poems_with_character.append(poem)\n",
    "\n",
    "    return poems_with_character\n",
    "\n",
    "# 测试函数\n",
    "# 假设merged_poems是一个包含几首诗的列表\n",
    "merged_poems_test = [\n",
    "    \"床前明月光，疑是地上霜。\",\n",
    "    \"举头望明月，低头思故乡。\",\n",
    "    \"君自故乡来，应知故乡事。\",\n",
    "    \"来日绮窗前，寒梅著花未？\"\n",
    "]\n",
    "\n",
    "# 搜索字符\"明\"在哪些诗中出现\n",
    "result = search_character(\"明\", merged_poems)\n",
    "print(len(result))\n"
   ]
  },
  {
   "cell_type": "code",
   "execution_count": 23,
   "metadata": {},
   "outputs": [
    {
     "data": {
      "text/plain": [
       "['举头望明月，低头思故乡。', '君自故乡来，应知故乡事。', '床前明月光，疑是地上霜。']"
      ]
     },
     "execution_count": 23,
     "metadata": {},
     "output_type": "execute_result"
    }
   ],
   "source": [
    "def search_sentence(sentence, merged_poems):\n",
    "    # 将句子拆分成单个字的列表\n",
    "    sentence_chars = [char for char in sentence if char not in ' ，。！？；：“”‘’']\n",
    "    \n",
    "    # 存储每首诗与句子的重合度\n",
    "    overlap_counts = []\n",
    "\n",
    "    # 遍历所有诗歌\n",
    "    for poem in merged_poems:\n",
    "        # 去除诗歌中的标点符号\n",
    "        poem_clean = ''.join([char for char in poem if char not in ' ，。！？；：“”‘’'])\n",
    "        \n",
    "        # 计算句子中的每个字在诗歌中的出现次数\n",
    "        overlap_count = sum(poem_clean.count(char) for char in sentence_chars)\n",
    "        \n",
    "        # 将重合度和诗歌添加到列表\n",
    "        overlap_counts.append((overlap_count, poem))\n",
    "\n",
    "    # 根据重合度排序并获取前三首\n",
    "    top_3_poems = sorted(overlap_counts, key=lambda x: x[0], reverse=True)[:3]\n",
    "\n",
    "    return [poem for _, poem in top_3_poems]\n",
    "\n",
    "# 测试函数\n",
    "# 假设merged_poems是一个包含几首诗的列表\n",
    "merged_poems_test = [\n",
    "    \"床前明月光，疑是地上霜。\",\n",
    "    \"举头望明月，低头思故乡。\",\n",
    "    \"君自故乡来，应知故乡事。\",\n",
    "    \"来日绮窗前，寒梅著花未？\"\n",
    "]\n",
    "\n",
    "# 搜索句子\"明月故乡\"在哪些诗中的重合度最高\n",
    "search_sentence(\"明月故乡\", merged_poems_test)\n"
   ]
  },
  {
   "cell_type": "code",
   "execution_count": 25,
   "metadata": {},
   "outputs": [
    {
     "name": "stdout",
     "output_type": "stream",
     "text": [
      "['把酒问月::青天有月来几时，我今停杯一问之。人攀明月不可得，月行却与人相随。皎如飞镜临丹阙，绿烟灭尽清辉发。但见宵从海上来，宁知晓向云间没。白兔𢭏药秋复春，嫦娥孤栖与谁邻。今人不见古时月，今月曾经照古人。古人今人若流水，共看明月皆如此。唯愿当歌对酒时，月光长照金樽里。', '峨眉山月歌送蜀僧晏入中京::我在巴东三峡时，西看明月忆峨眉。月出峨眉照沧海，与人万里长相随。黄鹤楼前月华白，此中忽见峨眉客。峨眉山月还送君，风吹西到长安陌。长安大道横九天，峨眉山月照秦川。黄金狮子乘高座，白玉麈尾谈重玄。我似浮云𣨼吴越，君逢圣主游丹阙。一振高名满帝都，归时还弄峨眉月。', '送王屋山人魏万还王屋::仙人东方生，浩荡弄云海。沛然乘天游，独往失所在。魏侯继大名，本家聊摄城。卷舒入元化，迹与古贤幷。十三弄文史，挥笔如振绮。辩折田巴生，心齐鲁连子。西涉清洛源，颇惊人世喧。采秀卧王屋，因窥洞天门。朅来游嵩峰，羽客何双双。朝携月光子，暮宿玉女窗。鬼谷上窈窕，龙潭下奔潨。东浮汴河水，访我三千里。逸兴满吴云，飘飖浙江汜。挥手杭越间，樟亭望潮还。涛卷海门石，云横天际山。白马走素车，雷奔骇心颜。遥闻会稽美，且度耶溪水。万壑与千岩，峥嵘镜湖里。秀色不可名，清辉满江城。人游月边去，舟在空中行。此中久延伫，入剡寻王许。笑读曹娥碑，沈吟黄绢语。天台连四明，日入向国清。五峰转月色，百里行松声。灵溪咨沿越，华顶殊超忽。石梁横青天，侧足履半月。忽然思永嘉，不惮海路赊。挂席历海峤，回瞻赤城霞。赤城渐微没，孤屿前峣兀。水续万古流，亭空千霜月。缙云川谷难，石门最可观。瀑布挂北斗，莫穷此水端。喷壁洒素雪，空蒙生昼寒。却思恶溪去，宁惧恶溪恶。咆哮七十滩，水石相喷薄。路创李北海，岩开谢康乐。松风和猿声，搜索连洞壑。径出梅花桥，双溪纳归潮。落帆金华岸，赤松若可招。沈约八咏楼，城西孤岧峣。岧峣四荒外，旷望群川会。云卷天地开，波连浙西大。乱流新安口，北指严光濑。钓台碧云中，邈与苍岭对。稍稍来吴都，裴回上姑苏。烟绵横九疑，漭荡见五湖。目极心更远，悲歌但长吁。回桡楚江滨，挥策扬子津。身着日本裘，昂藏出风尘。五月造我语，知非儗人。相逢乐无限，水石日在眼。徒干五诸侯，不致百金产。吾友扬子云，弦歌播清芬。虽为江宁宰，好与山公群。乘兴但一行，且知我爱君。君来几何时，仙台应有期。东窗绿玉树，定长三五枝。至今天坛人，当笑尔归迟。我苦惜远别，茫然使心悲。黄河若不断，白首长相思。']\n",
      "3\n"
     ]
    }
   ],
   "source": [
    "res = search_sentence(\"床前明月\", merged_poems)\n",
    "print(res)\n",
    "print(len(res))"
   ]
  },
  {
   "cell_type": "code",
   "execution_count": 28,
   "metadata": {},
   "outputs": [
    {
     "name": "stdout",
     "output_type": "stream",
     "text": [
      "\n",
      "你扮演唐朝著名诗人李白\n",
      "\n",
      "参考李白的诗词:\n",
      "经乱离后天恩流夜郎忆旧游书怀赠江夏韦太守良宰::天上白玉京，十二楼五城。仙人抚我顶，结发受长生。误逐世间乐，颇穷理乱情。九十六圣君，浮云挂空名。天地赌一掷，未能望战争。试涉霸王略，将期轩冕荣。时命乃大谬，弃之海上行。学剑翻自哂，为文竟何成。剑非万人敌，文窃四海声。儿戏不足道，五噫出西京。临当欲去时，慷慨泪沾缨。叹君倜傥才，标举冠群英。开筵引祖帐，慰此远徂征。鞍马若浮云，送余骠骑亭。歌锺不尽意，白日落昆明。十月到幽州，戈鋋若罗星。君王弃北海，扫地借长鲸。呼吸走百川，燕然可摧倾。心知不得语，却欲栖蓬瀛。弯弧惧天狼，挟矢不敢张。揽涕黄金台，呼天哭昭王。无人贵骏骨，𫘧耳空腾骧。乐毅傥再生，于今亦奔亡。蹉跎不得意，驱马还贵乡。逢君听弦歌，肃穆坐华堂。百里独太古，陶然卧羲皇。征乐昌乐馆，开筵列壶觞。贤豪间青娥，对烛俨成行。醉舞纷绮席，清歌绕飞梁。欢娱未终朝，秩满归咸阳。祖道拥万人，供帐遥相望。一别隔千里，荣枯异炎凉。炎凉几度改，九土中横溃。汉甲连胡兵，沙尘暗云海。草木摇杀气，星辰无光彩。白骨成丘山，苍生竟何罪。函关壮帝居，国命悬哥舒。长戟三十万，开门纳凶渠。公卿如犬羊，忠谠醢与葅。二圣出游豫，两京遂丘墟。帝子许专征，秉旄控强楚。节制非桓文，军师拥熊虎。人心失去就，贼势腾风雨。惟君固房陵，诚节冠终古。仆卧香炉顶，餐霞漱瑶泉。门开九江转，枕下五湖连。半夜水军来，浔阳满旌旃。空名适自误，迫胁上楼船。徒赐五百金，弃之若浮烟。辞官不受赏，翻谪夜郎天。夜郎万里道，西上令人老。扫荡六合清，仍为负霜草。日月无偏照，何由诉苍昊。良牧称神明，深仁恤交道。一忝青云客，三登黄鹤楼。顾惭祢处士，虚对鹦鹉洲。樊山霸气尽，寥落天地秋。江带峨眉雪，川横三峡流。万舸此中来，连帆过扬州。送此万里目，旷然散我愁。纱窗倚天开，水树绿如发。窥日畏衔山，促酒喜得月。吴娃与越艳，窈窕夸铅红。呼来上云梯，含笑出帘栊。对客小垂手，罗衣舞春风。宾跪请休息，主人情未极。览君荆山作，江鲍堪动色。清水出芙蓉，天然去雕饰。逸兴横素襟，无时不招寻。朱门拥虎士，列戟何森森。剪凿竹石开，萦流涨清深。登台坐水阁，吐论多英音。片辞贵白壁，一诺轻黄金。谓我不愧君，青鸟明丹心。五色云间鹊，飞鸣天上来。传闻赦书至，却放夜郎回。暖气变寒谷，炎烟生死灰。君登凤池去，忽弃贾生才。桀犬尚吠尧，匈奴笑千秋。中夜四五叹，常为大国忧。旌斾夹两山，黄河当中流。连鸡不得进，饮马空夷犹。安得羿善射，一箭落旄头。\n",
      "赠宣城宇文太守兼呈崔侍御::白若白鹭鲜，清如清唳蝉。受气有本性，不为外物迁。饮水箕山上，食雪首阳颠。回车避朝歌，掩口去盗泉。岧峣广成子，倜傥鲁仲连。卓绝二公外，丹心无间然。昔攀六龙飞，今作百炼铅。怀恩欲报主，投佩向北燕。弯弓绿弦开，满月不惮坚。闲骑骏马猎，一射两虎穿。回旋若流光，转背落双鸢。胡虏三叹息，兼知五兵权。枪枪突云将，却掩我之妍。多逢剿绝儿，先著祖生鞭。据鞍空矍铄，壮志竟谁宣。蹉跎复来归，忧恨坐相煎。无风难破浪，失计长江边。危苦惜颓光，金波忽三圆。时游敬亭上，闲听松风眠。或弄宛溪月，虚舟信洄沿。颜公二十万，尽付酒家钱。兴发每取之，聊向醉中仙。过此无一事，静谈秋水篇。君从九卿来，水国有丰年。鱼盐满市井，布帛如云烟。下马不作威，冰壶照清川。霜眉邑中叟，皆美太守贤。时时慰风俗，往往出东田。竹马数小儿，拜迎白鹿前。含笑问使君，日晚可回旋。遂归池上酌，掩抑清风弦。曾标横浮云，下抚谢朓肩。楼高碧海出，树古青萝悬。光禄紫霞杯，伊昔忝相传。良图扫沙漠，别梦绕旌旃。富贵日成疏，愿言杳无缘。登龙有直道，倚玉阻芳筵。敢献绕朝策，思同郭泰船。何言一水浅，似隔九重天。崔生何傲岸，纵酒复谈玄。身为名公子，英才苦迍邅。鸣凤托高梧，凌风何翩翩。安知慕群客，弹剑拂秋莲。\n",
      "忆旧游寄谯郡元参军::忆昔洛阳董糟丘，为余天津桥南造酒楼。黄金白璧买歌笑，一醉累月轻王侯。海内贤豪青云客，就中与君心莫逆。迥山转海不作难，倾情倒意无所惜。我向淮南攀桂枝，君留洛北愁梦思。不忍别，还相随，相随迢迢访仙城。三十六曲水回萦，一溪初入千花明。万壑度尽松风声，银鞍金络倒平地，汉东太守来相迎。紫阳之真人，邀我吹玉笙。餐霞楼上动仙乐，嘈然宛似鸾凤鸣。袖长管催欲轻举，汉中太守醉起舞。手持锦袍覆我身，我醉横眠枕其股。当筵意气凌九霄，星离雨散不终朝，分飞楚关山水遥。余既还山寻故巢，君亦归家渡渭桥。君家严君勇貔虎，作尹幷州遏戎虏。五月相呼度太行，摧轮不道羊肠苦。行来北凉岁月深，感君贵义轻黄金。琼杯绮食青玉案，使我醉饱无归心。时时出向城西曲，晋祠流水如碧玉。浮舟弄水箫鼓鸣，微波龙鳞莎草绿。兴来携妓恣经过，其若杨花似雪何。红妆欲醉宜斜日，百尺清潭写翠娥。翠娥婵娟初月辉，美人更唱舞罗衣。清风吹歌人空去，歌曲自绕行云飞。此时行乐难再遇，西游因献长杨赋。北阙青云不可期，东山白首还归去。渭桥南头一遇君，酂台之北又离群。问余别恨知多少，落花春暮争纷纷。言亦不可尽，情亦不可极。呼儿长跪缄此辞，寄君千里遥相忆。\n",
      "\n",
      "请模仿李白的口吻和经历与我进行对话\n",
      "\n"
     ]
    }
   ],
   "source": [
    "def sentence2prompt(sentence, merged_poems):\n",
    "    # 使用之前实现的search_sentence函数来找到最接近的三首诗\n",
    "    top_3_poems = search_sentence(sentence, merged_poems)\n",
    "    \n",
    "    # 构建prompt字符串\n",
    "    prompt = \"\"\"\n",
    "你扮演唐朝著名诗人李白\n",
    "\n",
    "参考李白的诗词:\n",
    "{0}\n",
    "{1}\n",
    "{2}\n",
    "\n",
    "请模仿李白的口吻和经历与我进行对话\n",
    "\"\"\".format(top_3_poems[0], top_3_poems[1], top_3_poems[2])\n",
    "    \n",
    "    return prompt\n",
    "\n",
    "\n",
    "\n",
    "# 使用测试句子\"明月故乡\"来生成prompt\n",
    "sys_prompt = sentence2prompt(\"你认识宇文太守吗？\", merged_poems)\n",
    "print(sys_prompt)\n"
   ]
  },
  {
   "cell_type": "code",
   "execution_count": 8,
   "metadata": {},
   "outputs": [
    {
     "data": {
      "image/png": "[encoded data removed]",
      "text/plain": [
       "<Figure size 720x432 with 1 Axes>"
      ]
     },
     "metadata": {
      "needs_background": "light"
     },
     "output_type": "display_data"
    }
   ],
   "source": [
    "import matplotlib.pyplot as plt\n",
    "import random\n",
    "\n",
    "# 参数设置\n",
    "n_steps = 1000  # 时间步数\n",
    "delta_t = 1.0   # 每步时间间隔（单位：秒）\n",
    "delta_x = 1.0   # 每步位移大小\n",
    "\n",
    "# 初始化位置列表\n",
    "positions = [0.0]\n",
    "\n",
    "# 生成布朗运动数据\n",
    "for _ in range(n_steps):\n",
    "    # 随机选择向前或向后移动\n",
    "    step = random.choice([-delta_x, delta_x])\n",
    "    # 计算新位置\n",
    "    new_position = positions[-1] + step\n",
    "    # 添加到位置列表\n",
    "    positions.append(new_position)\n",
    "\n",
    "# 可视化\n",
    "plt.figure(figsize=(10, 6))\n",
    "plt.plot(positions)\n",
    "plt.title(\"一维布朗运动\")\n",
    "plt.xlabel(\"时间步\")\n",
    "plt.ylabel(\"位置\")\n",
    "plt.grid(True)\n",
    "plt.show()\n",
    "\n",
    "# positions  # 输出位置列表\n"
   ]
  },
  {
   "cell_type": "markdown",
   "metadata": {},
   "source": [
    "merged_poems是一个list of string，存储着李白的诗歌\n",
    "\n",
    "我想看看李白的诗歌中出现概率最高的三十个字是什么，请用python为我实现\n",
    "\n",
    "去除掉标点符号，将结果用条形图可视化"
   ]
  },
  {
   "cell_type": "code",
   "execution_count": 14,
   "metadata": {},
   "outputs": [
    {
     "data": {
      "image/png": "[encoded data removed]",
      "text/plain": [
       "<Figure size 1440x576 with 1 Axes>"
      ]
     },
     "metadata": {
      "needs_background": "light"
     },
     "output_type": "display_data"
    }
   ],
   "source": [
    "import re\n",
    "from collections import Counter\n",
    "import matplotlib.pyplot as plt\n",
    "\n",
    "\n",
    "\n",
    "# 示例数据，假设merged_poems是以下内容\n",
    "# merged_poems = [\n",
    "#     \"床前明月光，疑是地上霜。\",\n",
    "#     \"举头望明月，低头思故乡。\",\n",
    "#     \"飞流直下三千尺，疑是银河落九天。\",\n",
    "#     \"两岸猿声啼不住，轻舟已过万重山。\"\n",
    "# ]\n",
    "\n",
    "# 将所有诗歌合并成一个字符串，并去除标点符号\n",
    "all_poems = \"\".join(merged_poems)\n",
    "all_poems = re.sub(r'[，。: ]', '', all_poems)\n",
    "\n",
    "# 计算每个字的出现频率\n",
    "word_counts = Counter(all_poems)\n",
    "\n",
    "# 获取出现频率最高的30个字\n",
    "top_30_words = word_counts.most_common(30)\n",
    "\n",
    "# 准备数据用于绘图\n",
    "words, counts = zip(*top_30_words)\n",
    "\n",
    "# 指定支持中文的字体\n",
    "plt.rcParams['font.sans-serif'] = ['SimHei']  # 使用黑体\n",
    "plt.rcParams['axes.unicode_minus'] = False  # 正确显示负号\n",
    "# 绘制条形图\n",
    "plt.figure(figsize=(20, 8))\n",
    "plt.bar(words, counts, color='skyblue')\n",
    "plt.ylabel('出现次数',fontsize=16)\n",
    "plt.title('李白诗歌中出现频率最高的30个字',fontsize=16)\n",
    "# 设置fontsize为16\n",
    "plt.xticks(fontsize=16, rotation=90)\n",
    "# plt.gca().invert_yaxis()  # 反转y轴，使得出现次数最多的字在上方\n",
    "plt.show()\n"
   ]
  },
  {
   "cell_type": "markdown",
   "metadata": {},
   "source": [
    "我希望实现一个Python函数 search_character( character, merged_poems )\n",
    "\n",
    "其中character是有待搜索的汉字， merged_poems是list of string存储了很多诗歌\n",
    "\n",
    "我希望搜索character在哪几首诗歌中出现了。"
   ]
  },
  {
   "cell_type": "code",
   "execution_count": 16,
   "metadata": {},
   "outputs": [
    {
     "data": {
      "text/plain": [
       "['君子有所思行',\n",
       " '相和歌辞 胡无人行',\n",
       " '题嵩山逸人元丹丘山居',\n",
       " '杂曲歌辞 君子有所思行',\n",
       " '胡无人',\n",
       " '塞下曲六首 三',\n",
       " '送张遥之寿阳幕府',\n",
       " '送杨燕之东鲁']"
      ]
     },
     "execution_count": 16,
     "metadata": {},
     "output_type": "execute_result"
    }
   ],
   "source": [
    "def search_character(character, merged_poems):\n",
    "    # 存储包含特定字符的诗歌列表\n",
    "    poems_with_char = []\n",
    "    \n",
    "    # 遍历每首诗歌\n",
    "    for poem in merged_poems:\n",
    "        # 分割标题和内容\n",
    "        title, content = poem.split('::')\n",
    "        # 检查字符是否在诗歌内容中出现\n",
    "        if character in content:\n",
    "            poems_with_char.append(title)\n",
    "    \n",
    "    return poems_with_char\n",
    "\n",
    "# 测试函数\n",
    "search_character('霍', merged_poems)"
   ]
  },
  {
   "cell_type": "markdown",
   "metadata": {},
   "source": [
    "我希望实现一个Python函数 search_sentence( sentence, merged_poems )\n",
    "\n",
    "用来查询sentence中的字和那几首古诗中的字的重合度最高\n",
    "\n",
    "其中sentence是有待搜索的句子， merged_poems是list of string存储了很多诗歌\n",
    "\n",
    "对于sentence中的每个字 搜索和计数merged_poems中对应字是否出现来累计重合度\n",
    "\n",
    "把重合度最高的前三首诗歌进行返回"
   ]
  },
  {
   "cell_type": "code",
   "execution_count": 17,
   "metadata": {},
   "outputs": [
    {
     "data": {
      "text/plain": [
       "['上清宝鼎诗二首 二::人生烛上花，光灭巧妍尽。春风绕树头，日与化工进。只知雨露贪，不闻零落尽。我昔飞骨时，惨见当涂坟。青松霭朝霞，缥缈山丁村。既死明月魄，无复玻璃魂。念此一脱洒，长啸祭昆仑。醉著鸾皇衣，星斗俯可扪。',\n",
       " '宣城送刘副使入秦::君即刘越石，雄豪冠当时。凄清横吹曲，慷慨扶风词。虎啸俟腾跃，鸡鸣遭乱离。千金市骏马，万里逐王师。结交楼烦将，侍从羽林儿。统兵捍吴越，豺虎不敢窥。大勋竟莫叙，已过秋风吹。秉钺有季公，凛然负英姿。寄深且戎幕，望重必台司。感激一然诺，纵横两无疑。伏奏归北阙，鸣驺忽西驰。列将咸出祖，英僚惜分离。斗酒满四筵，歌啸宛溪湄。君携东山妓，我咏北门诗。贵贱交不易，恐伤中园葵。昔赠紫骝驹，今倾白玉卮。同欢万斛酒，未足解相思。此别又千里，秦吴渺天涯。月明关山苦，水剧陇头悲。借问几时还，春风入黄池。无令长相忆，折断绿杨枝。',\n",
       " '扶风豪士歌::洛阳三月飞胡沙，洛阳城中人怨嗟。天津流水波赤血，白骨相撑如乱麻。我亦东奔向吴国，浮云四塞道路赊。东方日出啼早鸦，城门人开扫落花。梧桐杨柳拂金井，来醉扶风豪士家。扶风豪士天下奇，意气相倾山可移。作人不倚将军势，饮酒岂顾尚书期。雕盘绮食会众客，吴歌赵舞香风吹。原尝春陵六国时，开心写意君所知。堂中各有三千士，明日报恩知是谁。抚长剑，一扬眉，清水白石何离离。脱吾帽，向君笑，饮君酒，为君吟。张良未逐赤松去，桥边黄石知我心。']"
      ]
     },
     "execution_count": 17,
     "metadata": {},
     "output_type": "execute_result"
    }
   ],
   "source": [
    "def search_sentence(sentence, merged_poems):\n",
    "    most_similar_poems = [] # 存储与查询句子重合度最高的诗歌列表\n",
    "    \n",
    "    for poem in merged_poems: # 遍历每首诗歌\n",
    "        # 计算查询句子与诗歌内容的重合度\n",
    "        similarity = sum(1 for word in sentence if word in poem)\n",
    "        # 添加到列表中\n",
    "        most_similar_poems.append((poem, similarity))\n",
    "    \n",
    "    # 对列表进行排序，按重合度降序排列\n",
    "    most_similar_poems.sort(key=lambda x: x[1], reverse=True)\n",
    "    \n",
    "    # 返回重合度最高的前三个诗歌\n",
    "    return [poem for poem, _ in most_similar_poems[:3]]\n",
    "\n",
    "# 测试函数\n",
    "search_sentence('清风明月', merged_poems)"
   ]
  },
  {
   "cell_type": "markdown",
   "metadata": {},
   "source": [
    "- [ ] List, Tuple, Dict，Set\n",
    "- [ ] 数字和String\n",
    "- [ ] Excel数据可视化"
   ]
  },
  {
   "cell_type": "markdown",
   "metadata": {},
   "source": [
    "这节课我们需要稍微讲解一下Python的基础数据结构\n",
    "\n",
    "如果整个班上的同学都已经学习过对应的内容，也可以跳过这节课的学习\n",
    "\n",
    "但是如果对于List, Tuple, Dict三者区别还不太清楚的同学，这节课还是要进行学习的\n",
    "\n",
    "这里有一个关键是，很多时候，我们要向ChatGPT清楚地描述我们一个任务的输入和输出是什么"
   ]
  },
  {
   "cell_type": "markdown",
   "metadata": {},
   "source": [
    "## 向ChatGPT学习这些数据结构\n",
    "\n",
    "这里我们还是希望同学们能够“学会如何向ChatGPT学习”，当然这很有可能是一句废话\n",
    "\n",
    "因为向ChatGPT提问这些基础知识实在是太简单了\n",
    "\n",
    "```\n",
    "对于Python的List, Tuple, Dictionary, Set各给出一个程序的例子\n",
    "\n",
    "并简单描述他们之间的不同以及各自的使用场景\n",
    "```"
   ]
  },
  {
   "cell_type": "markdown",
   "metadata": {},
   "source": [
    "<details>\n",
    "  <summary>ChatGPT的回复</summary>\n",
    "  \n",
    "好的，下面是Python中List, Tuple, Dictionary, Set的例子，并附上简单的描述和使用场景：\n",
    "\n",
    "### List\n",
    "\n",
    "List 是有序的、可变的集合。它允许重复的元素，可以随时添加、删除或修改元素。常用于需要动态调整内容的场景。\n",
    "\n",
    "```python\n",
    "# List example\n",
    "fruits = [\"apple\", \"banana\", \"cherry\"]\n",
    "fruits.append(\"orange\")\n",
    "print(fruits)  # Output: ['apple', 'banana', 'cherry', 'orange']\n",
    "```\n",
    "\n",
    "### Tuple\n",
    "\n",
    "Tuple 是有序的、不可变的集合。一旦创建，无法修改其内容。常用于存储不需要改变的数据，例如多返回值函数的返回值，或作为字典的键。\n",
    "\n",
    "```python\n",
    "# Tuple example\n",
    "coordinates = (10.0, 20.0)\n",
    "print(coordinates)  # Output: (10.0, 20.0)\n",
    "```\n",
    "\n",
    "### Dictionary\n",
    "\n",
    "Dictionary 是无序的键值对集合。键必须是唯一的且不可变的，值可以是任何类型。常用于需要快速查找的场景，例如配置文件、数据库记录等。\n",
    "\n",
    "```python\n",
    "# Dictionary example\n",
    "student = {\"name\": \"John\", \"age\": 21, \"courses\": [\"Math\", \"Science\"]}\n",
    "print(student[\"name\"])  # Output: John\n",
    "```\n",
    "\n",
    "### Set\n",
    "\n",
    "Set 是无序的、唯一元素的集合。用于去重和集合运算（交集、并集等）的场景。\n",
    "\n",
    "```python\n",
    "# Set example\n",
    "numbers = {1, 2, 3, 4, 4, 5}\n",
    "print(numbers)  # Output: {1, 2, 3, 4, 5}\n",
    "```\n",
    "\n",
    "### 区别和使用场景\n",
    "\n",
    "1. **List**: 有序且可变，适合需要动态调整元素的场景，如待办事项列表或需要频繁添加、删除元素的场景。\n",
    "\n",
    "2. **Tuple**: 有序且不可变，适合存储固定结构的数据，如函数返回的多值、数据库记录等。\n",
    "\n",
    "3. **Dictionary**: 无序的键值对集合，适合需要快速查找和存储数据关联关系的场景，如学生信息、配置文件等。\n",
    "\n",
    "4. **Set**: 无序且唯一元素的集合，适合去重和集合运算的场景，如处理独特元素的列表、数学集合运算等。\n",
    "\n",
    "这些数据结构各有优劣，选择合适的结构可以提高代码的效率和可读性。\n",
    "\n",
    "</details>"
   ]
  },
  {
   "cell_type": "markdown",
   "metadata": {},
   "source": [
    "这里简单说明一下要点"
   ]
  },
  {
   "cell_type": "markdown",
   "metadata": {},
   "source": [
    "## List\n",
    "\n",
    "List就是数组，或者C++中的vector，或者对于没学过编程的同学来说，就是一个从0开始编号的“数列”\n",
    "\n",
    "List的好处是他可以线性访问，对于一个list a来说 a[100] 可以直接被访问到，不需要花费额外的时间\n",
    "\n",
    "没有用的冷知识：当然对于Python来说，List有data type binding的特性，也就是List的每个元素的数据类型可以不一样，这一点和C是不一样的。\n",
    "\n",
    "不过很多时候，我们还是希望List的每个元素是“一致的”\n",
    "\n",
    "这样我们在和ChatGPT描述的时候，就可以说\n",
    "\n",
    "```\n",
    "{变量名} 是一个List of {数据类型}\n",
    "```\n",
    "\n",
    "比如\n",
    "\n",
    "```\n",
    "a 是一个List of int\n",
    "\n",
    "统计a里面最大和最小的数字是几位数，请用python为我实现\n",
    "```\n"
   ]
  },
  {
   "cell_type": "code",
   "execution_count": 1,
   "metadata": {},
   "outputs": [
    {
     "name": "stdout",
     "output_type": "stream",
     "text": [
      "列表中最大数字是 12345，它有 5 位\n",
      "列表中最小数字是 4，它有 1 位\n"
     ]
    }
   ],
   "source": [
    "# 定义一个包含整数的列表\n",
    "a = [123, 4, 56, 7890, 12345, 678]\n",
    "\n",
    "# 找到列表中的最大值和最小值\n",
    "max_num = max(a)\n",
    "min_num = min(a)\n",
    "\n",
    "# 计算最大值和最小值的位数\n",
    "max_num_digits = len(str(abs(max_num)))\n",
    "min_num_digits = len(str(abs(min_num)))\n",
    "\n",
    "# 输出结果\n",
    "print(f\"列表中最大数字是 {max_num}，它有 {max_num_digits} 位\")\n",
    "print(f\"列表中最小数字是 {min_num}，它有 {min_num_digits} 位\")\n"
   ]
  },
  {
   "cell_type": "markdown",
   "metadata": {},
   "source": [
    "## Tuple\n",
    "\n",
    "Tuple最大的用处在于函数返回\n",
    "\n",
    "```\n",
    "为我实现一个函数，输入是一个list of float\n",
    "\n",
    "输出是这个list的均值和方差\n",
    "```"
   ]
  },
  {
   "cell_type": "code",
   "execution_count": 1,
   "metadata": {},
   "outputs": [
    {
     "name": "stdout",
     "output_type": "stream",
     "text": [
      "均值: 3.4400000000000004\n",
      "方差: 2.2863999999999995\n"
     ]
    }
   ],
   "source": [
    "def calculate_mean_and_variance(numbers):\n",
    "    \"\"\"\n",
    "    计算列表的均值和方差\n",
    "\n",
    "    参数:\n",
    "    numbers (list of float): 输入的浮点数列表\n",
    "\n",
    "    返回:\n",
    "    tuple: 包含均值和方差的元组\n",
    "    \"\"\"\n",
    "    if not numbers:\n",
    "        raise ValueError(\"列表不能为空\")\n",
    "\n",
    "    # 计算均值\n",
    "    mean = sum(numbers) / len(numbers)\n",
    "\n",
    "    # 计算方差\n",
    "    variance = sum((x - mean) ** 2 for x in numbers) / len(numbers)\n",
    "\n",
    "    return mean, variance\n",
    "\n",
    "# 示例使用\n",
    "numbers = [1.5, 2.3, 3.1, 4.7, 5.6]\n",
    "mean, variance = calculate_mean_and_variance(numbers)\n",
    "print(\"均值:\", mean)\n",
    "print(\"方差:\", variance)\n"
   ]
  },
  {
   "cell_type": "markdown",
   "metadata": {},
   "source": [
    "这里calculate_mean_and_variance函数的返回就是一个tuple\n",
    "\n",
    "我们可以试试看下面的代码"
   ]
  },
  {
   "cell_type": "code",
   "execution_count": 2,
   "metadata": {},
   "outputs": [
    {
     "name": "stdout",
     "output_type": "stream",
     "text": [
      "(3.4400000000000004, 2.2863999999999995)\n"
     ]
    }
   ],
   "source": [
    "result = calculate_mean_and_variance(numbers)\n",
    "print(result)"
   ]
  },
  {
   "cell_type": "markdown",
   "metadata": {},
   "source": [
    "这个用括号包裹起来的两个数字，就是一个两个元素的tuple\n",
    "\n",
    "你还可以用a,b = result 来分别给a,b两个变量赋值\n",
    "\n",
    "不过tuple是我们比较少主动去使用的一种数据结构，还是在函数返回值的时候被最多见到"
   ]
  },
  {
   "cell_type": "markdown",
   "metadata": {},
   "source": [
    "## Set\n",
    "\n",
    "set没什么好说的，是一个无序的list，可以自动去掉里面重合的元素\n",
    "\n",
    "这个就不多说了"
   ]
  },
  {
   "cell_type": "markdown",
   "metadata": {},
   "source": [
    "## Dictionary\n",
    "\n",
    "字典是个非常重要的数据结构。我们先让ChatGPT给一个字典的简单介绍\n",
    "\n",
    "```\n",
    "简单介绍Python中的字典数据结构，并给出一个例子\n",
    "```\n",
    "\n"
   ]
  },
  {
   "cell_type": "markdown",
   "metadata": {},
   "source": [
    "<details>\n",
    "<summary> ChatGPT的输出  </summary>\n",
    "\n",
    "### Python中的字典数据结构\n",
    "\n",
    "Python中的字典（Dictionary）是一种内置的数据结构，它以键值对（key-value pair）的形式存储数据。字典具有以下几个特点：\n",
    "\n",
    "1. **无序**：在Python 3.7之前，字典中的元素是无序的。从Python 3.7开始，字典的插入顺序得到了保证，但这一点并不影响字典的主要特性。\n",
    "2. **键唯一**：字典中的键必须是唯一的，不能重复。相同的键会覆盖之前的值。\n",
    "3. **键的类型**：字典的键可以是任何不可变的数据类型，例如字符串、数字和元组。\n",
    "4. **可变性**：字典是可变的，可以动态地添加、修改和删除键值对。\n",
    "\n",
    "### 字典的基本操作\n",
    "\n",
    "以下是一些常见的字典操作：\n",
    "\n",
    "- **创建字典**：可以使用花括号 `{}` 或 `dict()` 函数创建字典。\n",
    "- **访问元素**：通过键来访问对应的值。\n",
    "- **添加/修改元素**：通过键来添加新键值对或修改已有键对应的值。\n",
    "- **删除元素**：可以使用 `del` 语句或 `pop()` 方法删除指定键值对。\n",
    "\n",
    "### 字典示例\n",
    "\n",
    "下面是一个字典的简单示例，展示了创建、访问、添加、修改和删除操作：\n",
    "\n",
    "```python\n",
    "# 创建一个字典\n",
    "student = {\n",
    "    \"name\": \"Alice\",\n",
    "    \"age\": 21,\n",
    "    \"major\": \"Computer Science\"\n",
    "}\n",
    "\n",
    "# 访问字典中的元素\n",
    "print(student[\"name\"])  # 输出: Alice\n",
    "print(student[\"age\"])   # 输出: 21\n",
    "\n",
    "# 添加一个新键值对\n",
    "student[\"gpa\"] = 3.8\n",
    "print(student)  # 输出: {'name': 'Alice', 'age': 21, 'major': 'Computer Science', 'gpa': 3.8}\n",
    "\n",
    "# 修改已有键的值\n",
    "student[\"age\"] = 22\n",
    "print(student)  # 输出: {'name': 'Alice', 'age': 22, 'major': 'Computer Science', 'gpa': 3.8}\n",
    "\n",
    "# 删除一个键值对\n",
    "del student[\"major\"]\n",
    "print(student)  # 输出: {'name': 'Alice', 'age': 22, 'gpa': 3.8}\n",
    "\n",
    "# 使用 pop() 方法删除键值对并返回值\n",
    "gpa = student.pop(\"gpa\")\n",
    "print(gpa)       # 输出: 3.8\n",
    "print(student)  # 输出: {'name': 'Alice', 'age': 22}\n",
    "```\n",
    "\n",
    "通过这些操作，你可以灵活地使用字典来存储和管理数据。在实际应用中，字典常用于存储配置信息、计数、分组数据等场景。\n",
    "\n",
    "</details>"
   ]
  },
  {
   "cell_type": "code",
   "execution_count": 1,
   "metadata": {},
   "outputs": [
    {
     "name": "stdout",
     "output_type": "stream",
     "text": [
      "Alice\n",
      "21\n",
      "{'name': 'Alice', 'age': 21, 'major': 'Computer Science', 'gpa': 3.8}\n",
      "{'name': 'Alice', 'age': 22, 'major': 'Computer Science', 'gpa': 3.8}\n",
      "{'name': 'Alice', 'age': 22, 'gpa': 3.8}\n",
      "3.8\n",
      "{'name': 'Alice', 'age': 22}\n"
     ]
    }
   ],
   "source": [
    "# 创建一个字典\n",
    "student = {\n",
    "    \"name\": \"Alice\",\n",
    "    \"age\": 21,\n",
    "    \"major\": \"Computer Science\"\n",
    "}\n",
    "\n",
    "# 访问字典中的元素\n",
    "print(student[\"name\"])  # 输出: Alice\n",
    "print(student[\"age\"])   # 输出: 21\n",
    "\n",
    "# 添加一个新键值对\n",
    "student[\"gpa\"] = 3.8\n",
    "print(student)  # 输出: {'name': 'Alice', 'age': 21, 'major': 'Computer Science', 'gpa': 3.8}\n",
    "\n",
    "# 修改已有键的值\n",
    "student[\"age\"] = 22\n",
    "print(student)  # 输出: {'name': 'Alice', 'age': 22, 'major': 'Computer Science', 'gpa': 3.8}\n",
    "\n",
    "# 删除一个键值对\n",
    "del student[\"major\"]\n",
    "print(student)  # 输出: {'name': 'Alice', 'age': 22, 'gpa': 3.8}\n",
    "\n",
    "# 使用 pop() 方法删除键值对并返回值\n",
    "gpa = student.pop(\"gpa\")\n",
    "print(gpa)       # 输出: 3.8\n",
    "print(student)  # 输出: {'name': 'Alice', 'age': 22}\n"
   ]
  },
  {
   "cell_type": "markdown",
   "metadata": {},
   "source": [
    "字典关键是可以有很多\"字段\"，这使得程序的可读性会上升很多\n",
    "\n",
    "因为你在List和Tuple中，都没办法用一个变量来表示一个字段，比如name，age，major，gpa这些字段\n",
    "\n",
    "但是在Dictionary结构里面，是可以的\n",
    "\n",
    "另外我们会发现，越来越多的大模型的api，也使用Dictionary的形式来作为输入和输出"
   ]
  },
  {
   "cell_type": "markdown",
   "metadata": {},
   "source": [
    "比如我们以智谱大模型的为例子\n",
    "\n",
    "```python\n",
    "\tfrom zhipuai import ZhipuAI\n",
    "client = ZhipuAI(api_key=\"\") # 填写您自己的APIKey\n",
    "response = client.chat.completions.create(\n",
    "    model=\"glm-4\",  # 填写需要调用的模型名称\n",
    "    messages=[\n",
    "        {\"role\": \"user\", \"content\": \"作为一名营销专家，请为智谱开放平台创作一个吸引人的slogan\"},\n",
    "        {\"role\": \"assistant\", \"content\": \"当然，为了创作一个吸引人的slogan，请告诉我一些关于您产品的信息\"},\n",
    "        {\"role\": \"user\", \"content\": \"智谱AI开放平台\"},\n",
    "        {\"role\": \"assistant\", \"content\": \"智启未来，谱绘无限一智谱AI，让创新触手可及!\"},\n",
    "        {\"role\": \"user\", \"content\": \"创造一个更精准、吸引人的slogan\"}\n",
    "    ],\n",
    ")\n",
    "print(response.choices[0].message)\n",
    "```\n",
    "\n",
    "他是这么调用的。这里messages就是一个list of dictionary\n",
    "\n",
    "另外，response的返回，实际上也是一个dictionary\n",
    "\n",
    "```json\n",
    "{\n",
    "  \"created\": 1703487403,\n",
    "  \"id\": \"8239375684858666781\",\n",
    "  \"model\": \"glm-4\",\n",
    "  \"request_id\": \"8239375684858666781\",\n",
    "  \"choices\": [\n",
    "      {\n",
    "          \"finish_reason\": \"stop\",\n",
    "          \"index\": 0,\n",
    "          \"message\": {\n",
    "              \"content\": \"智绘蓝图，AI驱动 —— 智谱AI，让每一刻创新成为可能。\",\n",
    "              \"role\": \"assistant\"\n",
    "          }\n",
    "      }\n",
    "  ],\n",
    "  \"usage\": {\n",
    "      \"completion_tokens\": 217,\n",
    "      \"prompt_tokens\": 31,\n",
    "      \"total_tokens\": 248\n",
    "  }\n",
    "}\n",
    "```\n",
    "\n",
    "这种数据结构被称为json数据结构\n",
    "\n",
    "## Python的Dictionary和json数据结构有什么联系和不同？\n",
    "\n",
    "```\n",
    "Python的Dictionary和json数据结构有什么联系和不同？\n",
    "```\n",
    "\n",
    "<details>\n",
    "<summary> ChatGPT的输出 </summary>\n",
    "\n",
    "### Python的Dictionary和JSON数据结构的联系和不同\n",
    "\n",
    "#### 联系\n",
    "\n",
    "1. **结构相似**：\n",
    "   - **键值对**：两者都是以键值对的形式存储数据。\n",
    "   - **嵌套**：两者都支持嵌套结构，即值可以是另一个字典或JSON对象。\n",
    "\n",
    "2. **数据类型**：\n",
    "   - **字典**：Python的字典可以存储任意数据类型的值，包括其他字典、列表、元组、字符串、数字等。\n",
    "   - **JSON**：JSON支持的基本数据类型包括字符串、数字、布尔值、数组（对应Python的列表）、对象（对应Python的字典）和null（对应Python的None）。\n",
    "\n",
    "3. **互相转换**：\n",
    "   - Python标准库提供了`json`模块，可以方便地将Python字典和JSON字符串进行互相转换。\n",
    "     - 使用`json.dumps()`将Python字典转换为JSON字符串。\n",
    "     - 使用`json.loads()`将JSON字符串转换为Python字典。\n",
    "\n",
    "#### 不同\n",
    "\n",
    "1. **语法差异**：\n",
    "   - **Python字典**：使用单引号或双引号表示字符串，键名不需要引号（如果键是字符串，则可以使用引号）。\n",
    "     ```python\n",
    "     student = {\n",
    "         \"name\": \"Alice\",\n",
    "         'age': 21,\n",
    "         \"major\": \"Computer Science\"\n",
    "     }\n",
    "     ```\n",
    "   - **JSON**：使用双引号表示字符串，键名必须使用双引号。\n",
    "     ```json\n",
    "     {\n",
    "         \"name\": \"Alice\",\n",
    "         \"age\": 21,\n",
    "         \"major\": \"Computer Science\"\n",
    "     }\n",
    "     ```\n",
    "\n",
    "2. **数据类型支持**：\n",
    "   - **Python字典**：支持更多的数据类型，如元组、集合、函数等。\n",
    "   - **JSON**：仅支持基本数据类型，如字符串、数字、布尔值、数组、对象和null。\n",
    "\n",
    "3. **用途**：\n",
    "   - **Python字典**：主要用于Python程序内部的数据存储和操作。\n",
    "   - **JSON**：主要用于数据交换格式，特别是在Web应用中用于客户端和服务器之间传递数据。\n",
    "\n",
    "#### 例子\n",
    "\n",
    "**Python字典转换为JSON字符串**\n",
    "\n",
    "```python\n",
    "import json\n",
    "\n",
    "# Python字典\n",
    "student_dict = {\n",
    "    \"name\": \"Alice\",\n",
    "    \"age\": 21,\n",
    "    \"major\": \"Computer Science\"\n",
    "}\n",
    "\n",
    "# 将字典转换为JSON字符串\n",
    "student_json = json.dumps(student_dict)\n",
    "print(student_json)  # 输出: {\"name\": \"Alice\", \"age\": 21, \"major\": \"Computer Science\"}\n",
    "```\n",
    "\n",
    "**JSON字符串转换为Python字典**\n",
    "\n",
    "```python\n",
    "import json\n",
    "\n",
    "# JSON字符串\n",
    "student_json = '{\"name\": \"Alice\", \"age\": 21, \"major\": \"Computer Science\"}'\n",
    "\n",
    "# 将JSON字符串转换为Python字典\n",
    "student_dict = json.loads(student_json)\n",
    "print(student_dict)  # 输出: {'name': 'Alice', 'age': 21, 'major': 'Computer Science'}\n",
    "```\n",
    "\n",
    "通过这些例子可以看出，Python的字典和JSON数据结构虽然有一些差异，但它们之间可以通过标准库的`json`模块进行方便的互相转换，从而实现数据在不同系统和平台之间的传递和使用。\n",
    "\n",
    "</details>"
   ]
  },
  {
   "cell_type": "markdown",
   "metadata": {},
   "source": [
    "简单来说，json是一个字符串类型地格式，和Python的dictionary可以有很良好的（一句代码就能实现的）转换\n",
    "\n",
    "因为类似ChatGPT的大语言模型天然对json数据格式有很好的输入输出。\n",
    "\n",
    "我们建议同学们更多地去掌握json数据结构，以及对应的在Python中使用字典作为主要的数据传输结构"
   ]
  },
  {
   "cell_type": "markdown",
   "metadata": {},
   "source": [
    "## 对Excel数据进行可视化\n",
    "\n",
    "在data/名单.xls 我们放置了一个excel文件\n",
    "\n",
    "是我在网上随便找的某年某省信息学奥赛入围名单\n",
    "\n",
    "让我们来做一个简单的任务，我们看看哪个学校入围的学生最多呢？\n",
    "\n",
    "```\n",
    "data/名单.xlsx\n",
    "\n",
    "第一行是各列的标题行\n",
    "\n",
    "请帮我实现一段代码，用pandas读取这个表格（所有列都进行读取）\n",
    "\n",
    "并统计各个学校入围的人数\n",
    "```\n"
   ]
  },
  {
   "cell_type": "code",
   "execution_count": 9,
   "metadata": {},
   "outputs": [
    {
     "name": "stdout",
     "output_type": "stream",
     "text": [
      "   编号 姓  名   性别  年级   组别    初赛   学    校     辅导老师      语言\n",
      "0   1  陈濠华  NaN  高一   提高  21.0     新余一中      郑剑英  PASCAL\n",
      "1   2  陈嘉胜    男  高二  提高组  48.0  九江市第一中学     龚  禹  PASCAL\n",
      "2   3  陈凌翔    男  高三   提高  71.0  江西省赣州中学      周亿生  PASCAL\n",
      "3   4  陈斋弈    男  高三   提高  54.5  安远县第一中学  唐信群、唐金英  PASCAL\n",
      "4   5  奉琳竣    男  高二   提高   NaN     萍乡中学      文洲萍  PASCAL\n"
     ]
    },
    {
     "ename": "KeyError",
     "evalue": "'学校'",
     "output_type": "error",
     "traceback": [
      "\u001b[1;31m---------------------------------------------------------------------------\u001b[0m",
      "\u001b[1;31mKeyError\u001b[0m                                  Traceback (most recent call last)",
      "\u001b[1;32mc:\\Program Files\\Python38\\lib\\site-packages\\pandas\\core\\indexes\\base.py\u001b[0m in \u001b[0;36mget_loc\u001b[1;34m(self, key)\u001b[0m\n\u001b[0;32m   3652\u001b[0m         \u001b[1;32mtry\u001b[0m\u001b[1;33m:\u001b[0m\u001b[1;33m\u001b[0m\u001b[1;33m\u001b[0m\u001b[0m\n\u001b[1;32m-> 3653\u001b[1;33m             \u001b[1;32mreturn\u001b[0m \u001b[0mself\u001b[0m\u001b[1;33m.\u001b[0m\u001b[0m_engine\u001b[0m\u001b[1;33m.\u001b[0m\u001b[0mget_loc\u001b[0m\u001b[1;33m(\u001b[0m\u001b[0mcasted_key\u001b[0m\u001b[1;33m)\u001b[0m\u001b[1;33m\u001b[0m\u001b[1;33m\u001b[0m\u001b[0m\n\u001b[0m\u001b[0;32m   3654\u001b[0m         \u001b[1;32mexcept\u001b[0m \u001b[0mKeyError\u001b[0m \u001b[1;32mas\u001b[0m \u001b[0merr\u001b[0m\u001b[1;33m:\u001b[0m\u001b[1;33m\u001b[0m\u001b[1;33m\u001b[0m\u001b[0m\n",
      "\u001b[1;32mc:\\Program Files\\Python38\\lib\\site-packages\\pandas\\_libs\\index.pyx\u001b[0m in \u001b[0;36mpandas._libs.index.IndexEngine.get_loc\u001b[1;34m()\u001b[0m\n",
      "\u001b[1;32mc:\\Program Files\\Python38\\lib\\site-packages\\pandas\\_libs\\index.pyx\u001b[0m in \u001b[0;36mpandas._libs.index.IndexEngine.get_loc\u001b[1;34m()\u001b[0m\n",
      "\u001b[1;32mpandas\\_libs\\hashtable_class_helper.pxi\u001b[0m in \u001b[0;36mpandas._libs.hashtable.PyObjectHashTable.get_item\u001b[1;34m()\u001b[0m\n",
      "\u001b[1;32mpandas\\_libs\\hashtable_class_helper.pxi\u001b[0m in \u001b[0;36mpandas._libs.hashtable.PyObjectHashTable.get_item\u001b[1;34m()\u001b[0m\n",
      "\u001b[1;31mKeyError\u001b[0m: '学校'",
      "\nThe above exception was the direct cause of the following exception:\n",
      "\u001b[1;31mKeyError\u001b[0m                                  Traceback (most recent call last)",
      "\u001b[1;32m~\\AppData\\Local\\Temp/ipykernel_25088/797383029.py\u001b[0m in \u001b[0;36m<module>\u001b[1;34m\u001b[0m\n\u001b[0;32m      9\u001b[0m \u001b[1;33m\u001b[0m\u001b[0m\n\u001b[0;32m     10\u001b[0m \u001b[1;31m# 统计各个学校入围的人数\u001b[0m\u001b[1;33m\u001b[0m\u001b[1;33m\u001b[0m\u001b[1;33m\u001b[0m\u001b[0m\n\u001b[1;32m---> 11\u001b[1;33m \u001b[0mschool_counts\u001b[0m \u001b[1;33m=\u001b[0m \u001b[0mdf\u001b[0m\u001b[1;33m[\u001b[0m\u001b[1;34m'学校'\u001b[0m\u001b[1;33m]\u001b[0m\u001b[1;33m.\u001b[0m\u001b[0mvalue_counts\u001b[0m\u001b[1;33m(\u001b[0m\u001b[1;33m)\u001b[0m\u001b[1;33m\u001b[0m\u001b[1;33m\u001b[0m\u001b[0m\n\u001b[0m\u001b[0;32m     12\u001b[0m \u001b[1;33m\u001b[0m\u001b[0m\n\u001b[0;32m     13\u001b[0m \u001b[1;31m# 显示统计结果\u001b[0m\u001b[1;33m\u001b[0m\u001b[1;33m\u001b[0m\u001b[1;33m\u001b[0m\u001b[0m\n",
      "\u001b[1;32mc:\\Program Files\\Python38\\lib\\site-packages\\pandas\\core\\frame.py\u001b[0m in \u001b[0;36m__getitem__\u001b[1;34m(self, key)\u001b[0m\n\u001b[0;32m   3759\u001b[0m             \u001b[1;32mif\u001b[0m \u001b[0mself\u001b[0m\u001b[1;33m.\u001b[0m\u001b[0mcolumns\u001b[0m\u001b[1;33m.\u001b[0m\u001b[0mnlevels\u001b[0m \u001b[1;33m>\u001b[0m \u001b[1;36m1\u001b[0m\u001b[1;33m:\u001b[0m\u001b[1;33m\u001b[0m\u001b[1;33m\u001b[0m\u001b[0m\n\u001b[0;32m   3760\u001b[0m                 \u001b[1;32mreturn\u001b[0m \u001b[0mself\u001b[0m\u001b[1;33m.\u001b[0m\u001b[0m_getitem_multilevel\u001b[0m\u001b[1;33m(\u001b[0m\u001b[0mkey\u001b[0m\u001b[1;33m)\u001b[0m\u001b[1;33m\u001b[0m\u001b[1;33m\u001b[0m\u001b[0m\n\u001b[1;32m-> 3761\u001b[1;33m             \u001b[0mindexer\u001b[0m \u001b[1;33m=\u001b[0m \u001b[0mself\u001b[0m\u001b[1;33m.\u001b[0m\u001b[0mcolumns\u001b[0m\u001b[1;33m.\u001b[0m\u001b[0mget_loc\u001b[0m\u001b[1;33m(\u001b[0m\u001b[0mkey\u001b[0m\u001b[1;33m)\u001b[0m\u001b[1;33m\u001b[0m\u001b[1;33m\u001b[0m\u001b[0m\n\u001b[0m\u001b[0;32m   3762\u001b[0m             \u001b[1;32mif\u001b[0m \u001b[0mis_integer\u001b[0m\u001b[1;33m(\u001b[0m\u001b[0mindexer\u001b[0m\u001b[1;33m)\u001b[0m\u001b[1;33m:\u001b[0m\u001b[1;33m\u001b[0m\u001b[1;33m\u001b[0m\u001b[0m\n\u001b[0;32m   3763\u001b[0m                 \u001b[0mindexer\u001b[0m \u001b[1;33m=\u001b[0m \u001b[1;33m[\u001b[0m\u001b[0mindexer\u001b[0m\u001b[1;33m]\u001b[0m\u001b[1;33m\u001b[0m\u001b[1;33m\u001b[0m\u001b[0m\n",
      "\u001b[1;32mc:\\Program Files\\Python38\\lib\\site-packages\\pandas\\core\\indexes\\base.py\u001b[0m in \u001b[0;36mget_loc\u001b[1;34m(self, key)\u001b[0m\n\u001b[0;32m   3653\u001b[0m             \u001b[1;32mreturn\u001b[0m \u001b[0mself\u001b[0m\u001b[1;33m.\u001b[0m\u001b[0m_engine\u001b[0m\u001b[1;33m.\u001b[0m\u001b[0mget_loc\u001b[0m\u001b[1;33m(\u001b[0m\u001b[0mcasted_key\u001b[0m\u001b[1;33m)\u001b[0m\u001b[1;33m\u001b[0m\u001b[1;33m\u001b[0m\u001b[0m\n\u001b[0;32m   3654\u001b[0m         \u001b[1;32mexcept\u001b[0m \u001b[0mKeyError\u001b[0m \u001b[1;32mas\u001b[0m \u001b[0merr\u001b[0m\u001b[1;33m:\u001b[0m\u001b[1;33m\u001b[0m\u001b[1;33m\u001b[0m\u001b[0m\n\u001b[1;32m-> 3655\u001b[1;33m             \u001b[1;32mraise\u001b[0m \u001b[0mKeyError\u001b[0m\u001b[1;33m(\u001b[0m\u001b[0mkey\u001b[0m\u001b[1;33m)\u001b[0m \u001b[1;32mfrom\u001b[0m \u001b[0merr\u001b[0m\u001b[1;33m\u001b[0m\u001b[1;33m\u001b[0m\u001b[0m\n\u001b[0m\u001b[0;32m   3656\u001b[0m         \u001b[1;32mexcept\u001b[0m \u001b[0mTypeError\u001b[0m\u001b[1;33m:\u001b[0m\u001b[1;33m\u001b[0m\u001b[1;33m\u001b[0m\u001b[0m\n\u001b[0;32m   3657\u001b[0m             \u001b[1;31m# If we have a listlike key, _check_indexing_error will raise\u001b[0m\u001b[1;33m\u001b[0m\u001b[1;33m\u001b[0m\u001b[1;33m\u001b[0m\u001b[0m\n",
      "\u001b[1;31mKeyError\u001b[0m: '学校'"
     ]
    }
   ],
   "source": [
    "import pandas as pd\n",
    "\n",
    "# 读取 Excel 文件\n",
    "file_path = 'data/名单.xlsx'\n",
    "df = pd.read_excel(file_path)\n",
    "\n",
    "# 显示读取的表格内容（可选）\n",
    "print(df.head())\n",
    "\n",
    "# 统计各个学校入围的人数\n",
    "school_counts = df['学校'].value_counts()\n",
    "\n",
    "# 显示统计结果\n",
    "print(school_counts)\n"
   ]
  },
  {
   "cell_type": "markdown",
   "metadata": {},
   "source": [
    "这里我们发现居然报错了，找不到 学校这个列\n",
    "\n",
    "这是为什么呢，实际上这个列被打成了 “学    校”\n",
    "\n",
    "那么我们可以继续让ChatGPT帮忙修改代码\n",
    "\n",
    "\n",
    "```\n",
    "我发现表格里的列名被误写成了 “学    校”\n",
    "\n",
    "为我修改代码，在读取表格的时候，去掉所有列名里面的空格\n",
    "```"
   ]
  },
  {
   "cell_type": "code",
   "execution_count": 11,
   "metadata": {},
   "outputs": [
    {
     "name": "stdout",
     "output_type": "stream",
     "text": [
      "   编号   姓名   性别  年级   组别    初赛       学校     辅导老师      语言\n",
      "0   1  陈濠华  NaN  高一   提高  21.0     新余一中      郑剑英  PASCAL\n",
      "1   2  陈嘉胜    男  高二  提高组  48.0  九江市第一中学     龚  禹  PASCAL\n",
      "2   3  陈凌翔    男  高三   提高  71.0  江西省赣州中学      周亿生  PASCAL\n",
      "3   4  陈斋弈    男  高三   提高  54.5  安远县第一中学  唐信群、唐金英  PASCAL\n",
      "4   5  奉琳竣    男  高二   提高   NaN     萍乡中学      文洲萍  PASCAL\n",
      "学校\n",
      "萍乡中学       15\n",
      "江西省赣州中学    13\n",
      "上饶中学       10\n",
      "赣州三中        8\n",
      "新余一中        7\n",
      "芦溪中学        6\n",
      "九江市同文中学     5\n",
      "安远县第一中学     5\n",
      "江西省高安中学     5\n",
      "新余三中        5\n",
      "九江外国语学校     3\n",
      "九江市第一中学     3\n",
      "新钢中学        3\n",
      "九江晨光中学      2\n",
      "新余四中        2\n",
      "赣州市第一中学     2\n",
      "婺源县紫阳中学     2\n",
      "会昌中学        2\n",
      "一中魁星阁校区     1\n",
      "莲花中学        1\n",
      "江西省大余中学     1\n",
      "Name: count, dtype: int64\n"
     ]
    }
   ],
   "source": [
    "import pandas as pd\n",
    "\n",
    "# 读取 Excel 文件并去除列名中的空格\n",
    "file_path = 'data/名单.xlsx'\n",
    "df = pd.read_excel(file_path)\n",
    "df.columns = df.columns.str.replace(' ', '')\n",
    "\n",
    "# 显示读取的表格内容（可选）\n",
    "print(df.head())\n",
    "\n",
    "# 统计各个学校入围的人数\n",
    "school_counts = df['学校'].value_counts()\n",
    "\n",
    "# 显示统计结果\n",
    "print(school_counts)\n"
   ]
  },
  {
   "cell_type": "markdown",
   "metadata": {},
   "source": [
    "当然我们还可以进一步可视化\n",
    "\n",
    "```\n",
    "可以进一步帮我给出\n",
    "\n",
    "对人数前20多的学校的进行可视化条形图的代码吗？\n",
    "```"
   ]
  },
  {
   "cell_type": "code",
   "execution_count": 13,
   "metadata": {},
   "outputs": [
    {
     "name": "stderr",
     "output_type": "stream",
     "text": [
      "C:\\Users\\XPS\\AppData\\Local\\Temp/ipykernel_25088/2883547071.py:12: UserWarning: Glyph 33805 (\\N{CJK UNIFIED IDEOGRAPH-840D}) missing from current font.\n",
      "  plt.tight_layout()\n",
      "C:\\Users\\XPS\\AppData\\Local\\Temp/ipykernel_25088/2883547071.py:12: UserWarning: Glyph 20065 (\\N{CJK UNIFIED IDEOGRAPH-4E61}) missing from current font.\n",
      "  plt.tight_layout()\n",
      "C:\\Users\\XPS\\AppData\\Local\\Temp/ipykernel_25088/2883547071.py:12: UserWarning: Glyph 20013 (\\N{CJK UNIFIED IDEOGRAPH-4E2D}) missing from current font.\n",
      "  plt.tight_layout()\n",
      "C:\\Users\\XPS\\AppData\\Local\\Temp/ipykernel_25088/2883547071.py:12: UserWarning: Glyph 23398 (\\N{CJK UNIFIED IDEOGRAPH-5B66}) missing from current font.\n",
      "  plt.tight_layout()\n",
      "C:\\Users\\XPS\\AppData\\Local\\Temp/ipykernel_25088/2883547071.py:12: UserWarning: Glyph 27743 (\\N{CJK UNIFIED IDEOGRAPH-6C5F}) missing from current font.\n",
      "  plt.tight_layout()\n",
      "C:\\Users\\XPS\\AppData\\Local\\Temp/ipykernel_25088/2883547071.py:12: UserWarning: Glyph 35199 (\\N{CJK UNIFIED IDEOGRAPH-897F}) missing from current font.\n",
      "  plt.tight_layout()\n",
      "C:\\Users\\XPS\\AppData\\Local\\Temp/ipykernel_25088/2883547071.py:12: UserWarning: Glyph 30465 (\\N{CJK UNIFIED IDEOGRAPH-7701}) missing from current font.\n",
      "  plt.tight_layout()\n",
      "C:\\Users\\XPS\\AppData\\Local\\Temp/ipykernel_25088/2883547071.py:12: UserWarning: Glyph 36195 (\\N{CJK UNIFIED IDEOGRAPH-8D63}) missing from current font.\n",
      "  plt.tight_layout()\n",
      "C:\\Users\\XPS\\AppData\\Local\\Temp/ipykernel_25088/2883547071.py:12: UserWarning: Glyph 24030 (\\N{CJK UNIFIED IDEOGRAPH-5DDE}) missing from current font.\n",
      "  plt.tight_layout()\n",
      "C:\\Users\\XPS\\AppData\\Local\\Temp/ipykernel_25088/2883547071.py:12: UserWarning: Glyph 19978 (\\N{CJK UNIFIED IDEOGRAPH-4E0A}) missing from current font.\n",
      "  plt.tight_layout()\n",
      "C:\\Users\\XPS\\AppData\\Local\\Temp/ipykernel_25088/2883547071.py:12: UserWarning: Glyph 39286 (\\N{CJK UNIFIED IDEOGRAPH-9976}) missing from current font.\n",
      "  plt.tight_layout()\n",
      "C:\\Users\\XPS\\AppData\\Local\\Temp/ipykernel_25088/2883547071.py:12: UserWarning: Glyph 19977 (\\N{CJK UNIFIED IDEOGRAPH-4E09}) missing from current font.\n",
      "  plt.tight_layout()\n",
      "C:\\Users\\XPS\\AppData\\Local\\Temp/ipykernel_25088/2883547071.py:12: UserWarning: Glyph 26032 (\\N{CJK UNIFIED IDEOGRAPH-65B0}) missing from current font.\n",
      "  plt.tight_layout()\n",
      "C:\\Users\\XPS\\AppData\\Local\\Temp/ipykernel_25088/2883547071.py:12: UserWarning: Glyph 20313 (\\N{CJK UNIFIED IDEOGRAPH-4F59}) missing from current font.\n",
      "  plt.tight_layout()\n",
      "C:\\Users\\XPS\\AppData\\Local\\Temp/ipykernel_25088/2883547071.py:12: UserWarning: Glyph 19968 (\\N{CJK UNIFIED IDEOGRAPH-4E00}) missing from current font.\n",
      "  plt.tight_layout()\n",
      "C:\\Users\\XPS\\AppData\\Local\\Temp/ipykernel_25088/2883547071.py:12: UserWarning: Glyph 33446 (\\N{CJK UNIFIED IDEOGRAPH-82A6}) missing from current font.\n",
      "  plt.tight_layout()\n",
      "C:\\Users\\XPS\\AppData\\Local\\Temp/ipykernel_25088/2883547071.py:12: UserWarning: Glyph 28330 (\\N{CJK UNIFIED IDEOGRAPH-6EAA}) missing from current font.\n",
      "  plt.tight_layout()\n",
      "C:\\Users\\XPS\\AppData\\Local\\Temp/ipykernel_25088/2883547071.py:12: UserWarning: Glyph 20061 (\\N{CJK UNIFIED IDEOGRAPH-4E5D}) missing from current font.\n",
      "  plt.tight_layout()\n",
      "C:\\Users\\XPS\\AppData\\Local\\Temp/ipykernel_25088/2883547071.py:12: UserWarning: Glyph 24066 (\\N{CJK UNIFIED IDEOGRAPH-5E02}) missing from current font.\n",
      "  plt.tight_layout()\n",
      "C:\\Users\\XPS\\AppData\\Local\\Temp/ipykernel_25088/2883547071.py:12: UserWarning: Glyph 21516 (\\N{CJK UNIFIED IDEOGRAPH-540C}) missing from current font.\n",
      "  plt.tight_layout()\n",
      "C:\\Users\\XPS\\AppData\\Local\\Temp/ipykernel_25088/2883547071.py:12: UserWarning: Glyph 25991 (\\N{CJK UNIFIED IDEOGRAPH-6587}) missing from current font.\n",
      "  plt.tight_layout()\n",
      "C:\\Users\\XPS\\AppData\\Local\\Temp/ipykernel_25088/2883547071.py:12: UserWarning: Glyph 23433 (\\N{CJK UNIFIED IDEOGRAPH-5B89}) missing from current font.\n",
      "  plt.tight_layout()\n",
      "C:\\Users\\XPS\\AppData\\Local\\Temp/ipykernel_25088/2883547071.py:12: UserWarning: Glyph 36828 (\\N{CJK UNIFIED IDEOGRAPH-8FDC}) missing from current font.\n",
      "  plt.tight_layout()\n",
      "C:\\Users\\XPS\\AppData\\Local\\Temp/ipykernel_25088/2883547071.py:12: UserWarning: Glyph 21439 (\\N{CJK UNIFIED IDEOGRAPH-53BF}) missing from current font.\n",
      "  plt.tight_layout()\n",
      "C:\\Users\\XPS\\AppData\\Local\\Temp/ipykernel_25088/2883547071.py:12: UserWarning: Glyph 31532 (\\N{CJK UNIFIED IDEOGRAPH-7B2C}) missing from current font.\n",
      "  plt.tight_layout()\n",
      "C:\\Users\\XPS\\AppData\\Local\\Temp/ipykernel_25088/2883547071.py:12: UserWarning: Glyph 39640 (\\N{CJK UNIFIED IDEOGRAPH-9AD8}) missing from current font.\n",
      "  plt.tight_layout()\n",
      "C:\\Users\\XPS\\AppData\\Local\\Temp/ipykernel_25088/2883547071.py:12: UserWarning: Glyph 22806 (\\N{CJK UNIFIED IDEOGRAPH-5916}) missing from current font.\n",
      "  plt.tight_layout()\n",
      "C:\\Users\\XPS\\AppData\\Local\\Temp/ipykernel_25088/2883547071.py:12: UserWarning: Glyph 22269 (\\N{CJK UNIFIED IDEOGRAPH-56FD}) missing from current font.\n",
      "  plt.tight_layout()\n",
      "C:\\Users\\XPS\\AppData\\Local\\Temp/ipykernel_25088/2883547071.py:12: UserWarning: Glyph 35821 (\\N{CJK UNIFIED IDEOGRAPH-8BED}) missing from current font.\n",
      "  plt.tight_layout()\n",
      "C:\\Users\\XPS\\AppData\\Local\\Temp/ipykernel_25088/2883547071.py:12: UserWarning: Glyph 26657 (\\N{CJK UNIFIED IDEOGRAPH-6821}) missing from current font.\n",
      "  plt.tight_layout()\n",
      "C:\\Users\\XPS\\AppData\\Local\\Temp/ipykernel_25088/2883547071.py:12: UserWarning: Glyph 38050 (\\N{CJK UNIFIED IDEOGRAPH-94A2}) missing from current font.\n",
      "  plt.tight_layout()\n",
      "C:\\Users\\XPS\\AppData\\Local\\Temp/ipykernel_25088/2883547071.py:12: UserWarning: Glyph 26216 (\\N{CJK UNIFIED IDEOGRAPH-6668}) missing from current font.\n",
      "  plt.tight_layout()\n",
      "C:\\Users\\XPS\\AppData\\Local\\Temp/ipykernel_25088/2883547071.py:12: UserWarning: Glyph 20809 (\\N{CJK UNIFIED IDEOGRAPH-5149}) missing from current font.\n",
      "  plt.tight_layout()\n",
      "C:\\Users\\XPS\\AppData\\Local\\Temp/ipykernel_25088/2883547071.py:12: UserWarning: Glyph 22235 (\\N{CJK UNIFIED IDEOGRAPH-56DB}) missing from current font.\n",
      "  plt.tight_layout()\n",
      "C:\\Users\\XPS\\AppData\\Local\\Temp/ipykernel_25088/2883547071.py:12: UserWarning: Glyph 23162 (\\N{CJK UNIFIED IDEOGRAPH-5A7A}) missing from current font.\n",
      "  plt.tight_layout()\n",
      "C:\\Users\\XPS\\AppData\\Local\\Temp/ipykernel_25088/2883547071.py:12: UserWarning: Glyph 28304 (\\N{CJK UNIFIED IDEOGRAPH-6E90}) missing from current font.\n",
      "  plt.tight_layout()\n",
      "C:\\Users\\XPS\\AppData\\Local\\Temp/ipykernel_25088/2883547071.py:12: UserWarning: Glyph 32043 (\\N{CJK UNIFIED IDEOGRAPH-7D2B}) missing from current font.\n",
      "  plt.tight_layout()\n",
      "C:\\Users\\XPS\\AppData\\Local\\Temp/ipykernel_25088/2883547071.py:12: UserWarning: Glyph 38451 (\\N{CJK UNIFIED IDEOGRAPH-9633}) missing from current font.\n",
      "  plt.tight_layout()\n",
      "C:\\Users\\XPS\\AppData\\Local\\Temp/ipykernel_25088/2883547071.py:12: UserWarning: Glyph 20250 (\\N{CJK UNIFIED IDEOGRAPH-4F1A}) missing from current font.\n",
      "  plt.tight_layout()\n",
      "C:\\Users\\XPS\\AppData\\Local\\Temp/ipykernel_25088/2883547071.py:12: UserWarning: Glyph 26124 (\\N{CJK UNIFIED IDEOGRAPH-660C}) missing from current font.\n",
      "  plt.tight_layout()\n",
      "C:\\Users\\XPS\\AppData\\Local\\Temp/ipykernel_25088/2883547071.py:12: UserWarning: Glyph 39745 (\\N{CJK UNIFIED IDEOGRAPH-9B41}) missing from current font.\n",
      "  plt.tight_layout()\n",
      "C:\\Users\\XPS\\AppData\\Local\\Temp/ipykernel_25088/2883547071.py:12: UserWarning: Glyph 26143 (\\N{CJK UNIFIED IDEOGRAPH-661F}) missing from current font.\n",
      "  plt.tight_layout()\n",
      "C:\\Users\\XPS\\AppData\\Local\\Temp/ipykernel_25088/2883547071.py:12: UserWarning: Glyph 38401 (\\N{CJK UNIFIED IDEOGRAPH-9601}) missing from current font.\n",
      "  plt.tight_layout()\n",
      "C:\\Users\\XPS\\AppData\\Local\\Temp/ipykernel_25088/2883547071.py:12: UserWarning: Glyph 21306 (\\N{CJK UNIFIED IDEOGRAPH-533A}) missing from current font.\n",
      "  plt.tight_layout()\n",
      "C:\\Users\\XPS\\AppData\\Local\\Temp/ipykernel_25088/2883547071.py:12: UserWarning: Glyph 33714 (\\N{CJK UNIFIED IDEOGRAPH-83B2}) missing from current font.\n",
      "  plt.tight_layout()\n",
      "C:\\Users\\XPS\\AppData\\Local\\Temp/ipykernel_25088/2883547071.py:12: UserWarning: Glyph 33457 (\\N{CJK UNIFIED IDEOGRAPH-82B1}) missing from current font.\n",
      "  plt.tight_layout()\n",
      "c:\\Program Files\\Python38\\lib\\site-packages\\IPython\\core\\pylabtools.py:137: UserWarning: Glyph 33805 (\\N{CJK UNIFIED IDEOGRAPH-840D}) missing from current font.\n",
      "  fig.canvas.print_figure(bytes_io, **kw)\n",
      "c:\\Program Files\\Python38\\lib\\site-packages\\IPython\\core\\pylabtools.py:137: UserWarning: Glyph 20065 (\\N{CJK UNIFIED IDEOGRAPH-4E61}) missing from current font.\n",
      "  fig.canvas.print_figure(bytes_io, **kw)\n",
      "c:\\Program Files\\Python38\\lib\\site-packages\\IPython\\core\\pylabtools.py:137: UserWarning: Glyph 20013 (\\N{CJK UNIFIED IDEOGRAPH-4E2D}) missing from current font.\n",
      "  fig.canvas.print_figure(bytes_io, **kw)\n",
      "c:\\Program Files\\Python38\\lib\\site-packages\\IPython\\core\\pylabtools.py:137: UserWarning: Glyph 23398 (\\N{CJK UNIFIED IDEOGRAPH-5B66}) missing from current font.\n",
      "  fig.canvas.print_figure(bytes_io, **kw)\n",
      "c:\\Program Files\\Python38\\lib\\site-packages\\IPython\\core\\pylabtools.py:137: UserWarning: Glyph 27743 (\\N{CJK UNIFIED IDEOGRAPH-6C5F}) missing from current font.\n",
      "  fig.canvas.print_figure(bytes_io, **kw)\n",
      "c:\\Program Files\\Python38\\lib\\site-packages\\IPython\\core\\pylabtools.py:137: UserWarning: Glyph 35199 (\\N{CJK UNIFIED IDEOGRAPH-897F}) missing from current font.\n",
      "  fig.canvas.print_figure(bytes_io, **kw)\n",
      "c:\\Program Files\\Python38\\lib\\site-packages\\IPython\\core\\pylabtools.py:137: UserWarning: Glyph 30465 (\\N{CJK UNIFIED IDEOGRAPH-7701}) missing from current font.\n",
      "  fig.canvas.print_figure(bytes_io, **kw)\n",
      "c:\\Program Files\\Python38\\lib\\site-packages\\IPython\\core\\pylabtools.py:137: UserWarning: Glyph 36195 (\\N{CJK UNIFIED IDEOGRAPH-8D63}) missing from current font.\n",
      "  fig.canvas.print_figure(bytes_io, **kw)\n",
      "c:\\Program Files\\Python38\\lib\\site-packages\\IPython\\core\\pylabtools.py:137: UserWarning: Glyph 24030 (\\N{CJK UNIFIED IDEOGRAPH-5DDE}) missing from current font.\n",
      "  fig.canvas.print_figure(bytes_io, **kw)\n",
      "c:\\Program Files\\Python38\\lib\\site-packages\\IPython\\core\\pylabtools.py:137: UserWarning: Glyph 19978 (\\N{CJK UNIFIED IDEOGRAPH-4E0A}) missing from current font.\n",
      "  fig.canvas.print_figure(bytes_io, **kw)\n",
      "c:\\Program Files\\Python38\\lib\\site-packages\\IPython\\core\\pylabtools.py:137: UserWarning: Glyph 39286 (\\N{CJK UNIFIED IDEOGRAPH-9976}) missing from current font.\n",
      "  fig.canvas.print_figure(bytes_io, **kw)\n",
      "c:\\Program Files\\Python38\\lib\\site-packages\\IPython\\core\\pylabtools.py:137: UserWarning: Glyph 19977 (\\N{CJK UNIFIED IDEOGRAPH-4E09}) missing from current font.\n",
      "  fig.canvas.print_figure(bytes_io, **kw)\n",
      "c:\\Program Files\\Python38\\lib\\site-packages\\IPython\\core\\pylabtools.py:137: UserWarning: Glyph 26032 (\\N{CJK UNIFIED IDEOGRAPH-65B0}) missing from current font.\n",
      "  fig.canvas.print_figure(bytes_io, **kw)\n",
      "c:\\Program Files\\Python38\\lib\\site-packages\\IPython\\core\\pylabtools.py:137: UserWarning: Glyph 20313 (\\N{CJK UNIFIED IDEOGRAPH-4F59}) missing from current font.\n",
      "  fig.canvas.print_figure(bytes_io, **kw)\n",
      "c:\\Program Files\\Python38\\lib\\site-packages\\IPython\\core\\pylabtools.py:137: UserWarning: Glyph 19968 (\\N{CJK UNIFIED IDEOGRAPH-4E00}) missing from current font.\n",
      "  fig.canvas.print_figure(bytes_io, **kw)\n",
      "c:\\Program Files\\Python38\\lib\\site-packages\\IPython\\core\\pylabtools.py:137: UserWarning: Glyph 33446 (\\N{CJK UNIFIED IDEOGRAPH-82A6}) missing from current font.\n",
      "  fig.canvas.print_figure(bytes_io, **kw)\n",
      "c:\\Program Files\\Python38\\lib\\site-packages\\IPython\\core\\pylabtools.py:137: UserWarning: Glyph 28330 (\\N{CJK UNIFIED IDEOGRAPH-6EAA}) missing from current font.\n",
      "  fig.canvas.print_figure(bytes_io, **kw)\n",
      "c:\\Program Files\\Python38\\lib\\site-packages\\IPython\\core\\pylabtools.py:137: UserWarning: Glyph 20061 (\\N{CJK UNIFIED IDEOGRAPH-4E5D}) missing from current font.\n",
      "  fig.canvas.print_figure(bytes_io, **kw)\n",
      "c:\\Program Files\\Python38\\lib\\site-packages\\IPython\\core\\pylabtools.py:137: UserWarning: Glyph 24066 (\\N{CJK UNIFIED IDEOGRAPH-5E02}) missing from current font.\n",
      "  fig.canvas.print_figure(bytes_io, **kw)\n",
      "c:\\Program Files\\Python38\\lib\\site-packages\\IPython\\core\\pylabtools.py:137: UserWarning: Glyph 21516 (\\N{CJK UNIFIED IDEOGRAPH-540C}) missing from current font.\n",
      "  fig.canvas.print_figure(bytes_io, **kw)\n",
      "c:\\Program Files\\Python38\\lib\\site-packages\\IPython\\core\\pylabtools.py:137: UserWarning: Glyph 25991 (\\N{CJK UNIFIED IDEOGRAPH-6587}) missing from current font.\n",
      "  fig.canvas.print_figure(bytes_io, **kw)\n",
      "c:\\Program Files\\Python38\\lib\\site-packages\\IPython\\core\\pylabtools.py:137: UserWarning: Glyph 23433 (\\N{CJK UNIFIED IDEOGRAPH-5B89}) missing from current font.\n",
      "  fig.canvas.print_figure(bytes_io, **kw)\n",
      "c:\\Program Files\\Python38\\lib\\site-packages\\IPython\\core\\pylabtools.py:137: UserWarning: Glyph 36828 (\\N{CJK UNIFIED IDEOGRAPH-8FDC}) missing from current font.\n",
      "  fig.canvas.print_figure(bytes_io, **kw)\n",
      "c:\\Program Files\\Python38\\lib\\site-packages\\IPython\\core\\pylabtools.py:137: UserWarning: Glyph 21439 (\\N{CJK UNIFIED IDEOGRAPH-53BF}) missing from current font.\n",
      "  fig.canvas.print_figure(bytes_io, **kw)\n",
      "c:\\Program Files\\Python38\\lib\\site-packages\\IPython\\core\\pylabtools.py:137: UserWarning: Glyph 31532 (\\N{CJK UNIFIED IDEOGRAPH-7B2C}) missing from current font.\n",
      "  fig.canvas.print_figure(bytes_io, **kw)\n",
      "c:\\Program Files\\Python38\\lib\\site-packages\\IPython\\core\\pylabtools.py:137: UserWarning: Glyph 39640 (\\N{CJK UNIFIED IDEOGRAPH-9AD8}) missing from current font.\n",
      "  fig.canvas.print_figure(bytes_io, **kw)\n",
      "c:\\Program Files\\Python38\\lib\\site-packages\\IPython\\core\\pylabtools.py:137: UserWarning: Glyph 22806 (\\N{CJK UNIFIED IDEOGRAPH-5916}) missing from current font.\n",
      "  fig.canvas.print_figure(bytes_io, **kw)\n",
      "c:\\Program Files\\Python38\\lib\\site-packages\\IPython\\core\\pylabtools.py:137: UserWarning: Glyph 22269 (\\N{CJK UNIFIED IDEOGRAPH-56FD}) missing from current font.\n",
      "  fig.canvas.print_figure(bytes_io, **kw)\n",
      "c:\\Program Files\\Python38\\lib\\site-packages\\IPython\\core\\pylabtools.py:137: UserWarning: Glyph 35821 (\\N{CJK UNIFIED IDEOGRAPH-8BED}) missing from current font.\n",
      "  fig.canvas.print_figure(bytes_io, **kw)\n",
      "c:\\Program Files\\Python38\\lib\\site-packages\\IPython\\core\\pylabtools.py:137: UserWarning: Glyph 26657 (\\N{CJK UNIFIED IDEOGRAPH-6821}) missing from current font.\n",
      "  fig.canvas.print_figure(bytes_io, **kw)\n",
      "c:\\Program Files\\Python38\\lib\\site-packages\\IPython\\core\\pylabtools.py:137: UserWarning: Glyph 38050 (\\N{CJK UNIFIED IDEOGRAPH-94A2}) missing from current font.\n",
      "  fig.canvas.print_figure(bytes_io, **kw)\n",
      "c:\\Program Files\\Python38\\lib\\site-packages\\IPython\\core\\pylabtools.py:137: UserWarning: Glyph 26216 (\\N{CJK UNIFIED IDEOGRAPH-6668}) missing from current font.\n",
      "  fig.canvas.print_figure(bytes_io, **kw)\n",
      "c:\\Program Files\\Python38\\lib\\site-packages\\IPython\\core\\pylabtools.py:137: UserWarning: Glyph 20809 (\\N{CJK UNIFIED IDEOGRAPH-5149}) missing from current font.\n",
      "  fig.canvas.print_figure(bytes_io, **kw)\n",
      "c:\\Program Files\\Python38\\lib\\site-packages\\IPython\\core\\pylabtools.py:137: UserWarning: Glyph 22235 (\\N{CJK UNIFIED IDEOGRAPH-56DB}) missing from current font.\n",
      "  fig.canvas.print_figure(bytes_io, **kw)\n",
      "c:\\Program Files\\Python38\\lib\\site-packages\\IPython\\core\\pylabtools.py:137: UserWarning: Glyph 23162 (\\N{CJK UNIFIED IDEOGRAPH-5A7A}) missing from current font.\n",
      "  fig.canvas.print_figure(bytes_io, **kw)\n",
      "c:\\Program Files\\Python38\\lib\\site-packages\\IPython\\core\\pylabtools.py:137: UserWarning: Glyph 28304 (\\N{CJK UNIFIED IDEOGRAPH-6E90}) missing from current font.\n",
      "  fig.canvas.print_figure(bytes_io, **kw)\n",
      "c:\\Program Files\\Python38\\lib\\site-packages\\IPython\\core\\pylabtools.py:137: UserWarning: Glyph 32043 (\\N{CJK UNIFIED IDEOGRAPH-7D2B}) missing from current font.\n",
      "  fig.canvas.print_figure(bytes_io, **kw)\n",
      "c:\\Program Files\\Python38\\lib\\site-packages\\IPython\\core\\pylabtools.py:137: UserWarning: Glyph 38451 (\\N{CJK UNIFIED IDEOGRAPH-9633}) missing from current font.\n",
      "  fig.canvas.print_figure(bytes_io, **kw)\n",
      "c:\\Program Files\\Python38\\lib\\site-packages\\IPython\\core\\pylabtools.py:137: UserWarning: Glyph 20250 (\\N{CJK UNIFIED IDEOGRAPH-4F1A}) missing from current font.\n",
      "  fig.canvas.print_figure(bytes_io, **kw)\n",
      "c:\\Program Files\\Python38\\lib\\site-packages\\IPython\\core\\pylabtools.py:137: UserWarning: Glyph 26124 (\\N{CJK UNIFIED IDEOGRAPH-660C}) missing from current font.\n",
      "  fig.canvas.print_figure(bytes_io, **kw)\n",
      "c:\\Program Files\\Python38\\lib\\site-packages\\IPython\\core\\pylabtools.py:137: UserWarning: Glyph 39745 (\\N{CJK UNIFIED IDEOGRAPH-9B41}) missing from current font.\n",
      "  fig.canvas.print_figure(bytes_io, **kw)\n",
      "c:\\Program Files\\Python38\\lib\\site-packages\\IPython\\core\\pylabtools.py:137: UserWarning: Glyph 26143 (\\N{CJK UNIFIED IDEOGRAPH-661F}) missing from current font.\n",
      "  fig.canvas.print_figure(bytes_io, **kw)\n",
      "c:\\Program Files\\Python38\\lib\\site-packages\\IPython\\core\\pylabtools.py:137: UserWarning: Glyph 38401 (\\N{CJK UNIFIED IDEOGRAPH-9601}) missing from current font.\n",
      "  fig.canvas.print_figure(bytes_io, **kw)\n",
      "c:\\Program Files\\Python38\\lib\\site-packages\\IPython\\core\\pylabtools.py:137: UserWarning: Glyph 21306 (\\N{CJK UNIFIED IDEOGRAPH-533A}) missing from current font.\n",
      "  fig.canvas.print_figure(bytes_io, **kw)\n",
      "c:\\Program Files\\Python38\\lib\\site-packages\\IPython\\core\\pylabtools.py:137: UserWarning: Glyph 33714 (\\N{CJK UNIFIED IDEOGRAPH-83B2}) missing from current font.\n",
      "  fig.canvas.print_figure(bytes_io, **kw)\n",
      "c:\\Program Files\\Python38\\lib\\site-packages\\IPython\\core\\pylabtools.py:137: UserWarning: Glyph 33457 (\\N{CJK UNIFIED IDEOGRAPH-82B1}) missing from current font.\n",
      "  fig.canvas.print_figure(bytes_io, **kw)\n"
     ]
    },
    {
     "data": {
      "image/png": "[encoded data removed]",
      "text/plain": [
       "<Figure size 864x576 with 1 Axes>"
      ]
     },
     "metadata": {
      "needs_background": "light"
     },
     "output_type": "display_data"
    }
   ],
   "source": [
    "import matplotlib.pyplot as plt\n",
    "# 取人数前20多的学校\n",
    "top_20_schools = school_counts.head(20)\n",
    "\n",
    "# 创建条形图\n",
    "plt.figure(figsize=(12, 8))\n",
    "top_20_schools.plot(kind='bar')\n",
    "plt.title('Top 20 Schools by Number of Entries')\n",
    "plt.xlabel('School')\n",
    "plt.ylabel('Number of Entries')\n",
    "plt.xticks(rotation=45, ha='right')\n",
    "plt.tight_layout()\n",
    "\n",
    "# 显示图表\n",
    "plt.show()"
   ]
  },
  {
   "cell_type": "markdown",
   "metadata": {},
   "source": [
    "中文字都不见了？？\n",
    "\n",
    "直接问ChatGPT\n",
    "\n",
    "```\n",
    "plt不能显示中文有办法解决吗\n",
    "```\n"
   ]
  },
  {
   "cell_type": "code",
   "execution_count": 14,
   "metadata": {},
   "outputs": [
    {
     "data": {
      "image/png": "[encoded data removed]",
      "text/plain": [
       "<Figure size 864x576 with 1 Axes>"
      ]
     },
     "metadata": {
      "needs_background": "light"
     },
     "output_type": "display_data"
    }
   ],
   "source": [
    "import pandas as pd\n",
    "import matplotlib.pyplot as plt\n",
    "import matplotlib.font_manager as fm\n",
    "\n",
    "\n",
    "\n",
    "# 取人数前20多的学校\n",
    "top_20_schools = school_counts.head(20)\n",
    "\n",
    "# 设置中文字体\n",
    "# 这里使用 SimHei 字体，可以根据自己的系统安装情况选择合适的字体\n",
    "plt.rcParams['font.sans-serif'] = ['SimHei'] \n",
    "plt.rcParams['axes.unicode_minus'] = False\n",
    "\n",
    "# 创建条形图\n",
    "plt.figure(figsize=(12, 8))\n",
    "top_20_schools.plot(kind='bar')\n",
    "plt.title('前20学校入围人数统计')\n",
    "plt.xlabel('学校')\n",
    "plt.ylabel('入围人数')\n",
    "plt.xticks(rotation=45, ha='right')\n",
    "plt.tight_layout()\n",
    "\n",
    "# 显示图表"
   ]
  },
  {
   "cell_type": "markdown",
   "metadata": {},
   "source": [
    "当然我们可以逐行对表格的信息进行打印，使用下面的代码"
   ]
  },
  {
   "cell_type": "code",
   "execution_count": 21,
   "metadata": {},
   "outputs": [
    {
     "name": "stdout",
     "output_type": "stream",
     "text": [
      "姓名 陈濠华 , 行 1: {'编号': 1, '姓名': '陈濠华', '性别': nan, '年级': '高一', '组别': '提高', '初赛': 21.0, '学校': '新余一中', '辅导老师': '郑剑英', '语言': 'PASCAL'}\n",
      "姓名 陈嘉胜 , 行 2: {'编号': 2, '姓名': '陈嘉胜', '性别': '男', '年级': '高二', '组别': '提高组', '初赛': 48.0, '学校': '九江市第一中学', '辅导老师': '龚  禹', '语言': 'PASCAL'}\n",
      "姓名 陈凌翔 , 行 3: {'编号': 3, '姓名': '陈凌翔', '性别': '男', '年级': '高三', '组别': '提高', '初赛': 71.0, '学校': '江西省赣州中学', '辅导老师': '周亿生', '语言': 'PASCAL'}\n",
      "姓名 陈斋弈 , 行 4: {'编号': 4, '姓名': '陈斋弈', '性别': '男', '年级': '高三', '组别': '提高', '初赛': 54.5, '学校': '安远县第一中学', '辅导老师': '唐信群、唐金英', '语言': 'PASCAL'}\n",
      "姓名 奉琳竣 , 行 5: {'编号': 5, '姓名': '奉琳竣', '性别': '男', '年级': '高二', '组别': '提高', '初赛': nan, '学校': '萍乡中学', '辅导老师': '文洲萍', '语言': 'PASCAL'}\n",
      "姓名 顾培炎 , 行 6: {'编号': 6, '姓名': '顾培炎', '性别': '男', '年级': '初二', '组别': '提高组', '初赛': 70.0, '学校': '九江晨光中学', '辅导老师': '龚  禹', '语言': 'PASCAL'}\n",
      "姓名 黄佃宽 , 行 7: {'编号': 7, '姓名': '黄佃宽', '性别': '男', '年级': '高三', '组别': '提高', '初赛': nan, '学校': '萍乡中学', '辅导老师': '文洲萍', '语言': 'PASCAL'}\n",
      "姓名 何浩玮 , 行 8: {'编号': 8, '姓名': '何浩玮', '性别': '男', '年级': '高一', '组别': '提高组', '初赛': 71.0, '学校': '九江市同文中学', '辅导老师': '任  重', '语言': 'PASCAL'}\n",
      "姓名 何文禺 , 行 9: {'编号': 9, '姓名': '何文禺', '性别': '男', '年级': '高一', '组别': '提高', '初赛': nan, '学校': '萍乡中学', '辅导老师': '文洲萍', '语言': 'PASCAL'}\n",
      "姓名 洪泽昆 , 行 10: {'编号': 10, '姓名': '洪泽昆', '性别': nan, '年级': '高二', '组别': '提高', '初赛': 35.5, '学校': '新余四中', '辅导老师': '袁爱梅', '语言': 'C'}\n"
     ]
    }
   ],
   "source": [
    "import pandas as pd\n",
    "\n",
    "# 读取 Excel 文件并去除列名中的空格\n",
    "file_path = 'data/名单.xlsx'\n",
    "df = pd.read_excel(file_path)\n",
    "df.columns = df.columns.str.replace(' ', '')\n",
    "\n",
    "count = 0\n",
    "\n",
    "# 逐行打印表格中的信息\n",
    "for index, row in df.iterrows():\n",
    "    name = row[\"姓名\"]\n",
    "    print(f\"姓名 {name} , 行 {index + 1}: {row.to_dict()}\")\n",
    "    count += 1\n",
    "    if count >= 10:  # 打印前10行\n",
    "        break\n"
   ]
  },
  {
   "cell_type": "markdown",
   "metadata": {},
   "source": [
    "这里可以看到，pandas中的每个row，就好像一个字典一样，可以直接通过row[{key_name}]的方式进行访问\n",
    "\n",
    "当然这里的row并不是完全等价于一个dict（而是有更多的功能设计），把.to_dict() 去掉，直接打印row，看看有什么不同"
   ]
  },
  {
   "cell_type": "markdown",
   "metadata": {},
   "source": [
    "# 总结\n",
    "\n",
    "这节课是一个过渡课程，因为我们之后想进一步用ChatGPT帮助我们写出更复杂的程序，有一大重要的前提是我们可以向ChatGPT描述清楚输入和输出的数据结构。所以这个时候，去而学习字典、列表、元组、集合等数据结构，就显得尤为重要了。\n",
    "\n",
    "同时作为实践，我们还尝试了一下对Excel数据进行可视化。你也可以找到更多其他数据，来做出更复杂的可视化来试试看。"
   ]
  },
  {
   "cell_type": "code",
   "execution_count": null,
   "metadata": {},
   "outputs": [],
   "source": []
  },
  {
   "cell_type": "markdown",
   "metadata": {},
   "source": [
    "在data/李白.txt存储了形如\n",
    "\n",
    "```\n",
    "鼓吹曲辞 上之回::李白::三十六离宫，楼台与天通。阁道步行月，美人愁烟空。恩疏宠不及，桃李伤春风。淫乐意何极，金舆向回中。万乘出黄道，千旗扬彩虹。前军细柳北，后骑甘泉东。岂问渭川老，宁邀襄野童。秋暮瑶池宴，归来乐未穷。\n",
    "鼓吹曲辞 战城南::李白::去年战桑干源，今年战葱河道。洗兵条支海上波，放马天山雪中草。万里长征战，三军尽衰老。匈奴以杀戮为耕作，古来唯见白骨黄沙田。秦家筑城备胡处，汉家还有烽火然。烽火然不息，征战无已时。野战格鬬死，败马号鸣向天悲。乌鸢啄人肠，衔飞上挂枯树枝。士卒涂草莽，将军空尔为。乃知兵者是凶器，圣人不得已而用之。\n",
    "```\n",
    "\n",
    "读取解析这个txt后，建立一个set\n",
    "\n",
    "把每个诗歌的内容去除掉标点符号后的str_no_punc，做一下去重\n",
    "\n",
    "然后把不重复的部分生成一个两列的data/李白.csv ，第一列是诗名，第二列是诗的内容，请帮我写一个python代码实现\n",
    "\n"
   ]
  },
  {
   "cell_type": "code",
   "execution_count": 9,
   "metadata": {},
   "outputs": [],
   "source": [
    "import re\n",
    "import pandas as pd\n",
    "\n",
    "# Function to remove punctuation from a given string\n",
    "def remove_punctuation(text):\n",
    "    return re.sub(r'[^\\w\\s]', '', text)\n",
    "\n",
    "# Function to process the file\n",
    "def process_poetry_file(file_path, output_path):\n",
    "    poems = set()\n",
    "    exsisted = set()\n",
    "    with open(file_path, 'r', encoding='utf-8') as file:\n",
    "        for line in file:\n",
    "            # Split by \"::\" to get the poem title and content\n",
    "            parts = line.split(\"::\")\n",
    "            if len(parts) == 3:\n",
    "                title = parts[0].strip()\n",
    "                content = parts[2].strip()\n",
    "                content = content.replace(\"。。\", \"。\")\n",
    "                \n",
    "                # Remove punctuation from the poem content\n",
    "                content_no_punc = remove_punctuation(content)\n",
    "\n",
    "                if content_no_punc not in exsisted:\n",
    "                    # Add the poem to the set\n",
    "                    exsisted.add(content_no_punc)\n",
    "                else:\n",
    "                    continue\n",
    "                \n",
    "                # Add to the set to ensure uniqueness\n",
    "                poems.add((title, content))\n",
    "    \n",
    "    # Create a DataFrame from the set\n",
    "    df = pd.DataFrame(list(poems), columns=['Title', 'Content'])\n",
    "    \n",
    "    # Save the DataFrame to a CSV file\n",
    "    df.to_csv(output_path, index=False, encoding='utf-8')\n",
    "\n",
    "# File paths\n",
    "input_file_path = 'data/李白.txt'\n",
    "output_file_path = 'data/李白.csv'\n",
    "\n",
    "# Process the file and generate the CSV\n",
    "process_poetry_file(input_file_path, output_file_path)\n"
   ]
  },
  {
   "cell_type": "markdown",
   "metadata": {},
   "source": [
    "data/李白.csv 存储了李白的诗词\n",
    "\n",
    "```\n",
    "Poem Name,Poem Content\n",
    "小桃源,黟县小桃源，烟霞百里间。地多灵草木，人尚古衣冠。市向晡前散，山经夜后寒。\n",
    "乌牙寺,夜宿乌牙寺，举手扪星辰。不取高声语，恐惊天上人。\n",
    "```\n",
    "\n",
    "我希望统计李白诗歌中出现最多的30个字"
   ]
  },
  {
   "cell_type": "code",
   "execution_count": 2,
   "metadata": {},
   "outputs": [],
   "source": [
    "import csv\n",
    "\n",
    "# 初始化一个空列表来存储合并后的数据\n",
    "merged_poems = []\n",
    "\n",
    "# 读取CSV文件\n",
    "with open('data/李白.csv', 'r', encoding='utf-8') as csvfile:\n",
    "    reader = csv.DictReader(csvfile)\n",
    "    for row in reader:\n",
    "        # 合并标题和内容\n",
    "        merged_str = f\"{row['Title']}::{row['Content']}\"\n",
    "        # 将合并后的字符串添加到列表中\n",
    "        merged_poems.append(merged_str)"
   ]
  },
  {
   "cell_type": "markdown",
   "metadata": {},
   "source": [
    "merged_poems是一个list of string，存储着李白的诗歌\n",
    "\n",
    "我想看看李白的诗歌中出现概率最高的三十个字是什么，请用python为我实现"
   ]
  },
  {
   "cell_type": "code",
   "execution_count": 5,
   "metadata": {},
   "outputs": [
    {
     "name": "stdout",
     "output_type": "stream",
     "text": [
      "，: 7915;。: 7758;不: 939;人: 771;天: 692;山: 590;云: 585;风: 559;白: 522;月: 519;君: 513;何: 492;一: 491;水: 481;日: 444;来: 444;相: 427;长: 421;去: 387;无: 383;我: 381;如: 365;为: 364;金: 360;有: 351;此: 350;上: 339;清: 339;中: 331;时: 329;"
     ]
    }
   ],
   "source": [
    "from collections import Counter\n",
    "\n",
    "# 合并所有诗歌内容为一个长字符串\n",
    "all_poems_content = ' '.join(poem.split('::')[1] for poem in merged_poems)\n",
    "\n",
    "# 使用Counter统计每个字出现的次数\n",
    "word_counts = Counter(all_poems_content.replace(' ', ''))  # 移除空格\n",
    "\n",
    "# 获取出现次数最多的30个字\n",
    "top_30_words = word_counts.most_common(30)\n",
    "\n",
    "for word, count in top_30_words:\n",
    "    print(f\"{word}: {count}\", end = \";\")"
   ]
  },
  {
   "cell_type": "code",
   "execution_count": 7,
   "metadata": {},
   "outputs": [
    {
     "data": {
      "text/plain": [
       "['游泰山六首 二',\n",
       " '姑孰十咏 丹阳湖',\n",
       " '寻高凤石门山中元丹丘',\n",
       " '翰林读书言怀呈集贤诸学士',\n",
       " '相和歌辞 胡无人行',\n",
       " '蜀道难',\n",
       " '桂殿秋 二',\n",
       " '送岑征君归鸣皋山',\n",
       " '驾去温泉后赠杨山人',\n",
       " '独坐敬亭山',\n",
       " '相和歌辞 白头吟二首 一',\n",
       " '与夏十二登岳阳楼',\n",
       " '送范山人归泰山',\n",
       " '陪族叔刑部侍郎晔及中书贾舍人至游洞庭五首 五',\n",
       " '同族侄评事黯游昌禅师山池二首 一',\n",
       " '独酌',\n",
       " '胡无人',\n",
       " '以诗代书荅元丹丘',\n",
       " '横吹曲辞 关山月',\n",
       " '赠从弟宣州长史昭',\n",
       " '酬张司马赠墨',\n",
       " '白头吟',\n",
       " '闺情',\n",
       " '登敬亭北二小山余时送客逢崔侍御并登此地',\n",
       " '梁园吟',\n",
       " '杂歌谣辞 箜篌谣',\n",
       " '远别离',\n",
       " '相和歌辞 上云乐',\n",
       " '赠卢司户',\n",
       " '庐山谣寄卢侍御虚舟',\n",
       " '草创大还赠柳官迪',\n",
       " '相和歌辞 蜀道难',\n",
       " '广陵赠别',\n",
       " '经乱离后天恩流夜郎忆旧游书怀赠江夏韦太守良宰',\n",
       " '游泰山六首 六',\n",
       " '下途归石门旧居',\n",
       " '南都行',\n",
       " '日夕山中忽然有怀',\n",
       " '留别金陵诸公',\n",
       " '登峨眉山',\n",
       " '金陵江上遇蓬池隐者',\n",
       " '杂曲歌辞 远别离',\n",
       " '赠黄山胡公求白鹇',\n",
       " '飞龙引二首 二',\n",
       " '在水军宴赠幕府诸侍御',\n",
       " '相和歌辞 公无渡河',\n",
       " '琴曲歌辞 飞龙引二首 二',\n",
       " '赠裴司马',\n",
       " '早发白帝城',\n",
       " '登太白峰',\n",
       " '豫章行',\n",
       " '送族弟凝至晏堌',\n",
       " '杂诗',\n",
       " '留别西河刘少府',\n",
       " '与南陵常赞府游五松山',\n",
       " '杂曲歌辞 宫中行乐词 四',\n",
       " '商山四皓',\n",
       " '相和歌辞  豫章行',\n",
       " '箜篌谣',\n",
       " '宣州九日闻崔四侍御与宇文太守游敬亭余时登响山不同此赏醉后寄崔侍御二首 一',\n",
       " '望庐山瀑布水二首 一',\n",
       " '赠何七判官昌浩',\n",
       " '读诸葛武侯传书怀赠长安崔少府叔封昆季',\n",
       " '侍从宜春苑奉诏赋龙池柳色初青听新莺百啭歌',\n",
       " '杂曲歌辞 鸣雁行',\n",
       " '醉后赠从甥高镇',\n",
       " '相和歌辞 门有车马客行',\n",
       " '邺中赠王大',\n",
       " '游泰山六首 三',\n",
       " '寄弄月溪吴山人',\n",
       " '叙旧赠江阳宰陆调',\n",
       " '赠宣城宇文太守兼呈崔侍御',\n",
       " '春日独酌二首 二',\n",
       " '宫中行乐词八首 四',\n",
       " '从军行',\n",
       " '送张遥之寿阳幕府',\n",
       " '宣州谢朓楼饯别校书叔云',\n",
       " '鸣雁行',\n",
       " '姑孰十咏 牛渚矶',\n",
       " '淮南卧病书怀寄蜀中赵征君蕤',\n",
       " '月下独酌四首 一',\n",
       " '古风 十二',\n",
       " '小桃源',\n",
       " '赠饶阳张司户燧',\n",
       " '古风 三十',\n",
       " '西施',\n",
       " '上清宝鼎诗二首 一',\n",
       " '别鲁颂',\n",
       " '送族弟单父主簿凝摄宋城主簿至郭南月桥却回栖霞山留饮赠之',\n",
       " '姑孰十咏 陵歊台',\n",
       " '山中问荅',\n",
       " '别匡山',\n",
       " '鸣皋歌奉饯从翁清归五厓山居',\n",
       " '登邯郸洪波台置酒观发兵',\n",
       " '永王东巡歌十一首 六',\n",
       " '留别曹南群官之江南',\n",
       " '金门荅苏秀才',\n",
       " '夜泊黄山闻殷十四吴吟',\n",
       " '上皇西巡南京歌十首 二',\n",
       " '登敬亭山南望怀古赠窦主簿',\n",
       " '饯校书叔云',\n",
       " '梦游天姥吟留别',\n",
       " '感遇四首 一',\n",
       " '杜陵绝句',\n",
       " '秋浦歌十七首 三',\n",
       " '公无渡河',\n",
       " '舍利弗',\n",
       " '送王屋山人魏万还王屋',\n",
       " '把酒问月',\n",
       " '游敬亭寄崔侍御',\n",
       " '赠闾丘宿松',\n",
       " '春日醉起言志',\n",
       " '门有车马客行',\n",
       " '赠裴十四',\n",
       " '上云乐',\n",
       " '春日游罗敷潭',\n",
       " '登黄山凌歊台送族弟溧阳尉济充泛舟赴华阴',\n",
       " '走笔赠独孤驸马',\n",
       " '秋日与张少府楚城韦公藏书高斋作',\n",
       " '颍阳别元丹丘之淮阳',\n",
       " '游溧阳北湖亭望瓦屋山怀古赠同旅',\n",
       " '春陪商州裴使君游石娥溪',\n",
       " '游泰山六首 五',\n",
       " '送赵判官赴黔府中丞叔幕']"
      ]
     },
     "execution_count": 7,
     "metadata": {},
     "output_type": "execute_result"
    }
   ],
   "source": [
    "def search_character(character, merged_poems):\n",
    "    # 存储包含特定字符的诗歌列表\n",
    "    poems_with_char = []\n",
    "    \n",
    "    # 遍历每首诗歌\n",
    "    for poem in merged_poems:\n",
    "        # 分割标题和内容\n",
    "        title, content = poem.split('::')\n",
    "        # 检查字符是否在诗歌内容中出现\n",
    "        if character in content:\n",
    "            poems_with_char.append(title)\n",
    "    \n",
    "    return poems_with_char\n",
    "\n",
    "# 测试函数\n",
    "search_character('间', merged_poems)"
   ]
  },
  {
   "cell_type": "markdown",
   "metadata": {},
   "source": []
  },
  {
   "cell_type": "markdown",
   "metadata": {},
   "source": [
    "我希望实现一个Python函数 search_sentence( sentence, merged_poems )\n",
    "\n",
    "用来查询sentence中的字和那几首古诗中的字的重合度最高\n",
    "\n",
    "其中sentence是有待搜索的句子， merged_poems是list of string存储了很多诗歌\n",
    "\n",
    "对于sentence中的每个字 搜索和计数merged_poems中对应字是否出现来累计重合度\n",
    "\n",
    "把重合度最高的前三首诗歌进行返回"
   ]
  },
  {
   "cell_type": "code",
   "execution_count": 8,
   "metadata": {},
   "outputs": [
    {
     "data": {
      "text/plain": [
       "['上清宝鼎诗二首 二::人生烛上花，光灭巧妍尽。春风绕树头，日与化工进。只知雨露贪，不闻零落尽。我昔飞骨时，惨见当涂坟。青松霭朝霞，缥缈山丁村。既死明月魄，无复玻璃魂。念此一脱洒，长啸祭昆仑。醉著鸾皇衣，星斗俯可扪。',\n",
       " '宣城送刘副使入秦::君即刘越石，雄豪冠当时。凄清横吹曲，慷慨扶风词。虎啸俟腾跃，鸡鸣遭乱离。千金市骏马，万里逐王师。结交楼烦将，侍从羽林儿。统兵捍吴越，豺虎不敢窥。大勋竟莫叙，已过秋风吹。秉钺有季公，凛然负英姿。寄深且戎幕，望重必台司。感激一然诺，纵横两无疑。伏奏归北阙，鸣驺忽西驰。列将咸出祖，英僚惜分离。斗酒满四筵，歌啸宛溪湄。君携东山妓，我咏北门诗。贵贱交不易，恐伤中园葵。昔赠紫骝驹，今倾白玉卮。同欢万斛酒，未足解相思。此别又千里，秦吴渺天涯。月明关山苦，水剧陇头悲。借问几时还，春风入黄池。无令长相忆，折断绿杨枝。',\n",
       " '扶风豪士歌::洛阳三月飞胡沙，洛阳城中人怨嗟。天津流水波赤血，白骨相撑如乱麻。我亦东奔向吴国，浮云四塞道路赊。东方日出啼早鸦，城门人开扫落花。梧桐杨柳拂金井，来醉扶风豪士家。扶风豪士天下奇，意气相倾山可移。作人不倚将军势，饮酒岂顾尚书期。雕盘绮食会众客，吴歌赵舞香风吹。原尝春陵六国时，开心写意君所知。堂中各有三千士，明日报恩知是谁。抚长剑，一扬眉，清水白石何离离。脱吾帽，向君笑，饮君酒，为君吟。张良未逐赤松去，桥边黄石知我心。']"
      ]
     },
     "execution_count": 8,
     "metadata": {},
     "output_type": "execute_result"
    }
   ],
   "source": [
    "def search_sentence(sentence, merged_poems):\n",
    "    most_similar_poems = [] # 存储与查询句子重合度最高的诗歌列表\n",
    "    \n",
    "    for poem in merged_poems: # 遍历每首诗歌\n",
    "        # 计算查询句子与诗歌内容的重合度\n",
    "        similarity = sum(1 for word in sentence if word in poem)\n",
    "        # 添加到列表中\n",
    "        most_similar_poems.append((poem, similarity))\n",
    "    \n",
    "    # 对列表进行排序，按重合度降序排列\n",
    "    most_similar_poems.sort(key=lambda x: x[1], reverse=True)\n",
    "    \n",
    "    # 返回重合度最高的前三个诗歌\n",
    "    return [poem for poem, _ in most_similar_poems[:3]]\n",
    "\n",
    "# 测试函数\n",
    "search_sentence('清风明月', merged_poems)"
   ]
  },
  {
   "cell_type": "markdown",
   "metadata": {},
   "source": [
    "我已经实现了search_sentence(sentence, merged_poems ) ，\n",
    "会根据 sentence，搜索至多三句最接近sentence的李白的诗词，以list of string的形式进行输出\n",
    "\n",
    "我希望实现一个sentence2prompt( sentence, merged_poems )函数，\n",
    "\n",
    "根据输入的sentence，返回一个字符串\n",
    "\n",
    "\"\"\"\n",
    "你扮演唐朝著名诗人李白\n",
    "\n",
    "参考李白的诗词:\n",
    "{诗歌一}\n",
    "{诗歌二}\n",
    "{诗歌三}\n",
    "\n",
    "请模仿李白的口吻和经历与我进行对话\n",
    "\"\"\""
   ]
  },
  {
   "cell_type": "code",
   "execution_count": 10,
   "metadata": {},
   "outputs": [
    {
     "name": "stdout",
     "output_type": "stream",
     "text": [
      "你扮演唐朝著名诗人李白\n",
      "\n",
      "参考李白的诗词:\n",
      "经乱离后天恩流夜郎忆旧游书怀赠江夏韦太守良宰::天上白玉京，十二楼五城。仙人抚我顶，结发受长生。误逐世间乐，颇穷理乱情。九十六圣君，浮云挂空名。天地赌一掷，未能望战争。试涉霸王略，将期轩冕荣。时命乃大谬，弃之海上行。学剑翻自哂，为文竟何成。剑非万人敌，文窃四海声。儿戏不足道，五噫出西京。临当欲去时，慷慨泪沾缨。叹君倜傥才，标举冠群英。开筵引祖帐，慰此远徂征。鞍马若浮云，送余骠骑亭。歌锺不尽意，白日落昆明。十月到幽州，戈鋋若罗星。君王弃北海，扫地借长鲸。呼吸走百川，燕然可摧倾。心知不得语，却欲栖蓬瀛。弯弧惧天狼，挟矢不敢张。揽涕黄金台，呼天哭昭王。无人贵骏骨，𫘧耳空腾骧。乐毅傥再生，于今亦奔亡。蹉跎不得意，驱马还贵乡。逢君听弦歌，肃穆坐华堂。百里独太古，陶然卧羲皇。征乐昌乐馆，开筵列壶觞。贤豪间青娥，对烛俨成行。醉舞纷绮席，清歌绕飞梁。欢娱未终朝，秩满归咸阳。祖道拥万人，供帐遥相望。一别隔千里，荣枯异炎凉。炎凉几度改，九土中横溃。汉甲连胡兵，沙尘暗云海。草木摇杀气，星辰无光彩。白骨成丘山，苍生竟何罪。函关壮帝居，国命悬哥舒。长戟三十万，开门纳凶渠。公卿如犬羊，忠谠醢与葅。二圣出游豫，两京遂丘墟。帝子许专征，秉旄控强楚。节制非桓文，军师拥熊虎。人心失去就，贼势腾风雨。惟君固房陵，诚节冠终古。仆卧香炉顶，餐霞漱瑶泉。门开九江转，枕下五湖连。半夜水军来，浔阳满旌旃。空名适自误，迫胁上楼船。徒赐五百金，弃之若浮烟。辞官不受赏，翻谪夜郎天。夜郎万里道，西上令人老。扫荡六合清，仍为负霜草。日月无偏照，何由诉苍昊。良牧称神明，深仁恤交道。一忝青云客，三登黄鹤楼。顾惭祢处士，虚对鹦鹉洲。樊山霸气尽，寥落天地秋。江带峨眉雪，川横三峡流。万舸此中来，连帆过扬州。送此万里目，旷然散我愁。纱窗倚天开，水树绿如发。窥日畏衔山，促酒喜得月。吴娃与越艳，窈窕夸铅红。呼来上云梯，含笑出帘栊。对客小垂手，罗衣舞春风。宾跪请休息，主人情未极。览君荆山作，江鲍堪动色。清水出芙蓉，天然去雕饰。逸兴横素襟，无时不招寻。朱门拥虎士，列戟何森森。剪凿竹石开，萦流涨清深。登台坐水阁，吐论多英音。片辞贵白壁，一诺轻黄金。谓我不愧君，青鸟明丹心。五色云间鹊，飞鸣天上来。传闻赦书至，却放夜郎回。暖气变寒谷，炎烟生死灰。君登凤池去，忽弃贾生才。桀犬尚吠尧，匈奴笑千秋。中夜四五叹，常为大国忧。旌斾夹两山，黄河当中流。连鸡不得进，饮马空夷犹。安得羿善射，一箭落旄头。\n",
      "赠从弟南平太守之遥二首 一::少年不得意，落魄无安居。愿随任公子，欲钓吞舟鱼。常时饮酒逐风景，壮心遂与功名疏。兰生谷底人不锄，云在高山空卷舒。汉家天子驰驷马，赤军蜀道迎相如。天门九重谒圣人，龙颜一解四海春。彤庭左右呼万岁，拜贺明主收沈沦。翰林秉笔回英眄，麟阁峥嵘谁可见。承恩初入银台门，著书独在金銮殿。龙钩雕镫白玉鞍，象床绮席黄金盘。当时笑我微贱者，却来请谒为交欢。一朝谢病游江海，畴昔相知几人在。前门长揖后门关，今日结交明日改。爱君山岳心不移，随君云雾迷所为。梦得池塘生春草，使我长价登楼诗。别后遥传临海作，可见羊何共和之。\n",
      "送王屋山人魏万还王屋::仙人东方生，浩荡弄云海。沛然乘天游，独往失所在。魏侯继大名，本家聊摄城。卷舒入元化，迹与古贤幷。十三弄文史，挥笔如振绮。辩折田巴生，心齐鲁连子。西涉清洛源，颇惊人世喧。采秀卧王屋，因窥洞天门。朅来游嵩峰，羽客何双双。朝携月光子，暮宿玉女窗。鬼谷上窈窕，龙潭下奔潨。东浮汴河水，访我三千里。逸兴满吴云，飘飖浙江汜。挥手杭越间，樟亭望潮还。涛卷海门石，云横天际山。白马走素车，雷奔骇心颜。遥闻会稽美，且度耶溪水。万壑与千岩，峥嵘镜湖里。秀色不可名，清辉满江城。人游月边去，舟在空中行。此中久延伫，入剡寻王许。笑读曹娥碑，沈吟黄绢语。天台连四明，日入向国清。五峰转月色，百里行松声。灵溪咨沿越，华顶殊超忽。石梁横青天，侧足履半月。忽然思永嘉，不惮海路赊。挂席历海峤，回瞻赤城霞。赤城渐微没，孤屿前峣兀。水续万古流，亭空千霜月。缙云川谷难，石门最可观。瀑布挂北斗，莫穷此水端。喷壁洒素雪，空蒙生昼寒。却思恶溪去，宁惧恶溪恶。咆哮七十滩，水石相喷薄。路创李北海，岩开谢康乐。松风和猿声，搜索连洞壑。径出梅花桥，双溪纳归潮。落帆金华岸，赤松若可招。沈约八咏楼，城西孤岧峣。岧峣四荒外，旷望群川会。云卷天地开，波连浙西大。乱流新安口，北指严光濑。钓台碧云中，邈与苍岭对。稍稍来吴都，裴回上姑苏。烟绵横九疑，漭荡见五湖。目极心更远，悲歌但长吁。回桡楚江滨，挥策扬子津。身着日本裘，昂藏出风尘。五月造我语，知非儗人。相逢乐无限，水石日在眼。徒干五诸侯，不致百金产。吾友扬子云，弦歌播清芬。虽为江宁宰，好与山公群。乘兴但一行，且知我爱君。君来几何时，仙台应有期。东窗绿玉树，定长三五枝。至今天坛人，当笑尔归迟。我苦惜远别，茫然使心悲。黄河若不断，白首长相思。\n",
      "\n",
      "请模仿李白的口吻和经历与我进行对话\n"
     ]
    }
   ],
   "source": [
    "def sentence2prompt(sentence, merged_poems):\n",
    "    # 使用search_sentence函数找到最接近的诗词\n",
    "    similar_poems = search_sentence(sentence, merged_poems)\n",
    "    \n",
    "    # 初始化prompt字符串\n",
    "    prompt = \"你扮演唐朝著名诗人李白\\n\\n参考李白的诗词:\\n\"\n",
    "    \n",
    "    # 将找到的诗词添加到prompt中\n",
    "    for poem in similar_poems:\n",
    "        prompt += f\"{poem}\\n\"\n",
    "    \n",
    "    # 添加最后的对话指示\n",
    "    prompt += \"\\n请模仿李白的口吻和经历与我进行对话\"\n",
    "    \n",
    "    return prompt\n",
    "\n",
    "print(sentence2prompt('今天明月当空，请李白兄与在下共饮', merged_poems))"
   ]
  },
  {
   "cell_type": "code",
   "execution_count": 12,
   "metadata": {},
   "outputs": [
    {
     "name": "stdout",
     "output_type": "stream",
     "text": [
      "Running on local URL:  http://127.0.0.1:7861\n",
      "\n",
      "To create a public link, set `share=True` in `launch()`.\n"
     ]
    },
    {
     "data": {
      "text/html": [
       "<div><iframe src=\"http://127.0.0.1:7861/\" width=\"100%\" height=\"500\" allow=\"autoplay; camera; microphone; clipboard-read; clipboard-write;\" frameborder=\"0\" allowfullscreen></iframe></div>"
      ],
      "text/plain": [
       "<IPython.core.display.HTML object>"
      ]
     },
     "metadata": {},
     "output_type": "display_data"
    }
   ],
   "source": [
    "from zhipuai import ZhipuAI\n",
    "import gradio as gr\n",
    "import csv\n",
    "\n",
    "# sentence2prompt函数\n",
    "def sentence2prompt(sentence, merged_poems):\n",
    "    similar_poems = search_sentence(sentence, merged_poems)\n",
    "    prompt = \"你扮演唐朝著名诗人李白\\n\\n参考李白的诗词:\\n\"\n",
    "    for poem in similar_poems:\n",
    "        prompt += f\"{poem}\\n\"\n",
    "    prompt += \"\\n请模仿李白的口吻和经历与我进行对话\"\n",
    "    return prompt\n",
    "\n",
    "# search_sentence函数\n",
    "def search_sentence(sentence, merged_poems):\n",
    "    most_similar_poems = []\n",
    "    for poem in merged_poems:\n",
    "        similarity = sum(1 for word in sentence if word in poem)\n",
    "        most_similar_poems.append((poem, similarity))\n",
    "    most_similar_poems.sort(key=lambda x: x[1], reverse=True)\n",
    "    return [poem for poem, _ in most_similar_poems[:3]]\n",
    "\n",
    "# 读取merged_poems\n",
    "merged_poems = []\n",
    "with open('data/李白.csv', 'r', encoding='utf-8') as csvfile:\n",
    "    reader = csv.DictReader(csvfile)\n",
    "    for row in reader:\n",
    "        merged_str = f\"{row['Title']}::{row['Content']}\"\n",
    "        merged_poems.append(merged_str)\n",
    "\n",
    "# get_api_key函数\n",
    "def get_api_key(file_path):\n",
    "    with open(file_path, 'r') as file:\n",
    "        return file.read().strip()\n",
    "\n",
    "# question2response函数\n",
    "def question2response(user_input, zhipu_api_key, merged_poems):\n",
    "    client = ZhipuAI(api_key=zhipu_api_key)\n",
    "    system_prompt = sentence2prompt(user_input, merged_poems)\n",
    "    response = client.chat.completions.create(\n",
    "        model=\"glm-4-flash\",\n",
    "        messages=[\n",
    "            {\"role\": \"system\", \"content\": system_prompt},\n",
    "            {\"role\": \"user\", \"content\": user_input}\n",
    "        ],\n",
    "    )\n",
    "    return response.choices[0].message.content\n",
    "\n",
    "with gr.Blocks() as demo:\n",
    "    zhipu_api_key = get_api_key(\"data/zhipu_apikey.txt\")\n",
    "    chatbot = gr.Chatbot()\n",
    "    msg = gr.Textbox()\n",
    "    clear = gr.ClearButton([msg, chatbot])\n",
    "\n",
    "    def respond(message, chat_history):\n",
    "        bot_message = question2response(message, zhipu_api_key, merged_poems)\n",
    "        chat_history.append((message, bot_message))\n",
    "        return \"\", chat_history\n",
    "\n",
    "    msg.submit(respond, [msg, chatbot], [msg, chatbot])\n",
    "\n",
    "if __name__ == \"__main__\":\n",
    "    demo.launch()\n"
   ]
  },
  {
   "cell_type": "code",
   "execution_count": 1,
   "metadata": {},
   "outputs": [
    {
     "name": "stdout",
     "output_type": "stream",
     "text": [
      "Running on local URL:  http://127.0.0.1:7860\n",
      "\n",
      "To create a public link, set `share=True` in `launch()`.\n"
     ]
    },
    {
     "data": {
      "text/html": [
       "<div><iframe src=\"http://127.0.0.1:7860/\" width=\"100%\" height=\"500\" allow=\"autoplay; camera; microphone; clipboard-read; clipboard-write;\" frameborder=\"0\" allowfullscreen></iframe></div>"
      ],
      "text/plain": [
       "<IPython.core.display.HTML object>"
      ]
     },
     "metadata": {},
     "output_type": "display_data"
    }
   ],
   "source": [
    "from zhipuai import ZhipuAI\n",
    "import gradio as gr\n",
    "import csv\n",
    "\n",
    "rag_result = \"\"\n",
    "\n",
    "# sentence2prompt函数\n",
    "def sentence2prompt(sentence, merged_poems):\n",
    "    similar_poems = search_sentence(sentence, merged_poems)\n",
    "    prompt = \"你扮演唐朝著名诗人李白\\n\\n参考李白的诗词:\\n\"\n",
    "    for poem in similar_poems:\n",
    "        prompt += f\"{poem}\\n\"\n",
    "\n",
    "    global rag_result\n",
    "    rag_result = \"\"\n",
    "    for poem in similar_poems:\n",
    "        rag_result += poem.replace(\"::\",\"\\n\") + \"\\n\"\n",
    "        \n",
    "    prompt += \"\\n请模仿李白的口吻和经历与我进行对话\"\n",
    "    return prompt\n",
    "\n",
    "# search_sentence函数\n",
    "def search_sentence(sentence, merged_poems):\n",
    "    most_similar_poems = []\n",
    "    for poem in merged_poems:\n",
    "        similarity = sum(1 for word in sentence if word in poem)\n",
    "        most_similar_poems.append((poem, similarity))\n",
    "    most_similar_poems.sort(key=lambda x: x[1], reverse=True)\n",
    "    return [poem for poem, _ in most_similar_poems[:3]]\n",
    "\n",
    "# 读取merged_poems\n",
    "merged_poems = []\n",
    "with open('data/李白.csv', 'r', encoding='utf-8') as csvfile:\n",
    "    reader = csv.DictReader(csvfile)\n",
    "    for row in reader:\n",
    "        merged_str = f\"{row['Title']}::{row['Content']}\"\n",
    "        merged_poems.append(merged_str)\n",
    "\n",
    "# get_api_key函数\n",
    "def get_api_key(file_path):\n",
    "    with open(file_path, 'r') as file:\n",
    "        return file.read().strip()\n",
    "\n",
    "# question2response函数\n",
    "def question2response(user_input, zhipu_api_key, merged_poems, chat_history, use_rag_radio):\n",
    "    client = ZhipuAI(api_key=zhipu_api_key)\n",
    "    if use_rag_radio and use_rag_radio == \"使用RAG\":\n",
    "        system_prompt = sentence2prompt(user_input, merged_poems)\n",
    "    else:\n",
    "        system_prompt = \"你扮演唐朝著名诗人李白，请模仿李白的口吻和经历与我进行对话\"\n",
    "        global rag_result\n",
    "        rag_result = \"\"\n",
    "\n",
    "    messages = [\n",
    "            {\"role\": \"system\", \"content\": system_prompt},\n",
    "    ]\n",
    "    if chat_history:\n",
    "        for user_msg, bot_msg in chat_history[-2:]:\n",
    "            if user_msg:\n",
    "                messages.append({\"role\": \"user\", \"content\": user_msg})\n",
    "            if bot_msg:\n",
    "                messages.append({\"role\": \"assistant\", \"content\": bot_msg})\n",
    "\n",
    "    messages.append({\"role\": \"user\", \"content\": user_input})\n",
    "\n",
    "    response = client.chat.completions.create(\n",
    "        model=\"glm-4-flash\",\n",
    "        messages=messages,\n",
    "    )\n",
    "    return response.choices[0].message.content\n",
    "\n",
    "with gr.Blocks() as demo:\n",
    "    zhipu_api_key = get_api_key(\"data/zhipu_apikey.txt\")\n",
    "    chatbot = gr.Chatbot()\n",
    "    msg = gr.Textbox()\n",
    "    clear = gr.ClearButton([msg, chatbot])\n",
    "    use_rag_radio = gr.Radio(choices=[\"使用RAG\", \"不使用RAG\"], value=\"使用RAG\", label=\"选择模式\")\n",
    "    rag_search_result = gr.TextArea(label=\"RAG搜索结果\")\n",
    "\n",
    "    def respond(message, chat_history, use_rag_radio):\n",
    "        bot_message = question2response(message, zhipu_api_key, merged_poems, chat_history, use_rag_radio)\n",
    "        chat_history.append((message, bot_message))\n",
    "        return \"\", chat_history\n",
    "    \n",
    "    def update_rag_result():\n",
    "        return rag_result\n",
    "\n",
    "    msg.submit(respond, [msg, chatbot, use_rag_radio], [msg, chatbot]).then(update_rag_result,[], [rag_search_result])\n",
    "\n",
    "if __name__ == \"__main__\":\n",
    "    demo.launch()\n"
   ]
  },
  {
   "cell_type": "code",
   "execution_count": null,
   "metadata": {},
   "outputs": [],
   "source": []
  }
 ],
 "metadata": {
  "kernelspec": {
   "display_name": "Python 3",
   "language": "python",
   "name": "python3"
  },
  "language_info": {
   "codemirror_mode": {
    "name": "ipython",
    "version": 3
   },
   "file_extension": ".py",
   "mimetype": "text/x-python",
   "name": "python",
   "nbconvert_exporter": "python",
   "pygments_lexer": "ipython3",
   "version": "3.8.5"
  }
 },
 "nbformat": 4,
 "nbformat_minor": 2
}
