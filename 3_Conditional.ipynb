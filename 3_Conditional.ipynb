{
 "cells": [
  {
   "cell_type": "markdown",
   "metadata": {},
   "source": [
    "# 李鲁鲁老师的Python课程 第三课 条件分支与三门问题"
   ]
  },
  {
   "cell_type": "markdown",
   "metadata": {},
   "source": [
    "在研究古典概率的时候，很多过往的数学家都会投掷大量次数的骰子\n",
    "\n",
    "来验证特定随机事件的出现概率\n",
    "\n",
    "显然，当我们有了计算机之后，做这样的概率模拟就容易多了"
   ]
  },
  {
   "cell_type": "markdown",
   "metadata": {},
   "source": [
    "```\n",
    "我希望用最简单的python程序\n",
    "\n",
    "来模拟三颗骰子的投掷 5000次，并给出骰子和为不同数字时\n",
    "\n",
    "出现的概率分布，并最后用条形图来可视化\n",
    "```"
   ]
  },
  {
   "cell_type": "code",
   "execution_count": 1,
   "metadata": {},
   "outputs": [
    {
     "name": "stderr",
     "output_type": "stream",
     "text": [
      "c:\\Program Files\\Python38\\lib\\site-packages\\IPython\\core\\pylabtools.py:137: UserWarning: Glyph 27010 (\\N{CJK UNIFIED IDEOGRAPH-6982}) missing from current font.\n",
      "  fig.canvas.print_figure(bytes_io, **kw)\n",
      "c:\\Program Files\\Python38\\lib\\site-packages\\IPython\\core\\pylabtools.py:137: UserWarning: Glyph 29575 (\\N{CJK UNIFIED IDEOGRAPH-7387}) missing from current font.\n",
      "  fig.canvas.print_figure(bytes_io, **kw)\n",
      "c:\\Program Files\\Python38\\lib\\site-packages\\IPython\\core\\pylabtools.py:137: UserWarning: Glyph 19977 (\\N{CJK UNIFIED IDEOGRAPH-4E09}) missing from current font.\n",
      "  fig.canvas.print_figure(bytes_io, **kw)\n",
      "c:\\Program Files\\Python38\\lib\\site-packages\\IPython\\core\\pylabtools.py:137: UserWarning: Glyph 39063 (\\N{CJK UNIFIED IDEOGRAPH-9897}) missing from current font.\n",
      "  fig.canvas.print_figure(bytes_io, **kw)\n",
      "c:\\Program Files\\Python38\\lib\\site-packages\\IPython\\core\\pylabtools.py:137: UserWarning: Glyph 39600 (\\N{CJK UNIFIED IDEOGRAPH-9AB0}) missing from current font.\n",
      "  fig.canvas.print_figure(bytes_io, **kw)\n",
      "c:\\Program Files\\Python38\\lib\\site-packages\\IPython\\core\\pylabtools.py:137: UserWarning: Glyph 23376 (\\N{CJK UNIFIED IDEOGRAPH-5B50}) missing from current font.\n",
      "  fig.canvas.print_figure(bytes_io, **kw)\n",
      "c:\\Program Files\\Python38\\lib\\site-packages\\IPython\\core\\pylabtools.py:137: UserWarning: Glyph 25237 (\\N{CJK UNIFIED IDEOGRAPH-6295}) missing from current font.\n",
      "  fig.canvas.print_figure(bytes_io, **kw)\n",
      "c:\\Program Files\\Python38\\lib\\site-packages\\IPython\\core\\pylabtools.py:137: UserWarning: Glyph 25527 (\\N{CJK UNIFIED IDEOGRAPH-63B7}) missing from current font.\n",
      "  fig.canvas.print_figure(bytes_io, **kw)\n",
      "c:\\Program Files\\Python38\\lib\\site-packages\\IPython\\core\\pylabtools.py:137: UserWarning: Glyph 27425 (\\N{CJK UNIFIED IDEOGRAPH-6B21}) missing from current font.\n",
      "  fig.canvas.print_figure(bytes_io, **kw)\n",
      "c:\\Program Files\\Python38\\lib\\site-packages\\IPython\\core\\pylabtools.py:137: UserWarning: Glyph 30340 (\\N{CJK UNIFIED IDEOGRAPH-7684}) missing from current font.\n",
      "  fig.canvas.print_figure(bytes_io, **kw)\n",
      "c:\\Program Files\\Python38\\lib\\site-packages\\IPython\\core\\pylabtools.py:137: UserWarning: Glyph 20998 (\\N{CJK UNIFIED IDEOGRAPH-5206}) missing from current font.\n",
      "  fig.canvas.print_figure(bytes_io, **kw)\n",
      "c:\\Program Files\\Python38\\lib\\site-packages\\IPython\\core\\pylabtools.py:137: UserWarning: Glyph 24067 (\\N{CJK UNIFIED IDEOGRAPH-5E03}) missing from current font.\n",
      "  fig.canvas.print_figure(bytes_io, **kw)\n",
      "c:\\Program Files\\Python38\\lib\\site-packages\\IPython\\core\\pylabtools.py:137: UserWarning: Glyph 21644 (\\N{CJK UNIFIED IDEOGRAPH-548C}) missing from current font.\n",
      "  fig.canvas.print_figure(bytes_io, **kw)\n"
     ]
    },
    {
     "data": {
      "image/png": "[encoded data removed]",
      "text/plain": [
       "<Figure size 432x288 with 1 Axes>"
      ]
     },
     "metadata": {
      "needs_background": "light"
     },
     "output_type": "display_data"
    }
   ],
   "source": [
    "import random\n",
    "import matplotlib.pyplot as plt\n",
    "\n",
    "# 投掷三颗骰子5000次\n",
    "results = [sum([random.randint(1, 6) for _ in range(3)]) for _ in range(5000)]\n",
    "\n",
    "# 计算每个和的出现次数\n",
    "sum_counts = {i: results.count(i) for i in range(3, 19)}\n",
    "\n",
    "# 计算概率分布\n",
    "total_rolls = 5000\n",
    "probability_distribution = {sum_: count / total_rolls for sum_, count in sum_counts.items()}\n",
    "\n",
    "# 绘制条形图\n",
    "plt.bar(probability_distribution.keys(), probability_distribution.values())\n",
    "plt.xlabel('骰子和')\n",
    "plt.ylabel('概率')\n",
    "plt.title('三颗骰子投掷5000次的概率分布')\n",
    "plt.show()\n"
   ]
  },
  {
   "cell_type": "markdown",
   "metadata": {},
   "source": [
    "### 课堂练习\n",
    "\n",
    "- 让ChatGPT帮忙修复中文显示的问题"
   ]
  },
  {
   "cell_type": "markdown",
   "metadata": {},
   "source": [
    "## 三门问题\n",
    "\n",
    "我们有时候会听到一个经典的“三门问题”，在电视节目中，经常会出现抽奖环节。三个门后面有一个是奖品，让Player从三个门中选择一个。\n",
    "\n",
    "有时候主持人会打开另外两个门中的一个，让Player看到没有奖品的门，然后问Player是否要换一个门。\n",
    "\n",
    "那么，Player是否应该换一个门呢？\n",
    "\n",
    "让我们用Python来模拟一下这个游戏，看看结果如何。\n",
    "\n",
    "在这里其实有一个很重要的条件是主持人的行为\n",
    "\n",
    "这里我们先假设“主持人一定会打开另外两个门中，没有奖品的某一个”，在这个前提下进行实验"
   ]
  },
  {
   "cell_type": "markdown",
   "metadata": {},
   "source": [
    "```\n",
    "我希望用简单的python代码（不要使用函数，仅仅使用循环和条件语句），模拟三门问题\n",
    "\n",
    "- 假设三个门中随机有一个门是奖品\n",
    "- 假设Player会随机先选择其中一个门\n",
    "- 主持人一定会展示剩下的两个门中，没有奖品的那一个\n",
    "- 分别统计 如果这个时候 Player换门 和 不换门 各自成功获得奖品的次数\n",
    "- 实验3000次，分别输出Player换门和不换门策略下，拿到奖品的概率\n",
    "```"
   ]
  },
  {
   "cell_type": "code",
   "execution_count": 2,
   "metadata": {},
   "outputs": [
    {
     "data": {
      "text/plain": [
       "(0.6693333333333333, 0.33066666666666666)"
      ]
     },
     "execution_count": 2,
     "metadata": {},
     "output_type": "execute_result"
    }
   ],
   "source": [
    "import random\n",
    "\n",
    "# 初始化计数器\n",
    "switch_wins = 0\n",
    "stay_wins = 0\n",
    "\n",
    "# 进行3000次实验\n",
    "for _ in range(3000):\n",
    "    # 随机设置一个门为奖品\n",
    "    prize_door = random.randint(1, 3)\n",
    "    # 玩家随机选择一个门\n",
    "    player_choice = random.randint(1, 3)\n",
    "\n",
    "    # 主持人展示没有奖品的一个门\n",
    "    # 遍历所有门，找到没有奖品的门并展示\n",
    "    for door in range(1, 4):\n",
    "        if door != prize_door and door != player_choice:\n",
    "            shown_door = door\n",
    "            break\n",
    "\n",
    "    # 如果玩家换门\n",
    "    # 遍历所有门，找到玩家可以换的门\n",
    "    for door in range(1, 4):\n",
    "        if door != player_choice and door != shown_door:\n",
    "            switch_choice = door\n",
    "            break\n",
    "\n",
    "    # 统计换门赢的次数\n",
    "    if switch_choice == prize_door:\n",
    "        switch_wins += 1\n",
    "\n",
    "    # 统计不换门赢的次数\n",
    "    if player_choice == prize_door:\n",
    "        stay_wins += 1\n",
    "\n",
    "# 计算概率\n",
    "switch_win_probability = switch_wins / 3000\n",
    "stay_win_probability = stay_wins / 3000\n",
    "\n",
    "switch_win_probability, stay_win_probability"
   ]
  },
  {
   "cell_type": "markdown",
   "metadata": {},
   "source": [
    "可以看到，换门的话，拿到奖品的数学期望接近 2/3\n",
    "\n",
    "但是这结束了吗？\n",
    "\n",
    "其实这里我们有一个很强的前提，就是主持人一定会展示没有奖品的门。\n",
    "\n",
    "如果主持人可以选择不做任何展示，那无论你是否交换，你拿到奖品的概率都是 1/3\n",
    "\n",
    "这里我们可以假设一种特殊的主持人，我们把主持人的策略调整为\n",
    "\n",
    "“如果Player选中了有奖品的门，主持人就会打开剩下两扇门中的随机一扇，询问Player是否要换一扇门，\n",
    "\n",
    "如果Player没选中，那么主持人会询问Player是否要换一个，Player可以选择在剩下两个门中随机选一扇，或者是不换”\n",
    "\n",
    "让我们来实验下使用这样一个策略的主持人情况下，Player是否应该换门"
   ]
  },
  {
   "cell_type": "markdown",
   "metadata": {},
   "source": [
    "---\n",
    "\n",
    "我希望用简单的python代码，模拟一个三门问题\n",
    "\n",
    "- 假设三个门中随机有一个门是奖品\n",
    "- 假设Player会随机先选择其中一个门\n",
    "\n",
    "- 主持人的策略是这样的 如果Player选中了有奖品的门，主持人就会打开剩下两扇门中的随机一扇，询问Player是否要换一扇门，\n",
    "（这时候Player换门的话就没有奖品，不换的话就有奖品）\n",
    "\n",
    "如果Player没选中，那么主持人会询问Player是否要换一个，Player可以选择在剩下两个门中随机选一扇，或者是不换\n",
    "（这个时候Player换门的话，拿到奖品的概率是1/2，不换的话拿到奖品的概率是0）\n",
    "\n",
    "- 分别统计 如果这个时候 Player换门 和 不换门 各自成功获得奖品的次数\n",
    "- 实验3000次，分别输出Player换门和不换门策略下，拿到奖品的概率\n",
    "\n",
    "---"
   ]
  },
  {
   "cell_type": "code",
   "execution_count": 3,
   "metadata": {},
   "outputs": [
    {
     "name": "stdout",
     "output_type": "stream",
     "text": [
      "换门胜利的概率: 0.3308333333333333\n",
      "不换门胜利的概率: 0.3383333333333333\n"
     ]
    }
   ],
   "source": [
    "import random\n",
    "\n",
    "# 初始化计数器\n",
    "win_by_switch = 0  # 换门后胜利的次数\n",
    "win_by_stay = 0    # 不换门胜利的次数\n",
    "\n",
    "# 进行3000次实验\n",
    "for _ in range(3000):\n",
    "    # 随机生成奖品在哪个门后\n",
    "    prize_door = random.randint(1, 3)\n",
    "    # 玩家随机选择一个门\n",
    "    player_choice = random.randint(1, 3)\n",
    "    \n",
    "    # 如果玩家第一次选择的门就是奖品所在门\n",
    "    if player_choice == prize_door:\n",
    "        # 主持人打开剩下两扇门中的一扇，此时换门失败\n",
    "        win_by_stay += 1\n",
    "    else:\n",
    "        # 主持人打开一扇没有奖品的门\n",
    "        # 玩家没选中奖品，此时换门有50%的概率成功\n",
    "        # 但在这个模拟中，我们直接计算换门和不换门的结果\n",
    "        # 玩家换门\n",
    "        if player_choice != prize_door:\n",
    "            win_by_switch += 0.5\n",
    "        # 玩家不换门，已经计算在上面的if条件中，所以这里不需要额外计算\n",
    "        \n",
    "# 计算换门和不换门的胜率\n",
    "prob_win_by_switch = win_by_switch / 3000\n",
    "prob_win_by_stay = win_by_stay / 3000\n",
    "\n",
    "# 输出结果\n",
    "print(\"换门胜利的概率:\", prob_win_by_switch)\n",
    "print(\"不换门胜利的概率:\", prob_win_by_stay)"
   ]
  },
  {
   "cell_type": "markdown",
   "metadata": {},
   "source": [
    "可以看到，这个时候换门和不换门的胜利的概率是一样的\n",
    "\n",
    "那其实还是换门会合适一点，因为倾向于节目效果的话，主持人更容易发生换门的行为。"
   ]
  },
  {
   "cell_type": "markdown",
   "metadata": {},
   "source": [
    "可以看到，在我们的代码中，明显出现了一个条件分支的语句\n",
    "\n",
    "我们可以让ChatGPT来告诉我们什么是Python中的条件语句"
   ]
  },
  {
   "cell_type": "markdown",
   "metadata": {},
   "source": [
    "```\n",
    "给我实现一个简易的Python的分支语句的句子，再向我解释分支语句的相关知识\n",
    "```"
   ]
  },
  {
   "cell_type": "markdown",
   "metadata": {},
   "source": [
    "## ChatGPT的输出\n",
    "\n",
    "下面是一个简易的Python分支语句示例：\n",
    "\n",
    "```python\n",
    "# 定义一个变量\n",
    "temperature = 25\n",
    "\n",
    "# 分支语句\n",
    "if temperature > 30:\n",
    "    print(\"It's a hot day\")\n",
    "elif temperature > 20:\n",
    "    print(\"It's a warm day\")\n",
    "else:\n",
    "    print(\"It's a cool day\")\n",
    "```\n",
    "\n",
    "<details>\n",
    "  <summary>...更多ChatGPT的输出</summary>\n",
    "\n",
    "### 分支语句的相关知识\n",
    "\n",
    "分支语句（Branching Statements）是控制程序流程的一种方式，根据条件来决定执行不同的代码块。在Python中，常见的分支语句有`if`、`elif`和`else`。\n",
    "\n",
    "1. **if语句**：用于判断一个条件是否为真。如果条件为真，则执行相应的代码块。\n",
    "\n",
    "    ```python\n",
    "    if 条件:\n",
    "        执行代码\n",
    "    ```\n",
    "\n",
    "2. **elif语句**：表示“否则，如果”的意思，用于检查另一个条件。如果前面的条件不满足，则检查这个条件。如果这个条件为真，则执行相应的代码块。\n",
    "\n",
    "    ```python\n",
    "    if 条件1:\n",
    "        执行代码1\n",
    "    elif 条件2:\n",
    "        执行代码2\n",
    "    ```\n",
    "\n",
    "3. **else语句**：表示“否则”的意思。当所有前面的条件都不满足时，执行else代码块中的内容。\n",
    "\n",
    "    ```python\n",
    "    if 条件1:\n",
    "        执行代码1\n",
    "    elif 条件2:\n",
    "        执行代码2\n",
    "    else:\n",
    "        执行代码3\n",
    "    ```\n",
    "\n",
    "### 示例解释\n",
    "\n",
    "在上面的代码中，我们首先定义了一个变量`temperature`，并将其值设置为25。然后我们使用`if`、`elif`和`else`分支语句来判断温度，并根据不同的温度值打印相应的消息。\n",
    "\n",
    "- 如果`temperature`大于30，则打印“It's a hot day”。\n",
    "- 如果`temperature`大于20但不超过30，则打印“It's a warm day”。\n",
    "- 如果`temperature`小于或等于20，则打印“It's a cool day”。\n",
    "\n",
    "通过分支语句，我们可以根据不同的条件执行不同的代码，从而实现程序的逻辑控制。\n",
    "\n",
    "</details>"
   ]
  },
  {
   "cell_type": "markdown",
   "metadata": {},
   "source": [
    "## 角谷猜想\n",
    "\n",
    "这里我们还可以做一个有趣的实验，就是角谷猜想\n",
    "\n",
    "```\n",
    "给我实现一段简单的python程序（仅使用循环和分支语句）\n",
    "\n",
    "验证初始数为1000 的时候，如果是偶数就除以2， 是奇数就乘以3再加一\n",
    "\n",
    "最后数字是否会变成1\n",
    "```"
   ]
  },
  {
   "cell_type": "code",
   "execution_count": 7,
   "metadata": {},
   "outputs": [
    {
     "data": {
      "text/plain": [
       "True"
      ]
     },
     "execution_count": 7,
     "metadata": {},
     "output_type": "execute_result"
    }
   ],
   "source": [
    "# 初始数为1000\n",
    "num = 1000\n",
    "\n",
    "# 循环执行操作，直到数字变为1\n",
    "while num != 1:\n",
    "    if num % 2 == 0:  # 如果是偶数\n",
    "        num = num // 2\n",
    "    else:  # 如果是奇数\n",
    "        num = num * 3 + 1\n",
    "\n",
    "# 检查最后数字是否变成1\n",
    "result = num == 1\n",
    "result\n"
   ]
  },
  {
   "cell_type": "markdown",
   "metadata": {},
   "source": [
    "这段代码中也出现了典型的分支语句，即用num % 2 == 0 来判断num是否能被2整除。"
   ]
  },
  {
   "cell_type": "markdown",
   "metadata": {},
   "source": [
    "---\n",
    "\n",
    "## 点餐程序\n",
    "\n",
    "很多时候同学们会想写一些复杂的交互程序\n",
    "\n",
    "比如实现一个地铁买票，或者食堂点餐，\n",
    "\n",
    "这样的程序实际上比我们之前学到的程序的逻辑要复杂一些\n",
    "\n",
    "让我们在ChatGPT的帮助下编写一个简易的点餐程序。\n",
    "\n",
    "\n",
    "```\n",
    "我希望实现一个简易的基于文字交互 (input数字和print信息) 的python点餐程序\n",
    "\n",
    "仅仅使用循环和条件语句\n",
    "\n",
    "有五道不同的菜和对应的价格\n",
    "\n",
    "有一个状态变量记录当前机器的状态 点餐中，确认支付，完成支付\n",
    "\n",
    "用户在确认支付时可以继续加菜或者确认支付\n",
    "```"
   ]
  },
  {
   "cell_type": "code",
   "execution_count": 2,
   "metadata": {},
   "outputs": [
    {
     "name": "stdout",
     "output_type": "stream",
     "text": [
      "\n",
      "欢迎光临！请选择菜品（输入数字）:\n",
      "1. 宫保鸡丁 - 18元\n",
      "2. 麻婆豆腐 - 15元\n",
      "3. 鱼香肉丝 - 20元\n",
      "4. 清炒时蔬 - 12元\n",
      "5. 红烧肉 - 25元\n",
      "已添加 宫保鸡丁 到订单中。\n",
      "\n",
      "欢迎光临！请选择菜品（输入数字）:\n",
      "1. 宫保鸡丁 - 18元\n",
      "2. 麻婆豆腐 - 15元\n",
      "3. 鱼香肉丝 - 20元\n",
      "4. 清炒时蔬 - 12元\n",
      "5. 红烧肉 - 25元\n",
      "已添加 宫保鸡丁 到订单中。\n",
      "\n",
      "欢迎光临！请选择菜品（输入数字）:\n",
      "1. 宫保鸡丁 - 18元\n",
      "2. 麻婆豆腐 - 15元\n",
      "3. 鱼香肉丝 - 20元\n",
      "4. 清炒时蔬 - 12元\n",
      "5. 红烧肉 - 25元\n",
      "\n",
      "您的订单：\n",
      "宫保鸡丁 x 2 = 36元\n",
      "总计：36元\n",
      "\n",
      "支付成功，感谢您的光临！\n"
     ]
    }
   ],
   "source": [
    "# 菜单和价格\n",
    "menu = {\n",
    "    '1': ('宫保鸡丁', 18),\n",
    "    '2': ('麻婆豆腐', 15),\n",
    "    '3': ('鱼香肉丝', 20),\n",
    "    '4': ('清炒时蔬', 12),\n",
    "    '5': ('红烧肉', 25)\n",
    "}\n",
    "\n",
    "# 记录点餐信息\n",
    "order = {}\n",
    "\n",
    "# 状态变量\n",
    "status = '点餐中'\n",
    "\n",
    "while True:\n",
    "    if status == '点餐中':\n",
    "        print(\"\\n欢迎光临！请选择菜品（输入数字）:\")\n",
    "        for key, (dish, price) in menu.items():\n",
    "            print(f\"{key}. {dish} - {price}元\")\n",
    "        \n",
    "        choice = input(\"请输入菜品编号（输入'0'确认点餐）：\")\n",
    "        \n",
    "        if choice == '0':\n",
    "            if not order:  # 如果没有点餐，则不进行下一步\n",
    "                print(\"您还没有点餐，请先点餐。\")\n",
    "                continue\n",
    "            status = '确认支付'\n",
    "        elif choice in menu:\n",
    "            dish, price = menu[choice]\n",
    "            if dish in order:\n",
    "                order[dish] += 1\n",
    "            else:\n",
    "                order[dish] = 1\n",
    "            print(f\"已添加 {dish} 到订单中。\")\n",
    "        else:\n",
    "            print(\"无效的输入，请重新选择。\")\n",
    "    \n",
    "    elif status == '确认支付':\n",
    "        print(\"\\n您的订单：\")\n",
    "        total_price = 0\n",
    "        for dish, quantity in order.items():\n",
    "            # 直接通过菜品名称获取价格\n",
    "            for key, (dish_name, price) in menu.items():\n",
    "                if dish == dish_name:\n",
    "                    print(f\"{dish} x {quantity} = {quantity * price}元\")\n",
    "                    total_price += quantity * price\n",
    "                    break  # 找到匹配的菜品后退出循环\n",
    "        print(f\"总计：{total_price}元\")\n",
    "        \n",
    "        choice = input(\"是否确认支付？（输入'1'确认，输入'2'继续加菜）：\")\n",
    "        if choice == '1':\n",
    "            status = '完成支付'\n",
    "        elif choice == '2':\n",
    "            status = '点餐中'\n",
    "        else:\n",
    "            print(\"无效的输入，请重新选择。\")\n",
    "    \n",
    "    elif status == '完成支付':\n",
    "        print(\"\\n支付成功，感谢您的光临！\")\n",
    "        break\n"
   ]
  },
  {
   "cell_type": "markdown",
   "metadata": {},
   "source": [
    "可以观察到，这段代码里面有典型的分支语句，即不断判断status状态变量，来确定系统当前处于的状态。\n",
    "\n",
    "状态变量在搭建一些始终运行的交互系统时，是非常重要的。\n",
    "\n",
    "实际上，这个点餐程序的代码复杂度还是很高的，但是借助ChatGPT，我们在第三节课就可以实现这样的系统。"
   ]
  },
  {
   "cell_type": "markdown",
   "metadata": {},
   "source": []
  },
  {
   "cell_type": "code",
   "execution_count": null,
   "metadata": {},
   "outputs": [],
   "source": []
  }
 ],
 "metadata": {
  "kernelspec": {
   "display_name": "Python 3",
   "language": "python",
   "name": "python3"
  },
  "language_info": {
   "codemirror_mode": {
    "name": "ipython",
    "version": 3
   },
   "file_extension": ".py",
   "mimetype": "text/x-python",
   "name": "python",
   "nbconvert_exporter": "python",
   "pygments_lexer": "ipython3",
   "version": "3.8.5"
  }
 },
 "nbformat": 4,
 "nbformat_minor": 2
}
