{
 "cells": [
  {
   "cell_type": "markdown",
   "metadata": {},
   "source": [
    "# 第十三课 物理模拟"
   ]
  },
  {
   "cell_type": "markdown",
   "metadata": {},
   "source": [
    "其实我们在第二节课的时候，就已经进行了简单的物理模拟。\n",
    "\n",
    "但是第二节课的例子，我们还是在处理“孤体问题”，即知道一个系统的完整动力学状态，推测一个系统的未来演化。\n",
    "\n",
    "在三体运动这些例子里，都没有出现明显的碰撞等现象。但是现实过程中，物体很容易相互之间发生碰撞，从而产生复杂的行为。\n",
    "\n",
    "而计算机正擅长模拟这些复杂的行为，很多时候可以给物理学家提供很多有用的帮助。\n",
    "\n",
    "## 杯中的珠子"
   ]
  },
  {
   "cell_type": "markdown",
   "metadata": {},
   "source": [
    "我们之前有个学生项目，是建模沙漏漏完的时间和沙漏角度、高度等变量之间的关系。\n",
    "\n",
    "这个模型有一些复杂，让我们来做一个相对更简单的例子。\n",
    "\n",
    "我们假设一个二维的杯子，我们向这个杯子里面不停地放半径相同的圆形。我们想知道整体珠子高度（最高一颗珠子的圆心）和珠子颗数的关系。\n",
    "\n",
    "下面我们来开始编写编程的prompt"
   ]
  },
  {
   "cell_type": "markdown",
   "metadata": {},
   "source": [
    "---\n",
    "\n",
    "在一个宽度为100，高300的二维杯子里，不停放入半径为8的圆形小球。圆形小球和杯子之间发生完全非弹性碰撞\n",
    "\n",
    "我想记录放入小球个数和最高的那个小球的圆心之间的关系。并可视化到散点图。\n",
    "\n",
    "请用python为我实现。\n",
    "\n",
    "---"
   ]
  },
  {
   "cell_type": "code",
   "execution_count": 1,
   "metadata": {},
   "outputs": [
    {
     "data": {
      "image/png": "[encoded data removed]",
      "text/plain": [
       "<Figure size 432x288 with 1 Axes>"
      ]
     },
     "metadata": {
      "needs_background": "light"
     },
     "output_type": "display_data"
    }
   ],
   "source": [
    "import matplotlib.pyplot as plt\n",
    "\n",
    "def simulate_balls(cup_width, ball_radius, max_balls):\n",
    "    positions = []  # List to store the positions of the balls (x, y)\n",
    "    heights = []  # List to store the heights of each ball added\n",
    "    \n",
    "    def find_position(new_radius):\n",
    "        # Function to find the correct position for the new ball\n",
    "        for x in range(0, cup_width, 2*new_radius):\n",
    "            y = new_radius  # start with the radius (ball sitting on the cup's bottom)\n",
    "            for (existing_x, existing_y) in positions:\n",
    "                # Check if the new ball overlaps vertically with an existing ball\n",
    "                distance = ((existing_x - x)**2 + (existing_y - y)**2)**0.5\n",
    "                if distance < 2 * new_radius:\n",
    "                    # Move the new ball on top of the existing one if overlapping\n",
    "                    y = max(y, existing_y + 2 * new_radius)\n",
    "            if x + new_radius <= cup_width:\n",
    "                return x, y\n",
    "        return None  # No valid position found within the cup width\n",
    "\n",
    "    for _ in range(max_balls):\n",
    "        pos = find_position(ball_radius)\n",
    "        if pos is None:\n",
    "            break  # Stop if no position is found\n",
    "        positions.append(pos)\n",
    "        heights.append(pos[1])  # Store the height of each ball's center\n",
    "\n",
    "    return heights\n",
    "\n",
    "# Parameters\n",
    "cup_width = 100\n",
    "ball_radius = 8\n",
    "max_balls = 100\n",
    "\n",
    "# Simulate\n",
    "heights = simulate_balls(cup_width, ball_radius, max_balls)\n",
    "\n",
    "# Plot\n",
    "plt.scatter(range(1, len(heights) + 1), heights, color='blue')\n",
    "plt.title('Relationship between Number of Balls and the Height of the Top Ball')\n",
    "plt.xlabel('Number of Balls')\n",
    "plt.ylabel('Height of the Top Ball Center')\n",
    "plt.grid(True)\n",
    "plt.show()\n"
   ]
  },
  {
   "cell_type": "markdown",
   "metadata": {},
   "source": [
    "当然这样我们也无法验证这个程序是不是对的\n",
    "\n",
    "其实很有可能是错的，那怎么办呢？ 我们可以用更动态的方法来进行模拟。\n",
    "\n",
    "我们使用一个叫做pymunk的物理模拟引擎。"
   ]
  },
  {
   "cell_type": "markdown",
   "metadata": {},
   "source": [
    "---\n",
    "\n",
    "我希望实现一个pymunk的物理模拟程序\n",
    "\n",
    "先定义一个宽度为100，高度为300的二维杯子（上方开口，用三面刚性的墙壁来定义这个杯子）\n",
    "\n",
    "定义radius = 8\n",
    "\n",
    "初始化highest_ball 为 杯底高度\n",
    "\n",
    "依次放入50颗小球，每次放入小球后，允许小球运动一段短的时间，并更新 highest_ball\n",
    "\n",
    "然后在highest_ball + 5 * radius的地方放置一个新的小球\n",
    "\n",
    "小球之间以及小球和杯子之间发生完全非弹性碰撞\n",
    "\n",
    "记录每个小球的序号\n",
    "\n",
    "在结束的时候，按顺序输出每个小球的圆心高度到excel表格\n",
    "\n",
    "---\n",
    "\n",
    "我发现这个prompt似乎有一些复杂了，那让我们把任务分解一下\n",
    "\n",
    "- 先用pymunk写一个交互模拟数据\n",
    "- 再记录数字"
   ]
  },
  {
   "cell_type": "markdown",
   "metadata": {},
   "source": [
    "```\n",
    "我希望实现一个pymunk的物理模拟程序\n",
    "\n",
    "先定义一个宽度为100，高度为height = 300的二维杯子（上方开口，用三面刚性的墙壁来定义这个杯子）\n",
    "\n",
    "我希望每次空格按下的时候，在杯口位置渲染一个小球落下\n",
    "```\n"
   ]
  },
  {
   "cell_type": "markdown",
   "metadata": {},
   "source": [
    "ChatGLM 第一次给我写的程序有一些小错误，这个代码在 pygame_codes/13_wrong_direction.py 中\n",
    "\n",
    "有两个明显的错误，一是重力方向是反的。二是我们需要杯口是向上的\n",
    "\n",
    "所以我们让他修改一下程序\n",
    "\n",
    "```\n",
    "这段程序可以顺利运行，但是重力方向是反的，\n",
    "\n",
    "同时，杯口是向下的，需要把横边渲染到杯底\n",
    "```"
   ]
  },
  {
   "cell_type": "markdown",
   "metadata": {},
   "source": [
    "我们在第二次修改后，还是没有得到正确的代码\n",
    "\n",
    "这个时候我们只能手工修改一下，这里我们在 pygame_codes/13_fix_wrong_direction.py 中，手工修改了两处代码，程序显得可以正常运行了\n",
    "\n",
    "观察这个程序一共有三个部分"
   ]
  },
  {
   "cell_type": "markdown",
   "metadata": {},
   "source": [
    "初始化部分"
   ]
  },
  {
   "cell_type": "code",
   "execution_count": null,
   "metadata": {},
   "outputs": [],
   "source": [
    "import pymunk\n",
    "import pygame\n",
    "import sys\n",
    "\n",
    "# 初始化pygame\n",
    "pygame.init()\n",
    "\n",
    "# 设置屏幕大小\n",
    "width, height = 600, 400\n",
    "screen = pygame.display.set_mode((width, height))\n",
    "\n",
    "# 设置时钟\n",
    "clock = pygame.time.Clock()\n",
    "\n",
    "# 创建一个空间\n",
    "space = pymunk.Space()\n",
    "# space.gravity = (0, 981)  # 设置重力，向下\n",
    "# 手工修改\n",
    "space.gravity = (0, - 981)  # 设置重力，向下\n",
    "\n",
    "\n",
    "# 杯子的尺寸\n",
    "cup_width = 100\n",
    "cup_height = 300\n",
    "cup_x = 50  # 杯子左侧的x坐标\n",
    "cup_y = height - 50  # 杯子底部的y坐标\n",
    "\n",
    "# 创建杯子的墙壁\n",
    "static_lines = [\n",
    "    pymunk.Segment(space.static_body, (cup_x, cup_y), (cup_x, cup_y - cup_height), 5),\n",
    "    pymunk.Segment(space.static_body, (cup_x, cup_y - cup_height), (cup_x + cup_width, cup_y - cup_height), 5),\n",
    "    pymunk.Segment(space.static_body, (cup_x + cup_width, cup_y - cup_height), (cup_x + cup_width, cup_y), 5)\n",
    "]\n",
    "\n",
    "for line in static_lines:\n",
    "    line.elasticity = 0.5\n",
    "    line.friction = 0.5\n",
    "    space.add(line)"
   ]
  },
  {
   "cell_type": "markdown",
   "metadata": {},
   "source": [
    "渲染部分"
   ]
  },
  {
   "cell_type": "code",
   "execution_count": null,
   "metadata": {},
   "outputs": [],
   "source": [
    "# 渲染函数\n",
    "def draw(space):\n",
    "    screen.fill((255, 255, 255))\n",
    "    \n",
    "    # 绘制墙壁\n",
    "    for line in static_lines:\n",
    "        body = line.body\n",
    "        pv1 = body.position + line.a.rotated(body.angle)\n",
    "        pv2 = body.position + line.b.rotated(body.angle)\n",
    "        p1 = to_pygame(pv1)\n",
    "        p2 = to_pygame(pv2)\n",
    "        pygame.draw.lines(screen, (0, 0, 0), False, [p1, p2])\n",
    "\n",
    "    # 绘制小球\n",
    "    for ball in balls:\n",
    "        pos = ball.body.position\n",
    "        pygame.draw.circle(screen, (0, 0, 255), to_pygame(pos), int(ball.radius), 2)\n",
    "\n",
    "    pygame.display.flip()\n"
   ]
  },
  {
   "cell_type": "markdown",
   "metadata": {},
   "source": [
    "生成和控制部分"
   ]
  },
  {
   "cell_type": "code",
   "execution_count": null,
   "metadata": {},
   "outputs": [],
   "source": [
    "\n",
    "# 将pymunk坐标转换为pygame坐标\n",
    "def to_pygame(p):\n",
    "    return int(p.x), int(-p.y + height)\n",
    "\n",
    "# 主循环\n",
    "balls = []\n",
    "running = True\n",
    "while running:\n",
    "    for event in pygame.event.get():\n",
    "        if event.type == pygame.QUIT:\n",
    "            running = False\n",
    "        elif event.type == pygame.KEYDOWN and event.key == pygame.K_SPACE:\n",
    "            # 在杯口位置添加小球\n",
    "            mass = 10\n",
    "            radius = 10\n",
    "            moment = pymunk.moment_for_circle(mass, 0, radius)\n",
    "            body = pymunk.Body(mass, moment)\n",
    "            # body.position = cup_x + cup_width / 2, cup_y - cup_height\n",
    "            # 手工修改\n",
    "            body.position = cup_x + cup_width / 2, cup_y\n",
    "            shape = pymunk.Circle(body, radius)\n",
    "            shape.elasticity = 0.5\n",
    "            space.add(body, shape)\n",
    "            balls.append(shape)\n",
    "\n",
    "    # 模拟\n",
    "    space.step(1/50.0)\n",
    "    \n",
    "    # 渲染\n",
    "    draw(space)\n",
    "    \n",
    "    # 控制帧率\n",
    "    clock.tick(50)\n",
    "\n",
    "pygame.quit()\n",
    "sys.exit()\n"
   ]
  },
  {
   "cell_type": "markdown",
   "metadata": {},
   "source": [
    "这里我们要注意到pymunk的坐标系和pygame的坐标系有所不同\n",
    "\n",
    "这里ChatGLM使用了一个to_pygame进行转换\n",
    "\n",
    "这个不同也是ChatGPT们都写不好这个程序的原因"
   ]
  },
  {
   "cell_type": "markdown",
   "metadata": {},
   "source": [
    "这里我们进一步把这个程序修改\n",
    "\n",
    "- 把球的x位置改为从radius到杯子宽度-radius之间随机生成\n",
    "- 注意到之前的程序小球半径并不是8，重新修改为8\n",
    "\n",
    "修改后的程序在pygame_codes/13_random_x_position.py，已经能够较好的实现我们的第一步。\n",
    "\n",
    "【这里补一张截图】"
   ]
  },
  {
   "cell_type": "markdown",
   "metadata": {},
   "source": [
    "我们的下一步，就是增加记录小球位置的功能。"
   ]
  },
  {
   "cell_type": "markdown",
   "metadata": {},
   "source": [
    "---\n",
    "\n",
    "{贴上pygame_codes/13_random_x_position.py的代码}\n",
    "\n",
    "这段代码可以顺利运行\n",
    "\n",
    "我希望每次引入新小球的时候，把之前所有小球的位置（记住小球的顺序）\n",
    "\n",
    "更新保存到一个list of tuple中，（记住每次按下空格的时候都会更新之前所有小球的位置）\n",
    "\n",
    "并且当按下s键时，帮我把小球的序号、y 存储到data/ball_heights.csv中"
   ]
  },
  {
   "cell_type": "markdown",
   "metadata": {},
   "source": [
    "我们发现这批数据是从62.8左右开始的。这是由于杯子的地步是渲染在大致50的位置，并且杯壁其实有5像素左右的厚度。\n",
    "\n",
    "55加上半径8，就是63了\n",
    "\n",
    "我们想看看，随着小球数量的变多，最高的那个小球的中心位置，是什么样一个关系"
   ]
  },
  {
   "cell_type": "markdown",
   "metadata": {},
   "source": [
    "----\n",
    "\n",
    "data/ball_heights.csv存储的数据如下\n",
    "\n",
    "Ball Index,Y Position\n",
    "0,62.90499694130368\n",
    "1,62.837123886492954\n",
    "2,62.73808217542311\n",
    "3,62.87287239268411\n",
    "\n",
    "请用线性拟合，拟合y和球数量之间的关系，用plt画出对应的可视化，并告诉我斜率\n",
    "\n"
   ]
  },
  {
   "cell_type": "code",
   "execution_count": 1,
   "metadata": {},
   "outputs": [
    {
     "data": {
      "image/png": "[encoded data removed]",
      "text/plain": [
       "<Figure size 432x288 with 1 Axes>"
      ]
     },
     "metadata": {
      "needs_background": "light"
     },
     "output_type": "display_data"
    },
    {
     "name": "stdout",
     "output_type": "stream",
     "text": [
      "斜率是 2.6178376808391057\n"
     ]
    }
   ],
   "source": [
    "import pandas as pd\n",
    "import numpy as np\n",
    "import matplotlib.pyplot as plt\n",
    "from scipy.stats import linregress\n",
    "\n",
    "# Load the CSV data\n",
    "# file_path = '/mnt/data/ball_heights.csv'\n",
    "# 修改文件路径\n",
    "file_path = 'data/ball_heights.csv'\n",
    "data = pd.read_csv(file_path)\n",
    "\n",
    "# Perform linear regression\n",
    "slope, intercept, r_value, p_value, std_err = linregress(data['Ball Index'], data['Y Position'])\n",
    "\n",
    "# Create a range of x values for plotting the regression line\n",
    "x_regression = np.linspace(min(data['Ball Index']), max(data['Ball Index']), 100)\n",
    "\n",
    "# Calculate the y values for the regression line\n",
    "y_regression = slope * x_regression + intercept\n",
    "\n",
    "# Plot the original data points\n",
    "plt.scatter(data['Ball Index'], data['Y Position'], label='Data Points')\n",
    "\n",
    "# Plot the regression line\n",
    "plt.plot(x_regression, y_regression, color='red', label='Regression Line')\n",
    "\n",
    "# Add labels and title\n",
    "plt.xlabel('Ball Index')\n",
    "plt.ylabel('Y Position')\n",
    "plt.title('Linear Regression Fit of Y Position vs. Ball Index')\n",
    "\n",
    "# Show the plot\n",
    "plt.legend()\n",
    "plt.show()\n",
    "\n",
    "print(\"斜率是\", slope)\n"
   ]
  },
  {
   "cell_type": "markdown",
   "metadata": {},
   "source": [
    "也就是说，每增加一个小球，高度会增加2.618左右\n",
    "\n",
    "事实上，我们可以用简单的建模来考虑这个高度增加"
   ]
  },
  {
   "cell_type": "markdown",
   "metadata": {},
   "source": [
    "最简单的情况下，我们可以假设小球是一个“液滴”，\n",
    "\n",
    "那样一个小球会增加pi radius^2的面积，这些面积会全部分布在宽度100的杯子中，所以这个时候我们计算出的一个理论斜率下界是"
   ]
  },
  {
   "cell_type": "code",
   "execution_count": 2,
   "metadata": {},
   "outputs": [
    {
     "name": "stdout",
     "output_type": "stream",
     "text": [
      "理论斜率下界是 2.0106192982974678\n"
     ]
    }
   ],
   "source": [
    "radius = 8\n",
    "from math import pi\n",
    "\n",
    "# 计算理论斜率下界\n",
    "slope_lower_bound = pi * radius**2 / 100\n",
    "\n",
    "print(\"理论斜率下界是\", slope_lower_bound)"
   ]
  },
  {
   "cell_type": "markdown",
   "metadata": {},
   "source": [
    "因为小球有空隙，所以实际斜率肯定比这个理论斜率要高一些。\n",
    "\n",
    "更进一步，我们假设小球是蜂窝状密堆的，这样可以计算出一个更紧凑的密堆下界\n",
    "\n",
    "即密堆时，总面积闭上小球的实际面积，等于\n",
    "\n",
    "边长为16的一个正三角形，比上半圆的面积，这个面积比是"
   ]
  },
  {
   "cell_type": "code",
   "execution_count": 5,
   "metadata": {},
   "outputs": [
    {
     "name": "stdout",
     "output_type": "stream",
     "text": [
      "1.1026577908435842\n"
     ]
    }
   ],
   "source": [
    "from math import sqrt\n",
    "print(8*8*sqrt(3) / (8*8*pi/2) )"
   ]
  },
  {
   "cell_type": "markdown",
   "metadata": {},
   "source": [
    "我们拿这个系数去修正之前的液体估计的下界，得到新的下界是"
   ]
  },
  {
   "cell_type": "code",
   "execution_count": 6,
   "metadata": {},
   "outputs": [
    {
     "name": "stdout",
     "output_type": "stream",
     "text": [
      "新的下界是 2.2170250336881634\n"
     ]
    }
   ],
   "source": [
    "a = 8*8*sqrt(3) / (8*8*pi/2) \n",
    "slope_lower_bound = pi * radius**2 / 100\n",
    "new_bound = slope_lower_bound * a\n",
    "print(\"新的下界是\", new_bound)\n"
   ]
  },
  {
   "cell_type": "markdown",
   "metadata": {},
   "source": [
    "这个新的下界已经比之前要更接近2.6178了，由于小球在桶内并没办法实现真正的二维密堆，所以真实的系数总是要比密堆的理论下界要更高一些。\n",
    "\n",
    "## 课堂练习\n",
    "\n",
    "- 修改代码，看看不同的半径、不同杯壁大小影响下。模拟的数据有什么不同"
   ]
  },
  {
   "cell_type": "code",
   "execution_count": null,
   "metadata": {},
   "outputs": [],
   "source": []
  },
  {
   "cell_type": "markdown",
   "metadata": {},
   "source": [
    "## 小结\n",
    "\n",
    "可以注意到这节课我们先使用了pymunk进行物理模拟\n",
    "\n",
    "然后对模拟的数据，使用了上节课学习的机器学习工具来进行回归。并且得到了一个实际模型中的某个系数\n",
    "\n"
   ]
  },
  {
   "cell_type": "markdown",
   "metadata": {},
   "source": []
  }
 ],
 "metadata": {
  "kernelspec": {
   "display_name": "Python 3",
   "language": "python",
   "name": "python3"
  },
  "language_info": {
   "codemirror_mode": {
    "name": "ipython",
    "version": 3
   },
   "file_extension": ".py",
   "mimetype": "text/x-python",
   "name": "python",
   "nbconvert_exporter": "python",
   "pygments_lexer": "ipython3",
   "version": "3.8.5"
  }
 },
 "nbformat": 4,
 "nbformat_minor": 2
}
