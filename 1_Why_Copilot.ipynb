{
 "cells": [
  {
   "cell_type": "markdown",
   "metadata": {},
   "source": [
    "# 李鲁鲁老师的Python课程 第一课\n",
    "\n",
    "- 在有Copilot的情况下，Python学习有什么不同\n",
    "- 开发这门课程的动机说明\n",
    "- 什么样的开发项目会选用Python\n",
    "- Notebook的使用说明\n"
   ]
  },
  {
   "cell_type": "markdown",
   "metadata": {},
   "source": [
    "## Hello, World! 但是以自然语言形式\n",
    "\n",
    "我现在开始这个项目的时间是2024年的6月底。我希望在夏天的时间，能够完成一个16节左右课时的建设。\n",
    "\n",
    "让我先来说明编写这个课程最大的动机，那就是\n",
    "\n",
    "**以自然语言为主导的开发流程，将渐渐成为主流**\n",
    "\n",
    "或者说\n",
    "\n",
    "**会有越来越大比例的开发者，开始使用AI辅助编程的工具。**\n",
    "\n",
    "那么对应的如果你是一个刚接触编程的新手，那么很适合在你学习编程的第一天，或者第二个学期，就开始使用AI辅助的编程。\n",
    "\n",
    "我会在后面更详细地展开这门课程编写地动机，以及这门课程地设计理念。"
   ]
  },
  {
   "cell_type": "markdown",
   "metadata": {},
   "source": [
    "### 让我们赶快开始第一个例子\n",
    "\n",
    "这里无论你使用 ChatGLM.cn， 文心一言， Claude， ChatGPT还是任何你可以访问到的编程工具，应该都是可以的。（以下我们简单用ChatGPT来代指这个工具）\n",
    "\n",
    "在ChatGPT中输入下面信息\n",
    "\n",
    "```\n",
    "请为我用Python实现一段Hello World的代码\n",
    "```"
   ]
  },
  {
   "cell_type": "markdown",
   "metadata": {},
   "source": [
    "这个时候你会得到返回的代码\n",
    "\n",
    "运行下面这个cell （或者按shift+enter）"
   ]
  },
  {
   "cell_type": "code",
   "execution_count": 1,
   "metadata": {},
   "outputs": [
    {
     "name": "stdout",
     "output_type": "stream",
     "text": [
      "Hello World\n"
     ]
    }
   ],
   "source": [
    "# 这是一个简单的Python程序，用于打印“Hello World”\n",
    "\n",
    "def main():\n",
    "    # 打印“Hello World”到控制台\n",
    "    print(\"Hello World\")\n",
    "\n",
    "# 调用主函数\n",
    "if __name__ == \"__main__\":\n",
    "    main()\n"
   ]
  },
  {
   "cell_type": "markdown",
   "metadata": {},
   "source": [
    "```python\n",
    "print(\"Hello World\")\n",
    "```\n",
    "\n",
    "是所有编程学习的时候，会学习的第一句话。\n",
    "\n",
    "因为他功能特别少，也特别容易被实现。\n",
    "\n",
    "但是，这个例子太无聊了！\n",
    "\n",
    "在之前的课程设计中，我们发现有摄像头的时候课程会非常有趣\n",
    "\n",
    "那么我们能不能实现一个利用了摄像头的简易程序呢？"
   ]
  },
  {
   "cell_type": "markdown",
   "metadata": {},
   "source": [
    "## 摄像头的Hello World\n",
    "\n",
    "在ChatGPT中输入下面的prompt\n",
    "\n",
    "对了，我们把输入ChatGPT中，让他执行的这个命令叫做prompt(提示词) （是prompt不是promote哟）\n",
    "\n",
    "```\n",
    "请帮我实现一个python的摄像头循环，按q键退出\n",
    "```"
   ]
  },
  {
   "cell_type": "code",
   "execution_count": 2,
   "metadata": {},
   "outputs": [],
   "source": [
    "import cv2\n",
    "\n",
    "def main():\n",
    "    # 打开摄像头\n",
    "    cap = cv2.VideoCapture(0)\n",
    "\n",
    "    if not cap.isOpened():\n",
    "        print(\"无法打开摄像头\")\n",
    "        return\n",
    "\n",
    "    while True:\n",
    "        # 读取摄像头的帧\n",
    "        ret, frame = cap.read()\n",
    "        if not ret:\n",
    "            print(\"无法读取帧\")\n",
    "            break\n",
    "\n",
    "        # 显示帧\n",
    "        cv2.imshow('Camera Feed', frame)\n",
    "\n",
    "        # 按下'q'键退出循环\n",
    "        if cv2.waitKey(1) & 0xFF == ord('q'):\n",
    "            break\n",
    "\n",
    "    # 释放摄像头并关闭所有窗口\n",
    "    cap.release()\n",
    "    cv2.destroyAllWindows()\n",
    "\n",
    "if __name__ == \"__main__\":\n",
    "    main()\n"
   ]
  },
  {
   "cell_type": "markdown",
   "metadata": {},
   "source": [
    "哦对了，这个程序在实际上课的时候偶尔会造成一个小麻烦\n",
    "\n",
    "比如学生是错误退出，或者是ctrl+C退出，反正就是没有执行到cap.release()的时候\n",
    "\n",
    "这个时候摄像头会没有正确关闭，这个时候就需要去\"Restart Kernel\"\n",
    "\n",
    "反正就是\"重启一下就好了”"
   ]
  },
  {
   "cell_type": "markdown",
   "metadata": {},
   "source": [
    "## 改进刚才的程序\n",
    "\n",
    "我们发现刚才的程序会有一些问题，比如我举左手的时候，我看到的是画面中的“右手”举起的\n",
    "\n",
    "那这个时候，我需要显示的图片是镜像的\n",
    "\n",
    "那我可以怎么做呢？很简单\n",
    "\n",
    "你可以在连续对话中继续输入\n",
    "\n",
    "```\n",
    "刚才的代码可以正常运行\n",
    "\n",
    "但是我希望显示的图片进行左右的镜像，请为我实现\n",
    "```\n",
    "\n",
    "在这里我们不给出代码了，请自行把代码贴过来进行运行吧"
   ]
  },
  {
   "cell_type": "code",
   "execution_count": 3,
   "metadata": {},
   "outputs": [],
   "source": [
    "# 把改进后的代码贴在这里进行运行"
   ]
  },
  {
   "cell_type": "markdown",
   "metadata": {},
   "source": [
    "## 传统的开发 和 与ChatGPT协同开发有什么不同\n",
    "\n",
    "\n",
    "这里我们不妨花时间讨论一下，传统的Python开发和 与ChatGPT协同开发有什么不同？\n",
    "\n",
    "当然你也可以把这个问题直接抛给ChatGPT，问问他的意见\n",
    "\n",
    "当然，一般来说语言模型会给你一个中庸而刻板的回复。\n",
    "\n",
    "在这个基础上，和老师讨论一下，这两者有什么不同呢？"
   ]
  },
  {
   "cell_type": "markdown",
   "metadata": {},
   "source": [
    "我觉得下面几个点对于我们这门课程来说是比较核心的\n",
    "\n",
    "- 开发代码的时候，你更多考虑的是上层的开发需求，而不是底层的代码\n",
    "- 拥有Copilot的时候，可以更快速的获得一些库的使用支持，而不需要先花时间学习这些库的基础调用\n",
    "\n",
    "在我小的时候，信息技术上会提到所谓“第五代编程语言”的概念，说以后计算机人只要和他说话就可以，他自己会去做事情。那么其实有了ChatGPT的协同开发，很大程度上就会做到这一点。\n",
    "\n",
    "截止2024年李鲁鲁老师已经33岁了，对于很多底层库的调用指令已经记忆得不是很清晰了。这个时候ChatGPT得出现很大程度上延续了我们这些更大年纪得开发者的工作寿命。只要我们清楚自己要开发什么，程序是怎么设计的，就能在Copilot工具的帮助下去完成代码。\n",
    "\n",
    "对于青少年，以及编程的入门者来说，ChatGPT可以更快速地帮助同学们进入一个“实际可用”的应用程序。特别是当你希望开发一些小应用的“原型”的时候，显然有ChatGPT这样的工具是更方便的。我在23年末的时候在DataWhale社区听说了一个更实际地例子。有一个做金融量化的同学，在2023年8月左右开始使用ChatGPT协同Python编程实践自己的投资策略。到了2024年初已经顺利拿到了私募基金的offer。当然，这个同学本身是学习数学的，他的研究生就是在上海大学做投资策略的一些研究。但是在ChatGPT以前，实践策略往往需要一个学数学的同学加上代码同学的配合，才能完成。或者一个人同时具有两方面的技能。但是在ChatGPT的帮助下，他自己一个人就可以完成策略的回测等工作，并且在此之前他完全没有python编程的基础。这在过往（2022年之前）是完全不可思议的。"
   ]
  },
  {
   "cell_type": "markdown",
   "metadata": {},
   "source": [
    "## 什么样的开发项目会选用Python\n",
    "\n",
    "实际上Python语言的兴起是伴随着整个AI以及相关的社区去纷纷选择Python作为主要开发语言而造成的\n",
    "\n",
    "根据我们过往的一些带学生的经验，当你的项目满足下面特点的时候，你就适合来使用Python进行开发\n",
    "\n",
    "- 使用AI工具，包括计算机视觉和语言模型\n",
    "- 要进行数据分析和可视化\n",
    "- 要进行数学建模和数值模拟\n",
    "- 简单的物理模拟\n",
    "- 非常简单的游戏，比较接近数值的游戏，更复杂的游戏就适合用游戏引擎了\n",
    "- 和网络进行简单的交互\n",
    "- 对开发效率的追求远大于对运行速度的追求\n",
    "\n",
    "而且Python有很多的库会支持丰富的应用的开发。作为学生项目来说，是十分方便的。\n"
   ]
  },
  {
   "cell_type": "markdown",
   "metadata": {},
   "source": [
    "## 和过往以及其他编程课程的不同\n",
    "\n",
    "对于中学生来说，有一套明显可以对比的学习路线就是信息学竞赛的学习\n",
    "\n",
    "信息学竞赛更注重对于离散数学和对应算法的掌握。而在有co-pilot的情况下\n",
    "\n",
    "显然我们就无法去评判一个同学“默写”实现算法的能力了。\n",
    "\n",
    "当然，一个对算法有了解的同学在使用prompt实现程序的时候，往往也能写出更优秀的程序\n",
    "\n",
    "我们应该会在这套课程里面，设计一个可以使用到一两个信息学竞赛算法的例子。\n",
    "\n",
    "我觉得从社会的需求上来说，我们仍然需要一小部分尖端人才去学习算法，\n",
    "\n",
    "这样对于很多底层的架构和代码的优化工作，显然是有帮助的。\n",
    "\n",
    "而对于更多的结合计算机的其他应用岗位来说，至少在工作中都更适合和co-pilot进行相互的结合\n",
    "\n",
    "那么在教学上显然copilot结合的方式也会慢慢得渗透进去。\n",
    "\n",
    "掌握和计算机协同进化的人，平均来说会在社会上取得领先的身位。\n",
    "\n",
    "当然这个课可能还会有一些其他的特点\n",
    "\n",
    "- 整体的“代码量”会更大，毕竟很多代码是ChatGPT写的\n",
    "- 对应的代码阅读、理解、调试的任务会更重一些。\n",
    "- 我们会多讲一些上层的更接近代码设计的东西\n",
    "- 每节课会尽量引入一些多模态的交互的设计，增加课程的趣味性"
   ]
  },
  {
   "cell_type": "markdown",
   "metadata": {},
   "source": [
    "## 必要的notebook知识\n",
    "\n",
    "你至少需要知道下面的知识\n",
    "\n",
    "- Notebook的两种cell， text和代码cell\n",
    "- 如何在特定位置插入、删除一个cell\n",
    "- 如何运行特定的cell\n",
    "- 在notebook运行python代码，和直接运行一个.py文件有什么不同\n",
    "\n",
    "这里如果课时有多，老师可以进行一些必要的讲解\n",
    "\n",
    "或者同学们可以问ChatGPT更多的建议"
   ]
  },
  {
   "cell_type": "markdown",
   "metadata": {},
   "source": [
    "## 课下练习\n",
    "\n",
    "我们提供一些简单的程序目标供大家进行尝试"
   ]
  },
  {
   "cell_type": "markdown",
   "metadata": {},
   "source": [
    "- 下载图片并保存，给出一个url，让ChatGPT帮你下载图片并保存到本地\n",
    "- 播放特定的音符\n",
    "- 在屏幕上绘制一个爱心\n",
    "- 对特定的文本进行词频统计\n",
    "- 制作一个简单的正方形上下左右的游戏"
   ]
  },
  {
   "cell_type": "code",
   "execution_count": null,
   "metadata": {},
   "outputs": [],
   "source": []
  }
 ],
 "metadata": {
  "kernelspec": {
   "display_name": "Python 3",
   "language": "python",
   "name": "python3"
  },
  "language_info": {
   "codemirror_mode": {
    "name": "ipython",
    "version": 3
   },
   "file_extension": ".py",
   "mimetype": "text/x-python",
   "name": "python",
   "nbconvert_exporter": "python",
   "pygments_lexer": "ipython3",
   "version": "3.8.5"
  }
 },
 "nbformat": 4,
 "nbformat_minor": 2
}
