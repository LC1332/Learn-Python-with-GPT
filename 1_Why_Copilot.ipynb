{
 "cells": [
  {
   "cell_type": "markdown",
   "metadata": {},
   "source": [
    "# 李鲁鲁老师的Python课程 第一课\n",
    "\n",
    "- 在有Copilot的情况下，Python学习有什么不同\n",
    "- 开发这门课程的动机说明\n",
    "- 什么样的开发项目会选用Python\n",
    "- Notebook的使用说明\n"
   ]
  },
  {
   "cell_type": "markdown",
   "metadata": {},
   "source": [
    "## Hello, World! 但是以自然语言形式\n",
    "\n",
    "我现在开始这个项目的时间是2024年的6月底。我希望在夏天的时间，能够完成一个16节左右课时的建设。\n",
    "\n",
    "让我先来说明编写这个课程最大的动机，那就是\n",
    "\n",
    "**以自然语言为主导的开发流程，将渐渐成为主流**\n",
    "\n",
    "或者说\n",
    "\n",
    "**会有越来越大比例的开发者，开始使用AI辅助编程的工具。**\n",
    "\n",
    "那么对应的如果你是一个刚接触编程的新手，那么很适合在你学习编程的第一天，或者第二个学期，就开始使用AI辅助的编程。\n",
    "\n",
    "我会在后面更详细地展开这门课程编写地动机，以及这门课程地设计理念。"
   ]
  },
  {
   "cell_type": "markdown",
   "metadata": {},
   "source": [
    "### 让我们赶快开始第一个例子\n",
    "\n",
    "这里无论你使用 ChatGLM.cn， 文心一言， Claude， ChatGPT还是任何你可以访问到的编程工具，应该都是可以的。（以下我们简单用ChatGPT来代指这个工具）\n",
    "\n",
    "在ChatGPT中输入下面信息\n",
    "\n",
    "```\n",
    "请为我用Python实现一段Hello World的代码\n",
    "```"
   ]
  },
  {
   "cell_type": "markdown",
   "metadata": {},
   "source": [
    "这个时候你会得到返回的代码\n",
    "\n",
    "运行下面这个cell （或者按shift+enter）"
   ]
  },
  {
   "cell_type": "code",
   "execution_count": 1,
   "metadata": {},
   "outputs": [
    {
     "name": "stdout",
     "output_type": "stream",
     "text": [
      "Hello World\n"
     ]
    }
   ],
   "source": [
    "# 这是一个简单的Python程序，用于打印“Hello World”\n",
    "\n",
    "def main():\n",
    "    # 打印“Hello World”到控制台\n",
    "    print(\"Hello World\")\n",
    "\n",
    "# 调用主函数\n",
    "if __name__ == \"__main__\":\n",
    "    main()\n"
   ]
  },
  {
   "cell_type": "markdown",
   "metadata": {},
   "source": [
    "```python\n",
    "print(\"Hello World\")\n",
    "```\n",
    "\n",
    "是所有编程学习的时候，会学习的第一句话。\n",
    "\n",
    "因为他功能特别少，也特别容易被实现。\n",
    "\n",
    "但是，这个例子太无聊了！\n",
    "\n",
    "在之前的课程设计中，我们发现有摄像头的时候课程会非常有趣\n",
    "\n",
    "那么我们能不能实现一个利用了摄像头的简易程序呢？"
   ]
  },
  {
   "cell_type": "markdown",
   "metadata": {},
   "source": [
    "## 摄像头的Hello World\n",
    "\n",
    "在ChatGPT中输入下面的prompt\n",
    "\n",
    "对了，我们把输入ChatGPT中，让他执行的这个命令叫做prompt(提示词) （是prompt不是promote哟）\n",
    "\n",
    "```\n",
    "请帮我实现一个python的摄像头循环，按q键退出\n",
    "```"
   ]
  },
  {
   "cell_type": "code",
   "execution_count": 2,
   "metadata": {},
   "outputs": [],
   "source": [
    "import cv2\n",
    "\n",
    "def main():\n",
    "    # 打开摄像头\n",
    "    cap = cv2.VideoCapture(0)\n",
    "\n",
    "    if not cap.isOpened():\n",
    "        print(\"无法打开摄像头\")\n",
    "        return\n",
    "\n",
    "    while True:\n",
    "        # 读取摄像头的帧\n",
    "        ret, frame = cap.read()\n",
    "        if not ret:\n",
    "            print(\"无法读取帧\")\n",
    "            break\n",
    "\n",
    "        # 显示帧\n",
    "        cv2.imshow('Camera Feed', frame)\n",
    "\n",
    "        # 按下'q'键退出循环\n",
    "        if cv2.waitKey(1) & 0xFF == ord('q'):\n",
    "            break\n",
    "\n",
    "    # 释放摄像头并关闭所有窗口\n",
    "    cap.release()\n",
    "    cv2.destroyAllWindows()\n",
    "\n",
    "if __name__ == \"__main__\":\n",
    "    main()\n"
   ]
  },
  {
   "cell_type": "markdown",
   "metadata": {},
   "source": [
    "哦对了，这个程序在实际上课的时候偶尔会造成一个小麻烦\n",
    "\n",
    "比如学生是错误退出，或者是ctrl+C退出，反正就是没有执行到cap.release()的时候\n",
    "\n",
    "这个时候摄像头会没有正确关闭，这个时候就需要去\"Restart Kernel\"\n",
    "\n",
    "反正就是\"重启一下就好了”"
   ]
  },
  {
   "cell_type": "markdown",
   "metadata": {},
   "source": [
    "## 改进刚才的程序\n",
    "\n",
    "我们发现刚才的程序会有一些问题，比如我举左手的时候，我看到的是画面中的“右手”举起的\n",
    "\n",
    "那这个时候，我需要显示的图片是镜像的\n",
    "\n",
    "那我可以怎么做呢？很简单\n",
    "\n",
    "你可以在连续对话中继续输入\n",
    "\n",
    "```\n",
    "刚才的代码可以正常运行\n",
    "\n",
    "但是我希望显示的图片进行左右的镜像，请为我实现\n",
    "```\n",
    "\n",
    "在这里我们不给出代码了，请自行把代码贴过来进行运行吧"
   ]
  },
  {
   "cell_type": "code",
   "execution_count": 3,
   "metadata": {},
   "outputs": [],
   "source": [
    "# 把改进后的代码贴在这里进行运行"
   ]
  },
  {
   "cell_type": "markdown",
   "metadata": {},
   "source": [
    "## 传统的开发 和 与ChatGPT协同开发有什么不同\n",
    "\n",
    "\n",
    "这里我们不妨花时间讨论一下，传统的Python开发和 与ChatGPT协同开发有什么不同？\n",
    "\n",
    "当然你也可以把这个问题直接抛给ChatGPT，问问他的意见\n",
    "\n",
    "当然，一般来说语言模型会给你一个中庸而刻板的回复。\n",
    "\n",
    "在这个基础上，和老师讨论一下，这两者有什么不同呢？"
   ]
  },
  {
   "cell_type": "code",
   "execution_count": null,
   "metadata": {},
   "outputs": [],
   "source": []
  }
 ],
 "metadata": {
  "kernelspec": {
   "display_name": "Python 3",
   "language": "python",
   "name": "python3"
  },
  "language_info": {
   "codemirror_mode": {
    "name": "ipython",
    "version": 3
   },
   "file_extension": ".py",
   "mimetype": "text/x-python",
   "name": "python",
   "nbconvert_exporter": "python",
   "pygments_lexer": "ipython3",
   "version": "3.8.5"
  }
 },
 "nbformat": 4,
 "nbformat_minor": 2
}
