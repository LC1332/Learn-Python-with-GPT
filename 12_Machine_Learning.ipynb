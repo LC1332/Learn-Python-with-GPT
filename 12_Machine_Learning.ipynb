{
 "cells": [
  {
   "cell_type": "markdown",
   "metadata": {},
   "source": [
    "# 第十二课 机器学习"
   ]
  },
  {
   "cell_type": "markdown",
   "metadata": {},
   "source": [
    "机器学习在我们之前一套课程中，有非常经典的不编程的方法来进行教学。\n",
    "\n",
    "然而，这种上课的方式仍然要求学生去处理Excel的公式。\n",
    "\n",
    "显然，在有了ChatGPT协同编程之后，我们可以直接和ChatGPT沟通，用Python的来实现机器学习\n",
    "\n",
    "并且这样我们学到的机器学习方案，可以到时候直接迁移到真实数据中"
   ]
  },
  {
   "cell_type": "markdown",
   "metadata": {},
   "source": [
    "## 实验一\n"
   ]
  },
  {
   "cell_type": "code",
   "execution_count": null,
   "metadata": {},
   "outputs": [],
   "source": []
  }
 ],
 "metadata": {
  "language_info": {
   "name": "python"
  }
 },
 "nbformat": 4,
 "nbformat_minor": 2
}
