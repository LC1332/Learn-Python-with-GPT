{
 "cells": [
  {
   "cell_type": "markdown",
   "metadata": {},
   "source": [
    "# 4 李鲁鲁老师的Python课程 基础数据结构"
   ]
  },
  {
   "cell_type": "markdown",
   "metadata": {},
   "source": [
    "- [ ] List, Tuple, Dict，Set\n",
    "- [ ] 数字和String\n",
    "- [ ] Excel数据可视化"
   ]
  },
  {
   "cell_type": "markdown",
   "metadata": {},
   "source": [
    "这节课我们需要稍微讲解一下Python的基础数据结构\n",
    "\n",
    "如果整个班上的同学都已经学习过对应的内容，也可以跳过这节课的学习\n",
    "\n",
    "但是如果对于List, Tuple, Dict三者区别还不太清楚的同学，这节课还是要进行学习的\n",
    "\n",
    "这里有一个关键是，很多时候，我们要向ChatGPT清楚地描述我们一个任务的输入和输出是什么"
   ]
  },
  {
   "cell_type": "markdown",
   "metadata": {},
   "source": [
    "## 向ChatGPT学习这些数据结构\n",
    "\n",
    "这里我们还是希望同学们能够“学会如何向ChatGPT学习”，当然这很有可能是一句废话\n",
    "\n",
    "因为向ChatGPT提问这些基础知识实在是太简单了\n",
    "\n",
    "```\n",
    "对于Python的List, Tuple, Dictionary, Set各给出一个程序的例子\n",
    "\n",
    "并简单描述他们之间的不同以及各自的使用场景\n",
    "```"
   ]
  },
  {
   "cell_type": "markdown",
   "metadata": {},
   "source": [
    "<details>\n",
    "  <summary>ChatGPT的回复</summary>\n",
    "  \n",
    "好的，下面是Python中List, Tuple, Dictionary, Set的例子，并附上简单的描述和使用场景：\n",
    "\n",
    "### List\n",
    "\n",
    "List 是有序的、可变的集合。它允许重复的元素，可以随时添加、删除或修改元素。常用于需要动态调整内容的场景。\n",
    "\n",
    "```python\n",
    "# List example\n",
    "fruits = [\"apple\", \"banana\", \"cherry\"]\n",
    "fruits.append(\"orange\")\n",
    "print(fruits)  # Output: ['apple', 'banana', 'cherry', 'orange']\n",
    "```\n",
    "\n",
    "### Tuple\n",
    "\n",
    "Tuple 是有序的、不可变的集合。一旦创建，无法修改其内容。常用于存储不需要改变的数据，例如多返回值函数的返回值，或作为字典的键。\n",
    "\n",
    "```python\n",
    "# Tuple example\n",
    "coordinates = (10.0, 20.0)\n",
    "print(coordinates)  # Output: (10.0, 20.0)\n",
    "```\n",
    "\n",
    "### Dictionary\n",
    "\n",
    "Dictionary 是无序的键值对集合。键必须是唯一的且不可变的，值可以是任何类型。常用于需要快速查找的场景，例如配置文件、数据库记录等。\n",
    "\n",
    "```python\n",
    "# Dictionary example\n",
    "student = {\"name\": \"John\", \"age\": 21, \"courses\": [\"Math\", \"Science\"]}\n",
    "print(student[\"name\"])  # Output: John\n",
    "```\n",
    "\n",
    "### Set\n",
    "\n",
    "Set 是无序的、唯一元素的集合。用于去重和集合运算（交集、并集等）的场景。\n",
    "\n",
    "```python\n",
    "# Set example\n",
    "numbers = {1, 2, 3, 4, 4, 5}\n",
    "print(numbers)  # Output: {1, 2, 3, 4, 5}\n",
    "```\n",
    "\n",
    "### 区别和使用场景\n",
    "\n",
    "1. **List**: 有序且可变，适合需要动态调整元素的场景，如待办事项列表或需要频繁添加、删除元素的场景。\n",
    "\n",
    "2. **Tuple**: 有序且不可变，适合存储固定结构的数据，如函数返回的多值、数据库记录等。\n",
    "\n",
    "3. **Dictionary**: 无序的键值对集合，适合需要快速查找和存储数据关联关系的场景，如学生信息、配置文件等。\n",
    "\n",
    "4. **Set**: 无序且唯一元素的集合，适合去重和集合运算的场景，如处理独特元素的列表、数学集合运算等。\n",
    "\n",
    "这些数据结构各有优劣，选择合适的结构可以提高代码的效率和可读性。\n",
    "\n",
    "</details>"
   ]
  },
  {
   "cell_type": "markdown",
   "metadata": {},
   "source": [
    "这里简单说明一下要点"
   ]
  },
  {
   "cell_type": "markdown",
   "metadata": {},
   "source": [
    "## List\n",
    "\n",
    "List就是数组，或者C++中的vector，或者对于没学过编程的同学来说，就是一个从0开始编号的“数列”\n",
    "\n",
    "List的好处是他可以线性访问，对于一个list a来说 a[100] 可以直接被访问到，不需要花费额外的时间\n",
    "\n",
    "没有用的冷知识：当然对于Python来说，List有data type binding的特性，也就是List的每个元素的数据类型可以不一样，这一点和C是不一样的。\n",
    "\n",
    "不过很多时候，我们还是希望List的每个元素是“一致的”\n",
    "\n",
    "这样我们在和ChatGPT描述的时候，就可以说\n",
    "\n",
    "```\n",
    "{变量名} 是一个List of {数据类型}\n",
    "```\n",
    "\n",
    "比如\n",
    "\n",
    "```\n",
    "a 是一个List of int\n",
    "\n",
    "统计a里面最大和最小的数字是几位数，请用python为我实现\n",
    "```\n"
   ]
  },
  {
   "cell_type": "code",
   "execution_count": 1,
   "metadata": {},
   "outputs": [
    {
     "name": "stdout",
     "output_type": "stream",
     "text": [
      "列表中最大数字是 12345，它有 5 位\n",
      "列表中最小数字是 4，它有 1 位\n"
     ]
    }
   ],
   "source": [
    "# 定义一个包含整数的列表\n",
    "a = [123, 4, 56, 7890, 12345, 678]\n",
    "\n",
    "# 找到列表中的最大值和最小值\n",
    "max_num = max(a)\n",
    "min_num = min(a)\n",
    "\n",
    "# 计算最大值和最小值的位数\n",
    "max_num_digits = len(str(abs(max_num)))\n",
    "min_num_digits = len(str(abs(min_num)))\n",
    "\n",
    "# 输出结果\n",
    "print(f\"列表中最大数字是 {max_num}，它有 {max_num_digits} 位\")\n",
    "print(f\"列表中最小数字是 {min_num}，它有 {min_num_digits} 位\")\n"
   ]
  },
  {
   "cell_type": "markdown",
   "metadata": {},
   "source": [
    "## Tuple\n",
    "\n",
    "Tuple最大的用处在于函数返回\n",
    "\n",
    "```\n",
    "为我实现一个函数，输入是一个list of float\n",
    "\n",
    "输出是这个list的均值和方差\n",
    "```"
   ]
  },
  {
   "cell_type": "code",
   "execution_count": 1,
   "metadata": {},
   "outputs": [
    {
     "name": "stdout",
     "output_type": "stream",
     "text": [
      "均值: 3.4400000000000004\n",
      "方差: 2.2863999999999995\n"
     ]
    }
   ],
   "source": [
    "def calculate_mean_and_variance(numbers):\n",
    "    \"\"\"\n",
    "    计算列表的均值和方差\n",
    "\n",
    "    参数:\n",
    "    numbers (list of float): 输入的浮点数列表\n",
    "\n",
    "    返回:\n",
    "    tuple: 包含均值和方差的元组\n",
    "    \"\"\"\n",
    "    if not numbers:\n",
    "        raise ValueError(\"列表不能为空\")\n",
    "\n",
    "    # 计算均值\n",
    "    mean = sum(numbers) / len(numbers)\n",
    "\n",
    "    # 计算方差\n",
    "    variance = sum((x - mean) ** 2 for x in numbers) / len(numbers)\n",
    "\n",
    "    return mean, variance\n",
    "\n",
    "# 示例使用\n",
    "numbers = [1.5, 2.3, 3.1, 4.7, 5.6]\n",
    "mean, variance = calculate_mean_and_variance(numbers)\n",
    "print(\"均值:\", mean)\n",
    "print(\"方差:\", variance)\n"
   ]
  },
  {
   "cell_type": "markdown",
   "metadata": {},
   "source": [
    "这里calculate_mean_and_variance函数的返回就是一个tuple\n",
    "\n",
    "我们可以试试看下面的代码"
   ]
  },
  {
   "cell_type": "code",
   "execution_count": 2,
   "metadata": {},
   "outputs": [
    {
     "name": "stdout",
     "output_type": "stream",
     "text": [
      "(3.4400000000000004, 2.2863999999999995)\n"
     ]
    }
   ],
   "source": [
    "result = calculate_mean_and_variance(numbers)\n",
    "print(result)"
   ]
  },
  {
   "cell_type": "markdown",
   "metadata": {},
   "source": [
    "这个用括号包裹起来的两个数字，就是一个两个元素的tuple\n",
    "\n",
    "你还可以用a,b = result 来分别给a,b两个变量赋值\n",
    "\n",
    "不过tuple是我们比较少主动去使用的一种数据结构，还是在函数返回值的时候被最多见到"
   ]
  },
  {
   "cell_type": "markdown",
   "metadata": {},
   "source": [
    "## Set\n",
    "\n",
    "set没什么好说的，是一个无序的list，可以自动去掉里面重合的元素\n",
    "\n",
    "这个就不多说了"
   ]
  },
  {
   "cell_type": "markdown",
   "metadata": {},
   "source": [
    "## Dictionary\n",
    "\n",
    "字典是个非常重要的数据结构。我们先让ChatGPT给一个字典的简单介绍\n",
    "\n",
    "```\n",
    "简单介绍Python中的字典数据结构，并给出一个例子\n",
    "```\n",
    "\n"
   ]
  },
  {
   "cell_type": "markdown",
   "metadata": {},
   "source": [
    "<details>\n",
    "<summary> ChatGPT的输出  </summary>\n",
    "\n",
    "### Python中的字典数据结构\n",
    "\n",
    "Python中的字典（Dictionary）是一种内置的数据结构，它以键值对（key-value pair）的形式存储数据。字典具有以下几个特点：\n",
    "\n",
    "1. **无序**：在Python 3.7之前，字典中的元素是无序的。从Python 3.7开始，字典的插入顺序得到了保证，但这一点并不影响字典的主要特性。\n",
    "2. **键唯一**：字典中的键必须是唯一的，不能重复。相同的键会覆盖之前的值。\n",
    "3. **键的类型**：字典的键可以是任何不可变的数据类型，例如字符串、数字和元组。\n",
    "4. **可变性**：字典是可变的，可以动态地添加、修改和删除键值对。\n",
    "\n",
    "### 字典的基本操作\n",
    "\n",
    "以下是一些常见的字典操作：\n",
    "\n",
    "- **创建字典**：可以使用花括号 `{}` 或 `dict()` 函数创建字典。\n",
    "- **访问元素**：通过键来访问对应的值。\n",
    "- **添加/修改元素**：通过键来添加新键值对或修改已有键对应的值。\n",
    "- **删除元素**：可以使用 `del` 语句或 `pop()` 方法删除指定键值对。\n",
    "\n",
    "### 字典示例\n",
    "\n",
    "下面是一个字典的简单示例，展示了创建、访问、添加、修改和删除操作：\n",
    "\n",
    "```python\n",
    "# 创建一个字典\n",
    "student = {\n",
    "    \"name\": \"Alice\",\n",
    "    \"age\": 21,\n",
    "    \"major\": \"Computer Science\"\n",
    "}\n",
    "\n",
    "# 访问字典中的元素\n",
    "print(student[\"name\"])  # 输出: Alice\n",
    "print(student[\"age\"])   # 输出: 21\n",
    "\n",
    "# 添加一个新键值对\n",
    "student[\"gpa\"] = 3.8\n",
    "print(student)  # 输出: {'name': 'Alice', 'age': 21, 'major': 'Computer Science', 'gpa': 3.8}\n",
    "\n",
    "# 修改已有键的值\n",
    "student[\"age\"] = 22\n",
    "print(student)  # 输出: {'name': 'Alice', 'age': 22, 'major': 'Computer Science', 'gpa': 3.8}\n",
    "\n",
    "# 删除一个键值对\n",
    "del student[\"major\"]\n",
    "print(student)  # 输出: {'name': 'Alice', 'age': 22, 'gpa': 3.8}\n",
    "\n",
    "# 使用 pop() 方法删除键值对并返回值\n",
    "gpa = student.pop(\"gpa\")\n",
    "print(gpa)       # 输出: 3.8\n",
    "print(student)  # 输出: {'name': 'Alice', 'age': 22}\n",
    "```\n",
    "\n",
    "通过这些操作，你可以灵活地使用字典来存储和管理数据。在实际应用中，字典常用于存储配置信息、计数、分组数据等场景。\n",
    "\n",
    "</details>"
   ]
  },
  {
   "cell_type": "code",
   "execution_count": 1,
   "metadata": {},
   "outputs": [
    {
     "name": "stdout",
     "output_type": "stream",
     "text": [
      "Alice\n",
      "21\n",
      "{'name': 'Alice', 'age': 21, 'major': 'Computer Science', 'gpa': 3.8}\n",
      "{'name': 'Alice', 'age': 22, 'major': 'Computer Science', 'gpa': 3.8}\n",
      "{'name': 'Alice', 'age': 22, 'gpa': 3.8}\n",
      "3.8\n",
      "{'name': 'Alice', 'age': 22}\n"
     ]
    }
   ],
   "source": [
    "# 创建一个字典\n",
    "student = {\n",
    "    \"name\": \"Alice\",\n",
    "    \"age\": 21,\n",
    "    \"major\": \"Computer Science\"\n",
    "}\n",
    "\n",
    "# 访问字典中的元素\n",
    "print(student[\"name\"])  # 输出: Alice\n",
    "print(student[\"age\"])   # 输出: 21\n",
    "\n",
    "# 添加一个新键值对\n",
    "student[\"gpa\"] = 3.8\n",
    "print(student)  # 输出: {'name': 'Alice', 'age': 21, 'major': 'Computer Science', 'gpa': 3.8}\n",
    "\n",
    "# 修改已有键的值\n",
    "student[\"age\"] = 22\n",
    "print(student)  # 输出: {'name': 'Alice', 'age': 22, 'major': 'Computer Science', 'gpa': 3.8}\n",
    "\n",
    "# 删除一个键值对\n",
    "del student[\"major\"]\n",
    "print(student)  # 输出: {'name': 'Alice', 'age': 22, 'gpa': 3.8}\n",
    "\n",
    "# 使用 pop() 方法删除键值对并返回值\n",
    "gpa = student.pop(\"gpa\")\n",
    "print(gpa)       # 输出: 3.8\n",
    "print(student)  # 输出: {'name': 'Alice', 'age': 22}\n"
   ]
  },
  {
   "cell_type": "markdown",
   "metadata": {},
   "source": [
    "字典关键是可以有很多\"字段\"，这使得程序的可读性会上升很多\n",
    "\n",
    "因为你在List和Tuple中，都没办法用一个变量来表示一个字段，比如name，age，major，gpa这些字段\n",
    "\n",
    "但是在Dictionary结构里面，是可以的\n",
    "\n",
    "另外我们会发现，越来越多的大模型的api，也使用Dictionary的形式来作为输入和输出"
   ]
  },
  {
   "cell_type": "markdown",
   "metadata": {},
   "source": [
    "比如我们以智谱大模型的为例子\n",
    "\n",
    "```python\n",
    "\tfrom zhipuai import ZhipuAI\n",
    "client = ZhipuAI(api_key=\"\") # 填写您自己的APIKey\n",
    "response = client.chat.completions.create(\n",
    "    model=\"glm-4\",  # 填写需要调用的模型名称\n",
    "    messages=[\n",
    "        {\"role\": \"user\", \"content\": \"作为一名营销专家，请为智谱开放平台创作一个吸引人的slogan\"},\n",
    "        {\"role\": \"assistant\", \"content\": \"当然，为了创作一个吸引人的slogan，请告诉我一些关于您产品的信息\"},\n",
    "        {\"role\": \"user\", \"content\": \"智谱AI开放平台\"},\n",
    "        {\"role\": \"assistant\", \"content\": \"智启未来，谱绘无限一智谱AI，让创新触手可及!\"},\n",
    "        {\"role\": \"user\", \"content\": \"创造一个更精准、吸引人的slogan\"}\n",
    "    ],\n",
    ")\n",
    "print(response.choices[0].message)\n",
    "```\n",
    "\n",
    "他是这么调用的。这里messages就是一个list of dictionary\n",
    "\n",
    "另外，response的返回，实际上也是一个dictionary\n",
    "\n",
    "```json\n",
    "{\n",
    "  \"created\": 1703487403,\n",
    "  \"id\": \"8239375684858666781\",\n",
    "  \"model\": \"glm-4\",\n",
    "  \"request_id\": \"8239375684858666781\",\n",
    "  \"choices\": [\n",
    "      {\n",
    "          \"finish_reason\": \"stop\",\n",
    "          \"index\": 0,\n",
    "          \"message\": {\n",
    "              \"content\": \"智绘蓝图，AI驱动 —— 智谱AI，让每一刻创新成为可能。\",\n",
    "              \"role\": \"assistant\"\n",
    "          }\n",
    "      }\n",
    "  ],\n",
    "  \"usage\": {\n",
    "      \"completion_tokens\": 217,\n",
    "      \"prompt_tokens\": 31,\n",
    "      \"total_tokens\": 248\n",
    "  }\n",
    "}\n",
    "```\n",
    "\n",
    "这种数据结构被称为json数据结构\n",
    "\n",
    "## Python的Dictionary和json数据结构有什么联系和不同？\n",
    "\n",
    "```\n",
    "Python的Dictionary和json数据结构有什么联系和不同？\n",
    "```\n",
    "\n",
    "<details>\n",
    "<summary> ChatGPT的输出 </summary>\n",
    "\n",
    "### Python的Dictionary和JSON数据结构的联系和不同\n",
    "\n",
    "#### 联系\n",
    "\n",
    "1. **结构相似**：\n",
    "   - **键值对**：两者都是以键值对的形式存储数据。\n",
    "   - **嵌套**：两者都支持嵌套结构，即值可以是另一个字典或JSON对象。\n",
    "\n",
    "2. **数据类型**：\n",
    "   - **字典**：Python的字典可以存储任意数据类型的值，包括其他字典、列表、元组、字符串、数字等。\n",
    "   - **JSON**：JSON支持的基本数据类型包括字符串、数字、布尔值、数组（对应Python的列表）、对象（对应Python的字典）和null（对应Python的None）。\n",
    "\n",
    "3. **互相转换**：\n",
    "   - Python标准库提供了`json`模块，可以方便地将Python字典和JSON字符串进行互相转换。\n",
    "     - 使用`json.dumps()`将Python字典转换为JSON字符串。\n",
    "     - 使用`json.loads()`将JSON字符串转换为Python字典。\n",
    "\n",
    "#### 不同\n",
    "\n",
    "1. **语法差异**：\n",
    "   - **Python字典**：使用单引号或双引号表示字符串，键名不需要引号（如果键是字符串，则可以使用引号）。\n",
    "     ```python\n",
    "     student = {\n",
    "         \"name\": \"Alice\",\n",
    "         'age': 21,\n",
    "         \"major\": \"Computer Science\"\n",
    "     }\n",
    "     ```\n",
    "   - **JSON**：使用双引号表示字符串，键名必须使用双引号。\n",
    "     ```json\n",
    "     {\n",
    "         \"name\": \"Alice\",\n",
    "         \"age\": 21,\n",
    "         \"major\": \"Computer Science\"\n",
    "     }\n",
    "     ```\n",
    "\n",
    "2. **数据类型支持**：\n",
    "   - **Python字典**：支持更多的数据类型，如元组、集合、函数等。\n",
    "   - **JSON**：仅支持基本数据类型，如字符串、数字、布尔值、数组、对象和null。\n",
    "\n",
    "3. **用途**：\n",
    "   - **Python字典**：主要用于Python程序内部的数据存储和操作。\n",
    "   - **JSON**：主要用于数据交换格式，特别是在Web应用中用于客户端和服务器之间传递数据。\n",
    "\n",
    "#### 例子\n",
    "\n",
    "**Python字典转换为JSON字符串**\n",
    "\n",
    "```python\n",
    "import json\n",
    "\n",
    "# Python字典\n",
    "student_dict = {\n",
    "    \"name\": \"Alice\",\n",
    "    \"age\": 21,\n",
    "    \"major\": \"Computer Science\"\n",
    "}\n",
    "\n",
    "# 将字典转换为JSON字符串\n",
    "student_json = json.dumps(student_dict)\n",
    "print(student_json)  # 输出: {\"name\": \"Alice\", \"age\": 21, \"major\": \"Computer Science\"}\n",
    "```\n",
    "\n",
    "**JSON字符串转换为Python字典**\n",
    "\n",
    "```python\n",
    "import json\n",
    "\n",
    "# JSON字符串\n",
    "student_json = '{\"name\": \"Alice\", \"age\": 21, \"major\": \"Computer Science\"}'\n",
    "\n",
    "# 将JSON字符串转换为Python字典\n",
    "student_dict = json.loads(student_json)\n",
    "print(student_dict)  # 输出: {'name': 'Alice', 'age': 21, 'major': 'Computer Science'}\n",
    "```\n",
    "\n",
    "通过这些例子可以看出，Python的字典和JSON数据结构虽然有一些差异，但它们之间可以通过标准库的`json`模块进行方便的互相转换，从而实现数据在不同系统和平台之间的传递和使用。\n",
    "\n",
    "</details>"
   ]
  },
  {
   "cell_type": "markdown",
   "metadata": {},
   "source": [
    "简单来说，json是一个字符串类型地格式，和Python的dictionary可以有很良好的（一句代码就能实现的）转换\n",
    "\n",
    "因为类似ChatGPT的大语言模型天然对json数据格式有很好的输入输出。\n",
    "\n",
    "我们建议同学们更多地去掌握json数据结构，以及对应的在Python中使用字典作为主要的数据传输结构"
   ]
  },
  {
   "cell_type": "markdown",
   "metadata": {},
   "source": [
    "## 对Excel数据进行可视化\n",
    "\n",
    "在data/名单.xls 我们放置了一个excel文件\n",
    "\n",
    "是我在网上随便找的某年某省信息学奥赛入围名单\n",
    "\n",
    "让我们来做一个简单的任务，我们看看哪个学校入围的学生最多呢？\n",
    "\n",
    "```\n",
    "data/名单.xls\n",
    "\n",
    "第一行是各列的标题行\n",
    "\n",
    "请帮我实现一段代码，用pandas读取这个表格（所有列都进行读取）\n",
    "\n",
    "并统计各个学校入围的人数\n",
    "```\n"
   ]
  },
  {
   "cell_type": "markdown",
   "metadata": {},
   "source": []
  },
  {
   "cell_type": "code",
   "execution_count": 7,
   "metadata": {},
   "outputs": [
    {
     "ename": "ImportError",
     "evalue": "Pandas requires version '2.0.1' or newer of 'xlrd' (version '1.2.0' currently installed).",
     "output_type": "error",
     "traceback": [
      "\u001b[1;31m---------------------------------------------------------------------------\u001b[0m",
      "\u001b[1;31mImportError\u001b[0m                               Traceback (most recent call last)",
      "\u001b[1;32m~\\AppData\\Local\\Temp/ipykernel_25088/1718073740.py\u001b[0m in \u001b[0;36m<module>\u001b[1;34m\u001b[0m\n\u001b[0;32m      3\u001b[0m \u001b[1;31m# 读取 Excel 文件\u001b[0m\u001b[1;33m\u001b[0m\u001b[1;33m\u001b[0m\u001b[1;33m\u001b[0m\u001b[0m\n\u001b[0;32m      4\u001b[0m \u001b[0mfile_path\u001b[0m \u001b[1;33m=\u001b[0m \u001b[1;34m'data/名单.xls'\u001b[0m\u001b[1;33m\u001b[0m\u001b[1;33m\u001b[0m\u001b[0m\n\u001b[1;32m----> 5\u001b[1;33m \u001b[0mdf\u001b[0m \u001b[1;33m=\u001b[0m \u001b[0mpd\u001b[0m\u001b[1;33m.\u001b[0m\u001b[0mread_excel\u001b[0m\u001b[1;33m(\u001b[0m\u001b[0mfile_path\u001b[0m\u001b[1;33m)\u001b[0m\u001b[1;33m\u001b[0m\u001b[1;33m\u001b[0m\u001b[0m\n\u001b[0m\u001b[0;32m      6\u001b[0m \u001b[1;33m\u001b[0m\u001b[0m\n\u001b[0;32m      7\u001b[0m \u001b[1;31m# 显示读取的表格内容（可选）\u001b[0m\u001b[1;33m\u001b[0m\u001b[1;33m\u001b[0m\u001b[1;33m\u001b[0m\u001b[0m\n",
      "\u001b[1;32mc:\\Program Files\\Python38\\lib\\site-packages\\pandas\\io\\excel\\_base.py\u001b[0m in \u001b[0;36mread_excel\u001b[1;34m(io, sheet_name, header, names, index_col, usecols, dtype, engine, converters, true_values, false_values, skiprows, nrows, na_values, keep_default_na, na_filter, verbose, parse_dates, date_parser, date_format, thousands, decimal, comment, skipfooter, storage_options, dtype_backend)\u001b[0m\n\u001b[0;32m    476\u001b[0m     \u001b[1;32mif\u001b[0m \u001b[1;32mnot\u001b[0m \u001b[0misinstance\u001b[0m\u001b[1;33m(\u001b[0m\u001b[0mio\u001b[0m\u001b[1;33m,\u001b[0m \u001b[0mExcelFile\u001b[0m\u001b[1;33m)\u001b[0m\u001b[1;33m:\u001b[0m\u001b[1;33m\u001b[0m\u001b[1;33m\u001b[0m\u001b[0m\n\u001b[0;32m    477\u001b[0m         \u001b[0mshould_close\u001b[0m \u001b[1;33m=\u001b[0m \u001b[1;32mTrue\u001b[0m\u001b[1;33m\u001b[0m\u001b[1;33m\u001b[0m\u001b[0m\n\u001b[1;32m--> 478\u001b[1;33m         \u001b[0mio\u001b[0m \u001b[1;33m=\u001b[0m \u001b[0mExcelFile\u001b[0m\u001b[1;33m(\u001b[0m\u001b[0mio\u001b[0m\u001b[1;33m,\u001b[0m \u001b[0mstorage_options\u001b[0m\u001b[1;33m=\u001b[0m\u001b[0mstorage_options\u001b[0m\u001b[1;33m,\u001b[0m \u001b[0mengine\u001b[0m\u001b[1;33m=\u001b[0m\u001b[0mengine\u001b[0m\u001b[1;33m)\u001b[0m\u001b[1;33m\u001b[0m\u001b[1;33m\u001b[0m\u001b[0m\n\u001b[0m\u001b[0;32m    479\u001b[0m     \u001b[1;32melif\u001b[0m \u001b[0mengine\u001b[0m \u001b[1;32mand\u001b[0m \u001b[0mengine\u001b[0m \u001b[1;33m!=\u001b[0m \u001b[0mio\u001b[0m\u001b[1;33m.\u001b[0m\u001b[0mengine\u001b[0m\u001b[1;33m:\u001b[0m\u001b[1;33m\u001b[0m\u001b[1;33m\u001b[0m\u001b[0m\n\u001b[0;32m    480\u001b[0m         raise ValueError(\n",
      "\u001b[1;32mc:\\Program Files\\Python38\\lib\\site-packages\\pandas\\io\\excel\\_base.py\u001b[0m in \u001b[0;36m__init__\u001b[1;34m(self, path_or_buffer, engine, storage_options)\u001b[0m\n\u001b[0;32m   1511\u001b[0m         \u001b[0mself\u001b[0m\u001b[1;33m.\u001b[0m\u001b[0mstorage_options\u001b[0m \u001b[1;33m=\u001b[0m \u001b[0mstorage_options\u001b[0m\u001b[1;33m\u001b[0m\u001b[1;33m\u001b[0m\u001b[0m\n\u001b[0;32m   1512\u001b[0m \u001b[1;33m\u001b[0m\u001b[0m\n\u001b[1;32m-> 1513\u001b[1;33m         \u001b[0mself\u001b[0m\u001b[1;33m.\u001b[0m\u001b[0m_reader\u001b[0m \u001b[1;33m=\u001b[0m \u001b[0mself\u001b[0m\u001b[1;33m.\u001b[0m\u001b[0m_engines\u001b[0m\u001b[1;33m[\u001b[0m\u001b[0mengine\u001b[0m\u001b[1;33m]\u001b[0m\u001b[1;33m(\u001b[0m\u001b[0mself\u001b[0m\u001b[1;33m.\u001b[0m\u001b[0m_io\u001b[0m\u001b[1;33m,\u001b[0m \u001b[0mstorage_options\u001b[0m\u001b[1;33m=\u001b[0m\u001b[0mstorage_options\u001b[0m\u001b[1;33m)\u001b[0m\u001b[1;33m\u001b[0m\u001b[1;33m\u001b[0m\u001b[0m\n\u001b[0m\u001b[0;32m   1514\u001b[0m \u001b[1;33m\u001b[0m\u001b[0m\n\u001b[0;32m   1515\u001b[0m     \u001b[1;32mdef\u001b[0m \u001b[0m__fspath__\u001b[0m\u001b[1;33m(\u001b[0m\u001b[0mself\u001b[0m\u001b[1;33m)\u001b[0m\u001b[1;33m:\u001b[0m\u001b[1;33m\u001b[0m\u001b[1;33m\u001b[0m\u001b[0m\n",
      "\u001b[1;32mc:\\Program Files\\Python38\\lib\\site-packages\\pandas\\io\\excel\\_xlrd.py\u001b[0m in \u001b[0;36m__init__\u001b[1;34m(self, filepath_or_buffer, storage_options)\u001b[0m\n\u001b[0;32m     32\u001b[0m         \"\"\"\n\u001b[0;32m     33\u001b[0m         \u001b[0merr_msg\u001b[0m \u001b[1;33m=\u001b[0m \u001b[1;34m\"Install xlrd >= 2.0.1 for xls Excel support\"\u001b[0m\u001b[1;33m\u001b[0m\u001b[1;33m\u001b[0m\u001b[0m\n\u001b[1;32m---> 34\u001b[1;33m         \u001b[0mimport_optional_dependency\u001b[0m\u001b[1;33m(\u001b[0m\u001b[1;34m\"xlrd\"\u001b[0m\u001b[1;33m,\u001b[0m \u001b[0mextra\u001b[0m\u001b[1;33m=\u001b[0m\u001b[0merr_msg\u001b[0m\u001b[1;33m)\u001b[0m\u001b[1;33m\u001b[0m\u001b[1;33m\u001b[0m\u001b[0m\n\u001b[0m\u001b[0;32m     35\u001b[0m         \u001b[0msuper\u001b[0m\u001b[1;33m(\u001b[0m\u001b[1;33m)\u001b[0m\u001b[1;33m.\u001b[0m\u001b[0m__init__\u001b[0m\u001b[1;33m(\u001b[0m\u001b[0mfilepath_or_buffer\u001b[0m\u001b[1;33m,\u001b[0m \u001b[0mstorage_options\u001b[0m\u001b[1;33m=\u001b[0m\u001b[0mstorage_options\u001b[0m\u001b[1;33m)\u001b[0m\u001b[1;33m\u001b[0m\u001b[1;33m\u001b[0m\u001b[0m\n\u001b[0;32m     36\u001b[0m \u001b[1;33m\u001b[0m\u001b[0m\n",
      "\u001b[1;32mc:\\Program Files\\Python38\\lib\\site-packages\\pandas\\compat\\_optional.py\u001b[0m in \u001b[0;36mimport_optional_dependency\u001b[1;34m(name, extra, errors, min_version)\u001b[0m\n\u001b[0;32m    169\u001b[0m                 \u001b[1;32mreturn\u001b[0m \u001b[1;32mNone\u001b[0m\u001b[1;33m\u001b[0m\u001b[1;33m\u001b[0m\u001b[0m\n\u001b[0;32m    170\u001b[0m             \u001b[1;32melif\u001b[0m \u001b[0merrors\u001b[0m \u001b[1;33m==\u001b[0m \u001b[1;34m\"raise\"\u001b[0m\u001b[1;33m:\u001b[0m\u001b[1;33m\u001b[0m\u001b[1;33m\u001b[0m\u001b[0m\n\u001b[1;32m--> 171\u001b[1;33m                 \u001b[1;32mraise\u001b[0m \u001b[0mImportError\u001b[0m\u001b[1;33m(\u001b[0m\u001b[0mmsg\u001b[0m\u001b[1;33m)\u001b[0m\u001b[1;33m\u001b[0m\u001b[1;33m\u001b[0m\u001b[0m\n\u001b[0m\u001b[0;32m    172\u001b[0m \u001b[1;33m\u001b[0m\u001b[0m\n\u001b[0;32m    173\u001b[0m     \u001b[1;32mreturn\u001b[0m \u001b[0mmodule\u001b[0m\u001b[1;33m\u001b[0m\u001b[1;33m\u001b[0m\u001b[0m\n",
      "\u001b[1;31mImportError\u001b[0m: Pandas requires version '2.0.1' or newer of 'xlrd' (version '1.2.0' currently installed)."
     ]
    }
   ],
   "source": [
    "import pandas as pd\n",
    "\n",
    "# 读取 Excel 文件\n",
    "file_path = 'data/名单.xls'\n",
    "df = pd.read_excel(file_path)\n",
    "\n",
    "# 显示读取的表格内容（可选）\n",
    "print(df.head())\n",
    "\n",
    "# 统计各个学校入围的人数\n",
    "school_counts = df['学校'].value_counts()\n",
    "\n",
    "# 显示统计结果\n",
    "print(school_counts)\n"
   ]
  },
  {
   "cell_type": "code",
   "execution_count": null,
   "metadata": {},
   "outputs": [],
   "source": []
  },
  {
   "cell_type": "code",
   "execution_count": null,
   "metadata": {},
   "outputs": [],
   "source": []
  }
 ],
 "metadata": {
  "kernelspec": {
   "display_name": "Python 3",
   "language": "python",
   "name": "python3"
  },
  "language_info": {
   "codemirror_mode": {
    "name": "ipython",
    "version": 3
   },
   "file_extension": ".py",
   "mimetype": "text/x-python",
   "name": "python",
   "nbconvert_exporter": "python",
   "pygments_lexer": "ipython3",
   "version": "3.8.5"
  }
 },
 "nbformat": 4,
 "nbformat_minor": 2
}
