{
 "cells": [
  {
   "cell_type": "markdown",
   "metadata": {},
   "source": [
    "# 4 李鲁鲁老师的Python课程 基础数据结构"
   ]
  },
  {
   "cell_type": "markdown",
   "metadata": {},
   "source": [
    "- [ ] List, Tuple, Dict，Set\n",
    "- [ ] 数字和String\n",
    "- [ ] 文件读写"
   ]
  },
  {
   "cell_type": "markdown",
   "metadata": {},
   "source": [
    "这节课我们需要稍微讲解一下Python的基础数据结构\n",
    "\n",
    "如果整个班上的同学都已经学习过对应的内容，也可以跳过这节课的学习\n",
    "\n",
    "但是如果对于List, Tuple, Dict三者区别还不太清楚的同学，这节课还是要进行学习的\n",
    "\n",
    "这里有一个关键是，很多时候，我们要向ChatGPT清楚地描述我们一个任务的输入和输出是什么"
   ]
  },
  {
   "cell_type": "markdown",
   "metadata": {},
   "source": [
    "## 向ChatGPT学习这些数据结构\n",
    "\n",
    "这里我们还是希望同学们能够“学会如何向ChatGPT学习”，当然这很有可能是一句废话\n",
    "\n",
    "因为向ChatGPT提问这些基础知识实在是太简单了\n",
    "\n",
    "```\n",
    "对于Python的List, Tuple, Dictionary, Set各给出一个程序的例子\n",
    "\n",
    "并简单描述他们之间的不同以及各自的使用场景\n",
    "```"
   ]
  },
  {
   "cell_type": "markdown",
   "metadata": {},
   "source": [
    "<details>\n",
    "  <summary>ChatGPT的回复</summary>\n",
    "  \n",
    "好的，下面是Python中List, Tuple, Dictionary, Set的例子，并附上简单的描述和使用场景：\n",
    "\n",
    "### List\n",
    "\n",
    "List 是有序的、可变的集合。它允许重复的元素，可以随时添加、删除或修改元素。常用于需要动态调整内容的场景。\n",
    "\n",
    "```python\n",
    "# List example\n",
    "fruits = [\"apple\", \"banana\", \"cherry\"]\n",
    "fruits.append(\"orange\")\n",
    "print(fruits)  # Output: ['apple', 'banana', 'cherry', 'orange']\n",
    "```\n",
    "\n",
    "### Tuple\n",
    "\n",
    "Tuple 是有序的、不可变的集合。一旦创建，无法修改其内容。常用于存储不需要改变的数据，例如多返回值函数的返回值，或作为字典的键。\n",
    "\n",
    "```python\n",
    "# Tuple example\n",
    "coordinates = (10.0, 20.0)\n",
    "print(coordinates)  # Output: (10.0, 20.0)\n",
    "```\n",
    "\n",
    "### Dictionary\n",
    "\n",
    "Dictionary 是无序的键值对集合。键必须是唯一的且不可变的，值可以是任何类型。常用于需要快速查找的场景，例如配置文件、数据库记录等。\n",
    "\n",
    "```python\n",
    "# Dictionary example\n",
    "student = {\"name\": \"John\", \"age\": 21, \"courses\": [\"Math\", \"Science\"]}\n",
    "print(student[\"name\"])  # Output: John\n",
    "```\n",
    "\n",
    "### Set\n",
    "\n",
    "Set 是无序的、唯一元素的集合。用于去重和集合运算（交集、并集等）的场景。\n",
    "\n",
    "```python\n",
    "# Set example\n",
    "numbers = {1, 2, 3, 4, 4, 5}\n",
    "print(numbers)  # Output: {1, 2, 3, 4, 5}\n",
    "```\n",
    "\n",
    "### 区别和使用场景\n",
    "\n",
    "1. **List**: 有序且可变，适合需要动态调整元素的场景，如待办事项列表或需要频繁添加、删除元素的场景。\n",
    "\n",
    "2. **Tuple**: 有序且不可变，适合存储固定结构的数据，如函数返回的多值、数据库记录等。\n",
    "\n",
    "3. **Dictionary**: 无序的键值对集合，适合需要快速查找和存储数据关联关系的场景，如学生信息、配置文件等。\n",
    "\n",
    "4. **Set**: 无序且唯一元素的集合，适合去重和集合运算的场景，如处理独特元素的列表、数学集合运算等。\n",
    "\n",
    "这些数据结构各有优劣，选择合适的结构可以提高代码的效率和可读性。\n",
    "\n",
    "</details>"
   ]
  },
  {
   "cell_type": "markdown",
   "metadata": {},
   "source": [
    "这里简单说明一下要点"
   ]
  },
  {
   "cell_type": "markdown",
   "metadata": {},
   "source": [
    "## List\n",
    "\n",
    "List就是数组，或者C++中的vector，或者对于没学过编程的同学来说，就是一个从0开始编号的“数列”\n",
    "\n",
    "List的好处是他可以线性访问，对于一个list a来说 a[100] 可以直接被访问到，不需要花费额外的时间\n",
    "\n",
    "没有用的冷知识：当然对于Python来说，List有data type binding的特性，也就是List的每个元素的数据类型可以不一样，这一点和C是不一样的。\n",
    "\n",
    "不过很多时候，我们还是希望List的每个元素是“一致的”\n",
    "\n",
    "这样我们在和ChatGPT描述的时候，就可以说\n",
    "\n",
    "```\n",
    "{变量名} 是一个List of {数据类型}\n",
    "```\n",
    "\n",
    "比如\n",
    "\n",
    "```\n",
    "a 是一个List of int\n",
    "\n",
    "统计a里面最大和最小的数字是几位数，请用python为我实现\n",
    "```\n"
   ]
  },
  {
   "cell_type": "code",
   "execution_count": 1,
   "metadata": {},
   "outputs": [
    {
     "name": "stdout",
     "output_type": "stream",
     "text": [
      "列表中最大数字是 12345，它有 5 位\n",
      "列表中最小数字是 4，它有 1 位\n"
     ]
    }
   ],
   "source": [
    "# 定义一个包含整数的列表\n",
    "a = [123, 4, 56, 7890, 12345, 678]\n",
    "\n",
    "# 找到列表中的最大值和最小值\n",
    "max_num = max(a)\n",
    "min_num = min(a)\n",
    "\n",
    "# 计算最大值和最小值的位数\n",
    "max_num_digits = len(str(abs(max_num)))\n",
    "min_num_digits = len(str(abs(min_num)))\n",
    "\n",
    "# 输出结果\n",
    "print(f\"列表中最大数字是 {max_num}，它有 {max_num_digits} 位\")\n",
    "print(f\"列表中最小数字是 {min_num}，它有 {min_num_digits} 位\")\n"
   ]
  },
  {
   "cell_type": "markdown",
   "metadata": {},
   "source": [
    "## Tuple\n",
    "\n",
    "Tuple最大的用处在于函数返回\n",
    "\n",
    "q"
   ]
  },
  {
   "cell_type": "code",
   "execution_count": null,
   "metadata": {},
   "outputs": [],
   "source": []
  }
 ],
 "metadata": {
  "kernelspec": {
   "display_name": "Python 3",
   "language": "python",
   "name": "python3"
  },
  "language_info": {
   "codemirror_mode": {
    "name": "ipython",
    "version": 3
   },
   "file_extension": ".py",
   "mimetype": "text/x-python",
   "name": "python",
   "nbconvert_exporter": "python",
   "pygments_lexer": "ipython3",
   "version": "3.8.5"
  }
 },
 "nbformat": 4,
 "nbformat_minor": 2
}
