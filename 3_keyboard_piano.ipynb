{
 "cells": [
  {
   "cell_type": "markdown",
   "metadata": {},
   "source": [
    "# 李鲁鲁老师的Python课程 第三课 键盘钢琴\n",
    "\n",
    "项目主页: https://github.com/LC1332/Learn-Python-with-GPT\n",
    "\n",
    "- 建议老师尽量在这节课配置耳机，不然课堂可能会有一点点吵\n",
    "- [ ] 尝试编写钢琴的程序\n",
    "- [ ] 分析自动生成的代码， 尝试跑通代码\n",
    "- [ ] py文件的运行\n",
    "- [ ] 改为实时运行"
   ]
  },
  {
   "cell_type": "markdown",
   "metadata": {},
   "source": [
    "这节课让我们来做个还挺有趣的应用\n",
    "\n",
    "这个应用在之前的课程设计里面是没有的，我们在之前的课程设计里面，避免了向同学讲解完整的pygame游戏的写法\n",
    "\n",
    "因为完全凭空手写一个pygame游戏，对于初学python的同学来说，是相对比较困难的。\n",
    "\n",
    "但是在Copilot-Python课里面，你只需要向ChatGPT描述需求就可以进行编写。"
   ]
  },
  {
   "cell_type": "markdown",
   "metadata": {},
   "source": [
    "## 让我们开始吧\n",
    "\n",
    "我们试着在ChatGPT里面给出这样的prompt\n",
    "\n",
    "```\n",
    "我希望实现一个pygame程序，\n",
    "\n",
    "当按下1、2、3、4、5的时候\n",
    "\n",
    "会发出C、D、E、F、G的声音，持续0.5秒\n",
    "```"
   ]
  },
  {
   "cell_type": "code",
   "execution_count": 1,
   "metadata": {},
   "outputs": [
    {
     "name": "stdout",
     "output_type": "stream",
     "text": [
      "pygame 2.0.1 (SDL 2.0.14, Python 3.8.5)\n",
      "Hello from the pygame community. https://www.pygame.org/contribute.html\n"
     ]
    },
    {
     "ename": "FileNotFoundError",
     "evalue": "No such file or directory.",
     "output_type": "error",
     "traceback": [
      "\u001b[1;31m---------------------------------------------------------------------------\u001b[0m",
      "\u001b[1;31mFileNotFoundError\u001b[0m                         Traceback (most recent call last)",
      "\u001b[1;32m~\\AppData\\Local\\Temp/ipykernel_18104/509148491.py\u001b[0m in \u001b[0;36m<module>\u001b[1;34m\u001b[0m\n\u001b[0;32m     11\u001b[0m \u001b[1;31m# 加载声音文件\u001b[0m\u001b[1;33m\u001b[0m\u001b[1;33m\u001b[0m\u001b[1;33m\u001b[0m\u001b[0m\n\u001b[0;32m     12\u001b[0m sounds = {\n\u001b[1;32m---> 13\u001b[1;33m     \u001b[0mpygame\u001b[0m\u001b[1;33m.\u001b[0m\u001b[0mK_1\u001b[0m\u001b[1;33m:\u001b[0m \u001b[0mpygame\u001b[0m\u001b[1;33m.\u001b[0m\u001b[0mmixer\u001b[0m\u001b[1;33m.\u001b[0m\u001b[0mSound\u001b[0m\u001b[1;33m(\u001b[0m\u001b[1;34m\"C.wav\"\u001b[0m\u001b[1;33m)\u001b[0m\u001b[1;33m,\u001b[0m\u001b[1;33m\u001b[0m\u001b[1;33m\u001b[0m\u001b[0m\n\u001b[0m\u001b[0;32m     14\u001b[0m     \u001b[0mpygame\u001b[0m\u001b[1;33m.\u001b[0m\u001b[0mK_2\u001b[0m\u001b[1;33m:\u001b[0m \u001b[0mpygame\u001b[0m\u001b[1;33m.\u001b[0m\u001b[0mmixer\u001b[0m\u001b[1;33m.\u001b[0m\u001b[0mSound\u001b[0m\u001b[1;33m(\u001b[0m\u001b[1;34m\"D.wav\"\u001b[0m\u001b[1;33m)\u001b[0m\u001b[1;33m,\u001b[0m\u001b[1;33m\u001b[0m\u001b[1;33m\u001b[0m\u001b[0m\n\u001b[0;32m     15\u001b[0m     \u001b[0mpygame\u001b[0m\u001b[1;33m.\u001b[0m\u001b[0mK_3\u001b[0m\u001b[1;33m:\u001b[0m \u001b[0mpygame\u001b[0m\u001b[1;33m.\u001b[0m\u001b[0mmixer\u001b[0m\u001b[1;33m.\u001b[0m\u001b[0mSound\u001b[0m\u001b[1;33m(\u001b[0m\u001b[1;34m\"E.wav\"\u001b[0m\u001b[1;33m)\u001b[0m\u001b[1;33m,\u001b[0m\u001b[1;33m\u001b[0m\u001b[1;33m\u001b[0m\u001b[0m\n",
      "\u001b[1;31mFileNotFoundError\u001b[0m: No such file or directory."
     ]
    },
    {
     "ename": "",
     "evalue": "",
     "output_type": "error",
     "traceback": [
      "\u001b[1;31mThe Kernel crashed while executing code in the current cell or a previous cell. \n",
      "\u001b[1;31mPlease review the code in the cell(s) to identify a possible cause of the failure. \n",
      "\u001b[1;31mClick <a href='https://aka.ms/vscodeJupyterKernelCrash'>here</a> for more info. \n",
      "\u001b[1;31mView Jupyter <a href='command:jupyter.viewOutput'>log</a> for further details."
     ]
    }
   ],
   "source": [
    "import pygame\n",
    "import time\n",
    "\n",
    "# 初始化pygame\n",
    "pygame.init()\n",
    "\n",
    "# 创建窗口\n",
    "screen = pygame.display.set_mode((400, 300))\n",
    "pygame.display.set_caption(\"Pygame Sound Example\")\n",
    "\n",
    "# 加载声音文件\n",
    "sounds = {\n",
    "    pygame.K_1: pygame.mixer.Sound(\"C.wav\"),\n",
    "    pygame.K_2: pygame.mixer.Sound(\"D.wav\"),\n",
    "    pygame.K_3: pygame.mixer.Sound(\"E.wav\"),\n",
    "    pygame.K_4: pygame.mixer.Sound(\"F.wav\"),\n",
    "    pygame.K_5: pygame.mixer.Sound(\"G.wav\")\n",
    "}\n",
    "\n",
    "# 主循环\n",
    "running = True\n",
    "while running:\n",
    "    for event in pygame.event.get():\n",
    "        if event.type == pygame.QUIT:\n",
    "            running = False\n",
    "        elif event.type == pygame.KEYDOWN:\n",
    "            if event.key in sounds:\n",
    "                sounds[event.key].play()\n",
    "                time.sleep(0.5)  # 播放0.5秒\n",
    "                sounds[event.key].stop()  # 停止播放\n",
    "\n",
    "# 退出pygame\n",
    "pygame.quit()\n"
   ]
  },
  {
   "cell_type": "markdown",
   "metadata": {},
   "source": [
    "这里我们发现了几个问题\n",
    "\n",
    "- 在notebook环境下运行pygame是不合适的 很容易发生卡顿，\n",
    "- 我们并没有CDE这些wav的文件，会报错。"
   ]
  },
  {
   "cell_type": "markdown",
   "metadata": {},
   "source": [
    "显然第二个问题是更紧要的\n",
    "\n",
    "不过计算机是可以模拟出单频率的声音的，\n",
    "\n",
    "让我们来修改下刚才的prompt\n",
    "\n",
    "```\n",
    "我希望实现一个pygame程序，\n",
    "\n",
    "当按下1、2、3、4、5的时候\n",
    "\n",
    "会发出C、D、E、F、G的对应频率的声音，持续0.5秒\n",
    "\n",
    "可以在初始化的时候先生成这些声音对应的wav文件\n",
    "```"
   ]
  },
  {
   "cell_type": "markdown",
   "metadata": {},
   "source": [
    "```python\n",
    "import numpy as np\n",
    "from scipy.io.wavfile import write\n",
    "import pygame\n",
    "import time\n",
    "\n",
    "# 声音频率（Hz）\n",
    "frequencies = {\n",
    "    'C': 261.63,\n",
    "    'D': 293.66,\n",
    "    'E': 329.63,\n",
    "    'F': 349.23,\n",
    "    'G': 392.00\n",
    "}\n",
    "\n",
    "# 生成声音文件\n",
    "def generate_sound(frequency, duration=0.5, sample_rate=44100):\n",
    "    t = np.linspace(0, duration, int(sample_rate * duration), endpoint=False)\n",
    "    wave = 0.5 * np.sin(2 * np.pi * frequency * t)\n",
    "    return wave\n",
    "\n",
    "# 保存wav文件\n",
    "for note, freq in frequencies.items():\n",
    "    sound_wave = generate_sound(freq)\n",
    "    write(f\"{note}.wav\", 44100, sound_wave.astype(np.float32))\n",
    "\n",
    "# 初始化pygame\n",
    "pygame.init()\n",
    "\n",
    "# 创建窗口\n",
    "screen = pygame.display.set_mode((400, 300))\n",
    "pygame.display.set_caption(\"Pygame Sound Example\")\n",
    "\n",
    "# 加载声音文件\n",
    "sounds = {\n",
    "    pygame.K_1: pygame.mixer.Sound(\"C.wav\"),\n",
    "    pygame.K_2: pygame.mixer.Sound(\"D.wav\"),\n",
    "    pygame.K_3: pygame.mixer.Sound(\"E.wav\"),\n",
    "    pygame.K_4: pygame.mixer.Sound(\"F.wav\"),\n",
    "    pygame.K_5: pygame.mixer.Sound(\"G.wav\")\n",
    "}\n",
    "\n",
    "# 主循环\n",
    "running = True\n",
    "while running:\n",
    "    for event in pygame.event.get():\n",
    "        if event.type == pygame.QUIT:\n",
    "            running = False\n",
    "        elif event.type == pygame.KEYDOWN:\n",
    "            if event.key in sounds:\n",
    "                sounds[event.key].play()\n",
    "                time.sleep(0.5)  # 播放0.5秒\n",
    "                sounds[event.key].stop()  # 停止播放\n",
    "\n",
    "# 退出pygame\n",
    "pygame.quit()\n",
    "```"
   ]
  },
  {
   "cell_type": "markdown",
   "metadata": {},
   "source": [
    "这个时候我们不适合在notebook里面直接运行这个程序了\n",
    "\n",
    "李鲁鲁老师把这个程序保存在了pygame_codes/2_piano_v_0.py里面\n",
    "\n",
    "这个时候我们可以打卡整个Learn-Python-with-GPT的目录\n",
    "\n",
    "![Image](images/call_cmd.jpg)\n",
    "\n"
   ]
  },
  {
   "cell_type": "markdown",
   "metadata": {},
   "source": [
    "然后在调出来的terminal里面 运行\n",
    "\n",
    "```shell\n",
    "python pygame_codes/2_piano_v_0.py\n",
    "```\n",
    "\n",
    "整个时候就会启动这个钢琴了\n",
    "\n",
    "当然我们更建议在VSCode里面直接运行 这样调试起来也方便很多\n",
    "\n",
    "如果cmd里面无法正常运行，就咨询老师 或者检查环境目录里面是不是正确指向了python的解释器\n",
    "\n",
    "---"
   ]
  },
  {
   "cell_type": "markdown",
   "metadata": {},
   "source": [
    "我们可以讨论一下，这个钢琴有什么可以改进的地方呢？"
   ]
  },
  {
   "cell_type": "markdown",
   "metadata": {},
   "source": [
    "- 不能两个键同时按下\n",
    "- 一个按键按下后必须等待0.5秒才能进行其他活动\n",
    "- 音的持续长度不能控制\n",
    "- 没有强弱\n",
    "- 音色不好听"
   ]
  },
  {
   "cell_type": "markdown",
   "metadata": {},
   "source": [
    "在这里很大程度上是因为我们的程序里面有一个time.sleep(0.5)\n",
    "\n",
    "我们希望把这个特性去移除，这样我们前三个问题就可以被解决。\n",
    "\n",
    "这个时候我们要修改我们程序的prompt"
   ]
  },
  {
   "cell_type": "markdown",
   "metadata": {},
   "source": [
    "\n",
    "```\n",
    "我希望实现一个pygame程序，\n",
    "\n",
    "当按下1、2、3、4、5、6、7、8、9、0的时候\n",
    "\n",
    "会发出C4、D4、E4、F4、G4、A4、B4、C5、D5、E5的对应频率的声音\n",
    "\n",
    "可以在初始化的时候先在piano_sounds目录生成这些声音对应的wav文件\n",
    "\n",
    "当按键按下时候，会播放对应的声音\n",
    "\n",
    "如果按键抬起，则声音会停止。\n",
    "```"
   ]
  },
  {
   "cell_type": "markdown",
   "metadata": {},
   "source": [
    "我这里把生成的代码放在pygame_codes/2_piano_v_1.py里面了，你可以尝试运行这个程序来体验一下\n",
    "\n",
    "整体来说这个程序分成了两个部分，一是生成声音，二是播放声音\n",
    "\n",
    "生成声音的部分实际上和前面的程序时一样的，让我们来看播放的部分\n",
    "\n",
    "```python\n",
    "# 加载声音文件\n",
    "sounds = {\n",
    "    pygame.K_1: pygame.mixer.Sound(\"piano_sounds/C4.wav\"),\n",
    "    pygame.K_2: pygame.mixer.Sound(\"piano_sounds/D4.wav\"),\n",
    "    pygame.K_3: pygame.mixer.Sound(\"piano_sounds/E4.wav\"),\n",
    "    pygame.K_4: pygame.mixer.Sound(\"piano_sounds/F4.wav\"),\n",
    "    pygame.K_5: pygame.mixer.Sound(\"piano_sounds/G4.wav\"),\n",
    "    pygame.K_6: pygame.mixer.Sound(\"piano_sounds/A4.wav\"),\n",
    "    pygame.K_7: pygame.mixer.Sound(\"piano_sounds/B4.wav\"),\n",
    "    pygame.K_8: pygame.mixer.Sound(\"piano_sounds/C5.wav\"),\n",
    "    pygame.K_9: pygame.mixer.Sound(\"piano_sounds/D5.wav\"),\n",
    "    pygame.K_0: pygame.mixer.Sound(\"piano_sounds/E5.wav\")\n",
    "}\n",
    "\n",
    "# 主循环\n",
    "running = True\n",
    "while running:\n",
    "    for event in pygame.event.get():\n",
    "        if event.type == pygame.QUIT:\n",
    "            running = False\n",
    "        elif event.type == pygame.KEYDOWN:\n",
    "            if event.key in sounds:\n",
    "                sounds[event.key].play(-1)  # -1参数使声音循环播放\n",
    "        elif event.type == pygame.KEYUP:\n",
    "            if event.key in sounds:\n",
    "                sounds[event.key].stop()  # 停止声音播放\n",
    "```"
   ]
  },
  {
   "cell_type": "markdown",
   "metadata": {},
   "source": [
    "这里涉及一个核心函数pygame.event.get() 这个会返回上一次调用之后 pygame获得到的键盘的各种事件\n",
    "\n",
    "并且使用一个for循环进行了分析，并且能够用条件语句，判断每一个event对应了特定按钮的按下或者抬起\n",
    "\n",
    "在传统的python教学下，我们需要花40分钟左右的时间，才能教会完整的这个程序\n",
    "\n",
    "并且很大程度上，学生并没有能力去修改pygame的程序。但是在我们的Python-Copilot课程里面，却是可以考虑做这件事情的。\n",
    "\n",
    "在这里，我们希望这节课做一个更开放的尝试\n",
    "\n",
    "我们会给出几个大的修改方向，让同学自己尝试修改这个程序。"
   ]
  },
  {
   "cell_type": "markdown",
   "metadata": {},
   "source": [
    "## 修改延时的设计\n",
    "\n",
    "我们刚才看到一个按钮如果抬起，则这个声音会立刻停止\n",
    "\n",
    "这使得有的音会持续很短的时间。\n",
    "\n",
    "如果我希望一个按键按下时，能至少确保一个声音被演奏0.125秒，要怎么办呢？"
   ]
  },
  {
   "cell_type": "markdown",
   "metadata": {},
   "source": [
    "## 更复杂的键盘布置\n",
    "\n",
    "尝试增加更多的按键，包括半音，使得一些更复杂的乐曲能够被演奏"
   ]
  },
  {
   "cell_type": "markdown",
   "metadata": {},
   "source": [
    "## 修改音色（自然）\n",
    "\n",
    "查询不同乐器的音色（谐频分布），尝试让程序演奏接近某种乐器的电子音"
   ]
  },
  {
   "cell_type": "markdown",
   "metadata": {},
   "source": [
    "# 修改音色（电子）\n",
    "\n",
    "我们这里使用了纯频率音的方式，实际上在电子音发展的早期，有很多以前的音乐会使用三角波、方波等波形\n",
    "\n",
    "尝试把wav替换为这些波形进行播放"
   ]
  },
  {
   "cell_type": "markdown",
   "metadata": {},
   "source": [
    "## 方便和弦\n",
    "\n",
    "电子琴能够方便地按出和弦伴奏\n",
    "\n",
    "有乐理基础地同学，能否让程序实现简单地和弦\n",
    "\n",
    "如果能在课堂上展示键盘弹唱 就更强了"
   ]
  },
  {
   "cell_type": "markdown",
   "metadata": {},
   "source": [
    "## 可视化\n",
    "\n",
    "为钢琴增加一定的可视化功能"
   ]
  },
  {
   "cell_type": "code",
   "execution_count": null,
   "metadata": {},
   "outputs": [],
   "source": []
  },
  {
   "cell_type": "markdown",
   "metadata": {},
   "source": []
  },
  {
   "cell_type": "code",
   "execution_count": null,
   "metadata": {},
   "outputs": [],
   "source": []
  },
  {
   "cell_type": "markdown",
   "metadata": {},
   "source": []
  },
  {
   "cell_type": "code",
   "execution_count": null,
   "metadata": {},
   "outputs": [],
   "source": []
  }
 ],
 "metadata": {
  "kernelspec": {
   "display_name": "Python 3",
   "language": "python",
   "name": "python3"
  },
  "language_info": {
   "codemirror_mode": {
    "name": "ipython",
    "version": 3
   },
   "file_extension": ".py",
   "mimetype": "text/x-python",
   "name": "python",
   "nbconvert_exporter": "python",
   "pygments_lexer": "ipython3",
   "version": "3.8.5"
  }
 },
 "nbformat": 4,
 "nbformat_minor": 2
}
