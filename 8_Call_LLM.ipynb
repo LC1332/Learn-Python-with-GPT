{
 "cells": [
  {
   "cell_type": "markdown",
   "metadata": {},
   "source": [
    "# 第八课 调用大语言模型\n",
    "\n",
    "- [ ] 什么是serverless API\n",
    "- [ ] API模式和web模式调用大语言模型的区别\n",
    "- [ ] json mode的输出\n",
    "- [ ] CoT形式的prompt\n",
    "\n",
    "毕竟我们整套课程都是围绕着类似ChatGPT，ChatGLM这样的大型语言模型来展开的。\n",
    "\n",
    "同学们确实可以通过在页面上对话，来直观感受这样一种最新的人工智能的先进科技成果。\n",
    "\n",
    "相信伴随着我们这套课程的前后，同学们也会或多或少地看见很多大语言相关的产品。比如可能有的同学用的学习机就已经结合了大语言模型。\n",
    "\n",
    "我们希望有一节课，能够让大家对整个语言模型有一个更深入的了解。\n",
    "\n",
    "所以我们希望在这节课上，来尝试调用一下语言模型。在之前的课程中，我们已经让大家在课后注册了大语言模型的开放平台，获取了免费的额度，显然，这些额度是足够我们去上完这节课的。\n",
    "\n",
    "这节课还有另一方面的目的，随着大语言模型泛化能力的提升。这些API在通用的自然语言处理类的任务中，确实有很好的表现。比如去进行情感分类、文本抽取。这使得一个刚开始学习开发的同学，即使对于人工智能没有系统性的学习，也可以调用这些语言模型的API，来建立应用。在这节课我们会进行一些基本的尝试。"
   ]
  },
  {
   "cell_type": "markdown",
   "metadata": {},
   "source": [
    "## 安装Zhipu的Python SDK\n",
    "\n",
    "阅读 https://open.bigmodel.cn/dev/api#sdk_install 我们可以去看到zhipu API的用法。\n",
    "\n",
    "这里面首先是要去安装Zhipu AI的python SDK\n",
    "\n",
    "```shell\n",
    "pip install zhipuai\n",
    "```\n",
    "\n",
    "当然有很多时候可能要用\n",
    "\n",
    "```shell\n",
    "pip install zhipuai -i https://mirrors.aliyun.com/pypi/simple/\n",
    "```\n",
    "\n",
    "当然，有可能你也想用其他公司的大语言模型的API，只要安装对应Python SDK就可以了，比如百度的叫ernie-bot，零一万物和幻方都是沿用了openai的库。在课程里面，我们主要以zhipu的api为例，主要zhipu的api的免费资源比较容易申请和获取。"
   ]
  },
  {
   "cell_type": "markdown",
   "metadata": {},
   "source": [
    "## 根据文档中的例子来编写代码"
   ]
  },
  {
   "cell_type": "markdown",
   "metadata": {},
   "source": [
    "我们这里参考官网中的\n",
    "\n",
    "```python\n",
    "from zhipuai import ZhipuAI\n",
    "client = ZhipuAI(api_key=\"\") # 填写您自己的APIKey\n",
    "response = client.chat.completions.create(\n",
    "    model=\"glm-4\",  # 填写需要调用的模型名称\n",
    "    messages=[\n",
    "        {\"role\": \"user\", \"content\": \"作为一名营销专家，请为我的产品创作一个吸引人的slogan\"},\n",
    "        {\"role\": \"assistant\", \"content\": \"当然，为了创作一个吸引人的slogan，请告诉我一些关于您产品的信息\"},\n",
    "        {\"role\": \"user\", \"content\": \"智谱AI开放平台\"},\n",
    "        {\"role\": \"assistant\", \"content\": \"智启未来，谱绘无限一智谱AI，让创新触手可及!\"},\n",
    "        {\"role\": \"user\", \"content\": \"创造一个更精准、吸引人的slogan\"}\n",
    "    ],\n",
    ")\n",
    "print(response.choices[0].message)\n",
    "```\n",
    "\n",
    "这段代码，当然，这段代码其实涉及了一个连续对话\n",
    "\n",
    "在初步的实验中，我们其实只希望去实验单次的问答。那我们需要怎么做呢？我们可以让ChatGPT来帮我们进行修改。\n",
    "\n",
    "同时呢，我们假设已经把api_key这个字符串存储到了data/zhipu_apikey.txt中。\n",
    "\n",
    "所以我们需要从这个txt里面去读取这个api_key放进去。下面让我们来编写这个程序所需要的prompt\n",
    "\n",
    "\n"
   ]
  },
  {
   "cell_type": "markdown",
   "metadata": {},
   "source": [
    "---\n",
    "\n",
    "我希望在我的程序中调用zhipuai的api来进行问答\n",
    "\n",
    "我希望实现一个python函数 response = get_response( question, api_key_file = \"data/zhipu_apikey.txt\")\n",
    "\n",
    "先实现一个get_api_key函数，从api_key_file中读取api_key\n",
    "\n",
    "然后参考zhipu的例子代码\n",
    "\n",
    "```python\n",
    "from zhipuai import ZhipuAI\n",
    "client = ZhipuAI(api_key=\"\") # 填写您自己的APIKey\n",
    "response = client.chat.completions.create(\n",
    "    model=\"glm-4\",  # 填写需要调用的模型名称\n",
    "    messages=[\n",
    "        {\"role\": \"user\", \"content\": \"作为一名营销专家，请为我的产品创作一个吸引人的slogan\"},\n",
    "        {\"role\": \"assistant\", \"content\": \"当然，为了创作一个吸引人的slogan，请告诉我一些关于您产品的信息\"},\n",
    "        {\"role\": \"user\", \"content\": \"智谱AI开放平台\"},\n",
    "        {\"role\": \"assistant\", \"content\": \"智启未来，谱绘无限一智谱AI，让创新触手可及!\"},\n",
    "        {\"role\": \"user\", \"content\": \"创造一个更精准、吸引人的slogan\"}\n",
    "    ],\n",
    ")\n",
    "print(response.choices[0].message)\n",
    "```\n",
    "\n",
    "完成get_response函数，对question形成回复\n",
    "\n",
    "---"
   ]
  },
  {
   "cell_type": "code",
   "execution_count": 1,
   "metadata": {},
   "outputs": [],
   "source": [
    "# 这里因为鲁鲁老师使用了代理所以要运行这一句，同学们不需要运行这一句。\n",
    "import os\n",
    "os.environ['HTTP_PROXY'] = 'http://localhost:8234'\n",
    "os.environ['HTTPS_PROXY'] = 'http://localhost:8234'"
   ]
  },
  {
   "cell_type": "markdown",
   "metadata": {},
   "source": [
    "ChatGPT的输出如下"
   ]
  },
  {
   "cell_type": "code",
   "execution_count": 3,
   "metadata": {},
   "outputs": [
    {
     "name": "stdout",
     "output_type": "stream",
     "text": [
      "CompletionMessage(content='计算机的工作原理基于存储程序与程序控制的概念，其核心思想是美籍匈牙利数学家冯·诺依曼于1945年提出的。现代计算机大多遵循冯诺依曼体系结构，以下是计算机的基本工作原理的详细说明：\\n\\n### 冯诺依曼体系结构\\n\\n冯诺依曼体系结构包括以下五个主要部分：\\n\\n1. **控制器（Control Unit, CU）**：负责从内存中取出指令，解释指令，并控制其他部件按指令执行操作。\\n   \\n2. **算术逻辑单元（Arithmetic Logic Unit, ALU）**：执行所有的算术（如加减乘除）和逻辑（如比较大小）操作。\\n   \\n3. **存储器（Memory）**：用于存储数据和程序。存储器分为主存（内存）和辅助存储（外存如硬盘）。\\n   \\n4. **输入设备**：如键盘、鼠标，允许用户与计算机交互，向计算机输入数据。\\n   \\n5. **输出设备**：如显示屏、打印机，用于向用户展示计算机处理的结果。\\n\\n### 计算机的工作流程\\n\\n1. **取指令**：计算机首先从内存中取出第一条指令。\\n\\n2. **译码**：控制器解释指令，确定需要执行的操作。\\n\\n3. **执行**：根据指令，从存储器中取出必要的数据，送至ALU进行运算或逻辑处理。\\n\\n4. **存储结果**：处理结果被送回到内存中指定的位置。\\n\\n5. **更新指令指针**：指令指针指向下一条指令，然后重复上述过程。\\n\\n6. **程序控制**：这一过程自动进行，直至遇到程序结束或特定条件（如分支、循环、中断等）。\\n\\n### 存储器特性\\n\\n- **内存**：访问速度快，但容量相对较小，价格较高，断电后数据丢失。\\n- **外存**：如硬盘，存储空间大，但访问速度慢，价格相对便宜，断电后数据保留。\\n\\n### CPU的重要指标\\n\\n- **核心数**：决定了可以同时执行任务的数目。\\n- **频率**：CPU执行指令的速度，通常以每秒执行的百万指令数（MIPS）来衡量。\\n\\n综上所述，计算机通过存储程序并在控制器的指导下，按顺序自动执行指令，完成各种复杂的数据处理任务。', role='assistant', tool_calls=None)\n"
     ]
    }
   ],
   "source": [
    "from zhipuai import ZhipuAI\n",
    "\n",
    "def get_api_key(api_key_file):\n",
    "    \"\"\"\n",
    "    从指定文件中读取 API 密钥\n",
    "    \"\"\"\n",
    "    with open(api_key_file, 'r') as file:\n",
    "        api_key = file.read().strip()\n",
    "    return api_key\n",
    "\n",
    "def get_response(question, api_key_file=\"data/zhipu_apikey.txt\"):\n",
    "    \"\"\"\n",
    "    调用 ZhipuAI API 来获取问题的回答\n",
    "    \"\"\"\n",
    "    # 获取 API 密钥\n",
    "    api_key = get_api_key(api_key_file)\n",
    "    \n",
    "    # 初始化 ZhipuAI 客户端\n",
    "    client = ZhipuAI(api_key=api_key)\n",
    "    \n",
    "    # 调用 ZhipuAI API 进行问答\n",
    "    response = client.chat.completions.create(\n",
    "        model=\"glm-4\",  # 指定使用的模型名称\n",
    "        messages=[\n",
    "            {\"role\": \"user\", \"content\": question}\n",
    "        ]\n",
    "    )\n",
    "    \n",
    "    # 返回回复内容\n",
    "    return response.choices[0].message\n",
    "\n",
    "# 测试函数\n",
    "question = \"计算机是怎么工作的？\"\n",
    "response = get_response(question)\n",
    "print(response)\n"
   ]
  },
  {
   "cell_type": "code",
   "execution_count": 6,
   "metadata": {},
   "outputs": [
    {
     "name": "stdout",
     "output_type": "stream",
     "text": [
      "计算机的工作原理基于存储程序与程序控制的概念，其核心思想是美籍匈牙利数学家冯·诺依曼于1945年提出的。现代计算机大多遵循冯诺依曼体系结构，以下是计算机的基本工作原理的详细说明：\n",
      "\n",
      "### 冯诺依曼体系结构\n",
      "\n",
      "冯诺依曼体系结构包括以下五个主要部分：\n",
      "\n",
      "1. **控制器（Control Unit, CU）**：负责从内存中取出指令，解释指令，并控制其他部件按指令执行操作。\n",
      "   \n",
      "2. **算术逻辑单元（Arithmetic Logic Unit, ALU）**：执行所有的算术（如加减乘除）和逻辑（如比较大小）操作。\n",
      "   \n",
      "3. **存储器（Memory）**：用于存储数据和程序。存储器分为主存（内存）和辅助存储（外存如硬盘）。\n",
      "   \n",
      "4. **输入设备**：如键盘、鼠标，允许用户与计算机交互，向计算机输入数据。\n",
      "   \n",
      "5. **输出设备**：如显示屏、打印机，用于向用户展示计算机处理的结果。\n",
      "\n",
      "### 计算机的工作流程\n",
      "\n",
      "1. **取指令**：计算机首先从内存中取出第一条指令。\n",
      "\n",
      "2. **译码**：控制器解释指令，确定需要执行的操作。\n",
      "\n",
      "3. **执行**：根据指令，从存储器中取出必要的数据，送至ALU进行运算或逻辑处理。\n",
      "\n",
      "4. **存储结果**：处理结果被送回到内存中指定的位置。\n",
      "\n",
      "5. **更新指令指针**：指令指针指向下一条指令，然后重复上述过程。\n",
      "\n",
      "6. **程序控制**：这一过程自动进行，直至遇到程序结束或特定条件（如分支、循环、中断等）。\n",
      "\n",
      "### 存储器特性\n",
      "\n",
      "- **内存**：访问速度快，但容量相对较小，价格较高，断电后数据丢失。\n",
      "- **外存**：如硬盘，存储空间大，但访问速度慢，价格相对便宜，断电后数据保留。\n",
      "\n",
      "### CPU的重要指标\n",
      "\n",
      "- **核心数**：决定了可以同时执行任务的数目。\n",
      "- **频率**：CPU执行指令的速度，通常以每秒执行的百万指令数（MIPS）来衡量。\n",
      "\n",
      "综上所述，计算机通过存储程序并在控制器的指导下，按顺序自动执行指令，完成各种复杂的数据处理任务。\n"
     ]
    }
   ],
   "source": [
    "print(response.content)"
   ]
  },
  {
   "cell_type": "code",
   "execution_count": null,
   "metadata": {},
   "outputs": [],
   "source": []
  }
 ],
 "metadata": {
  "kernelspec": {
   "display_name": "Python 3",
   "language": "python",
   "name": "python3"
  },
  "language_info": {
   "codemirror_mode": {
    "name": "ipython",
    "version": 3
   },
   "file_extension": ".py",
   "mimetype": "text/x-python",
   "name": "python",
   "nbconvert_exporter": "python",
   "pygments_lexer": "ipython3",
   "version": "3.8.5"
  }
 },
 "nbformat": 4,
 "nbformat_minor": 2
}
