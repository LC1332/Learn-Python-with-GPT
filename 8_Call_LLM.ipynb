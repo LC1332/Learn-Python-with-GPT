{
 "cells": [
  {
   "cell_type": "markdown",
   "metadata": {},
   "source": [
    "# 第八课 调用大语言模型\n",
    "\n",
    "- [ ] 什么是serverless API\n",
    "- [ ] API模式和web模式调用大语言模型的区别\n",
    "- [ ] json mode的输出\n",
    "- [ ] CoT形式的prompt\n",
    "\n",
    "毕竟我们整套课程都是围绕着类似ChatGPT，ChatGLM这样的大型语言模型来展开的。\n",
    "\n",
    "同学们确实可以通过在页面上对话，来直观感受这样一种最新的人工智能的先进科技成果。\n",
    "\n",
    "相信伴随着我们这套课程的前后，同学们也会或多或少地看见很多大语言相关的产品。比如可能有的同学用的学习机就已经结合了大语言模型。\n",
    "\n",
    "我们希望有一节课，能够让大家对整个语言模型有一个更深入的了解。\n",
    "\n",
    "所以我们希望在这节课上，来尝试调用一下语言模型。在之前的课程中，我们已经让大家在课后注册了大语言模型的开放平台，获取了免费的额度，显然，这些额度是足够我们去上完这节课的。\n",
    "\n",
    "这节课还有另一方面的目的，随着大语言模型泛化能力的提升。这些API在通用的自然语言处理类的任务中，确实有很好的表现。比如去进行情感分类、文本抽取。这使得一个刚开始学习开发的同学，即使对于人工智能没有系统性的学习，也可以调用这些语言模型的API，来建立应用。在这节课我们会进行一些基本的尝试。"
   ]
  },
  {
   "cell_type": "markdown",
   "metadata": {},
   "source": [
    "## 安装Zhipu的Python SDK\n",
    "\n",
    "阅读 https://open.bigmodel.cn/dev/api#sdk_install 我们可以去看到zhipu API的用法。\n",
    "\n",
    "这里面首先是要去安装Zhipu AI的python SDK\n",
    "\n",
    "```shell\n",
    "pip install zhipuai\n",
    "```\n",
    "\n",
    "当然有很多时候可能要用\n",
    "\n",
    "```shell\n",
    "pip install zhipuai -i https://mirrors.aliyun.com/pypi/simple/\n",
    "```\n",
    "\n",
    "当然，有可能你也想用其他公司的大语言模型的API，只要安装对应Python SDK就可以了，比如百度的叫ernie-bot，零一万物和幻方都是沿用了openai的库。在课程里面，我们主要以zhipu的api为例，主要zhipu的api的免费资源比较容易申请和获取。"
   ]
  },
  {
   "cell_type": "code",
   "execution_count": null,
   "metadata": {},
   "outputs": [],
   "source": []
  }
 ],
 "metadata": {
  "language_info": {
   "name": "python"
  }
 },
 "nbformat": 4,
 "nbformat_minor": 2
}
