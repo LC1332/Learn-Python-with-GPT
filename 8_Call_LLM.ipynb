{
 "cells": [
  {
   "cell_type": "markdown",
   "metadata": {},
   "source": [
    "# 第八课 调用大语言模型\n",
    "\n",
    "- [ ] 什么是serverless API\n",
    "- [ ] API模式和web模式调用大语言模型的区别\n",
    "- [ ] json mode的输出\n",
    "- [ ] CoT形式的prompt\n",
    "- [ ] "
   ]
  },
  {
   "cell_type": "code",
   "execution_count": null,
   "metadata": {},
   "outputs": [],
   "source": []
  }
 ],
 "metadata": {
  "language_info": {
   "name": "python"
  }
 },
 "nbformat": 4,
 "nbformat_minor": 2
}
