{
 "cells": [
  {
   "cell_type": "markdown",
   "metadata": {},
   "source": [
    "# 第十课 Gradio Demo\n",
    "\n",
    "- [ ] Gradio的例子\n",
    "- [ ] 将大语言模型API接入到Gradio\n",
    "- [ ] 一个看图说话的例子\n",
    "- [ ] 写一个背单词的软件"
   ]
  },
  {
   "cell_type": "markdown",
   "metadata": {},
   "source": [
    "一般来说，我们正常的交互软件是有很多“交互界面”的。但是我们的课程已经上了很多节课了\n",
    "\n",
    "我们其实很少涉及“交互界面”的概念。唯一比较多交互的是我们再第3、5、6、7节课中涉及到的pygame游戏的部分。\n",
    "\n",
    "今天我们要来尝试用一种简易前端工具Gradio来制作交互界面。\n"
   ]
  },
  {
   "cell_type": "markdown",
   "metadata": {},
   "source": [
    "```\n",
    "什么是Gradio?\n",
    "```"
   ]
  },
  {
   "cell_type": "markdown",
   "metadata": {},
   "source": [
    "<details>\n",
    "\n",
    "<summary> ChatGPT的回答 </summary>\n",
    "\n",
    "Gradio 是一个用于构建和部署机器学习模型和数据科学应用的 Python 库。它允许开发者通过非常简单的代码将机器学习模型转换为用户可以通过网页界面与之交互的应用程序。Gradio 提供了多种输入组件（如文本框、文件上传、图像上传）和输出组件（如文本、图像、表格），使得用户可以快速搭建交互式的模型演示。\n",
    "\n",
    "主要特点包括：\n",
    "\n",
    "1. **简便易用**：只需几行代码就能构建一个基本的界面，并将其与机器学习模型连接。\n",
    "2. **快速部署**：Gradio 支持将应用程序通过链接共享，或嵌入到网站中，方便他人使用和测试。\n",
    "3. **广泛的兼容性**：支持与多种机器学习框架（如 TensorFlow、PyTorch、Hugging Face Transformers 等）集成。\n",
    "4. **开源**：Gradio 是开源的，可以自由使用和修改。\n",
    "\n",
    "Gradio 非常适合用于构建原型、演示模型效果，或者用于教学和演示目的。\n",
    "\n",
    "</details>"
   ]
  },
  {
   "cell_type": "markdown",
   "metadata": {},
   "source": [
    "其实一般来说，在正常的一学期python课中，我们一般都不会涉及前端控件的内容。因为相比于后台直白的运行逻辑，\n",
    "\n",
    "前端的界面是一直运行的，并且要对很多用户的事件来做出响应。不过Gradio是一个比较适合初学者，特别是已经有一定Python基础的同学进行搭建的前端工具\n",
    "\n",
    "让我来开始我们的一个例子"
   ]
  },
  {
   "cell_type": "markdown",
   "metadata": {},
   "source": [
    "```\n",
    "请帮我编写一个gradio的翻转字符串的例子\n",
    "\n",
    "输入和输出都是text，有一个按钮“翻转”\n",
    "```"
   ]
  },
  {
   "cell_type": "code",
   "execution_count": 1,
   "metadata": {},
   "outputs": [
    {
     "name": "stdout",
     "output_type": "stream",
     "text": [
      "Running on local URL:  http://127.0.0.1:7860\n",
      "\n",
      "To create a public link, set `share=True` in `launch()`.\n"
     ]
    },
    {
     "data": {
      "text/html": [
       "<div><iframe src=\"http://127.0.0.1:7860/\" width=\"100%\" height=\"500\" allow=\"autoplay; camera; microphone; clipboard-read; clipboard-write;\" frameborder=\"0\" allowfullscreen></iframe></div>"
      ],
      "text/plain": [
       "<IPython.core.display.HTML object>"
      ]
     },
     "metadata": {},
     "output_type": "display_data"
    },
    {
     "data": {
      "text/plain": []
     },
     "execution_count": 1,
     "metadata": {},
     "output_type": "execute_result"
    }
   ],
   "source": [
    "import gradio as gr\n",
    "\n",
    "def reverse_string(input_text):\n",
    "    return input_text[::-1]\n",
    "\n",
    "with gr.Blocks() as demo:\n",
    "    with gr.Row():\n",
    "        input_text = gr.Textbox(label=\"输入文本\")\n",
    "        output_text = gr.Textbox(label=\"输出文本\")\n",
    "    \n",
    "    reverse_button = gr.Button(\"翻转\")\n",
    "    \n",
    "    reverse_button.click(fn=reverse_string, inputs=input_text, outputs=output_text)\n",
    "\n",
    "demo.launch()\n"
   ]
  },
  {
   "cell_type": "markdown",
   "metadata": {},
   "source": [
    "运行这个代码会出现几个输出\n",
    "\n",
    "### 本地页面\n",
    "\n",
    "一个类似Running on local URL:  http://127.0.0.1:7860 的页面\n",
    "\n",
    "这个页面实际上是可以在本地浏览器打开的。打开之后会有一个交互的页面。\n",
    "\n",
    "另外有一些notebook，会直接把gradio的页面渲染在notebook里面\n",
    "\n",
    "比如我们的VS Code就会直接渲染出来。\n",
    "\n",
    "然后后面还可以看到一行信息 To create a public link, set `share=True` in `launch()`.\n",
    "\n",
    "这就是说在launch demo的时候，如果额外增加share=True，就可以生成一个公开的链接，让其他人也可以访问这个页面。\n",
    "\n",
    "让我们来实验一下这个demo。\n",
    "\n"
   ]
  },
  {
   "cell_type": "markdown",
   "metadata": {},
   "source": [
    "在输入框可以输入“Example_Input”然后点击翻转\n",
    "\n",
    "![图片描述](images/gradio_example.jpg)\n",
    "\n",
    "就可以看到结果\n"
   ]
  },
  {
   "cell_type": "markdown",
   "metadata": {},
   "source": [
    "这里Gradio代码每一行都做了什么呢？\n",
    "\n",
    "我们可以让ChatGPT进行解释\n",
    "\n",
    "```\n",
    "import gradio as gr\n",
    "\n",
    "def reverse_string(input_text):\n",
    "    return input_text[::-1]\n",
    "\n",
    "with gr.Blocks() as demo:\n",
    "    with gr.Row():\n",
    "        input_text = gr.Textbox(label=\"输入文本\")\n",
    "        output_text = gr.Textbox(label=\"输出文本\")\n",
    "    \n",
    "    reverse_button = gr.Button(\"翻转\")\n",
    "    \n",
    "    reverse_button.click(fn=reverse_string, inputs=input_text, outputs=output_text)\n",
    "\n",
    "demo.launch()\n",
    "\n",
    "为我逐行解释上面这段代码\n",
    "```"
   ]
  },
  {
   "cell_type": "markdown",
   "metadata": {},
   "source": [
    "<details>\n",
    "\n",
    "<summary> ChatGPT的回答 </summary>\n",
    "\n",
    "这段代码使用了 `Gradio` 库来创建一个简单的网页应用，可以输入文本并将其翻转后输出。以下是逐行解释：\n",
    "\n",
    "1. **`import gradio as gr`**  \n",
    "   引入 Gradio 库，并将其简化命名为 `gr`。Gradio 是一个用于创建和共享机器学习和数据科学应用的 Python 库。\n",
    "\n",
    "2. **`def reverse_string(input_text):`**  \n",
    "   定义一个名为 `reverse_string` 的函数，接收一个参数 `input_text`。\n",
    "\n",
    "3. **`return input_text[::-1]`**  \n",
    "   在 `reverse_string` 函数中，返回输入文本的翻转版本。`[::-1]` 是 Python 中的切片操作，用于反转字符串。\n",
    "\n",
    "4. **`with gr.Blocks() as demo:`**  \n",
    "   创建一个 Gradio 应用的实例，使用 `Blocks` 布局组件，并将其命名为 `demo`。`Blocks` 允许你自由组织组件的布局。\n",
    "\n",
    "5. **`with gr.Row():`**  \n",
    "   在 `Blocks` 布局中创建一个行布局 `Row`，使得该行内的组件水平排列。\n",
    "\n",
    "6. **`input_text = gr.Textbox(label=\"输入文本\")`**  \n",
    "   在行布局中添加一个文本输入框 `Textbox`，用于输入要翻转的文本。`label=\"输入文本\"` 设置了该文本框的标签。\n",
    "\n",
    "7. **`output_text = gr.Textbox(label=\"输出文本\")`**  \n",
    "   在行布局中添加另一个文本框 `Textbox`，用于显示翻转后的文本。`label=\"输出文本\"` 设置了该文本框的标签。\n",
    "\n",
    "8. **`reverse_button = gr.Button(\"翻转\")`**  \n",
    "   添加一个按钮 `Button`，并将按钮的标签设为“翻转”。\n",
    "\n",
    "9. **`reverse_button.click(fn=reverse_string, inputs=input_text, outputs=output_text)`**  \n",
    "   绑定按钮的点击事件。当用户点击“翻转”按钮时，`reverse_string` 函数将被调用，`inputs=input_text` 表示将 `input_text` 的内容作为输入，`outputs=output_text` 表示函数的输出将显示在 `output_text` 文本框中。\n",
    "\n",
    "10. **`demo.launch()`**  \n",
    "    启动 Gradio 应用，使其在浏览器中运行并可供用户使用。\n",
    "\n",
    "总结：这段代码创建了一个简单的 Web 应用，用户可以在其中输入文本并通过点击按钮查看翻转后的文本。\n",
    "\n",
    "</details>\n",
    "\n",
    "总结来说，我们可以用gr.Textbox和gr.Button在gradio的demo中添加分别添加文本输入控件和按钮控件\n",
    "\n",
    "这里最关键的是`reverse_button.click(fn=reverse_string, inputs=input_text, outputs=output_text)`这一行，它将按钮的点击事件与翻转函数绑定\n",
    "\n",
    "第一个参数fn表示按钮按下的时候，会调用reverse_string这个函数，我们观察这个函数的输入和输出都是文本\n",
    "\n",
    "这样reverse_string这个函数的输入就会和inputs的input_text关联上，输出就会和output_text关联上\n",
    "\n",
    "也就是当按钮按下的时候，程序会调用reverse_string函数，将input_text的内容作为输入，将函数的输出作为output_text的内容。"
   ]
  },
  {
   "cell_type": "markdown",
   "metadata": {},
   "source": [
    "## 将Gradio关联上语言模型\n",
    "\n",
    "还记得我们上节课写的程序吗"
   ]
  },
  {
   "cell_type": "code",
   "execution_count": 3,
   "metadata": {},
   "outputs": [],
   "source": [
    "# 这里因为鲁鲁老师使用了代理所以要运行这一句，同学们不需要运行这一句。\n",
    "import os\n",
    "os.environ['HTTP_PROXY'] = 'http://localhost:8234'\n",
    "os.environ['HTTPS_PROXY'] = 'http://localhost:8234'\n"
   ]
  },
  {
   "cell_type": "markdown",
   "metadata": {},
   "source": [
    "让我们来编辑prompt\n",
    "\n",
    "---\n",
    "\n",
    "```python\n",
    "\n",
    "def get_api_key(api_key_file):\n",
    "    \"\"\"\n",
    "    从指定文件中读取 API 密钥\n",
    "    \"\"\"\n",
    "    with open(api_key_file, 'r') as file:\n",
    "        api_key = file.read().strip()\n",
    "    return api_key\n",
    "\n",
    "from zhipuai import ZhipuAI\n",
    "def get_response(question, max_tokens = 200, api_key_file=\"data/zhipu_apikey.txt\"):\n",
    "    \"\"\"\n",
    "    调用 ZhipuAI API 来获取问题的回答\n",
    "    \"\"\"\n",
    "    # 获取 API 密钥\n",
    "    api_key = get_api_key(api_key_file)\n",
    "    \n",
    "    # 初始化 ZhipuAI 客户端\n",
    "    client = ZhipuAI(api_key=api_key)\n",
    "    \n",
    "    # 调用 ZhipuAI API 进行问答\n",
    "    response = client.chat.completions.create(\n",
    "        model=\"glm-4\",  # 指定使用的模型名称\n",
    "        messages=[\n",
    "            {\"role\": \"user\", \"content\": question}\n",
    "        ],\n",
    "        max_tokens = max_tokens\n",
    "    )\n",
    "    \n",
    "    # 返回回复内容\n",
    "    return response.choices[0].message.content\n",
    "```\n",
    "\n",
    "我已经有一个get_response函数\n",
    "\n",
    "我希望为这个函数设计一个gradio的demo\n",
    "\n",
    "有一个输入框，默认值为 “将下列句子翻译成英文：君不见黄河之水天上来”\n",
    "\n",
    "有一个滑动框控制输入的max_tokens，默认值200，最大值1024\n",
    "\n",
    "有一个submit按钮和一个显示输出的输出文本框\n",
    "\n",
    "请为我实现"
   ]
  },
  {
   "cell_type": "code",
   "execution_count": 6,
   "metadata": {},
   "outputs": [
    {
     "name": "stdout",
     "output_type": "stream",
     "text": [
      "Running on local URL:  http://127.0.0.1:7862\n",
      "\n",
      "To create a public link, set `share=True` in `launch()`.\n"
     ]
    },
    {
     "data": {
      "text/html": [
       "<div><iframe src=\"http://127.0.0.1:7862/\" width=\"100%\" height=\"500\" allow=\"autoplay; camera; microphone; clipboard-read; clipboard-write;\" frameborder=\"0\" allowfullscreen></iframe></div>"
      ],
      "text/plain": [
       "<IPython.core.display.HTML object>"
      ]
     },
     "metadata": {},
     "output_type": "display_data"
    },
    {
     "data": {
      "text/plain": []
     },
     "execution_count": 6,
     "metadata": {},
     "output_type": "execute_result"
    }
   ],
   "source": [
    "import gradio as gr\n",
    "\n",
    "# 假设 get_response 函数已经定义好\n",
    "# 这里直接使用你提供的 get_response 函数\n",
    "\n",
    "def get_api_key(api_key_file):\n",
    "    \"\"\"\n",
    "    从指定文件中读取 API 密钥\n",
    "    \"\"\"\n",
    "    with open(api_key_file, 'r') as file:\n",
    "        api_key = file.read().strip()\n",
    "    return api_key\n",
    "\n",
    "from zhipuai import ZhipuAI\n",
    "def get_response(question, max_tokens = 200, api_key_file=\"data/zhipu_apikey.txt\"):\n",
    "    \"\"\"\n",
    "    调用 ZhipuAI API 来获取问题的回答\n",
    "    \"\"\"\n",
    "    # 获取 API 密钥\n",
    "    api_key = get_api_key(api_key_file)\n",
    "    \n",
    "    # 初始化 ZhipuAI 客户端\n",
    "    client = ZhipuAI(api_key=api_key)\n",
    "    \n",
    "    # 调用 ZhipuAI API 进行问答\n",
    "    response = client.chat.completions.create(\n",
    "        model=\"glm-4\",  # 指定使用的模型名称\n",
    "        messages=[\n",
    "            {\"role\": \"user\", \"content\": question}\n",
    "        ],\n",
    "        max_tokens = max_tokens\n",
    "    )\n",
    "    \n",
    "    # 返回回复内容\n",
    "    return response.choices[0].message.content\n",
    "\n",
    "def gradio_get_response(question, max_tokens):\n",
    "    return get_response(question, max_tokens=max_tokens)\n",
    "\n",
    "with gr.Blocks() as demo:\n",
    "    with gr.Row():\n",
    "        input_text = gr.Textbox(label=\"输入文本\", \n",
    "                                value=\"将下列句子翻译成英文：君不见黄河之水天上来\", \n",
    "                                lines=3)\n",
    "        max_tokens = gr.Slider(label=\"最大标记数 (max_tokens)\", \n",
    "                               minimum=1, \n",
    "                               maximum=1024, \n",
    "                               value=200, \n",
    "                               step=1)\n",
    "    \n",
    "    submit_button = gr.Button(\"提交\")\n",
    "    output_text = gr.Textbox(label=\"输出文本\")\n",
    "    \n",
    "    submit_button.click(fn=gradio_get_response, \n",
    "                        inputs=[input_text, max_tokens], \n",
    "                        outputs=output_text)\n",
    "\n",
    "demo.launch()\n"
   ]
  },
  {
   "cell_type": "markdown",
   "metadata": {},
   "source": [
    "尝试打开gradio返回的链接，可以看到整体是可以被顺利运行的。\n",
    "\n",
    "在很多时候，其实本地的demo就已经足够青少年的朋友在科技节或者是科创类型的比赛进行现场展示了。\n",
    "\n",
    "当然你也可以将share=True打开，生成链接分享给其他人体验你的demo。或者借助百度的aistudio，阿里魔搭或者是gitee，这些平台都支持在线地部署gradio类型地demo，这样你的demo就可以被公网任意访问去使用。\n",
    "\n",
    "---"
   ]
  },
  {
   "cell_type": "markdown",
   "metadata": {},
   "source": [
    "## 尝试搭建一个背单词的程序\n",
    "\n",
    "我发现刚学编程的同学特别喜欢搭建背单词的程序，\n",
    "\n",
    "既然我们现在可以做前端的界面了，不如我们就来思考背单词的程序要怎么搭建。\n",
    "\n",
    "我们要思考一下，背单词的软件的搭建步骤\n",
    "\n",
    "- 生成一组单词表\n",
    "- 建立一个背单词的管理类，每次可以找到“最不熟悉的单词”\n",
    "- 建立一个函数，每次可以抽取一个单词，并且准备混淆的选项\n",
    "- 建立gradio前端的demo"
   ]
  },
  {
   "cell_type": "markdown",
   "metadata": {},
   "source": [
    "我们先让ChatGPT生成一组单词表\n",
    "\n",
    "```\n",
    "我正在设计一个背单词的程序\n",
    "\n",
    "我希望构造一组长度为30的List of Dict, 每个元素有字段 english 和 chinese_meaning\n",
    "\n",
    "english是单词，chinese_meaning是单词的中文示意\n",
    "\n",
    "请帮助我用words = [...]的形式生成一组单词表\n",
    "```"
   ]
  },
  {
   "cell_type": "code",
   "execution_count": 2,
   "metadata": {},
   "outputs": [
    {
     "name": "stdout",
     "output_type": "stream",
     "text": [
      "fish : 鱼\n"
     ]
    }
   ],
   "source": [
    "words_long = [\n",
    "    {\"english\": \"apple\", \"chinese_meaning\": \"苹果\"},\n",
    "    {\"english\": \"banana\", \"chinese_meaning\": \"香蕉\"},\n",
    "    {\"english\": \"cat\", \"chinese_meaning\": \"猫\"},\n",
    "    {\"english\": \"dog\", \"chinese_meaning\": \"狗\"},\n",
    "    {\"english\": \"elephant\", \"chinese_meaning\": \"大象\"},\n",
    "    {\"english\": \"fish\", \"chinese_meaning\": \"鱼\"},\n",
    "    {\"english\": \"grape\", \"chinese_meaning\": \"葡萄\"},\n",
    "    {\"english\": \"hat\", \"chinese_meaning\": \"帽子\"},\n",
    "    {\"english\": \"ice\", \"chinese_meaning\": \"冰\"},\n",
    "    {\"english\": \"juice\", \"chinese_meaning\": \"果汁\"},\n",
    "    {\"english\": \"kite\", \"chinese_meaning\": \"风筝\"},\n",
    "    {\"english\": \"lemon\", \"chinese_meaning\": \"柠檬\"},\n",
    "    {\"english\": \"mango\", \"chinese_meaning\": \"芒果\"},\n",
    "    {\"english\": \"nut\", \"chinese_meaning\": \"坚果\"},\n",
    "    {\"english\": \"orange\", \"chinese_meaning\": \"橙子\"},\n",
    "    {\"english\": \"pencil\", \"chinese_meaning\": \"铅笔\"},\n",
    "    {\"english\": \"queen\", \"chinese_meaning\": \"女王\"},\n",
    "    {\"english\": \"rose\", \"chinese_meaning\": \"玫瑰\"},\n",
    "    {\"english\": \"sun\", \"chinese_meaning\": \"太阳\"},\n",
    "    {\"english\": \"tree\", \"chinese_meaning\": \"树\"},\n",
    "    {\"english\": \"umbrella\", \"chinese_meaning\": \"伞\"},\n",
    "    {\"english\": \"violin\", \"chinese_meaning\": \"小提琴\"},\n",
    "    {\"english\": \"water\", \"chinese_meaning\": \"水\"},\n",
    "    {\"english\": \"xylophone\", \"chinese_meaning\": \"木琴\"},\n",
    "    {\"english\": \"yacht\", \"chinese_meaning\": \"游艇\"},\n",
    "    {\"english\": \"zebra\", \"chinese_meaning\": \"斑马\"},\n",
    "    {\"english\": \"airplane\", \"chinese_meaning\": \"飞机\"},\n",
    "    {\"english\": \"bridge\", \"chinese_meaning\": \"桥\"},\n",
    "    {\"english\": \"cloud\", \"chinese_meaning\": \"云\"},\n",
    "    {\"english\": \"diamond\", \"chinese_meaning\": \"钻石\"}\n",
    "]\n",
    "\n",
    "print(words_long[5][\"english\"], \":\", words_long[5][\"chinese_meaning\"])"
   ]
  },
  {
   "cell_type": "markdown",
   "metadata": {},
   "source": [
    "现在我们要构造一个WordManager类，"
   ]
  },
  {
   "cell_type": "markdown",
   "metadata": {},
   "source": [
    "---\n",
    "\n",
    "请帮我实现一个WordManager类，包含下面的方法\n",
    "\n",
    "__init__( words )， 可以通过一个List of Dict初始化，其中每个元素有english和chinese_meaning字段\n",
    "\n",
    "并且我希望每个单词有一个熟练度\"score\"，所有的单词初始熟练度定义为20 （可以建立一个english2score的map）\n",
    "\n",
    "定义get_word_tuple( ) 方法，返回熟练度最低的word （dict形式），如果有数个熟练度相同的单词，随机返回其中一个\n",
    "\n",
    "定义add_score( english_word , delta = 1) 方法，将word的熟练度增加delta，delta默认为1\n",
    "\n",
    "定义minus_score( english_word, delta = 1 ) 方法，将word的熟练度减少delta，\n",
    "\n",
    "同时注意保持熟练度最小值是0 最大值是100\n",
    "\n",
    "定义get_alternative( english_word, n = 3 )方法，返回一个list of string，返回n个不是word的chinese_meaning\n",
    "\n",
    "请帮助我实现这个python类，并编写合适的测试。\n",
    "\n",
    "---"
   ]
  },
  {
   "cell_type": "code",
   "execution_count": 1,
   "metadata": {},
   "outputs": [
    {
     "name": "stdout",
     "output_type": "stream",
     "text": [
      "{'english': 'cherry', 'chinese_meaning': '樱桃'}\n",
      "30\n",
      "25\n",
      "['香蕉', '樱桃', '枣']\n"
     ]
    }
   ],
   "source": [
    "import random\n",
    "\n",
    "class WordManager:\n",
    "    def __init__(self, words):\n",
    "        self.english2score = {word['english']: 20 for word in words}\n",
    "        self.english2chinese = {word['english']: word['chinese_meaning'] for word in words}\n",
    "\n",
    "    def get_word_tuple(self):\n",
    "        # 找到所有熟练度为最低的单词\n",
    "        min_score = min(self.english2score.values())\n",
    "        lowest_score_words = [word for word, score in self.english2score.items() if score == min_score]\n",
    "        # 随机选择一个单词返回\n",
    "        selected_word = random.choice(lowest_score_words)\n",
    "        return {'english': selected_word, 'chinese_meaning': self.english2chinese[selected_word]}\n",
    "\n",
    "    def add_score(self, english_word, delta=1):\n",
    "        self.english2score[english_word] = min(100, self.english2score[english_word] + delta)\n",
    "\n",
    "    def minus_score(self, english_word, delta=1):\n",
    "        self.english2score[english_word] = max(0, self.english2score[english_word] - delta)\n",
    "\n",
    "    def get_alternative(self, english_word, n=3):\n",
    "        all_meanings = list(self.english2chinese.values())\n",
    "        alternatives = [meaning for meaning in all_meanings if meaning != self.english2chinese[english_word]]\n",
    "        return random.sample(alternatives, min(n, len(alternatives)))\n",
    "\n",
    "# 测试代码\n",
    "if __name__ == \"__main__\":\n",
    "    words = [\n",
    "        {'english': 'apple', 'chinese_meaning': '苹果'},\n",
    "        {'english': 'banana', 'chinese_meaning': '香蕉'},\n",
    "        {'english': 'cherry', 'chinese_meaning': '樱桃'},\n",
    "        {'english': 'date', 'chinese_meaning': '枣'}\n",
    "    ]\n",
    "    \n",
    "    word_manager = WordManager(words)\n",
    "    \n",
    "    # 测试get_word_tuple\n",
    "    print(word_manager.get_word_tuple())\n",
    "    \n",
    "    # 测试add_score\n",
    "    word_manager.add_score('apple', 10)\n",
    "    print(word_manager.english2score['apple'])  # 应该输出30\n",
    "    \n",
    "    # 测试minus_score\n",
    "    word_manager.minus_score('apple', 5)\n",
    "    print(word_manager.english2score['apple'])  # 应该输出25\n",
    "    \n",
    "    # 测试get_alternative\n",
    "    print(word_manager.get_alternative('apple'))\n"
   ]
  },
  {
   "cell_type": "markdown",
   "metadata": {},
   "source": [
    "接下来我们就要利用这个Word Manager类，来实现配套的前端:"
   ]
  },
  {
   "cell_type": "markdown",
   "metadata": {},
   "source": [
    "我已经实现了WordManger类，这个类的功能如下\n",
    "\n",
    "__init__( word_tuples )， 初始化\n",
    "\n",
    "get_word_tuple( ) 方法，返回熟练度最低的word （dict形式），如果有数个熟练度相同的单词，随机返回其中一个\n",
    "\n",
    "每个word_tuple有english和chinese_meaning字段\n",
    "\n",
    "add_score( english_word , delta = 1) 方法，将word的熟练度增加delta，delta默认为1\n",
    "\n",
    "minus_score( english_word, delta = 1 ) 方法，将word的熟练度减少delta，\n",
    "\n",
    "get_alternative( english_word, n = 3 )方法，返回一个list of string，返回n个不是word的chinese_meaning\n",
    "\n",
    "\n",
    "现在我希望实现一个gradio demo\n",
    "\n",
    "这个demo每次会用get_word_tuple()获得一个单词，并渲染在第一个textbox上，label为\"选择这个单词的中文意思\"\n",
    "\n",
    "然后使用get_alternative()方法，获得三个额外的chinese_meaning\n",
    "\n",
    "然后混淆三个备选项和本身word的chinese_meaning，随机显示在4个选项上\n",
    "\n",
    "并且将真实的chinese_meaning渲染在一个不可见的textbox上，\n",
    "\n",
    "当用户选择的时候，如果选择正确，则调用add_score(word)方法，否则，调用minus_score(word)方法\n",
    "\n",
    "在修改分数之后，重新获取一个新的单词进行渲染"
   ]
  },
  {
   "cell_type": "code",
   "execution_count": 7,
   "metadata": {},
   "outputs": [
    {
     "name": "stdout",
     "output_type": "stream",
     "text": [
      "Running on local URL:  http://127.0.0.1:7863\n",
      "\n",
      "To create a public link, set `share=True` in `launch()`.\n"
     ]
    },
    {
     "data": {
      "text/html": [
       "<div><iframe src=\"http://127.0.0.1:7863/\" width=\"100%\" height=\"500\" allow=\"autoplay; camera; microphone; clipboard-read; clipboard-write;\" frameborder=\"0\" allowfullscreen></iframe></div>"
      ],
      "text/plain": [
       "<IPython.core.display.HTML object>"
      ]
     },
     "metadata": {},
     "output_type": "display_data"
    },
    {
     "data": {
      "text/plain": []
     },
     "execution_count": 7,
     "metadata": {},
     "output_type": "execute_result"
    }
   ],
   "source": [
    "import gradio as gr\n",
    "import random\n",
    "# 这是一个帮助函数，用于从 WordManager 获取数据并渲染到界面上\n",
    "def get_question():\n",
    "    word_tuple = word_manager.get_word_tuple()\n",
    "    correct_answer = word_tuple['chinese_meaning']\n",
    "    alternatives = word_manager.get_alternative(word_tuple['english'], n=3)\n",
    "    options = alternatives + [correct_answer]\n",
    "    random.shuffle(options)\n",
    "    return word_tuple['english'], correct_answer, options\n",
    "\n",
    "# 这是主函数，用于处理用户的选择，并返回下一个问题\n",
    "def check_answer(selected_option, correct_answer, question_text):\n",
    "    if selected_option == correct_answer:\n",
    "        word_manager.add_score(question_text)\n",
    "        feedback = \"Correct!\"\n",
    "    else:\n",
    "        word_manager.minus_score(question_text)\n",
    "        feedback = \"Wrong!\"\n",
    "\n",
    "    english_word, correct_answer, options = get_question()\n",
    "    \n",
    "    # ChatGPT一开始给我返回下面这个，是错的，用gr.update()才可以把选项中的文字进行更新\n",
    "    # return english_word, correct_answer, options, \"\", feedback\n",
    "    return english_word, correct_answer, gr.update(choices=options), \"\", feedback\n",
    "\n",
    "# 初始化第一个问题\n",
    "english_word, correct_answer, options = get_question()\n",
    "\n",
    "with gr.Blocks() as demo:\n",
    "    with gr.Row():\n",
    "        question_text = gr.Textbox(label=\"选择这个单词的中文意思\", value=english_word, interactive=False)\n",
    "        correct_answer_text = gr.Textbox(value=correct_answer, visible=False)\n",
    "    \n",
    "    options_radio = gr.Radio(choices=options, label=\"选项\")\n",
    "    submit_button = gr.Button(\"提交\")\n",
    "\n",
    "    feedback_text = gr.Textbox(label=\"反馈\", interactive=False)\n",
    "\n",
    "    submit_button.click(fn=check_answer,\n",
    "                        inputs=[options_radio, correct_answer_text, question_text],\n",
    "                        outputs=[question_text, correct_answer_text, options_radio, options_radio, feedback_text])\n",
    "\n",
    "demo.launch()\n"
   ]
  },
  {
   "cell_type": "markdown",
   "metadata": {},
   "source": [
    "## 课后练习\n",
    "\n",
    "- 现在会有反复输出一个单词的可能性，进一步修改程序，使得保证抽到的单词不会和上一次的一样\n",
    "- 给WordManager类增加save和load方法，在初始化的时候，从一个默认路径去载入，如果默认路径的文件存在，则载入\n",
    "- (opt*)调研什么是艾宾浩斯记忆曲线，使用艾宾浩斯记忆曲线的方法，来实现WordManager类\n",
    "- (opt*)思考这个背单词软件是否能和第八节课提到的anki卡片结合，实现任意课程的学习。"
   ]
  },
  {
   "cell_type": "markdown",
   "metadata": {},
   "source": [
    "---\n",
    "\n",
    "## 小结\n",
    "\n",
    "这节课我们学习了如何建立Gradio的前端交互。包括如何设置基本的文本框和按钮，并且尝试把大语言模型接入了Gradio中。\n",
    "\n",
    "并且我们尝试实现了一个背单词的程序。\n",
    "\n",
    "过往的编程课程中，我们发现同学们会对加密通信也非常感兴趣，所以下节课会继续使用Gradio，来实现一个加密通信的demo\n",
    "\n",
    "并且额外尝试使用多模态的大模型。"
   ]
  },
  {
   "cell_type": "markdown",
   "metadata": {},
   "source": [
    "## 申请零一万物的API\n",
    "\n",
    "这里需要同学们回家申请\n",
    "\n",
    "https://platform.lingyiwanwu.com/\n",
    "\n",
    "零一万物的api，这样在下节课的多模态实验中，我们会有一个例子使用这个零一万物的api\n",
    "\n",
    "一样以txt文件的形式，将api_key保存到文件中。\n",
    "\n",
    "当然zhipu的也支持多模态，但是zhipu的glm4v模型收费相对更贵，免费的资源包很快就会被用完。"
   ]
  },
  {
   "cell_type": "code",
   "execution_count": null,
   "metadata": {},
   "outputs": [],
   "source": []
  }
 ],
 "metadata": {
  "kernelspec": {
   "display_name": "Python 3",
   "language": "python",
   "name": "python3"
  },
  "language_info": {
   "codemirror_mode": {
    "name": "ipython",
    "version": 3
   },
   "file_extension": ".py",
   "mimetype": "text/x-python",
   "name": "python",
   "nbconvert_exporter": "python",
   "pygments_lexer": "ipython3",
   "version": "3.8.5"
  }
 },
 "nbformat": 4,
 "nbformat_minor": 2
}
