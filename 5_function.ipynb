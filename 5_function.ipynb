{
 "cells": [
  {
   "cell_type": "markdown",
   "metadata": {},
   "source": [
    "# 李鲁鲁老师的Python课程 第五课 函数\n",
    "\n",
    "- [ ] 函数的定义\n",
    "- [ ] 一个随机生成点的函数\n",
    "- [ ] 学会将一个已经实现的函数整合到最终程序中\n",
    "- [ ] 注册智谱GLM获得API-Key"
   ]
  },
  {
   "cell_type": "markdown",
   "metadata": {},
   "source": [
    "哦，这里我们要再说一下废话。如果你觉得我们的课程节奏太快的话。很可能是你对Python本身不熟悉\n",
    "\n",
    "我在编写这节课的时候看见了[30-Days-of-Python](https://github.com/Asabeneh/30-Days-Of-Python) 这个课程。\n",
    "\n",
    "---\n",
    "\n",
    "为什么要急着讲函数呢？我觉得有这么几个原因\n",
    "\n",
    "- 明确函数的使用可以让开发者（也就是同学们）了解自己写的程序的输入和输出\n",
    "- 函数是代码复用的基础，如果你能熟练使用函数，那么你可以把一些功能封装起来，下次继续使用"
   ]
  },
  {
   "cell_type": "markdown",
   "metadata": {},
   "source": [
    "## 传统的编程教学内容\n",
    "\n",
    "因为用ChatGPT来准备传统教学内容的例子很容易，作为一门self-contain的课程，我们还是可以来介绍一下函数的相关内容\n",
    "\n",
    "```\n",
    "为Python的初学者，给出Python中 函数 的简单例子\n",
    "\n",
    "- 说明函数如何清晰定义了输入和输出\n",
    "- 说明函数如何实现了代码复用\n",
    "\n",
    "最好使用高一物理中的例子，比如匀加速运动\n",
    "```"
   ]
  },
  {
   "cell_type": "markdown",
   "metadata": {},
   "source": [
    "<details>\n",
    "<summary> ChatGPT的输出 </summary>\n",
    "好的，以下是一个关于匀加速运动的例子，说明如何在Python中定义和使用函数。匀加速运动的常见公式之一是：\n",
    "\n",
    "\\[ v = u + at \\]\n",
    "\n",
    "其中：\n",
    "- \\( v \\) 是最终速度\n",
    "- \\( u \\) 是初始速度\n",
    "- \\( a \\) 是加速度\n",
    "- \\( t \\) 是时间\n",
    "\n",
    "我们可以定义一个函数来计算最终速度。\n",
    "\n",
    "### 定义函数\n",
    "\n",
    "```python\n",
    "def calculate_final_velocity(initial_velocity, acceleration, time):\n",
    "    \"\"\"\n",
    "    计算匀加速运动中的最终速度。\n",
    "\n",
    "    参数:\n",
    "    initial_velocity (float): 初始速度 (u)\n",
    "    acceleration (float): 加速度 (a)\n",
    "    time (float): 时间 (t)\n",
    "\n",
    "    返回:\n",
    "    float: 最终速度 (v)\n",
    "    \"\"\"\n",
    "    final_velocity = initial_velocity + acceleration * time\n",
    "    return final_velocity\n",
    "```\n",
    "\n",
    "### 函数的输入和输出\n",
    "\n",
    "在上述函数 `calculate_final_velocity` 中：\n",
    "- 输入参数是 `initial_velocity`（初始速度）、`acceleration`（加速度）和 `time`（时间）。\n",
    "- 输出是 `final_velocity`（最终速度）。\n",
    "\n",
    "### 函数的代码复用\n",
    "\n",
    "定义函数的一个重要好处是代码复用。假设你在多个不同的情境下需要计算匀加速运动的最终速度，使用函数可以避免重复编写计算逻辑，只需调用函数即可。\n",
    "\n",
    "### 示例\n",
    "\n",
    "以下是如何使用这个函数的示例：\n",
    "\n",
    "```python\n",
    "# 定义参数\n",
    "initial_velocity = 10.0  # 初始速度，单位：m/s\n",
    "acceleration = 2.0  # 加速度，单位：m/s^2\n",
    "time = 5.0  # 时间，单位：秒\n",
    "\n",
    "# 调用函数计算最终速度\n",
    "final_velocity = calculate_final_velocity(initial_velocity, acceleration, time)\n",
    "\n",
    "print(f\"最终速度为: {final_velocity} m/s\")\n",
    "```\n",
    "\n",
    "运行以上代码，将输出：\n",
    "\n",
    "```\n",
    "最终速度为: 20.0 m/s\n",
    "```\n",
    "\n",
    "通过这种方式，函数 `calculate_final_velocity` 清晰地定义了输入和输出，并且可以在任何需要计算匀加速运动最终速度的地方复用这个函数，从而提高了代码的简洁性和可维护性。\n",
    "</details>"
   ]
  },
  {
   "cell_type": "markdown",
   "metadata": {},
   "source": [
    "## 一个随机生成点的例子\n",
    "\n",
    "这个真实的例子发生在李鲁鲁老师给鲁宝的一个数数游戏中\n",
    "\n",
    "[https://www.bilibili.com/video/BV1us421P7dY](https://www.bilibili.com/video/BV1us421P7dY)\n",
    "\n",
    "1分16秒左右\n",
    "\n",
    "我们假设有这么一个需求，\n",
    "\n",
    "```\n",
    "因为鲁宝很喜欢小汽车\n",
    "\n",
    "我们希望鲁宝进行 1-10 数学的学习\n",
    "\n",
    "在每次按下任意按键的时候，就会播放下一个数字的语音，并且在随机位置展示对应数量的 小汽车、\n",
    "\n",
    "小汽车的图片在 cars/文件夹中 , .jpg 结尾的任意图片\n",
    "```"
   ]
  },
  {
   "cell_type": "markdown",
   "metadata": {},
   "source": [
    "你可以让ChatGPT尝试编写这个程序，在我的一次实验中，我们会发现他会这么写\n",
    "\n",
    "```python\n",
    "# 定义显示小汽车的函数\n",
    "def display_cars(num):\n",
    "    fig, ax = plt.subplots()\n",
    "    ax.set_xlim(0, 10)\n",
    "    ax.set_ylim(0, 10)\n",
    "    \n",
    "    for _ in range(num):\n",
    "        car_image = random.choice(car_images)\n",
    "        image = Image.open(car_image)\n",
    "        im = OffsetImage(image, zoom=0.1)\n",
    "        ab = AnnotationBbox(im, (random.uniform(0, 10), random.uniform(0, 10)), frameon=False)\n",
    "        ax.add_artist(ab)\n",
    "    \n",
    "    plt.axis('off')\n",
    "    plt.show()\n",
    "```\n",
    "\n",
    "即小汽车的位置是随机的，但是ChatGPT不会帮你考虑小汽车的相互遮挡情况\n",
    "\n",
    "这个时候就会出现，看起来是6辆车，声音却在播放7的情况。\n",
    "\n",
    "这个时候该怎么办呢？"
   ]
  },
  {
   "cell_type": "markdown",
   "metadata": {},
   "source": [
    "## 思考如何更精准地定义需求\n",
    "\n",
    "假设每一张小汽车都会被我们resize到100*100\n",
    "\n",
    "而桌面的大小是 900 * 600，如果我们想随机生成7辆小汽车的位置\n",
    "\n",
    "但是我们如何让小汽车相互不重叠呢？\n",
    "\n",
    "实际上如果任意两个小汽车中心的距离大于 100 * 1.414\n",
    "\n",
    "两辆小汽车就不会重叠。\n",
    "\n",
    "所以本质上，我们把我们的开发过程分解成了两步\n",
    "\n",
    "- 我们希望先建立一个函数，这个函数输入 N 以及最小间距等信息， 输出 N 个的坐标 (List of Tuple)\n",
    "- 然后让ChatGPT生成完整的游戏，调用这个函数来确定小汽车的位置，然后进行渲染"
   ]
  },
  {
   "cell_type": "markdown",
   "metadata": {},
   "source": [
    "## 随机点函数\n",
    "\n",
    "```\n",
    "我希望实现一个python函数 random_points(N, min_distance, screen_width, screen_height)\n",
    "\n",
    "这个函数会生成N个点的坐标\n",
    "并保证任意两个点之间的距离大于 min_distance\n",
    "其中screen_width和screen_height是屏幕的宽度和高度， 点的坐标不会大于0或者超过屏幕边界\n",
    "\n",
    "函数需要返回一个List of Tuple，其中每个Tuple表示一个点的坐标\n",
    "```\n"
   ]
  },
  {
   "cell_type": "markdown",
   "metadata": {},
   "source": [
    "（用ChatGLM生成的结果）"
   ]
  },
  {
   "cell_type": "code",
   "execution_count": 2,
   "metadata": {},
   "outputs": [
    {
     "name": "stdout",
     "output_type": "stream",
     "text": [
      "[(510.1939446695182, 317.9055056817989), (225.27851998817187, 362.35251202360183), (289.1582337170374, 339.0134588672853), (596.8292439550812, 259.95217910054583), (781.2681332675685, 429.25732924283653), (107.57638582248133, 480.9516670952241), (701.1620389240069, 10.891909467112427), (308.44656924985543, 552.2026164197399), (118.0344800928479, 576.52120644654), (645.7785592563656, 181.9962049779368)]\n"
     ]
    }
   ],
   "source": [
    "import random\n",
    "import math\n",
    "\n",
    "def distance(point1, point2):\n",
    "    return math.sqrt((point1[0] - point2[0]) ** 2 + (point1[1] - point2[1]) ** 2)\n",
    "\n",
    "def random_points(N, min_distance, screen_width, screen_height):\n",
    "    points = []\n",
    "    \n",
    "    while len(points) < N:\n",
    "        # 随机生成一个新的点\n",
    "        new_point = (random.uniform(0, screen_width), random.uniform(0, screen_height))\n",
    "        \n",
    "        # 检查新点与已有点的距离是否都大于min_distance\n",
    "        if all(distance(new_point, point) >= min_distance for point in points):\n",
    "            points.append(new_point)\n",
    "    \n",
    "    return points\n",
    "\n",
    "# 示例使用\n",
    "N = 10\n",
    "min_distance = 50\n",
    "screen_width = 800\n",
    "screen_height = 600\n",
    "points = random_points(N, min_distance, screen_width, screen_height)\n",
    "print(points)\n"
   ]
  },
  {
   "cell_type": "markdown",
   "metadata": {},
   "source": [
    "我们可以看到这个程序是可以被正常运行的。\n",
    "\n",
    "但是，有什么问题呢？思考一下\n",
    "\n",
    "这里很有趣的是，下面是我用GPT4-o生成的程序 大家可以对比一下"
   ]
  },
  {
   "cell_type": "code",
   "execution_count": 1,
   "metadata": {},
   "outputs": [
    {
     "name": "stdout",
     "output_type": "stream",
     "text": [
      "(78.9421282831876, 417.0101328348319)\n",
      "(165.84669878552694, 138.332218625062)\n",
      "(287.184028112548, 108.13881874253144)\n",
      "(67.14322064423595, 245.72319705637008)\n",
      "(360.23987946293914, 210.94883611292988)\n",
      "(447.35624488498706, 413.70007095312127)\n",
      "(564.9732036614441, 579.3884929073008)\n",
      "(382.79177629441267, 151.57684099119987)\n",
      "(606.0530981182529, 22.156031091479456)\n",
      "(459.4962215437565, 150.95260332370103)\n"
     ]
    }
   ],
   "source": [
    "import random\n",
    "import math\n",
    "\n",
    "def is_far_enough(point, points, min_distance):\n",
    "    for p in points:\n",
    "        if math.dist(p, point) < min_distance:\n",
    "            return False\n",
    "    return True\n",
    "\n",
    "def random_points(N, min_distance, screen_width, screen_height):\n",
    "    points = []\n",
    "    attempts = 0\n",
    "    max_attempts = 100 * N  # 防止无限循环，设置一个最大尝试次数\n",
    "\n",
    "    while len(points) < N and attempts < max_attempts:\n",
    "        x = random.uniform(0, screen_width)\n",
    "        y = random.uniform(0, screen_height)\n",
    "        point = (x, y)\n",
    "\n",
    "        if is_far_enough(point, points, min_distance):\n",
    "            points.append(point)\n",
    "        attempts += 1\n",
    "\n",
    "    if len(points) < N:\n",
    "        raise ValueError(\"无法生成满足条件的点，请检查输入参数\")\n",
    "\n",
    "    return points\n",
    "\n",
    "# 示例调用\n",
    "N = 10\n",
    "min_distance = 50\n",
    "screen_width = 800\n",
    "screen_height = 600\n",
    "\n",
    "points = random_points(N, min_distance, screen_width, screen_height)\n",
    "for point in points:\n",
    "    print(point)\n"
   ]
  },
  {
   "cell_type": "markdown",
   "metadata": {},
   "source": [
    "可以看到，gpt-4o考虑了max_attempts最大尝试次数，来防止程序出现死循环。\n",
    "\n",
    "那么回到我们刚才说的，这段程序有什么问题呢？\n",
    "\n",
    "1、ChatGLM输出的程序是有可能死循环的，因为那个程序使用了一个While循环\n",
    "\n",
    "2、两个程序其实都不能保证一定能给出输出， ChatGLM那个版本的有可能会死循环，而ChatGPT有可能会报错\n",
    "\n",
    "3、当某个N, min_distance, screen_width, screen_height的组合 有解的时候，两个程序都不一定能保证输出这个解\n"
   ]
  },
  {
   "cell_type": "markdown",
   "metadata": {},
   "source": [
    "---\n",
    "\n",
    "我们先说一个问题， random_points(N, min_distance, screen_width, screen_height) 是否有解。\n",
    "\n",
    "这其实是一个“算法”问题。这个问题背后真正的解答，有可能会很难，但是前面两个版本都给出了一个“看起来来可行”的方案\n",
    "\n",
    "这个时候我们遇到了1，2，3的问题，我们要怎么解决呢？\n",
    "\n",
    "其实问题出在了我们的“需求”上，我们的需求要求\n",
    "\n",
    "```\n",
    "这个函数会生成N个点的坐标\n",
    "并保证任意两个点之间的距离大于 min_distance\n",
    "```\n",
    "\n",
    "但是显然，当 N * (min_distance/2)^2 * pi > screen_width * screen_height 的时候，这个函数是没有解的。\n",
    "\n",
    "回到我们的原始需求，因为我们的最终目标只是想获得N个点的坐标\n",
    "\n",
    "这N个点的坐标 不要有非常接近就可以，其实从小汽车的应用上，也不是说两个小汽车完全不重叠，可以重叠一小部分，仍然是可以看清楚的\n",
    "\n",
    "并且我们其实也不希望像ChatGPT那个版本一样，有可能在特定的参数下，会直接raise一个error，这使得我们的外部程序\n",
    "\n",
    "需要写一定的分支来处理这个error。\n",
    "\n",
    "所以，我们需要“松弛”我们的需求。下面是李鲁鲁老师修改后的需求"
   ]
  },
  {
   "cell_type": "markdown",
   "metadata": {},
   "source": [
    "```\n",
    "我希望实现一个python函数 random_points(N, min_distance, screen_width, screen_height)\n",
    "\n",
    "这个函数会依次生成N个点的坐标\n",
    "并尽可能保证任意两个点之间的距离大于 min_distance\n",
    "其中screen_width和screen_height是屏幕的宽度和高度， 点的坐标不会大于0或者超过屏幕边界\n",
    "\n",
    "生成每个点的时候，每次函数最多会尝试max_attempt = 10 次\n",
    "\n",
    "并且记录这个点到其他已经存在的点的最近距离，如果这个距离已经大于min_distance, 则接受这个点\n",
    "如果达到最大尝试次数，仍然小于min_distance, 则接受所有方案中 最近距离 最大的那个方案\n",
    "\n",
    "函数需要返回一个List of Tuple，其中每个Tuple表示一个点的坐标\n",
    "```"
   ]
  },
  {
   "cell_type": "markdown",
   "metadata": {},
   "source": [
    "生成的程序如下"
   ]
  },
  {
   "cell_type": "code",
   "execution_count": 1,
   "metadata": {},
   "outputs": [
    {
     "name": "stdout",
     "output_type": "stream",
     "text": [
      "(361.4976343184187, 159.8802980150911)\n",
      "(262.32215679964526, 385.8666960071684)\n",
      "(211.33773608536038, 279.28745417281806)\n",
      "(22.03302976218371, 232.50814514992132)\n",
      "(653.4035203458473, 457.37649857071386)\n",
      "(634.842684699014, 358.8790400404244)\n",
      "(720.3562408690256, 500.4058577703086)\n",
      "(73.41367567027248, 240.7442037200288)\n",
      "(293.4143173074449, 105.10678470279792)\n",
      "(637.2843550412367, 152.88456486380178)\n"
     ]
    }
   ],
   "source": [
    "import random\n",
    "import math\n",
    "\n",
    "def random_points(N, min_distance, screen_width, screen_height):\n",
    "    def distance(point1, point2):\n",
    "        return math.sqrt((point1[0] - point2[0]) ** 2 + (point1[1] - point2[1]) ** 2)\n",
    "\n",
    "    def is_valid(point, points, min_distance):\n",
    "        return all(distance(point, p) >= min_distance for p in points)\n",
    "\n",
    "    points = []\n",
    "    max_attempts = 10\n",
    "\n",
    "    for _ in range(N):\n",
    "        best_point = None\n",
    "        max_min_distance = -1\n",
    "\n",
    "        for _ in range(max_attempts):\n",
    "            new_point = (random.uniform(0, screen_width), random.uniform(0, screen_height))\n",
    "            min_dist = min([distance(new_point, p) for p in points], default=float('inf'))\n",
    "\n",
    "            if min_dist >= min_distance:\n",
    "                best_point = new_point\n",
    "                break\n",
    "\n",
    "            if min_dist > max_min_distance:\n",
    "                max_min_distance = min_dist\n",
    "                best_point = new_point\n",
    "\n",
    "        points.append(best_point)\n",
    "\n",
    "    return points\n",
    "\n",
    "# 测试函数\n",
    "N = 10\n",
    "min_distance = 50\n",
    "screen_width = 800\n",
    "screen_height = 600\n",
    "\n",
    "points = random_points(N, min_distance, screen_width, screen_height)\n",
    "for point in points:\n",
    "    print(point)\n"
   ]
  },
  {
   "cell_type": "markdown",
   "metadata": {},
   "source": [
    "李鲁鲁老师觉得这个函数在应用上，尽可能满足了我们的需求\n",
    "\n",
    "当然，从算法的角度，这是一个最好的解吗？显然不是的，这其实对应了一个密堆的问题\n",
    "\n",
    "在screen_width * screen_height 空间中，我最多能放多少个点，使得两两的距离不小于 min_distance\n",
    "\n",
    "这个问题是一个很复杂的数学问题，甚至没有一个较为通用的解决方案。\n",
    "\n",
    "我们在后面的物理模拟的一节课程里面，会讨论这个问题的一个更优的解决方案。\n",
    "\n",
    "---\n",
    "\n",
    "但是在这里，我们先接受这个“还可以”的random_points函数，回到我们的游戏制作上\n",
    "\n",
    "还记得我们完成了之前的两步方案\n",
    "\n",
    "- 我们希望先建立一个函数，这个函数输入 N 以及最小间距等信息， 输出 N 个的坐标 (List of Tuple)\n",
    "- 然后让ChatGPT生成完整的游戏，调用这个函数来确定小汽车的位置，然后进行渲染\n",
    "\n",
    "第一步已经完成了，那么我们要来完成第二步"
   ]
  },
  {
   "cell_type": "markdown",
   "metadata": {},
   "source": [
    "```\n",
    "我已经实现了一个python函数random_points(N, min_distance, screen_width, screen_height)\n",
    "\n",
    "这个函数可以输出一个list of tuple，其中每个tuple表示一个点的坐标，并且保证任意两个点之间的距离大于min_distance\n",
    "\n",
    "我希望用pygame实现一个游戏\n",
    "\n",
    "在images/car.jpg 存储了一张汽车的图片，\n",
    "\n",
    "我希望1-9数字键按下的时候，屏幕上的随机位置会出现对应数量的汽车，每一张都使用car.jpg并且resize到100*100\n",
    "\n",
    "请帮我实现\n",
    "```"
   ]
  },
  {
   "cell_type": "markdown",
   "metadata": {},
   "source": [
    "尝试运行pygame_codes/5_car_0.py进行运行"
   ]
  },
  {
   "cell_type": "markdown",
   "metadata": {},
   "source": [
    "## 小结\n",
    "\n",
    "我们可以发现，在第二步的时候，如果你单独把第二步的prompt输入到chatgpt\n",
    "\n",
    "很多时候他也会为你生成random_points这个函数，当然这个就会碰到我们之前说的各种问题\n",
    "\n",
    "所以在5_car_0.py里，我们把这个函数替换成了我们在第一步的时候生成的那个函数\n",
    "\n",
    "在这节课中我们实现了一个两步的方案，我们先实现了函数random_points\n",
    "\n",
    "然后在第二步的时候要求ChatGPT利用这个函数来实现游戏\n",
    "\n",
    "---\n",
    "\n",
    "在实际过程中，这个技巧是十分重要的。很多时候我们会先实现3到4个函数\n",
    "\n",
    "并且其中有些函数甚至不在ChatGPT的过往知识中，可能这些函数和我们的本地文件组织、硬件连接有一定的关系\n",
    "\n",
    "比如我们可能预先实现了一个load_datas()函数来载入本地文件。\n",
    "\n",
    "这个时候，我们只需要在prompt的开头和ChatGPT说明\n",
    "\n",
    "```\n",
    "{我们有一些已经实现了的函数}\n",
    "\n",
    "{调用这些函数来实现对应的功能}\n",
    "```\n",
    "\n",
    "另一方面，这种方式可以部分解决ChatGPT一次性生成的代码过短的问题\n",
    "\n",
    "我们知道ChatGPT一次一般能生成至多4000多个token的代码\n",
    "\n",
    "如果一次性生成完整的代码，可能代码太长，导致ChatGPT无法生成\n",
    "\n",
    "所以我们可以先实现一些函数，然后让ChatGPT调用这些函数来实现我们的需求\n",
    "\n",
    "这样，我们可以把代码分成多个部分，每个部分由一个函数来实现，这样就可以避免一次性生成的代码过长的问题"
   ]
  },
  {
   "cell_type": "markdown",
   "metadata": {},
   "source": [
    "## 改进"
   ]
  },
  {
   "cell_type": "markdown",
   "metadata": {},
   "source": [
    "我们刚才那个程序其实有一些要改进的地方\n",
    "\n",
    "1、汽车有时候会渲染到图像的边界上，如果我不希望汽车的渲染超过边界，要怎么修改？\n",
    "\n",
    "2、我们在早教的时候鲁宝还不知道1-9的数字概念，能否增加一个功能，按任意按键数据就加一，然后在1-9之间循环?\n",
    "\n",
    "3、我们在下一节课的时候，还希望在数字切换之间增加一些动画。"
   ]
  },
  {
   "cell_type": "markdown",
   "metadata": {},
   "source": [
    "## 注册ChatGLM的API\n",
    "\n",
    "我们在第7节课的时候，会尝试用api形式，使用一下大语言模型\n",
    "\n",
    "这样就需要注册一定的token。\n",
    "\n",
    "登录[https://open.bigmodel.cn/](https://open.bigmodel.cn/)\n",
    "\n",
    "通过个人验证之后，可以获得免费赠送的几百万的token\n",
    "\n",
    "然后带年纪API密钥，\n",
    "\n",
    "赋值里面的APIkey，（如果没有的话添加新的key）\n",
    "\n",
    "想办法把key放到一个特定txt的文件中。\n",
    "\n",
    "这样我们在第七节课就可以顺利进行了。"
   ]
  },
  {
   "cell_type": "code",
   "execution_count": null,
   "metadata": {},
   "outputs": [],
   "source": []
  }
 ],
 "metadata": {
  "kernelspec": {
   "display_name": "Python 3",
   "language": "python",
   "name": "python3"
  },
  "language_info": {
   "codemirror_mode": {
    "name": "ipython",
    "version": 3
   },
   "file_extension": ".py",
   "mimetype": "text/x-python",
   "name": "python",
   "nbconvert_exporter": "python",
   "pygments_lexer": "ipython3",
   "version": "3.8.5"
  }
 },
 "nbformat": 4,
 "nbformat_minor": 2
}
