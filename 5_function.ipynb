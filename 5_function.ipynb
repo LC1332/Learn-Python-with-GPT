{
 "cells": [
  {
   "cell_type": "markdown",
   "metadata": {},
   "source": [
    "# 李鲁鲁老师的Python课程 第四课 函数\n",
    "\n",
    "- [ ] 函数的定义\n",
    "- [ ] 一个随机生成点的函数\n",
    "- [ ] 学会将一个已经实现的函数整合到最终程序中\n",
    "- [ ] 注册智谱GLM获得API-Key"
   ]
  },
  {
   "cell_type": "markdown",
   "metadata": {},
   "source": [
    "哦，这里我们要再说一下废话。如果你觉得我们的课程节奏太快的话。很可能是你对Python本身不熟悉\n",
    "\n",
    "我在编写这节课的时候看见了[30-Days-of-Python](https://github.com/Asabeneh/30-Days-Of-Python) 这个课程。\n",
    "\n",
    "你可以再那套课里面去找一些更基础的内容。比如在这节课我们会讲到函数，在那套课里面，在函数之前，有String, Lists, Tuples, Sets, Dictionaries, Conditionalss(条件我们第二节课讲过), Loops(循环我们第一节课讲过)，然后才是函数。 如果你觉得我们直接讲函数太激进了，也可以到那个repo去补全之前的信息。\n",
    "\n",
    "---\n",
    "\n",
    "为什么要先讲函数呢？\n"
   ]
  },
  {
   "cell_type": "code",
   "execution_count": null,
   "metadata": {},
   "outputs": [],
   "source": []
  },
  {
   "cell_type": "code",
   "execution_count": null,
   "metadata": {},
   "outputs": [],
   "source": []
  },
  {
   "cell_type": "code",
   "execution_count": null,
   "metadata": {},
   "outputs": [],
   "source": []
  }
 ],
 "metadata": {
  "language_info": {
   "name": "python"
  }
 },
 "nbformat": 4,
 "nbformat_minor": 2
}
