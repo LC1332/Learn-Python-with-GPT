{
 "cells": [
  {
   "cell_type": "markdown",
   "metadata": {},
   "source": [
    "# 第十一课 加密与解密\n",
    "\n",
    "- [ ] 对称加密与解密\n",
    "- [ ] 将加密解密操作搭建到Gradio Demo中\n",
    "- [ ] 利用哈希函数进行口令认证\n",
    "- [ ] 多模态大模型的Gradio demo"
   ]
  },
  {
   "cell_type": "markdown",
   "metadata": {},
   "source": [
    "我们发现很多同学会对密码学的过程非常感兴趣。所以在这节课，我们来学习一下密码学中比较重要和基础的一些概念。\n",
    "\n",
    "我们假设同学Alice和同学Bob正在用一种通常的通讯方式进行文本聊天，比如说QQ或者微信。但是他们不希望其他人在查看聊天记录的时候，能够知道他们聊了什么东西。那有什么办法，可以对聊天的内容进行加密呢？\n",
    "\n",
    "我们可以假设文本text可以用一串密码key来进行加密，并且这个key只有Alice和Bob知道\n",
    "\n",
    "那Bob就可以针对key来进行解密\n",
    "\n",
    "现在我们让ChatGPT来帮忙实现对应锁需要的程序。"
   ]
  },
  {
   "cell_type": "markdown",
   "metadata": {},
   "source": [
    "---\n",
    "\n",
    "请帮我实现一对加密和解密的程序\n",
    "\n",
    "加密程序以文本text和key两个字符串输入，输出加密后的字符串\n",
    "\n",
    "解密程序以加密后的字符串和key两个字符串输入，输出解密后的字符串\n",
    "\n",
    "---"
   ]
  },
  {
   "cell_type": "markdown",
   "metadata": {},
   "source": [
    "这里比较出乎我意料的是，ChatGLM给我输出了最简单的“移位密码”的实现"
   ]
  },
  {
   "cell_type": "code",
   "execution_count": 1,
   "metadata": {},
   "outputs": [
    {
     "name": "stdout",
     "output_type": "stream",
     "text": [
      "Encrypted: Sbgvl, Tjbip!\n",
      "Decrypted: Hello, World!\n"
     ]
    }
   ],
   "source": [
    "def encrypt(text, key):\n",
    "    encrypted_text = \"\"\n",
    "    for i in range(len(text)):\n",
    "        char = text[i]\n",
    "        if char.isalpha():\n",
    "            shift = ord(key[i % len(key)].lower()) % 26\n",
    "            if char.islower():\n",
    "                encrypted_text += chr((ord(char) - ord('a') + shift) % 26 + ord('a'))\n",
    "            else:\n",
    "                encrypted_text += chr((ord(char) - ord('A') + shift) % 26 + ord('A'))\n",
    "        else:\n",
    "            encrypted_text += char\n",
    "    return encrypted_text\n",
    "\n",
    "def decrypt(encrypted_text, key):\n",
    "    decrypted_text = \"\"\n",
    "    for i in range(len(encrypted_text)):\n",
    "        char = encrypted_text[i]\n",
    "        if char.isalpha():\n",
    "            shift = ord(key[i % len(key)].lower()) % 26\n",
    "            if char.islower():\n",
    "                decrypted_text += chr((ord(char) - ord('a') - shift) % 26 + ord('a'))\n",
    "            else:\n",
    "                decrypted_text += chr((ord(char) - ord('A') - shift) % 26 + ord('A'))\n",
    "        else:\n",
    "            decrypted_text += char\n",
    "    return decrypted_text\n",
    "\n",
    "# 示例使用\n",
    "text = \"Hello, World!\"\n",
    "key = \"secret\"\n",
    "\n",
    "encrypted = encrypt(text, key)\n",
    "print(\"Encrypted:\", encrypted)\n",
    "\n",
    "decrypted = decrypt(encrypted, key)\n",
    "print(\"Decrypted:\", decrypted)\n"
   ]
  },
  {
   "cell_type": "markdown",
   "metadata": {},
   "source": [
    "但是显然，这种密码太容易被暴力破解了\n",
    "\n",
    "```\n",
    "移位密码太容易被破解了，有没有更好的加密算法？\n",
    "```"
   ]
  },
  {
   "cell_type": "code",
   "execution_count": 4,
   "metadata": {},
   "outputs": [
    {
     "name": "stdout",
     "output_type": "stream",
     "text": [
      "Encrypted: b'gAAAAABmvaY31EM9fKgm4qy_LE-xRIc8K2PpeE-_cPz-HUFjwdGdQIqe3TpHI-twhXcv7JdKNMp6zK4H4eBp-JAtp9mvo6NonQ=='\n",
      "Decrypted: Hello, World!\n"
     ]
    }
   ],
   "source": [
    "from cryptography.fernet import Fernet\n",
    "\n",
    "def encrypt(text, key):\n",
    "    # 将base64编码的字符串转换为Fernet对象\n",
    "    fernet = Fernet(key)\n",
    "    # 加密文本\n",
    "    encrypted_text = fernet.encrypt(text.encode())\n",
    "    return encrypted_text\n",
    "\n",
    "def decrypt(encrypted_text, key):\n",
    "    # 将base64编码的字符串转换为Fernet对象\n",
    "    fernet = Fernet(key)\n",
    "    # 解密文本\n",
    "    decrypted_text = fernet.decrypt(encrypted_text).decode()\n",
    "    return decrypted_text\n",
    "\n",
    "# 生成一个base64编码的密钥\n",
    "key = Fernet.generate_key()\n",
    "\n",
    "# 示例使用\n",
    "text = \"Hello, World!\"\n",
    "\n",
    "encrypted = encrypt(text, key)\n",
    "print(\"Encrypted:\", encrypted)\n",
    "\n",
    "decrypted = decrypt(encrypted, key)\n",
    "print(\"Decrypted:\", decrypted)\n"
   ]
  },
  {
   "cell_type": "markdown",
   "metadata": {},
   "source": [
    "我们知道AES是一个更好的加密\n",
    "\n",
    "但是AES本身必须要一个特定格式的key\n",
    "\n",
    "所以我们可以进一步修改这个需求"
   ]
  },
  {
   "cell_type": "markdown",
   "metadata": {},
   "source": [
    "请帮我实现一对AES加密和解密的程序\n",
    "\n",
    "加密程序以文本text和key两个字符串输入，输出加密后的字符串\n",
    "\n",
    "解密程序以加密后的字符串和key两个字符串输入，输出解密后的字符串\n",
    "\n",
    "如果key本身不符合AES的要求，使用一个确定性的函数把key转化成合法的key"
   ]
  },
  {
   "cell_type": "code",
   "execution_count": 5,
   "metadata": {},
   "outputs": [
    {
     "name": "stdout",
     "output_type": "stream",
     "text": [
      "Encrypted: MDEyMzQ1Njc4OWFiY2RlZo8XW/t4jUfGmDb2HMYvCR4=\n",
      "Decrypted: Hello, AES!\n"
     ]
    }
   ],
   "source": [
    "from cryptography.hazmat.primitives.ciphers import Cipher, algorithms, modes\n",
    "from cryptography.hazmat.primitives import padding\n",
    "from cryptography.hazmat.backends import default_backend\n",
    "import hashlib\n",
    "import base64\n",
    "\n",
    "def generate_aes_key(key_str):\n",
    "    \"\"\"Generate a valid AES key from a given string.\"\"\"\n",
    "    # Use SHA-256 to hash the key_str to ensure it's 32 bytes long\n",
    "    return hashlib.sha256(key_str.encode()).digest()\n",
    "\n",
    "def encrypt(text, key_str):\n",
    "    \"\"\"Encrypt the given text using AES encryption.\"\"\"\n",
    "    key = generate_aes_key(key_str)\n",
    "    iv = b'0123456789abcdef'  # AES block size is 16 bytes, using a fixed IV for simplicity\n",
    "    cipher = Cipher(algorithms.AES(key), modes.CBC(iv), backend=default_backend())\n",
    "    encryptor = cipher.encryptor()\n",
    "\n",
    "    # Pad the text to be multiple of AES block size\n",
    "    padder = padding.PKCS7(algorithms.AES.block_size).padder()\n",
    "    padded_text = padder.update(text.encode()) + padder.finalize()\n",
    "\n",
    "    encrypted_text = encryptor.update(padded_text) + encryptor.finalize()\n",
    "    return base64.b64encode(iv + encrypted_text).decode()\n",
    "\n",
    "def decrypt(encrypted_text, key_str):\n",
    "    \"\"\"Decrypt the given encrypted text using AES decryption.\"\"\"\n",
    "    key = generate_aes_key(key_str)\n",
    "    encrypted_text = base64.b64decode(encrypted_text)\n",
    "    iv = encrypted_text[:16]  # Extract the IV\n",
    "    encrypted_text = encrypted_text[16:]  # Extract the ciphertext\n",
    "\n",
    "    cipher = Cipher(algorithms.AES(key), modes.CBC(iv), backend=default_backend())\n",
    "    decryptor = cipher.decryptor()\n",
    "    decrypted_padded_text = decryptor.update(encrypted_text) + decryptor.finalize()\n",
    "\n",
    "    # Remove padding\n",
    "    unpadder = padding.PKCS7(algorithms.AES.block_size).unpadder()\n",
    "    decrypted_text = unpadder.update(decrypted_padded_text) + unpadder.finalize()\n",
    "    return decrypted_text.decode()\n",
    "\n",
    "# 示例用法\n",
    "text = \"Hello, AES!\"\n",
    "key = \"my_secret_key\"\n",
    "\n",
    "encrypted_text = encrypt(text, key)\n",
    "print(\"Encrypted:\", encrypted_text)\n",
    "\n",
    "decrypted_text = decrypt(encrypted_text, key)\n",
    "print(\"Decrypted:\", decrypted_text)\n"
   ]
  },
  {
   "cell_type": "markdown",
   "metadata": {},
   "source": [
    "可以看到，现在程序达到了我们预期的目标\n",
    "\n",
    "我们现在开始把这两个函数应用到gradio前端页面\n",
    "\n",
    "```\n",
    "{如果不是连续对话，就把上面的代码贴在这里}\n",
    "\n",
    "我已经实现了encrypt和decrypt函数\n",
    "\n",
    "我希望实现一个gradio demo来进行方便的操作\n",
    "\n",
    "这个demo包括一个key的文本输入框\n",
    "\n",
    "一个未加密文本的大的文本输入框（textArea）\n",
    "\n",
    "一个加密后的文本的大的文本输入框（textArea）\n",
    "\n",
    "一个解密后的文本的大的文本输入框（textArea）\n",
    "\n",
    "一个加密按钮\n",
    "\n",
    "一个解密按钮\n",
    "\n",
    "一个清空按钮\n",
    "\n",
    "我希望加密按钮点击后，把未加密文本输入框的内容加密，并显示在加密后的文本输入框\n",
    "\n",
    "解密按钮点击后，把加密后的文本输入框的内容解密，并显示在解密后的文本输入框\n",
    "\n",
    "清空按钮点击后，把所有文本输入框的内容清空\n",
    "\n",
    "请帮我实现这个gradio demo\n",
    "```"
   ]
  },
  {
   "cell_type": "code",
   "execution_count": 6,
   "metadata": {},
   "outputs": [
    {
     "name": "stdout",
     "output_type": "stream",
     "text": [
      "Running on local URL:  http://127.0.0.1:7860\n",
      "\n",
      "To create a public link, set `share=True` in `launch()`.\n"
     ]
    },
    {
     "data": {
      "text/html": [
       "<div><iframe src=\"http://127.0.0.1:7860/\" width=\"100%\" height=\"500\" allow=\"autoplay; camera; microphone; clipboard-read; clipboard-write;\" frameborder=\"0\" allowfullscreen></iframe></div>"
      ],
      "text/plain": [
       "<IPython.core.display.HTML object>"
      ]
     },
     "metadata": {},
     "output_type": "display_data"
    },
    {
     "data": {
      "text/plain": []
     },
     "execution_count": 6,
     "metadata": {},
     "output_type": "execute_result"
    }
   ],
   "source": [
    "import gradio as gr\n",
    "from cryptography.hazmat.primitives.ciphers import Cipher, algorithms, modes\n",
    "from cryptography.hazmat.primitives import padding\n",
    "from cryptography.hazmat.backends import default_backend\n",
    "import hashlib\n",
    "import base64\n",
    "\n",
    "def generate_aes_key(key_str):\n",
    "    \"\"\"Generate a valid AES key from a given string.\"\"\"\n",
    "    return hashlib.sha256(key_str.encode()).digest()\n",
    "\n",
    "def encrypt(text, key_str):\n",
    "    \"\"\"Encrypt the given text using AES encryption.\"\"\"\n",
    "    key = generate_aes_key(key_str)\n",
    "    iv = b'0123456789abcdef'  # AES block size is 16 bytes, using a fixed IV for simplicity\n",
    "    cipher = Cipher(algorithms.AES(key), modes.CBC(iv), backend=default_backend())\n",
    "    encryptor = cipher.encryptor()\n",
    "\n",
    "    # Pad the text to be multiple of AES block size\n",
    "    padder = padding.PKCS7(algorithms.AES.block_size).padder()\n",
    "    padded_text = padder.update(text.encode()) + padder.finalize()\n",
    "\n",
    "    encrypted_text = encryptor.update(padded_text) + encryptor.finalize()\n",
    "    return base64.b64encode(iv + encrypted_text).decode()\n",
    "\n",
    "def decrypt(encrypted_text, key_str):\n",
    "    \"\"\"Decrypt the given encrypted text using AES decryption.\"\"\"\n",
    "    key = generate_aes_key(key_str)\n",
    "    encrypted_text = base64.b64decode(encrypted_text)\n",
    "    iv = encrypted_text[:16]  # Extract the IV\n",
    "    encrypted_text = encrypted_text[16:]  # Extract the ciphertext\n",
    "\n",
    "    cipher = Cipher(algorithms.AES(key), modes.CBC(iv), backend=default_backend())\n",
    "    decryptor = cipher.decryptor()\n",
    "    decrypted_padded_text = decryptor.update(encrypted_text) + decryptor.finalize()\n",
    "\n",
    "    # Remove padding\n",
    "    unpadder = padding.PKCS7(algorithms.AES.block_size).unpadder()\n",
    "    decrypted_text = unpadder.update(decrypted_padded_text) + unpadder.finalize()\n",
    "    return decrypted_text.decode()\n",
    "\n",
    "def encrypt_text(key, plaintext):\n",
    "    \"\"\"Encrypt the plaintext with the given key and return the ciphertext.\"\"\"\n",
    "    return encrypt(plaintext, key)\n",
    "\n",
    "def decrypt_text(key, encrypted_text):\n",
    "    \"\"\"Decrypt the ciphertext with the given key and return the plaintext.\"\"\"\n",
    "    return decrypt(encrypted_text, key)\n",
    "\n",
    "def clear_texts():\n",
    "    \"\"\"Return empty strings for all text areas.\"\"\"\n",
    "    return \"\", \"\", \"\", \"\"\n",
    "\n",
    "with gr.Blocks() as demo:\n",
    "    gr.Markdown(\"# AES Encryption and Decryption Demo\")\n",
    "\n",
    "    with gr.Row():\n",
    "        with gr.Column():\n",
    "            key_input = gr.Textbox(label=\"Key\", placeholder=\"Enter encryption key\", type=\"text\")\n",
    "            plaintext_input = gr.Textbox(label=\"Plaintext\", placeholder=\"Enter text to encrypt\", type=\"text\", lines=10)\n",
    "            encrypted_input = gr.Textbox(label=\"Encrypted Text\", placeholder=\"Encrypted text will appear here\", type=\"text\", lines=10)\n",
    "            decrypted_input = gr.Textbox(label=\"Decrypted Text\", placeholder=\"Decrypted text will appear here\", type=\"text\", lines=10)\n",
    "\n",
    "        with gr.Column():\n",
    "            encrypt_button = gr.Button(\"Encrypt\")\n",
    "            decrypt_button = gr.Button(\"Decrypt\")\n",
    "            clear_button = gr.Button(\"Clear\")\n",
    "\n",
    "    encrypt_button.click(fn=encrypt_text, inputs=[key_input, plaintext_input], outputs=encrypted_input)\n",
    "    decrypt_button.click(fn=decrypt_text, inputs=[key_input, encrypted_input], outputs=decrypted_input)\n",
    "    clear_button.click(fn=clear_texts, inputs=[], outputs=[key_input, plaintext_input, encrypted_input, decrypted_input])\n",
    "\n",
    "demo.launch()\n"
   ]
  },
  {
   "cell_type": "markdown",
   "metadata": {},
   "source": [
    "尝试gradio输出的本地链接，试验一下加密解密这个demo吧\n",
    "\n",
    "---"
   ]
  },
  {
   "cell_type": "markdown",
   "metadata": {},
   "source": [
    "## 口令认证\n",
    "\n",
    "当然，在很多时候我们会遇到一个问题，如果你加密的过程/代码能够被别人看到，那么别人也可以通过这个密码来对你输出的字段进行解密。\n",
    "\n",
    "很典型的情况，是当我们运行一个在线demo的时候，\n",
    "\n",
    "如果我们想有一个口令 password 的输入\n",
    "\n",
    "接着我们要实现一个判断口令是否正确的函数\n",
    "\n",
    "```python\n",
    "def check_password(password):\n",
    "    \"\"\"Check if the password is correct.\"\"\"\n",
    "    return password == \"correct_password\"\n",
    "```\n",
    "\n",
    "如果我们使用这样的方法来判断password，那当一个其他人能够访问到程序代码的时候\n",
    "\n",
    "他就可以知道口令实际上就是\"correct_password\"\n",
    "\n",
    "那我们有没有什么办法让即使是能阅读到代码的人，也无法直接知道密码呢？\n",
    "\n",
    "实际上这样的算法是存在的，这样的算法就是利用一个相对复杂的哈希函数\n",
    "\n",
    "假设我们的判断函数是这样实现的\n",
    "\n",
    "\n",
    "```python\n",
    "def check_password(password):\n",
    "    \"\"\"Check if the password is correct.\"\"\"\n",
    "    return hash( password ) == \"verify_code\"\n",
    "```\n",
    "\n",
    "并且hash函数的逆运算并不是一个很容易计算的（实际上要天文时间）。这样的hash函数是存在的，\n",
    "\n",
    "在密码学上称为单向哈希函数，实际上前面的SHA-256就是一个非常通用的单项函数\n",
    "\n",
    "我们来让ChatGPT帮我们实现这个函数和配套的函数"
   ]
  },
  {
   "cell_type": "markdown",
   "metadata": {},
   "source": [
    "---\n",
    "\n",
    "我希望实现一套非对称加密的函数\n",
    "\n",
    "\n",
    "```python\n",
    "def check_password(password):\n",
    "    \"\"\"Check if the password is correct.\"\"\"\n",
    "    return hash( password ) == \"verify_code\"\n",
    "```\n",
    "\n",
    "使得即使有人能够访问到hash函数的代码和verify_code，也无法反过来计算出password是什么\n",
    "\n",
    "请帮我实现对应的hash函数\n",
    "\n",
    "---"
   ]
  },
  {
   "cell_type": "code",
   "execution_count": 10,
   "metadata": {},
   "outputs": [
    {
     "name": "stdout",
     "output_type": "stream",
     "text": [
      "Hash of password: 3347e4af6cb1435096396ebcac7ccdee8135adb2d1a11fb0fdb120df3e4e7652\n",
      "---\n",
      "Password is correct.\n"
     ]
    }
   ],
   "source": [
    "import hashlib\n",
    "\n",
    "def hash(password):\n",
    "    \"\"\"Create a SHA-256 hash of the password.\"\"\"\n",
    "    # 创建一个sha256对象\n",
    "    sha_signature = hashlib.sha256(password.encode()).hexdigest()\n",
    "    return sha_signature\n",
    "\n",
    "def check_password(password):\n",
    "    \"\"\"Check if the password is correct.\"\"\"\n",
    "    # 此处需要预设一个正确的hash值，实际应用中这个值应该是安全存储的\n",
    "    verify_code = \"3347e4af6cb1435096396ebcac7ccdee8135adb2d1a11fb0fdb120df3e4e7652\"\n",
    "    return hash(password) == verify_code\n",
    "\n",
    "# 示例使用\n",
    "password = \"your_secret_password\"\n",
    "print(\"Hash of password:\", hash(password))\n",
    "print(\"---\")\n",
    "if check_password(password):\n",
    "    print(\"Password is correct.\")\n",
    "else:\n",
    "    print(\"Password is incorrect.\")\n"
   ]
  },
  {
   "cell_type": "markdown",
   "metadata": {},
   "source": [
    "通过阅读这段代码可以发现\n",
    "\n",
    "我们可以提前把hash(password)的结果赋值给verify_code\n",
    "\n",
    "这样即使有人能够访问到hash函数的代码和verify_code，也无法反过来计算出password是什么\n",
    "\n",
    "只要他访问不到你给password赋值的过程，他是无法知道你的密码。"
   ]
  },
  {
   "cell_type": "markdown",
   "metadata": {},
   "source": [
    "我们可以接下来写个“欢迎回家”的程序来实践这个过程\n",
    "\n",
    "```python\n",
    "import hashlib\n",
    "\n",
    "def hash(password):\n",
    "    \"\"\"Create a SHA-256 hash of the password.\"\"\"\n",
    "    # 创建一个sha256对象\n",
    "    sha_signature = hashlib.sha256(password.encode()).hexdigest()\n",
    "    return sha_signature\n",
    "\n",
    "def check_password(password):\n",
    "    \"\"\"Check if the password is correct.\"\"\"\n",
    "    # 此处需要预设一个正确的hash值，实际应用中这个值应该是安全存储的\n",
    "    verify_code = \"3347e4af6cb1435096396ebcac7ccdee8135adb2d1a11fb0fdb120df3e4e7652\"\n",
    "    return hash(password) == verify_code\n",
    "```\n",
    "\n",
    "我希望写一个gradio demo， 如果文本输入是正确的话，显示“欢迎回家”,否则显示 “密码错误”\n"
   ]
  },
  {
   "cell_type": "code",
   "execution_count": 12,
   "metadata": {},
   "outputs": [
    {
     "name": "stdout",
     "output_type": "stream",
     "text": [
      "Running on local URL:  http://127.0.0.1:7861\n",
      "\n",
      "To create a public link, set `share=True` in `launch()`.\n"
     ]
    },
    {
     "data": {
      "text/html": [
       "<div><iframe src=\"http://127.0.0.1:7861/\" width=\"100%\" height=\"500\" allow=\"autoplay; camera; microphone; clipboard-read; clipboard-write;\" frameborder=\"0\" allowfullscreen></iframe></div>"
      ],
      "text/plain": [
       "<IPython.core.display.HTML object>"
      ]
     },
     "metadata": {},
     "output_type": "display_data"
    },
    {
     "data": {
      "text/plain": []
     },
     "execution_count": 12,
     "metadata": {},
     "output_type": "execute_result"
    }
   ],
   "source": [
    "import gradio as gr\n",
    "import hashlib\n",
    "\n",
    "def hash(password):\n",
    "    \"\"\"Create a SHA-256 hash of the password.\"\"\"\n",
    "    sha_signature = hashlib.sha256(password.encode()).hexdigest()\n",
    "    return sha_signature\n",
    "\n",
    "def check_password(password):\n",
    "    \"\"\"Check if the password is correct.\"\"\"\n",
    "    verify_code = \"3347e4af6cb1435096396ebcac7ccdee8135adb2d1a11fb0fdb120df3e4e7652\"\n",
    "    if hash(password) == verify_code:\n",
    "        return \"欢迎回家\"\n",
    "    else:\n",
    "        return \"密码错误\"\n",
    "\n",
    "# 创建Gradio界面\n",
    "interface = gr.Interface(\n",
    "    fn=check_password,\n",
    "    inputs=gr.Textbox(label=\"请输入密码\"),\n",
    "    outputs=\"text\",\n",
    "    title=\"密码验证\",\n",
    "    description=\"请输入您的密码进行验证。\"\n",
    ")\n",
    "\n",
    "# 启动界面\n",
    "interface.launch()\n"
   ]
  },
  {
   "cell_type": "markdown",
   "metadata": {},
   "source": [
    "可以实验这个demo，只有当密码正确的时候\n",
    "\n",
    "才会显示欢迎回家\n",
    "\n",
    "并且阅读上面的代码，确认这段代码中，并没有对密码进行泄露。"
   ]
  },
  {
   "cell_type": "markdown",
   "metadata": {},
   "source": [
    "## 多模态大模型的实践\n",
    "\n",
    "在第9节课的时候我们实验了较多的纯文本模型。随着大型的语言模型发展到了一定的水平，科学家们也开始逐步发展多模态的大型模型。最典型的应用就是可以在对话过程中去插入图片。下面让我们来实践一下"
   ]
  },
  {
   "cell_type": "markdown",
   "metadata": {},
   "source": [
    "在 https://platform.lingyiwanwu.com/docs#%E8%A7%86%E8%A7%89%E7%90%86%E8%A7%A3 这个页面中，我们可以找到零一万物api的使用说明。"
   ]
  },
  {
   "cell_type": "markdown",
   "metadata": {},
   "source": [
    "通过阅读文档我们发现\n",
    "\n",
    "- 对于输入的图像，我们需要把图像转化为base64编码形式的字符串\n",
    "- 我们要载入api_key，获得授权\n",
    "\n",
    "解决完这两点，我们就可以实现多模态模型的调用"
   ]
  },
  {
   "cell_type": "code",
   "execution_count": 1,
   "metadata": {},
   "outputs": [],
   "source": [
    "# 这里因为鲁鲁老师使用了代理所以要运行这一句，同学们不需要运行这一句。\n",
    "import os\n",
    "os.environ['HTTP_PROXY'] = 'http://localhost:8234'\n",
    "os.environ['HTTPS_PROXY'] = 'http://localhost:8234'\n"
   ]
  },
  {
   "cell_type": "markdown",
   "metadata": {},
   "source": [
    "这里我们按照我们之前的形式，\n",
    "\n",
    "接入了我们存在data/01_key.txt的api_key\n",
    "\n",
    "并且实现了image2base64的函数"
   ]
  },
  {
   "cell_type": "code",
   "execution_count": 15,
   "metadata": {},
   "outputs": [
    {
     "name": "stdout",
     "output_type": "stream",
     "text": [
      "9de1e\n"
     ]
    }
   ],
   "source": [
    "from PIL import Image\n",
    "import base64\n",
    "from io import BytesIO\n",
    "\n",
    "def image2base64(image_path):\n",
    "    # 打开图像\n",
    "    with Image.open(image_path) as img:\n",
    "        # 检查图像高度是否超过480\n",
    "        if img.height > 480:\n",
    "            # 计算调整后的宽度，以保持宽高比不变\n",
    "            aspect_ratio = img.width / img.height\n",
    "            new_height = 480\n",
    "            new_width = int(new_height * aspect_ratio)\n",
    "            img = img.resize((new_width, new_height), Image.ANTIALIAS)\n",
    "        \n",
    "        # 使用BytesIO在内存中保存调整大小后的图像\n",
    "        buffered = BytesIO()\n",
    "        img.save(buffered, format=\"JPEG\")\n",
    "        buffered.seek(0)\n",
    "\n",
    "        # 将图像转换为Base64编码字符串\n",
    "        img_base64 = \"data:image/jpeg;base64,\" + base64.b64encode(buffered.read()).decode('utf-8')\n",
    "    \n",
    "    return img_base64\n",
    "\n",
    "\n",
    "from openai import OpenAI\n",
    "import base64\n",
    "import httpx\n",
    "\n",
    "def load_access_token(file_path):\n",
    "    with open(file_path, 'r') as file:\n",
    "        return file.read().strip()\n",
    "    \n",
    "API_BASE = \"https://api.lingyiwanwu.com/v1\"\n",
    "API_KEY = load_access_token(\"data/01_key.txt\")\n",
    "print(API_KEY[:5])\n",
    "\n",
    "client = OpenAI(\n",
    "  api_key=API_KEY,\n",
    "  base_url=API_BASE\n",
    ")\n",
    "\n",
    "img_name = \"images/car.jpg\"\n",
    "\n",
    "img_base64 = image2base64(img_name)\n",
    "\n",
    "prompt = \"请根据图片内容生成一段详细的文字描述\"\n",
    "\n",
    "completion = client.chat.completions.create(\n",
    "  model=\"yi-vision\",\n",
    "  messages=[\n",
    "    {\n",
    "      \"role\": \"user\",\n",
    "      \"content\": [\n",
    "        {\n",
    "          \"type\": \"text\",\n",
    "          \"text\": prompt\n",
    "        },\n",
    "        {\n",
    "          \"type\": \"image_url\",\n",
    "          \"image_url\": {\n",
    "            \"url\": img_base64\n",
    "          }\n",
    "        }\n",
    "      ]\n",
    "    }\n",
    "  ],\n",
    "  stream=False\n",
    ")"
   ]
  },
  {
   "cell_type": "code",
   "execution_count": 16,
   "metadata": {},
   "outputs": [
    {
     "name": "stdout",
     "output_type": "stream",
     "text": [
      "这张图片中，一辆红色的豪华跑车正在赛道上飞驰。根据其独特的设计和前部的圆形标志，这辆车似乎是一辆宾利 Continental GT。它低矮而宽阔的姿态以及流畅的线条都在强调运动性和速度。车辆的前大灯亮着，表明可能是低光条件或用于强调。轮子正在旋转，捕捉到轮胎和轮毂模糊的瞬间，这突出了汽车的运动状态。汽车后面的背景是一片平坦的景观，远处似乎有一个山丘或山脉，天空阴沉。汽车的车牌号部分可见，写着“DAGI BZV”。赛道本身看起来是由柏油路组成的，边缘有一条白色的线，表示赛道或围栏。\n"
     ]
    }
   ],
   "source": [
    "print(completion.choices[0].message.content)"
   ]
  },
  {
   "cell_type": "markdown",
   "metadata": {},
   "source": [
    "可以看到，这里我们这段代码是可以正常运行的，\n",
    "\n",
    "现在我们可以要求ChatGPT来重构这段代码，并且实现对应的Gradio Demo。"
   ]
  },
  {
   "cell_type": "markdown",
   "metadata": {},
   "source": [
    "---\n",
    "\n",
    "{之前的代码，包括image2base64，load_access_token，client的创建，调用和print的部分}\n",
    "\n",
    "这段代码可以顺利运行。\n",
    "\n",
    "我希望\n",
    "\n",
    "- 重构这段代码，实现一个image2caption函数\n",
    "- 实现一个gradio demo，上传一张图片，点击“描述”按钮之后，就可以生成详细的描述\n",
    "\n",
    "---"
   ]
  },
  {
   "cell_type": "code",
   "execution_count": 4,
   "metadata": {},
   "outputs": [],
   "source": [
    "from PIL import Image\n",
    "import base64\n",
    "from io import BytesIO\n",
    "from openai import OpenAI\n",
    "import base64\n",
    "import httpx\n",
    "\n",
    "def image2base64(image_path):\n",
    "    with Image.open(image_path) as img:\n",
    "        if img.height > 480:\n",
    "            aspect_ratio = img.width / img.height\n",
    "            new_height = 480\n",
    "            new_width = int(new_height * aspect_ratio)\n",
    "            img = img.resize((new_width, new_height), Image.ANTIALIAS)\n",
    "        \n",
    "        buffered = BytesIO()\n",
    "        img.save(buffered, format=\"JPEG\")\n",
    "        buffered.seek(0)\n",
    "        \n",
    "        img_base64 = \"data:image/jpeg;base64,\" + base64.b64encode(buffered.read()).decode('utf-8')\n",
    "    \n",
    "    return img_base64\n",
    "\n",
    "def image2caption(image_path, prompt, client):\n",
    "    img_base64 = image2base64(image_path)\n",
    "    completion = client.chat.completions.create(\n",
    "      model=\"yi-vision\",\n",
    "      messages=[\n",
    "        {\n",
    "          \"role\": \"user\",\n",
    "          \"content\": [\n",
    "            {\n",
    "              \"type\": \"text\",\n",
    "              \"text\": prompt\n",
    "            },\n",
    "            {\n",
    "              \"type\": \"image_url\",\n",
    "              \"image_url\": {\n",
    "                \"url\": img_base64\n",
    "              }\n",
    "            }\n",
    "          ]\n",
    "        }\n",
    "      ],\n",
    "      stream=False\n",
    "    )\n",
    "    return completion.choices[0].message.content\n"
   ]
  },
  {
   "cell_type": "code",
   "execution_count": 5,
   "metadata": {},
   "outputs": [
    {
     "name": "stdout",
     "output_type": "stream",
     "text": [
      "Running on local URL:  http://127.0.0.1:7860\n",
      "\n",
      "To create a public link, set `share=True` in `launch()`.\n"
     ]
    },
    {
     "data": {
      "text/html": [
       "<div><iframe src=\"http://127.0.0.1:7860/\" width=\"100%\" height=\"500\" allow=\"autoplay; camera; microphone; clipboard-read; clipboard-write;\" frameborder=\"0\" allowfullscreen></iframe></div>"
      ],
      "text/plain": [
       "<IPython.core.display.HTML object>"
      ]
     },
     "metadata": {},
     "output_type": "display_data"
    },
    {
     "data": {
      "text/plain": []
     },
     "execution_count": 5,
     "metadata": {},
     "output_type": "execute_result"
    }
   ],
   "source": [
    "import gradio as gr\n",
    "\n",
    "def load_access_token(file_path):\n",
    "    with open(file_path, 'r') as file:\n",
    "        return file.read().strip()\n",
    "\n",
    "API_BASE = \"https://api.lingyiwanwu.com/v1\"\n",
    "API_KEY = load_access_token(\"data/01_key.txt\")\n",
    "\n",
    "client = OpenAI(\n",
    "  api_key=API_KEY,\n",
    "  base_url=API_BASE\n",
    ")\n",
    "\n",
    "def gradio_image2caption(img):\n",
    "    prompt = \"请根据图片内容生成一段详细的文字描述\"\n",
    "    return image2caption(img, prompt, client)\n",
    "\n",
    "iface = gr.Interface(\n",
    "    fn=gradio_image2caption,\n",
    "    inputs=gr.Image(type=\"filepath\"),\n",
    "    outputs=\"text\",\n",
    "    title=\"图像描述生成器\",\n",
    "    description=\"上传图片，点击“描述”按钮生成描述。\"\n",
    ")\n",
    "\n",
    "iface.launch()\n"
   ]
  },
  {
   "cell_type": "markdown",
   "metadata": {},
   "source": [
    "![图片描述](images/image_caption.jpg)\n",
    "\n",
    "从图中可以看到这个demo的运行结果"
   ]
  },
  {
   "cell_type": "markdown",
   "metadata": {},
   "source": [
    "## 小结\n",
    "\n",
    "这节课中，我们对密码学中的加密和解密进行了学习，并且实现了一个Gradio的界面进行体验。\n",
    "\n",
    "同时，我们介绍了哈希函数。如果同学们对密码学有进一步的兴趣，可以学习对称加密和非对称加密。\n",
    "\n",
    "在后面我们还进一步体验了多模态大模型的应用。"
   ]
  },
  {
   "cell_type": "code",
   "execution_count": null,
   "metadata": {},
   "outputs": [],
   "source": []
  }
 ],
 "metadata": {
  "kernelspec": {
   "display_name": "Python 3",
   "language": "python",
   "name": "python3"
  },
  "language_info": {
   "codemirror_mode": {
    "name": "ipython",
    "version": 3
   },
   "file_extension": ".py",
   "mimetype": "text/x-python",
   "name": "python",
   "nbconvert_exporter": "python",
   "pygments_lexer": "ipython3",
   "version": "3.8.5"
  }
 },
 "nbformat": 4,
 "nbformat_minor": 2
}
