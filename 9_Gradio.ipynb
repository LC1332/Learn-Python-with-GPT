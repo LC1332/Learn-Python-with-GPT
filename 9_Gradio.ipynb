{
 "cells": [
  {
   "cell_type": "markdown",
   "metadata": {},
   "source": [
    "# 第九课 Gradio Demo\n",
    "\n",
    "- [ ] Gradio的例子\n",
    "- [ ] 将大语言模型API接入到Gradio\n",
    "- [ ] 一个看图说话的例子\n",
    "- [ ] 写一个背单词的软件"
   ]
  },
  {
   "cell_type": "markdown",
   "metadata": {},
   "source": [
    "一般来说，我们正常的交互软件是有很多“交互界面”的。但是我们的课程已经上了很多节课了\n",
    "\n",
    "我们其实很少涉及“交互界面”的概念。唯一比较多交互的是我们再第3、5、6、7节课中涉及到的pygame游戏的部分。\n",
    "\n",
    "今天我们要来尝试用一种简易前端工具Gradio来制作交互界面。\n"
   ]
  },
  {
   "cell_type": "markdown",
   "metadata": {},
   "source": [
    "```\n",
    "什么是Gradio?\n",
    "```"
   ]
  },
  {
   "cell_type": "markdown",
   "metadata": {},
   "source": [
    "<details>\n",
    "\n",
    "<summary> ChatGPT的回答 </summary>\n",
    "\n",
    "Gradio 是一个用于构建和部署机器学习模型和数据科学应用的 Python 库。它允许开发者通过非常简单的代码将机器学习模型转换为用户可以通过网页界面与之交互的应用程序。Gradio 提供了多种输入组件（如文本框、文件上传、图像上传）和输出组件（如文本、图像、表格），使得用户可以快速搭建交互式的模型演示。\n",
    "\n",
    "主要特点包括：\n",
    "\n",
    "1. **简便易用**：只需几行代码就能构建一个基本的界面，并将其与机器学习模型连接。\n",
    "2. **快速部署**：Gradio 支持将应用程序通过链接共享，或嵌入到网站中，方便他人使用和测试。\n",
    "3. **广泛的兼容性**：支持与多种机器学习框架（如 TensorFlow、PyTorch、Hugging Face Transformers 等）集成。\n",
    "4. **开源**：Gradio 是开源的，可以自由使用和修改。\n",
    "\n",
    "Gradio 非常适合用于构建原型、演示模型效果，或者用于教学和演示目的。\n",
    "\n",
    "</details>"
   ]
  },
  {
   "cell_type": "markdown",
   "metadata": {},
   "source": [
    "其实一般来说，在正常的一学期python课中，我们一般都不会涉及前端控件的内容。因为相比于后台直白的运行逻辑，\n",
    "\n",
    "前端的界面是一直运行的，并且要对很多用户的事件来做出响应。不过Gradio是一个比较适合初学者，特别是已经有一定Python基础的同学进行搭建的前端工具\n",
    "\n",
    "让我来开始我们的一个例子"
   ]
  },
  {
   "cell_type": "markdown",
   "metadata": {},
   "source": [
    "```\n",
    "请帮我编写一个gradio的翻转字符串的例子\n",
    "\n",
    "输入和输出都是text，有一个按钮“翻转”\n",
    "```"
   ]
  },
  {
   "cell_type": "code",
   "execution_count": 1,
   "metadata": {},
   "outputs": [
    {
     "name": "stdout",
     "output_type": "stream",
     "text": [
      "Running on local URL:  http://127.0.0.1:7860\n",
      "\n",
      "To create a public link, set `share=True` in `launch()`.\n"
     ]
    },
    {
     "data": {
      "text/html": [
       "<div><iframe src=\"http://127.0.0.1:7860/\" width=\"100%\" height=\"500\" allow=\"autoplay; camera; microphone; clipboard-read; clipboard-write;\" frameborder=\"0\" allowfullscreen></iframe></div>"
      ],
      "text/plain": [
       "<IPython.core.display.HTML object>"
      ]
     },
     "metadata": {},
     "output_type": "display_data"
    },
    {
     "data": {
      "text/plain": []
     },
     "execution_count": 1,
     "metadata": {},
     "output_type": "execute_result"
    }
   ],
   "source": [
    "import gradio as gr\n",
    "\n",
    "def reverse_string(input_text):\n",
    "    return input_text[::-1]\n",
    "\n",
    "with gr.Blocks() as demo:\n",
    "    with gr.Row():\n",
    "        input_text = gr.Textbox(label=\"输入文本\")\n",
    "        output_text = gr.Textbox(label=\"输出文本\")\n",
    "    \n",
    "    reverse_button = gr.Button(\"翻转\")\n",
    "    \n",
    "    reverse_button.click(fn=reverse_string, inputs=input_text, outputs=output_text)\n",
    "\n",
    "demo.launch()\n"
   ]
  },
  {
   "cell_type": "markdown",
   "metadata": {},
   "source": [
    "运行这个代码会出现几个输出\n",
    "\n",
    "### 本地页面\n",
    "\n",
    "一个类似Running on local URL:  http://127.0.0.1:7860 的页面\n",
    "\n",
    "这个页面实际上是可以在本地浏览器打开的。打开之后会有一个交互的页面。\n",
    "\n",
    "另外有一些notebook，会直接把gradio的页面渲染在notebook里面\n",
    "\n",
    "比如我们的VS Code就会直接渲染出来。\n",
    "\n",
    "然后后面还可以看到一行信息 To create a public link, set `share=True` in `launch()`.\n",
    "\n",
    "这就是说在launch demo的时候，如果额外增加share=True，就可以生成一个公开的链接，让其他人也可以访问这个页面。\n",
    "\n",
    "让我们来实验一下这个demo。\n",
    "\n"
   ]
  },
  {
   "cell_type": "markdown",
   "metadata": {},
   "source": [
    "在输入框可以输入“Example_Input”然后点击翻转\n",
    "\n",
    "![图片描述](images/gradio_example.jpg)\n",
    "\n",
    "就可以看到结果\n"
   ]
  },
  {
   "cell_type": "markdown",
   "metadata": {},
   "source": [
    "这里Gradio代码每一行都做了什么呢？\n",
    "\n",
    "我们可以让ChatGPT进行解释\n",
    "\n",
    "```\n",
    "import gradio as gr\n",
    "\n",
    "def reverse_string(input_text):\n",
    "    return input_text[::-1]\n",
    "\n",
    "with gr.Blocks() as demo:\n",
    "    with gr.Row():\n",
    "        input_text = gr.Textbox(label=\"输入文本\")\n",
    "        output_text = gr.Textbox(label=\"输出文本\")\n",
    "    \n",
    "    reverse_button = gr.Button(\"翻转\")\n",
    "    \n",
    "    reverse_button.click(fn=reverse_string, inputs=input_text, outputs=output_text)\n",
    "\n",
    "demo.launch()\n",
    "\n",
    "为我逐行解释上面这段代码\n",
    "```"
   ]
  },
  {
   "cell_type": "markdown",
   "metadata": {},
   "source": [
    "<details>\n",
    "\n",
    "<summary> ChatGPT的回答 </summary>\n",
    "\n",
    "这段代码使用了 `Gradio` 库来创建一个简单的网页应用，可以输入文本并将其翻转后输出。以下是逐行解释：\n",
    "\n",
    "1. **`import gradio as gr`**  \n",
    "   引入 Gradio 库，并将其简化命名为 `gr`。Gradio 是一个用于创建和共享机器学习和数据科学应用的 Python 库。\n",
    "\n",
    "2. **`def reverse_string(input_text):`**  \n",
    "   定义一个名为 `reverse_string` 的函数，接收一个参数 `input_text`。\n",
    "\n",
    "3. **`return input_text[::-1]`**  \n",
    "   在 `reverse_string` 函数中，返回输入文本的翻转版本。`[::-1]` 是 Python 中的切片操作，用于反转字符串。\n",
    "\n",
    "4. **`with gr.Blocks() as demo:`**  \n",
    "   创建一个 Gradio 应用的实例，使用 `Blocks` 布局组件，并将其命名为 `demo`。`Blocks` 允许你自由组织组件的布局。\n",
    "\n",
    "5. **`with gr.Row():`**  \n",
    "   在 `Blocks` 布局中创建一个行布局 `Row`，使得该行内的组件水平排列。\n",
    "\n",
    "6. **`input_text = gr.Textbox(label=\"输入文本\")`**  \n",
    "   在行布局中添加一个文本输入框 `Textbox`，用于输入要翻转的文本。`label=\"输入文本\"` 设置了该文本框的标签。\n",
    "\n",
    "7. **`output_text = gr.Textbox(label=\"输出文本\")`**  \n",
    "   在行布局中添加另一个文本框 `Textbox`，用于显示翻转后的文本。`label=\"输出文本\"` 设置了该文本框的标签。\n",
    "\n",
    "8. **`reverse_button = gr.Button(\"翻转\")`**  \n",
    "   添加一个按钮 `Button`，并将按钮的标签设为“翻转”。\n",
    "\n",
    "9. **`reverse_button.click(fn=reverse_string, inputs=input_text, outputs=output_text)`**  \n",
    "   绑定按钮的点击事件。当用户点击“翻转”按钮时，`reverse_string` 函数将被调用，`inputs=input_text` 表示将 `input_text` 的内容作为输入，`outputs=output_text` 表示函数的输出将显示在 `output_text` 文本框中。\n",
    "\n",
    "10. **`demo.launch()`**  \n",
    "    启动 Gradio 应用，使其在浏览器中运行并可供用户使用。\n",
    "\n",
    "总结：这段代码创建了一个简单的 Web 应用，用户可以在其中输入文本并通过点击按钮查看翻转后的文本。\n",
    "\n",
    "</details>\n",
    "\n",
    "总结来说，我们可以用gr.Textbox和gr.Button在gradio的demo中添加分别添加文本输入控件和按钮控件\n",
    "\n",
    "这里最关键的是`reverse_button.click(fn=reverse_string, inputs=input_text, outputs=output_text)`这一行，它将按钮的点击事件与翻转函数绑定\n",
    "\n",
    "第一个参数fn表示按钮按下的时候，会调用reverse_string这个函数，我们观察这个函数的输入和输出都是文本\n",
    "\n",
    "这样reverse_string这个函数的输入就会和inputs的input_text关联上，输出就会和output_text关联上\n",
    "\n",
    "也就是当按钮按下的时候，程序会调用reverse_string函数，将input_text的内容作为输入，将函数的输出作为output_text的内容。"
   ]
  },
  {
   "cell_type": "markdown",
   "metadata": {},
   "source": [
    "## 将Gradio关联上语言模型\n",
    "\n",
    "还记得我们上节课写的程序吗"
   ]
  },
  {
   "cell_type": "code",
   "execution_count": 3,
   "metadata": {},
   "outputs": [],
   "source": [
    "# 这里因为鲁鲁老师使用了代理所以要运行这一句，同学们不需要运行这一句。\n",
    "import os\n",
    "os.environ['HTTP_PROXY'] = 'http://localhost:8234'\n",
    "os.environ['HTTPS_PROXY'] = 'http://localhost:8234'\n"
   ]
  },
  {
   "cell_type": "markdown",
   "metadata": {},
   "source": [
    "让我们来编辑prompt\n",
    "\n",
    "---\n",
    "\n",
    "```python\n",
    "\n",
    "def get_api_key(api_key_file):\n",
    "    \"\"\"\n",
    "    从指定文件中读取 API 密钥\n",
    "    \"\"\"\n",
    "    with open(api_key_file, 'r') as file:\n",
    "        api_key = file.read().strip()\n",
    "    return api_key\n",
    "\n",
    "from zhipuai import ZhipuAI\n",
    "def get_response(question, max_tokens = 200, api_key_file=\"data/zhipu_apikey.txt\"):\n",
    "    \"\"\"\n",
    "    调用 ZhipuAI API 来获取问题的回答\n",
    "    \"\"\"\n",
    "    # 获取 API 密钥\n",
    "    api_key = get_api_key(api_key_file)\n",
    "    \n",
    "    # 初始化 ZhipuAI 客户端\n",
    "    client = ZhipuAI(api_key=api_key)\n",
    "    \n",
    "    # 调用 ZhipuAI API 进行问答\n",
    "    response = client.chat.completions.create(\n",
    "        model=\"glm-4\",  # 指定使用的模型名称\n",
    "        messages=[\n",
    "            {\"role\": \"user\", \"content\": question}\n",
    "        ],\n",
    "        max_tokens = max_tokens\n",
    "    )\n",
    "    \n",
    "    # 返回回复内容\n",
    "    return response.choices[0].message.content\n",
    "```\n",
    "\n",
    "我已经有一个get_response函数\n",
    "\n",
    "我希望为这个函数设计一个gradio的demo\n",
    "\n",
    "有一个输入框，默认值为 “将下列句子翻译成英文：君不见黄河之水天上来”\n",
    "\n",
    "有一个滑动框控制输入的max_tokens，默认值200，最大值1024\n",
    "\n",
    "有一个submit按钮和一个显示输出的输出文本框\n",
    "\n",
    "请为我实现"
   ]
  },
  {
   "cell_type": "code",
   "execution_count": 6,
   "metadata": {},
   "outputs": [
    {
     "name": "stdout",
     "output_type": "stream",
     "text": [
      "Running on local URL:  http://127.0.0.1:7862\n",
      "\n",
      "To create a public link, set `share=True` in `launch()`.\n"
     ]
    },
    {
     "data": {
      "text/html": [
       "<div><iframe src=\"http://127.0.0.1:7862/\" width=\"100%\" height=\"500\" allow=\"autoplay; camera; microphone; clipboard-read; clipboard-write;\" frameborder=\"0\" allowfullscreen></iframe></div>"
      ],
      "text/plain": [
       "<IPython.core.display.HTML object>"
      ]
     },
     "metadata": {},
     "output_type": "display_data"
    },
    {
     "data": {
      "text/plain": []
     },
     "execution_count": 6,
     "metadata": {},
     "output_type": "execute_result"
    }
   ],
   "source": [
    "import gradio as gr\n",
    "\n",
    "# 假设 get_response 函数已经定义好\n",
    "# 这里直接使用你提供的 get_response 函数\n",
    "\n",
    "def get_api_key(api_key_file):\n",
    "    \"\"\"\n",
    "    从指定文件中读取 API 密钥\n",
    "    \"\"\"\n",
    "    with open(api_key_file, 'r') as file:\n",
    "        api_key = file.read().strip()\n",
    "    return api_key\n",
    "\n",
    "from zhipuai import ZhipuAI\n",
    "def get_response(question, max_tokens = 200, api_key_file=\"data/zhipu_apikey.txt\"):\n",
    "    \"\"\"\n",
    "    调用 ZhipuAI API 来获取问题的回答\n",
    "    \"\"\"\n",
    "    # 获取 API 密钥\n",
    "    api_key = get_api_key(api_key_file)\n",
    "    \n",
    "    # 初始化 ZhipuAI 客户端\n",
    "    client = ZhipuAI(api_key=api_key)\n",
    "    \n",
    "    # 调用 ZhipuAI API 进行问答\n",
    "    response = client.chat.completions.create(\n",
    "        model=\"glm-4\",  # 指定使用的模型名称\n",
    "        messages=[\n",
    "            {\"role\": \"user\", \"content\": question}\n",
    "        ],\n",
    "        max_tokens = max_tokens\n",
    "    )\n",
    "    \n",
    "    # 返回回复内容\n",
    "    return response.choices[0].message.content\n",
    "\n",
    "def gradio_get_response(question, max_tokens):\n",
    "    return get_response(question, max_tokens=max_tokens)\n",
    "\n",
    "with gr.Blocks() as demo:\n",
    "    with gr.Row():\n",
    "        input_text = gr.Textbox(label=\"输入文本\", \n",
    "                                value=\"将下列句子翻译成英文：君不见黄河之水天上来\", \n",
    "                                lines=3)\n",
    "        max_tokens = gr.Slider(label=\"最大标记数 (max_tokens)\", \n",
    "                               minimum=1, \n",
    "                               maximum=1024, \n",
    "                               value=200, \n",
    "                               step=1)\n",
    "    \n",
    "    submit_button = gr.Button(\"提交\")\n",
    "    output_text = gr.Textbox(label=\"输出文本\")\n",
    "    \n",
    "    submit_button.click(fn=gradio_get_response, \n",
    "                        inputs=[input_text, max_tokens], \n",
    "                        outputs=output_text)\n",
    "\n",
    "demo.launch()\n"
   ]
  },
  {
   "cell_type": "markdown",
   "metadata": {},
   "source": [
    "尝试打开gradio返回的链接，可以看到整体是可以被顺利运行的。\n",
    "\n",
    "在很多时候，其实本地的demo就已经足够青少年的朋友在科技节或者是科创类型的比赛进行现场展示了。\n",
    "\n",
    "当然你也可以将share=True打开，生成链接分享给其他人体验你的demo。或者借助百度的aistudio，阿里魔搭或者是gitee，这些平台都支持在线地部署gradio类型地demo，这样你的demo就可以被公网任意访问去使用。\n",
    "\n",
    "---"
   ]
  },
  {
   "cell_type": "markdown",
   "metadata": {},
   "source": [
    "## 尝试搭建一个背单词的程序\n",
    "\n",
    "我发现刚学编程的同学特别喜欢搭建背单词的程序，\n",
    "\n",
    "既然我们现在可以做前端的界面了，不如我们就来思考背单词的程序要怎么搭建。\n",
    "\n",
    "我们要思考一下，背单词的软件的搭建步骤\n",
    "\n",
    "- 生成一组单词表\n",
    "- 建立一个背单词的管理类，每次可以找到“最不熟悉的单词”\n",
    "- 建立一个函数，每次可以抽取一个单词，并且准备混淆的选项\n",
    "- 建立gradio前端的demo"
   ]
  },
  {
   "cell_type": "code",
   "execution_count": null,
   "metadata": {},
   "outputs": [],
   "source": []
  }
 ],
 "metadata": {
  "kernelspec": {
   "display_name": "Python 3",
   "language": "python",
   "name": "python3"
  },
  "language_info": {
   "codemirror_mode": {
    "name": "ipython",
    "version": 3
   },
   "file_extension": ".py",
   "mimetype": "text/x-python",
   "name": "python",
   "nbconvert_exporter": "python",
   "pygments_lexer": "ipython3",
   "version": "3.8.5"
  }
 },
 "nbformat": 4,
 "nbformat_minor": 2
}
